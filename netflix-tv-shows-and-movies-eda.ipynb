{
 "cells": [
  {
   "cell_type": "code",
   "execution_count": 1,
   "id": "7c729da1",
   "metadata": {
    "_cell_guid": "b1076dfc-b9ad-4769-8c92-a6c4dae69d19",
    "_uuid": "8f2839f25d086af736a60e9eeb907d3b93b6e0e5",
    "execution": {
     "iopub.execute_input": "2023-01-31T12:11:41.426101Z",
     "iopub.status.busy": "2023-01-31T12:11:41.424891Z",
     "iopub.status.idle": "2023-01-31T12:11:41.448808Z",
     "shell.execute_reply": "2023-01-31T12:11:41.447972Z"
    },
    "papermill": {
     "duration": 0.046343,
     "end_time": "2023-01-31T12:11:41.451959",
     "exception": false,
     "start_time": "2023-01-31T12:11:41.405616",
     "status": "completed"
    },
    "tags": []
   },
   "outputs": [
    {
     "name": "stdout",
     "output_type": "stream",
     "text": [
      "/kaggle/input/netflix-tv-shows-and-movies/NetFlix.csv\n"
     ]
    }
   ],
   "source": [
    "# This Python 3 environment comes with many helpful analytics libraries installed\n",
    "# It is defined by the kaggle/python Docker image: https://github.com/kaggle/docker-python\n",
    "# For example, here's several helpful packages to load\n",
    "\n",
    "import numpy as np # linear algebra\n",
    "import pandas as pd # data processing, CSV file I/O (e.g. pd.read_csv)\n",
    "\n",
    "# Input data files are available in the read-only \"../input/\" directory\n",
    "# For example, running this (by clicking run or pressing Shift+Enter) will list all files under the input directory\n",
    "\n",
    "import os\n",
    "for dirname, _, filenames in os.walk('/kaggle/input'):\n",
    "    for filename in filenames:\n",
    "        print(os.path.join(dirname, filename))\n",
    "\n",
    "# You can write up to 20GB to the current directory (/kaggle/working/) that gets preserved as output when you create a version using \"Save & Run All\" \n",
    "# You can also write temporary files to /kaggle/temp/, but they won't be saved outside of the current session"
   ]
  },
  {
   "cell_type": "markdown",
   "id": "c786dc5a",
   "metadata": {
    "papermill": {
     "duration": 0.020291,
     "end_time": "2023-01-31T12:11:41.491731",
     "exception": false,
     "start_time": "2023-01-31T12:11:41.471440",
     "status": "completed"
    },
    "tags": []
   },
   "source": [
    "## About Data\n",
    "\n",
    "Show_ID-Id of the movie/TV show\n",
    "\n",
    "type-Movie or TV show\n",
    "\n",
    "title-Title of the movie/TV show\n",
    "\n",
    "director-Director of the movie/TV show\n",
    "\n",
    "Cast-actors/actress who have acted in the movie/TV show\n",
    "\n",
    "country-Country the movie/TV show belongs to\n",
    "\n",
    "date_added-Aired dated-Released date on netflix\n",
    "\n",
    "release year-Original movie/TV show release date\n",
    "\n",
    "rating-Rating of the movie/TV show\n",
    "\n",
    "duration-Length of the movie\n",
    "\n",
    "genre-Genre of the movie\n",
    " \n",
    "Description-Summary of the movie"
   ]
  },
  {
   "cell_type": "markdown",
   "id": "70da2078",
   "metadata": {
    "papermill": {
     "duration": 0.016013,
     "end_time": "2023-01-31T12:11:41.524112",
     "exception": false,
     "start_time": "2023-01-31T12:11:41.508099",
     "status": "completed"
    },
    "tags": []
   },
   "source": [
    "## Importing Necessary Libraries"
   ]
  },
  {
   "cell_type": "code",
   "execution_count": 2,
   "id": "188e3e49",
   "metadata": {
    "execution": {
     "iopub.execute_input": "2023-01-31T12:11:41.572471Z",
     "iopub.status.busy": "2023-01-31T12:11:41.571997Z",
     "iopub.status.idle": "2023-01-31T12:11:42.739627Z",
     "shell.execute_reply": "2023-01-31T12:11:42.738445Z"
    },
    "papermill": {
     "duration": 1.202103,
     "end_time": "2023-01-31T12:11:42.742535",
     "exception": false,
     "start_time": "2023-01-31T12:11:41.540432",
     "status": "completed"
    },
    "tags": []
   },
   "outputs": [],
   "source": [
    "import pandas as pd\n",
    "import numpy as np\n",
    "import seaborn as sns\n",
    "import matplotlib.pyplot as plt"
   ]
  },
  {
   "cell_type": "code",
   "execution_count": 3,
   "id": "322cef07",
   "metadata": {
    "execution": {
     "iopub.execute_input": "2023-01-31T12:11:42.776980Z",
     "iopub.status.busy": "2023-01-31T12:11:42.776590Z",
     "iopub.status.idle": "2023-01-31T12:11:42.946088Z",
     "shell.execute_reply": "2023-01-31T12:11:42.945270Z"
    },
    "papermill": {
     "duration": 0.189039,
     "end_time": "2023-01-31T12:11:42.948329",
     "exception": false,
     "start_time": "2023-01-31T12:11:42.759290",
     "status": "completed"
    },
    "tags": []
   },
   "outputs": [
    {
     "data": {
      "text/html": [
       "<div>\n",
       "<style scoped>\n",
       "    .dataframe tbody tr th:only-of-type {\n",
       "        vertical-align: middle;\n",
       "    }\n",
       "\n",
       "    .dataframe tbody tr th {\n",
       "        vertical-align: top;\n",
       "    }\n",
       "\n",
       "    .dataframe thead th {\n",
       "        text-align: right;\n",
       "    }\n",
       "</style>\n",
       "<table border=\"1\" class=\"dataframe\">\n",
       "  <thead>\n",
       "    <tr style=\"text-align: right;\">\n",
       "      <th></th>\n",
       "      <th>show_id</th>\n",
       "      <th>type</th>\n",
       "      <th>title</th>\n",
       "      <th>director</th>\n",
       "      <th>cast</th>\n",
       "      <th>country</th>\n",
       "      <th>date_added</th>\n",
       "      <th>release_year</th>\n",
       "      <th>rating</th>\n",
       "      <th>duration</th>\n",
       "      <th>genres</th>\n",
       "      <th>description</th>\n",
       "    </tr>\n",
       "  </thead>\n",
       "  <tbody>\n",
       "    <tr>\n",
       "      <th>0</th>\n",
       "      <td>s1</td>\n",
       "      <td>TV Show</td>\n",
       "      <td>3%</td>\n",
       "      <td>NaN</td>\n",
       "      <td>João Miguel, Bianca Comparato, Michel Gomes, R...</td>\n",
       "      <td>Brazil</td>\n",
       "      <td>14-Aug-20</td>\n",
       "      <td>2020</td>\n",
       "      <td>TV-MA</td>\n",
       "      <td>4</td>\n",
       "      <td>International TV Shows, TV Dramas, TV Sci-Fi &amp;...</td>\n",
       "      <td>In a future where the elite inhabit an island ...</td>\n",
       "    </tr>\n",
       "    <tr>\n",
       "      <th>1</th>\n",
       "      <td>s10</td>\n",
       "      <td>Movie</td>\n",
       "      <td>1920</td>\n",
       "      <td>Vikram Bhatt</td>\n",
       "      <td>Rajneesh Duggal, Adah Sharma, Indraneil Sengup...</td>\n",
       "      <td>India</td>\n",
       "      <td>15-Dec-17</td>\n",
       "      <td>2008</td>\n",
       "      <td>TV-MA</td>\n",
       "      <td>143</td>\n",
       "      <td>Horror Movies, International Movies, Thrillers</td>\n",
       "      <td>An architect and his wife move into a castle t...</td>\n",
       "    </tr>\n",
       "    <tr>\n",
       "      <th>2</th>\n",
       "      <td>s100</td>\n",
       "      <td>Movie</td>\n",
       "      <td>3 Heroines</td>\n",
       "      <td>Iman Brotoseno</td>\n",
       "      <td>Reza Rahadian, Bunga Citra Lestari, Tara Basro...</td>\n",
       "      <td>Indonesia</td>\n",
       "      <td>05-Jan-19</td>\n",
       "      <td>2016</td>\n",
       "      <td>TV-PG</td>\n",
       "      <td>124</td>\n",
       "      <td>Dramas, International Movies, Sports Movies</td>\n",
       "      <td>Three Indonesian women break records by becomi...</td>\n",
       "    </tr>\n",
       "    <tr>\n",
       "      <th>3</th>\n",
       "      <td>s1000</td>\n",
       "      <td>Movie</td>\n",
       "      <td>Blue Mountain State: The Rise of Thadland</td>\n",
       "      <td>Lev L. Spiro</td>\n",
       "      <td>Alan Ritchson, Darin Brooks, James Cade, Rob R...</td>\n",
       "      <td>United States</td>\n",
       "      <td>01-Mar-16</td>\n",
       "      <td>2016</td>\n",
       "      <td>R</td>\n",
       "      <td>90</td>\n",
       "      <td>Comedies</td>\n",
       "      <td>New NFL star Thad buys his old teammates' belo...</td>\n",
       "    </tr>\n",
       "    <tr>\n",
       "      <th>4</th>\n",
       "      <td>s1001</td>\n",
       "      <td>TV Show</td>\n",
       "      <td>Blue Planet II</td>\n",
       "      <td>NaN</td>\n",
       "      <td>David Attenborough</td>\n",
       "      <td>United Kingdom</td>\n",
       "      <td>03-Dec-18</td>\n",
       "      <td>2017</td>\n",
       "      <td>TV-G</td>\n",
       "      <td>1</td>\n",
       "      <td>British TV Shows, Docuseries, Science &amp; Nature TV</td>\n",
       "      <td>This sequel to the award-winning nature series...</td>\n",
       "    </tr>\n",
       "    <tr>\n",
       "      <th>...</th>\n",
       "      <td>...</td>\n",
       "      <td>...</td>\n",
       "      <td>...</td>\n",
       "      <td>...</td>\n",
       "      <td>...</td>\n",
       "      <td>...</td>\n",
       "      <td>...</td>\n",
       "      <td>...</td>\n",
       "      <td>...</td>\n",
       "      <td>...</td>\n",
       "      <td>...</td>\n",
       "      <td>...</td>\n",
       "    </tr>\n",
       "    <tr>\n",
       "      <th>7782</th>\n",
       "      <td>s995</td>\n",
       "      <td>TV Show</td>\n",
       "      <td>Blown Away</td>\n",
       "      <td>NaN</td>\n",
       "      <td>NaN</td>\n",
       "      <td>Canada</td>\n",
       "      <td>12-Jul-19</td>\n",
       "      <td>2019</td>\n",
       "      <td>TV-14</td>\n",
       "      <td>1</td>\n",
       "      <td>International TV Shows, Reality TV</td>\n",
       "      <td>Ten master artists turn up the heat in glassbl...</td>\n",
       "    </tr>\n",
       "    <tr>\n",
       "      <th>7783</th>\n",
       "      <td>s996</td>\n",
       "      <td>TV Show</td>\n",
       "      <td>Blue Exorcist</td>\n",
       "      <td>NaN</td>\n",
       "      <td>Nobuhiko Okamoto, Jun Fukuyama, Kana Hanazawa,...</td>\n",
       "      <td>Japan</td>\n",
       "      <td>01-Sep-20</td>\n",
       "      <td>2017</td>\n",
       "      <td>TV-MA</td>\n",
       "      <td>2</td>\n",
       "      <td>Anime Series, International TV Shows</td>\n",
       "      <td>Determined to throw off the curse of being Sat...</td>\n",
       "    </tr>\n",
       "    <tr>\n",
       "      <th>7784</th>\n",
       "      <td>s997</td>\n",
       "      <td>Movie</td>\n",
       "      <td>Blue Is the Warmest Color</td>\n",
       "      <td>Abdellatif Kechiche</td>\n",
       "      <td>Léa Seydoux, Adèle Exarchopoulos, Salim Kechio...</td>\n",
       "      <td>France, Belgium, Spain</td>\n",
       "      <td>26-Aug-16</td>\n",
       "      <td>2013</td>\n",
       "      <td>NC-17</td>\n",
       "      <td>180</td>\n",
       "      <td>Dramas, Independent Movies, International Movies</td>\n",
       "      <td>Determined to fall in love, 15-year-old Adele ...</td>\n",
       "    </tr>\n",
       "    <tr>\n",
       "      <th>7785</th>\n",
       "      <td>s998</td>\n",
       "      <td>Movie</td>\n",
       "      <td>Blue Jasmine</td>\n",
       "      <td>Woody Allen</td>\n",
       "      <td>Cate Blanchett, Sally Hawkins, Alec Baldwin, L...</td>\n",
       "      <td>United States</td>\n",
       "      <td>08-Mar-19</td>\n",
       "      <td>2013</td>\n",
       "      <td>PG-13</td>\n",
       "      <td>98</td>\n",
       "      <td>Comedies, Dramas, Independent Movies</td>\n",
       "      <td>The high life leads to high anxiety for a fash...</td>\n",
       "    </tr>\n",
       "    <tr>\n",
       "      <th>7786</th>\n",
       "      <td>s999</td>\n",
       "      <td>Movie</td>\n",
       "      <td>Blue Jay</td>\n",
       "      <td>Alex Lehmann</td>\n",
       "      <td>Sarah Paulson, Mark Duplass, Clu Gulager</td>\n",
       "      <td>United States</td>\n",
       "      <td>06-Dec-16</td>\n",
       "      <td>2016</td>\n",
       "      <td>TV-MA</td>\n",
       "      <td>81</td>\n",
       "      <td>Dramas, Independent Movies, Romantic Movies</td>\n",
       "      <td>Two former high school sweethearts unexpectedl...</td>\n",
       "    </tr>\n",
       "  </tbody>\n",
       "</table>\n",
       "<p>7787 rows × 12 columns</p>\n",
       "</div>"
      ],
      "text/plain": [
       "     show_id     type                                      title  \\\n",
       "0         s1  TV Show                                         3%   \n",
       "1        s10    Movie                                       1920   \n",
       "2       s100    Movie                                 3 Heroines   \n",
       "3      s1000    Movie  Blue Mountain State: The Rise of Thadland   \n",
       "4      s1001  TV Show                             Blue Planet II   \n",
       "...      ...      ...                                        ...   \n",
       "7782    s995  TV Show                                 Blown Away   \n",
       "7783    s996  TV Show                              Blue Exorcist   \n",
       "7784    s997    Movie                  Blue Is the Warmest Color   \n",
       "7785    s998    Movie                               Blue Jasmine   \n",
       "7786    s999    Movie                                   Blue Jay   \n",
       "\n",
       "                 director                                               cast  \\\n",
       "0                     NaN  João Miguel, Bianca Comparato, Michel Gomes, R...   \n",
       "1            Vikram Bhatt  Rajneesh Duggal, Adah Sharma, Indraneil Sengup...   \n",
       "2          Iman Brotoseno  Reza Rahadian, Bunga Citra Lestari, Tara Basro...   \n",
       "3            Lev L. Spiro  Alan Ritchson, Darin Brooks, James Cade, Rob R...   \n",
       "4                     NaN                                 David Attenborough   \n",
       "...                   ...                                                ...   \n",
       "7782                  NaN                                                NaN   \n",
       "7783                  NaN  Nobuhiko Okamoto, Jun Fukuyama, Kana Hanazawa,...   \n",
       "7784  Abdellatif Kechiche  Léa Seydoux, Adèle Exarchopoulos, Salim Kechio...   \n",
       "7785          Woody Allen  Cate Blanchett, Sally Hawkins, Alec Baldwin, L...   \n",
       "7786         Alex Lehmann           Sarah Paulson, Mark Duplass, Clu Gulager   \n",
       "\n",
       "                     country date_added  release_year rating  duration  \\\n",
       "0                     Brazil  14-Aug-20          2020  TV-MA         4   \n",
       "1                      India  15-Dec-17          2008  TV-MA       143   \n",
       "2                  Indonesia  05-Jan-19          2016  TV-PG       124   \n",
       "3              United States  01-Mar-16          2016      R        90   \n",
       "4             United Kingdom  03-Dec-18          2017   TV-G         1   \n",
       "...                      ...        ...           ...    ...       ...   \n",
       "7782                  Canada  12-Jul-19          2019  TV-14         1   \n",
       "7783                   Japan  01-Sep-20          2017  TV-MA         2   \n",
       "7784  France, Belgium, Spain  26-Aug-16          2013  NC-17       180   \n",
       "7785           United States  08-Mar-19          2013  PG-13        98   \n",
       "7786           United States  06-Dec-16          2016  TV-MA        81   \n",
       "\n",
       "                                                 genres  \\\n",
       "0     International TV Shows, TV Dramas, TV Sci-Fi &...   \n",
       "1        Horror Movies, International Movies, Thrillers   \n",
       "2           Dramas, International Movies, Sports Movies   \n",
       "3                                              Comedies   \n",
       "4     British TV Shows, Docuseries, Science & Nature TV   \n",
       "...                                                 ...   \n",
       "7782                 International TV Shows, Reality TV   \n",
       "7783               Anime Series, International TV Shows   \n",
       "7784   Dramas, Independent Movies, International Movies   \n",
       "7785               Comedies, Dramas, Independent Movies   \n",
       "7786        Dramas, Independent Movies, Romantic Movies   \n",
       "\n",
       "                                            description  \n",
       "0     In a future where the elite inhabit an island ...  \n",
       "1     An architect and his wife move into a castle t...  \n",
       "2     Three Indonesian women break records by becomi...  \n",
       "3     New NFL star Thad buys his old teammates' belo...  \n",
       "4     This sequel to the award-winning nature series...  \n",
       "...                                                 ...  \n",
       "7782  Ten master artists turn up the heat in glassbl...  \n",
       "7783  Determined to throw off the curse of being Sat...  \n",
       "7784  Determined to fall in love, 15-year-old Adele ...  \n",
       "7785  The high life leads to high anxiety for a fash...  \n",
       "7786  Two former high school sweethearts unexpectedl...  \n",
       "\n",
       "[7787 rows x 12 columns]"
      ]
     },
     "execution_count": 3,
     "metadata": {},
     "output_type": "execute_result"
    }
   ],
   "source": [
    "df=pd.read_csv(\"/kaggle/input/netflix-tv-shows-and-movies/NetFlix.csv\")\n",
    "df"
   ]
  },
  {
   "cell_type": "markdown",
   "id": "fab10554",
   "metadata": {
    "papermill": {
     "duration": 0.016208,
     "end_time": "2023-01-31T12:11:42.981219",
     "exception": false,
     "start_time": "2023-01-31T12:11:42.965011",
     "status": "completed"
    },
    "tags": []
   },
   "source": [
    "## Workflow\n",
    "* Understanding of data\n",
    "* Data cleaning\n",
    "* Exploratory Data Analysis\n",
    "* Insights"
   ]
  },
  {
   "cell_type": "markdown",
   "id": "3134c544",
   "metadata": {
    "papermill": {
     "duration": 0.016255,
     "end_time": "2023-01-31T12:11:43.013940",
     "exception": false,
     "start_time": "2023-01-31T12:11:42.997685",
     "status": "completed"
    },
    "tags": []
   },
   "source": [
    "# Understanding of data\n"
   ]
  },
  {
   "cell_type": "code",
   "execution_count": 4,
   "id": "126ff00b",
   "metadata": {
    "execution": {
     "iopub.execute_input": "2023-01-31T12:11:43.049040Z",
     "iopub.status.busy": "2023-01-31T12:11:43.048254Z",
     "iopub.status.idle": "2023-01-31T12:11:43.065491Z",
     "shell.execute_reply": "2023-01-31T12:11:43.064354Z"
    },
    "papermill": {
     "duration": 0.037652,
     "end_time": "2023-01-31T12:11:43.067981",
     "exception": false,
     "start_time": "2023-01-31T12:11:43.030329",
     "status": "completed"
    },
    "tags": []
   },
   "outputs": [
    {
     "data": {
      "text/html": [
       "<div>\n",
       "<style scoped>\n",
       "    .dataframe tbody tr th:only-of-type {\n",
       "        vertical-align: middle;\n",
       "    }\n",
       "\n",
       "    .dataframe tbody tr th {\n",
       "        vertical-align: top;\n",
       "    }\n",
       "\n",
       "    .dataframe thead th {\n",
       "        text-align: right;\n",
       "    }\n",
       "</style>\n",
       "<table border=\"1\" class=\"dataframe\">\n",
       "  <thead>\n",
       "    <tr style=\"text-align: right;\">\n",
       "      <th></th>\n",
       "      <th>show_id</th>\n",
       "      <th>type</th>\n",
       "      <th>title</th>\n",
       "      <th>director</th>\n",
       "      <th>cast</th>\n",
       "      <th>country</th>\n",
       "      <th>date_added</th>\n",
       "      <th>release_year</th>\n",
       "      <th>rating</th>\n",
       "      <th>duration</th>\n",
       "      <th>genres</th>\n",
       "      <th>description</th>\n",
       "    </tr>\n",
       "  </thead>\n",
       "  <tbody>\n",
       "    <tr>\n",
       "      <th>5031</th>\n",
       "      <td>s5527</td>\n",
       "      <td>Movie</td>\n",
       "      <td>Sexo, Pudor y Lagrimas</td>\n",
       "      <td>Antonio Serrano</td>\n",
       "      <td>Demián Bichir, Susana Zabaleta, Jorge Salinas,...</td>\n",
       "      <td>Mexico</td>\n",
       "      <td>15-Dec-17</td>\n",
       "      <td>1999</td>\n",
       "      <td>R</td>\n",
       "      <td>111</td>\n",
       "      <td>Comedies, Dramas, International Movies</td>\n",
       "      <td>Passions flare and alliances form when neighbo...</td>\n",
       "    </tr>\n",
       "    <tr>\n",
       "      <th>6034</th>\n",
       "      <td>s643</td>\n",
       "      <td>Movie</td>\n",
       "      <td>Awe</td>\n",
       "      <td>Prasanth Varma</td>\n",
       "      <td>Kajal Aggarwal, Nithya Menon, Regina Cassandra...</td>\n",
       "      <td>India</td>\n",
       "      <td>15-Feb-19</td>\n",
       "      <td>2018</td>\n",
       "      <td>TV-MA</td>\n",
       "      <td>111</td>\n",
       "      <td>Dramas, International Movies, Sci-Fi &amp; Fantasy</td>\n",
       "      <td>Disparate characters, including an aspiring ti...</td>\n",
       "    </tr>\n",
       "    <tr>\n",
       "      <th>7023</th>\n",
       "      <td>s732</td>\n",
       "      <td>TV Show</td>\n",
       "      <td>Barbarians</td>\n",
       "      <td>NaN</td>\n",
       "      <td>Laurence Rupp, Jeanne Goursaud, David Schütter...</td>\n",
       "      <td>Germany</td>\n",
       "      <td>23-Oct-20</td>\n",
       "      <td>2020</td>\n",
       "      <td>TV-MA</td>\n",
       "      <td>1</td>\n",
       "      <td>International TV Shows, TV Action &amp; Adventure,...</td>\n",
       "      <td>Torn between the mighty empire that raised him...</td>\n",
       "    </tr>\n",
       "    <tr>\n",
       "      <th>902</th>\n",
       "      <td>s1810</td>\n",
       "      <td>Movie</td>\n",
       "      <td>Don Quixote: The Ingenious Gentleman of La Mancha</td>\n",
       "      <td>Mahin Ibrahim, Austin Kolodney, Will Lowell, D...</td>\n",
       "      <td>Carmen Argenziano, Horatio Sanz, Luis Guzman, ...</td>\n",
       "      <td>United States</td>\n",
       "      <td>05-Jan-18</td>\n",
       "      <td>2015</td>\n",
       "      <td>TV-14</td>\n",
       "      <td>83</td>\n",
       "      <td>Comedies, Independent Movies</td>\n",
       "      <td>In this modern adaptation of a Spanish classic...</td>\n",
       "    </tr>\n",
       "    <tr>\n",
       "      <th>3473</th>\n",
       "      <td>s4124</td>\n",
       "      <td>Movie</td>\n",
       "      <td>Mirai</td>\n",
       "      <td>Mamoru Hosoda</td>\n",
       "      <td>Moka Kamishiraishi, Haru Kuroki, Gen Hoshino, ...</td>\n",
       "      <td>Japan</td>\n",
       "      <td>01-Jun-20</td>\n",
       "      <td>2018</td>\n",
       "      <td>PG</td>\n",
       "      <td>98</td>\n",
       "      <td>Action &amp; Adventure, Anime Features, Children &amp;...</td>\n",
       "      <td>Unhappy after his new baby sister displaces hi...</td>\n",
       "    </tr>\n",
       "  </tbody>\n",
       "</table>\n",
       "</div>"
      ],
      "text/plain": [
       "     show_id     type                                              title  \\\n",
       "5031   s5527    Movie                             Sexo, Pudor y Lagrimas   \n",
       "6034    s643    Movie                                                Awe   \n",
       "7023    s732  TV Show                                         Barbarians   \n",
       "902    s1810    Movie  Don Quixote: The Ingenious Gentleman of La Mancha   \n",
       "3473   s4124    Movie                                              Mirai   \n",
       "\n",
       "                                               director  \\\n",
       "5031                                    Antonio Serrano   \n",
       "6034                                     Prasanth Varma   \n",
       "7023                                                NaN   \n",
       "902   Mahin Ibrahim, Austin Kolodney, Will Lowell, D...   \n",
       "3473                                      Mamoru Hosoda   \n",
       "\n",
       "                                                   cast        country  \\\n",
       "5031  Demián Bichir, Susana Zabaleta, Jorge Salinas,...         Mexico   \n",
       "6034  Kajal Aggarwal, Nithya Menon, Regina Cassandra...          India   \n",
       "7023  Laurence Rupp, Jeanne Goursaud, David Schütter...        Germany   \n",
       "902   Carmen Argenziano, Horatio Sanz, Luis Guzman, ...  United States   \n",
       "3473  Moka Kamishiraishi, Haru Kuroki, Gen Hoshino, ...          Japan   \n",
       "\n",
       "     date_added  release_year rating  duration  \\\n",
       "5031  15-Dec-17          1999      R       111   \n",
       "6034  15-Feb-19          2018  TV-MA       111   \n",
       "7023  23-Oct-20          2020  TV-MA         1   \n",
       "902   05-Jan-18          2015  TV-14        83   \n",
       "3473  01-Jun-20          2018     PG        98   \n",
       "\n",
       "                                                 genres  \\\n",
       "5031             Comedies, Dramas, International Movies   \n",
       "6034     Dramas, International Movies, Sci-Fi & Fantasy   \n",
       "7023  International TV Shows, TV Action & Adventure,...   \n",
       "902                        Comedies, Independent Movies   \n",
       "3473  Action & Adventure, Anime Features, Children &...   \n",
       "\n",
       "                                            description  \n",
       "5031  Passions flare and alliances form when neighbo...  \n",
       "6034  Disparate characters, including an aspiring ti...  \n",
       "7023  Torn between the mighty empire that raised him...  \n",
       "902   In this modern adaptation of a Spanish classic...  \n",
       "3473  Unhappy after his new baby sister displaces hi...  "
      ]
     },
     "execution_count": 4,
     "metadata": {},
     "output_type": "execute_result"
    }
   ],
   "source": [
    "df.sample(5) ## Getting sample data "
   ]
  },
  {
   "cell_type": "code",
   "execution_count": 5,
   "id": "003eb5bc",
   "metadata": {
    "execution": {
     "iopub.execute_input": "2023-01-31T12:11:43.104042Z",
     "iopub.status.busy": "2023-01-31T12:11:43.103283Z",
     "iopub.status.idle": "2023-01-31T12:11:43.109925Z",
     "shell.execute_reply": "2023-01-31T12:11:43.109084Z"
    },
    "papermill": {
     "duration": 0.027178,
     "end_time": "2023-01-31T12:11:43.112214",
     "exception": false,
     "start_time": "2023-01-31T12:11:43.085036",
     "status": "completed"
    },
    "tags": []
   },
   "outputs": [
    {
     "data": {
      "text/plain": [
       "(7787, 12)"
      ]
     },
     "execution_count": 5,
     "metadata": {},
     "output_type": "execute_result"
    }
   ],
   "source": [
    "## Checking shape\n",
    "df.shape"
   ]
  },
  {
   "cell_type": "code",
   "execution_count": 6,
   "id": "6668b198",
   "metadata": {
    "execution": {
     "iopub.execute_input": "2023-01-31T12:11:43.148382Z",
     "iopub.status.busy": "2023-01-31T12:11:43.147564Z",
     "iopub.status.idle": "2023-01-31T12:11:43.154760Z",
     "shell.execute_reply": "2023-01-31T12:11:43.153868Z"
    },
    "papermill": {
     "duration": 0.02783,
     "end_time": "2023-01-31T12:11:43.156920",
     "exception": false,
     "start_time": "2023-01-31T12:11:43.129090",
     "status": "completed"
    },
    "tags": []
   },
   "outputs": [
    {
     "data": {
      "text/plain": [
       "Index(['show_id', 'type', 'title', 'director', 'cast', 'country', 'date_added',\n",
       "       'release_year', 'rating', 'duration', 'genres', 'description'],\n",
       "      dtype='object')"
      ]
     },
     "execution_count": 6,
     "metadata": {},
     "output_type": "execute_result"
    }
   ],
   "source": [
    "## Getting column names\n",
    "df.columns"
   ]
  },
  {
   "cell_type": "code",
   "execution_count": 7,
   "id": "c379d552",
   "metadata": {
    "execution": {
     "iopub.execute_input": "2023-01-31T12:11:43.194573Z",
     "iopub.status.busy": "2023-01-31T12:11:43.193849Z",
     "iopub.status.idle": "2023-01-31T12:11:43.229535Z",
     "shell.execute_reply": "2023-01-31T12:11:43.227610Z"
    },
    "papermill": {
     "duration": 0.057888,
     "end_time": "2023-01-31T12:11:43.232118",
     "exception": false,
     "start_time": "2023-01-31T12:11:43.174230",
     "status": "completed"
    },
    "tags": []
   },
   "outputs": [
    {
     "name": "stdout",
     "output_type": "stream",
     "text": [
      "<class 'pandas.core.frame.DataFrame'>\n",
      "RangeIndex: 7787 entries, 0 to 7786\n",
      "Data columns (total 12 columns):\n",
      " #   Column        Non-Null Count  Dtype \n",
      "---  ------        --------------  ----- \n",
      " 0   show_id       7787 non-null   object\n",
      " 1   type          7787 non-null   object\n",
      " 2   title         7787 non-null   object\n",
      " 3   director      5398 non-null   object\n",
      " 4   cast          7069 non-null   object\n",
      " 5   country       7280 non-null   object\n",
      " 6   date_added    7777 non-null   object\n",
      " 7   release_year  7787 non-null   int64 \n",
      " 8   rating        7780 non-null   object\n",
      " 9   duration      7787 non-null   int64 \n",
      " 10  genres        7787 non-null   object\n",
      " 11  description   7787 non-null   object\n",
      "dtypes: int64(2), object(10)\n",
      "memory usage: 730.2+ KB\n"
     ]
    }
   ],
   "source": [
    "### Getting basic info \n",
    "df.info()"
   ]
  },
  {
   "cell_type": "markdown",
   "id": "03bcf4e7",
   "metadata": {
    "papermill": {
     "duration": 0.023518,
     "end_time": "2023-01-31T12:11:43.272995",
     "exception": false,
     "start_time": "2023-01-31T12:11:43.249477",
     "status": "completed"
    },
    "tags": []
   },
   "source": [
    "#### Date_added is in object we have to change it to date and time "
   ]
  },
  {
   "cell_type": "code",
   "execution_count": 8,
   "id": "c9287806",
   "metadata": {
    "execution": {
     "iopub.execute_input": "2023-01-31T12:11:43.321764Z",
     "iopub.status.busy": "2023-01-31T12:11:43.320554Z",
     "iopub.status.idle": "2023-01-31T12:11:43.329928Z",
     "shell.execute_reply": "2023-01-31T12:11:43.328411Z"
    },
    "papermill": {
     "duration": 0.038821,
     "end_time": "2023-01-31T12:11:43.333668",
     "exception": false,
     "start_time": "2023-01-31T12:11:43.294847",
     "status": "completed"
    },
    "tags": []
   },
   "outputs": [
    {
     "data": {
      "text/plain": [
       "show_id         object\n",
       "type            object\n",
       "title           object\n",
       "director        object\n",
       "cast            object\n",
       "country         object\n",
       "date_added      object\n",
       "release_year     int64\n",
       "rating          object\n",
       "duration         int64\n",
       "genres          object\n",
       "description     object\n",
       "dtype: object"
      ]
     },
     "execution_count": 8,
     "metadata": {},
     "output_type": "execute_result"
    }
   ],
   "source": [
    "df.dtypes"
   ]
  },
  {
   "cell_type": "markdown",
   "id": "9047c8d8",
   "metadata": {
    "papermill": {
     "duration": 0.020062,
     "end_time": "2023-01-31T12:11:43.375950",
     "exception": false,
     "start_time": "2023-01-31T12:11:43.355888",
     "status": "completed"
    },
    "tags": []
   },
   "source": [
    "# Data Cleaning"
   ]
  },
  {
   "cell_type": "code",
   "execution_count": 9,
   "id": "fd9260d5",
   "metadata": {
    "execution": {
     "iopub.execute_input": "2023-01-31T12:11:43.413820Z",
     "iopub.status.busy": "2023-01-31T12:11:43.413365Z",
     "iopub.status.idle": "2023-01-31T12:11:43.552417Z",
     "shell.execute_reply": "2023-01-31T12:11:43.551080Z"
    },
    "papermill": {
     "duration": 0.161588,
     "end_time": "2023-01-31T12:11:43.555409",
     "exception": false,
     "start_time": "2023-01-31T12:11:43.393821",
     "status": "completed"
    },
    "tags": []
   },
   "outputs": [],
   "source": [
    "## Changing datatype of date_added\n",
    "df[\"date_added\"]=pd.to_datetime(df[\"date_added\"])"
   ]
  },
  {
   "cell_type": "code",
   "execution_count": 10,
   "id": "736ebff2",
   "metadata": {
    "execution": {
     "iopub.execute_input": "2023-01-31T12:11:43.593152Z",
     "iopub.status.busy": "2023-01-31T12:11:43.592739Z",
     "iopub.status.idle": "2023-01-31T12:11:43.600002Z",
     "shell.execute_reply": "2023-01-31T12:11:43.598751Z"
    },
    "papermill": {
     "duration": 0.028579,
     "end_time": "2023-01-31T12:11:43.602563",
     "exception": false,
     "start_time": "2023-01-31T12:11:43.573984",
     "status": "completed"
    },
    "tags": []
   },
   "outputs": [
    {
     "data": {
      "text/plain": [
       "dtype('<M8[ns]')"
      ]
     },
     "execution_count": 10,
     "metadata": {},
     "output_type": "execute_result"
    }
   ],
   "source": [
    "### Checking dtype it is changed or not \n",
    "df[\"date_added\"].dtype"
   ]
  },
  {
   "cell_type": "markdown",
   "id": "768db249",
   "metadata": {
    "papermill": {
     "duration": 0.017164,
     "end_time": "2023-01-31T12:11:43.637194",
     "exception": false,
     "start_time": "2023-01-31T12:11:43.620030",
     "status": "completed"
    },
    "tags": []
   },
   "source": [
    "#### Added month, day name and weekday for the date when show or movie was added"
   ]
  },
  {
   "cell_type": "code",
   "execution_count": 11,
   "id": "1d8fca33",
   "metadata": {
    "execution": {
     "iopub.execute_input": "2023-01-31T12:11:43.675380Z",
     "iopub.status.busy": "2023-01-31T12:11:43.673962Z",
     "iopub.status.idle": "2023-01-31T12:11:43.688232Z",
     "shell.execute_reply": "2023-01-31T12:11:43.687302Z"
    },
    "papermill": {
     "duration": 0.035219,
     "end_time": "2023-01-31T12:11:43.690419",
     "exception": false,
     "start_time": "2023-01-31T12:11:43.655200",
     "status": "completed"
    },
    "tags": []
   },
   "outputs": [
    {
     "data": {
      "text/plain": [
       "director        2389\n",
       "cast             718\n",
       "country          507\n",
       "date_added        10\n",
       "rating             7\n",
       "show_id            0\n",
       "type               0\n",
       "title              0\n",
       "release_year       0\n",
       "duration           0\n",
       "genres             0\n",
       "description        0\n",
       "dtype: int64"
      ]
     },
     "execution_count": 11,
     "metadata": {},
     "output_type": "execute_result"
    }
   ],
   "source": [
    "### Checking null values\n",
    "df.isnull().sum().sort_values(ascending=False)"
   ]
  },
  {
   "cell_type": "markdown",
   "id": "e29e26c0",
   "metadata": {
    "papermill": {
     "duration": 0.017262,
     "end_time": "2023-01-31T12:11:43.725267",
     "exception": false,
     "start_time": "2023-01-31T12:11:43.708005",
     "status": "completed"
    },
    "tags": []
   },
   "source": [
    "#### There are null values in director, cast, country, date_added, rating,  "
   ]
  },
  {
   "cell_type": "code",
   "execution_count": 12,
   "id": "21f66df0",
   "metadata": {
    "execution": {
     "iopub.execute_input": "2023-01-31T12:11:43.762515Z",
     "iopub.status.busy": "2023-01-31T12:11:43.762110Z",
     "iopub.status.idle": "2023-01-31T12:11:43.779913Z",
     "shell.execute_reply": "2023-01-31T12:11:43.778550Z"
    },
    "papermill": {
     "duration": 0.039869,
     "end_time": "2023-01-31T12:11:43.782767",
     "exception": false,
     "start_time": "2023-01-31T12:11:43.742898",
     "status": "completed"
    },
    "tags": []
   },
   "outputs": [
    {
     "name": "stdout",
     "output_type": "stream",
     "text": [
      "director --------- 30.679337357133683 %\n",
      "cast --------- 9.220495697958135 %\n",
      "country --------- 6.510851419031719 %\n",
      "date_added --------- 0.1284191601386927 %\n",
      "rating --------- 0.08989341209708489 %\n"
     ]
    }
   ],
   "source": [
    "## Cheking percentage of null values\n",
    "for i in df.columns:\n",
    "    if df[i].isnull().any():\n",
    "        print(i,\"---------\",df[i].isnull().sum()*100/df.shape[0],\"%\")"
   ]
  },
  {
   "cell_type": "code",
   "execution_count": 13,
   "id": "dbe4139a",
   "metadata": {
    "execution": {
     "iopub.execute_input": "2023-01-31T12:11:43.819668Z",
     "iopub.status.busy": "2023-01-31T12:11:43.819265Z",
     "iopub.status.idle": "2023-01-31T12:11:43.839476Z",
     "shell.execute_reply": "2023-01-31T12:11:43.838168Z"
    },
    "papermill": {
     "duration": 0.041539,
     "end_time": "2023-01-31T12:11:43.842055",
     "exception": false,
     "start_time": "2023-01-31T12:11:43.800516",
     "status": "completed"
    },
    "tags": []
   },
   "outputs": [
    {
     "data": {
      "text/html": [
       "<div>\n",
       "<style scoped>\n",
       "    .dataframe tbody tr th:only-of-type {\n",
       "        vertical-align: middle;\n",
       "    }\n",
       "\n",
       "    .dataframe tbody tr th {\n",
       "        vertical-align: top;\n",
       "    }\n",
       "\n",
       "    .dataframe thead th {\n",
       "        text-align: right;\n",
       "    }\n",
       "</style>\n",
       "<table border=\"1\" class=\"dataframe\">\n",
       "  <thead>\n",
       "    <tr style=\"text-align: right;\">\n",
       "      <th></th>\n",
       "      <th>show_id</th>\n",
       "      <th>type</th>\n",
       "      <th>title</th>\n",
       "      <th>director</th>\n",
       "      <th>cast</th>\n",
       "      <th>country</th>\n",
       "      <th>date_added</th>\n",
       "      <th>release_year</th>\n",
       "      <th>rating</th>\n",
       "      <th>duration</th>\n",
       "      <th>genres</th>\n",
       "      <th>description</th>\n",
       "    </tr>\n",
       "  </thead>\n",
       "  <tbody>\n",
       "    <tr>\n",
       "      <th>1513</th>\n",
       "      <td>s2360</td>\n",
       "      <td>TV Show</td>\n",
       "      <td>Gargantia on the Verdurous Planet</td>\n",
       "      <td>NaN</td>\n",
       "      <td>Kaito Ishikawa, Hisako Kanemoto, Ai Kayano, Ka...</td>\n",
       "      <td>Japan</td>\n",
       "      <td>2016-12-01</td>\n",
       "      <td>2013</td>\n",
       "      <td>NaN</td>\n",
       "      <td>1</td>\n",
       "      <td>Anime Series, International TV Shows</td>\n",
       "      <td>After falling through a wormhole, a space-dwel...</td>\n",
       "    </tr>\n",
       "    <tr>\n",
       "      <th>2958</th>\n",
       "      <td>s3661</td>\n",
       "      <td>TV Show</td>\n",
       "      <td>Little Lunch</td>\n",
       "      <td>NaN</td>\n",
       "      <td>Flynn Curry, Olivia Deeble, Madison Lu, Oisín ...</td>\n",
       "      <td>Australia</td>\n",
       "      <td>2018-02-01</td>\n",
       "      <td>2015</td>\n",
       "      <td>NaN</td>\n",
       "      <td>1</td>\n",
       "      <td>Kids' TV, TV Comedies</td>\n",
       "      <td>Adopting a child's perspective, this show take...</td>\n",
       "    </tr>\n",
       "    <tr>\n",
       "      <th>3042</th>\n",
       "      <td>s3737</td>\n",
       "      <td>Movie</td>\n",
       "      <td>Louis C.K. 2017</td>\n",
       "      <td>Louis C.K.</td>\n",
       "      <td>Louis C.K.</td>\n",
       "      <td>United States</td>\n",
       "      <td>2017-04-04</td>\n",
       "      <td>2017</td>\n",
       "      <td>NaN</td>\n",
       "      <td>74</td>\n",
       "      <td>Movies</td>\n",
       "      <td>Louis C.K. muses on religion, eternal love, gi...</td>\n",
       "    </tr>\n",
       "    <tr>\n",
       "      <th>3043</th>\n",
       "      <td>s3738</td>\n",
       "      <td>Movie</td>\n",
       "      <td>Louis C.K.: Hilarious</td>\n",
       "      <td>Louis C.K.</td>\n",
       "      <td>Louis C.K.</td>\n",
       "      <td>United States</td>\n",
       "      <td>2016-09-16</td>\n",
       "      <td>2010</td>\n",
       "      <td>NaN</td>\n",
       "      <td>84</td>\n",
       "      <td>Movies</td>\n",
       "      <td>Emmy-winning comedy writer Louis C.K. brings h...</td>\n",
       "    </tr>\n",
       "    <tr>\n",
       "      <th>3044</th>\n",
       "      <td>s3739</td>\n",
       "      <td>Movie</td>\n",
       "      <td>Louis C.K.: Live at the Comedy Store</td>\n",
       "      <td>Louis C.K.</td>\n",
       "      <td>Louis C.K.</td>\n",
       "      <td>United States</td>\n",
       "      <td>2016-08-15</td>\n",
       "      <td>2015</td>\n",
       "      <td>NaN</td>\n",
       "      <td>66</td>\n",
       "      <td>Movies</td>\n",
       "      <td>The comic puts his trademark hilarious/thought...</td>\n",
       "    </tr>\n",
       "    <tr>\n",
       "      <th>3695</th>\n",
       "      <td>s4324</td>\n",
       "      <td>Movie</td>\n",
       "      <td>My Honor Was Loyalty</td>\n",
       "      <td>Alessandro Pepe</td>\n",
       "      <td>Leone Frisa, Paolo Vaccarino, Francesco Miglio...</td>\n",
       "      <td>Italy</td>\n",
       "      <td>2017-03-01</td>\n",
       "      <td>2015</td>\n",
       "      <td>NaN</td>\n",
       "      <td>115</td>\n",
       "      <td>Dramas</td>\n",
       "      <td>Amid the chaos and horror of World War II, a c...</td>\n",
       "    </tr>\n",
       "    <tr>\n",
       "      <th>6444</th>\n",
       "      <td>s68</td>\n",
       "      <td>Movie</td>\n",
       "      <td>13TH: A Conversation with Oprah Winfrey &amp; Ava ...</td>\n",
       "      <td>NaN</td>\n",
       "      <td>Oprah Winfrey, Ava DuVernay</td>\n",
       "      <td>NaN</td>\n",
       "      <td>2017-01-26</td>\n",
       "      <td>2017</td>\n",
       "      <td>NaN</td>\n",
       "      <td>37</td>\n",
       "      <td>Movies</td>\n",
       "      <td>Oprah Winfrey sits down with director Ava DuVe...</td>\n",
       "    </tr>\n",
       "  </tbody>\n",
       "</table>\n",
       "</div>"
      ],
      "text/plain": [
       "     show_id     type                                              title  \\\n",
       "1513   s2360  TV Show                  Gargantia on the Verdurous Planet   \n",
       "2958   s3661  TV Show                                       Little Lunch   \n",
       "3042   s3737    Movie                                    Louis C.K. 2017   \n",
       "3043   s3738    Movie                              Louis C.K.: Hilarious   \n",
       "3044   s3739    Movie               Louis C.K.: Live at the Comedy Store   \n",
       "3695   s4324    Movie                               My Honor Was Loyalty   \n",
       "6444     s68    Movie  13TH: A Conversation with Oprah Winfrey & Ava ...   \n",
       "\n",
       "             director                                               cast  \\\n",
       "1513              NaN  Kaito Ishikawa, Hisako Kanemoto, Ai Kayano, Ka...   \n",
       "2958              NaN  Flynn Curry, Olivia Deeble, Madison Lu, Oisín ...   \n",
       "3042       Louis C.K.                                         Louis C.K.   \n",
       "3043       Louis C.K.                                         Louis C.K.   \n",
       "3044       Louis C.K.                                         Louis C.K.   \n",
       "3695  Alessandro Pepe  Leone Frisa, Paolo Vaccarino, Francesco Miglio...   \n",
       "6444              NaN                        Oprah Winfrey, Ava DuVernay   \n",
       "\n",
       "            country date_added  release_year rating  duration  \\\n",
       "1513          Japan 2016-12-01          2013    NaN         1   \n",
       "2958      Australia 2018-02-01          2015    NaN         1   \n",
       "3042  United States 2017-04-04          2017    NaN        74   \n",
       "3043  United States 2016-09-16          2010    NaN        84   \n",
       "3044  United States 2016-08-15          2015    NaN        66   \n",
       "3695          Italy 2017-03-01          2015    NaN       115   \n",
       "6444            NaN 2017-01-26          2017    NaN        37   \n",
       "\n",
       "                                    genres  \\\n",
       "1513  Anime Series, International TV Shows   \n",
       "2958                 Kids' TV, TV Comedies   \n",
       "3042                                Movies   \n",
       "3043                                Movies   \n",
       "3044                                Movies   \n",
       "3695                                Dramas   \n",
       "6444                                Movies   \n",
       "\n",
       "                                            description  \n",
       "1513  After falling through a wormhole, a space-dwel...  \n",
       "2958  Adopting a child's perspective, this show take...  \n",
       "3042  Louis C.K. muses on religion, eternal love, gi...  \n",
       "3043  Emmy-winning comedy writer Louis C.K. brings h...  \n",
       "3044  The comic puts his trademark hilarious/thought...  \n",
       "3695  Amid the chaos and horror of World War II, a c...  \n",
       "6444  Oprah Winfrey sits down with director Ava DuVe...  "
      ]
     },
     "execution_count": 13,
     "metadata": {},
     "output_type": "execute_result"
    }
   ],
   "source": [
    "df[df[\"rating\"].isnull()]"
   ]
  },
  {
   "cell_type": "code",
   "execution_count": 14,
   "id": "f0d8a7be",
   "metadata": {
    "execution": {
     "iopub.execute_input": "2023-01-31T12:11:43.880521Z",
     "iopub.status.busy": "2023-01-31T12:11:43.880113Z",
     "iopub.status.idle": "2023-01-31T12:11:43.887462Z",
     "shell.execute_reply": "2023-01-31T12:11:43.886349Z"
    },
    "papermill": {
     "duration": 0.029486,
     "end_time": "2023-01-31T12:11:43.889762",
     "exception": false,
     "start_time": "2023-01-31T12:11:43.860276",
     "status": "completed"
    },
    "tags": []
   },
   "outputs": [
    {
     "data": {
      "text/plain": [
       "array(['TV-MA', 'TV-PG', 'R', 'TV-G', 'PG-13', 'TV-14', 'TV-Y', 'PG',\n",
       "       'TV-Y7', 'NR', 'G', 'TV-Y7-FV', nan, 'UR', 'NC-17'], dtype=object)"
      ]
     },
     "execution_count": 14,
     "metadata": {},
     "output_type": "execute_result"
    }
   ],
   "source": [
    "df[\"rating\"].unique()"
   ]
  },
  {
   "cell_type": "code",
   "execution_count": 15,
   "id": "d16dc1a6",
   "metadata": {
    "execution": {
     "iopub.execute_input": "2023-01-31T12:11:43.928286Z",
     "iopub.status.busy": "2023-01-31T12:11:43.927181Z",
     "iopub.status.idle": "2023-01-31T12:11:43.937755Z",
     "shell.execute_reply": "2023-01-31T12:11:43.936801Z"
    },
    "papermill": {
     "duration": 0.033043,
     "end_time": "2023-01-31T12:11:43.940709",
     "exception": false,
     "start_time": "2023-01-31T12:11:43.907666",
     "status": "completed"
    },
    "tags": []
   },
   "outputs": [
    {
     "name": "stderr",
     "output_type": "stream",
     "text": [
      "/opt/conda/lib/python3.7/site-packages/pandas/core/indexing.py:1732: SettingWithCopyWarning: \n",
      "A value is trying to be set on a copy of a slice from a DataFrame\n",
      "\n",
      "See the caveats in the documentation: https://pandas.pydata.org/pandas-docs/stable/user_guide/indexing.html#returning-a-view-versus-a-copy\n",
      "  self._setitem_single_block(indexer, value, name)\n"
     ]
    }
   ],
   "source": [
    "## Filling tv show with tv-14 as they are anime and kids show\n",
    "l=[1513,2958]\n",
    "for i in l:\n",
    "    df[\"rating\"].iloc[i]=\"TV-14\""
   ]
  },
  {
   "cell_type": "code",
   "execution_count": 16,
   "id": "1b25a9af",
   "metadata": {
    "execution": {
     "iopub.execute_input": "2023-01-31T12:11:43.981138Z",
     "iopub.status.busy": "2023-01-31T12:11:43.979878Z",
     "iopub.status.idle": "2023-01-31T12:11:43.989202Z",
     "shell.execute_reply": "2023-01-31T12:11:43.988088Z"
    },
    "papermill": {
     "duration": 0.031921,
     "end_time": "2023-01-31T12:11:43.991715",
     "exception": false,
     "start_time": "2023-01-31T12:11:43.959794",
     "status": "completed"
    },
    "tags": []
   },
   "outputs": [],
   "source": [
    "## Filling movies with tv-14 as they are anime and kids show\n",
    "l=[3042,3043,3044,3695,6444]\n",
    "for i in l:\n",
    "    df[\"rating\"].iloc[i]=\"TV-MA\""
   ]
  },
  {
   "cell_type": "markdown",
   "id": "20c6d381",
   "metadata": {
    "papermill": {
     "duration": 0.018249,
     "end_time": "2023-01-31T12:11:44.028689",
     "exception": false,
     "start_time": "2023-01-31T12:11:44.010440",
     "status": "completed"
    },
    "tags": []
   },
   "source": [
    "#### All missing values settled for Ratings"
   ]
  },
  {
   "cell_type": "code",
   "execution_count": 17,
   "id": "d3832066",
   "metadata": {
    "execution": {
     "iopub.execute_input": "2023-01-31T12:11:44.067055Z",
     "iopub.status.busy": "2023-01-31T12:11:44.066632Z",
     "iopub.status.idle": "2023-01-31T12:11:44.075263Z",
     "shell.execute_reply": "2023-01-31T12:11:44.074394Z"
    },
    "papermill": {
     "duration": 0.030581,
     "end_time": "2023-01-31T12:11:44.077506",
     "exception": false,
     "start_time": "2023-01-31T12:11:44.046925",
     "status": "completed"
    },
    "tags": []
   },
   "outputs": [
    {
     "data": {
      "text/plain": [
       "0    United States\n",
       "dtype: object"
      ]
     },
     "execution_count": 17,
     "metadata": {},
     "output_type": "execute_result"
    }
   ],
   "source": [
    "df[\"country\"].mode()"
   ]
  },
  {
   "cell_type": "code",
   "execution_count": 18,
   "id": "7ca7c712",
   "metadata": {
    "execution": {
     "iopub.execute_input": "2023-01-31T12:11:44.116507Z",
     "iopub.status.busy": "2023-01-31T12:11:44.116116Z",
     "iopub.status.idle": "2023-01-31T12:11:44.122547Z",
     "shell.execute_reply": "2023-01-31T12:11:44.121281Z"
    },
    "papermill": {
     "duration": 0.028964,
     "end_time": "2023-01-31T12:11:44.125092",
     "exception": false,
     "start_time": "2023-01-31T12:11:44.096128",
     "status": "completed"
    },
    "tags": []
   },
   "outputs": [],
   "source": [
    "df[\"country\"].fillna(\"Missing\",inplace=True)"
   ]
  },
  {
   "cell_type": "markdown",
   "id": "cefccf59",
   "metadata": {
    "papermill": {
     "duration": 0.018687,
     "end_time": "2023-01-31T12:11:44.162372",
     "exception": false,
     "start_time": "2023-01-31T12:11:44.143685",
     "status": "completed"
    },
    "tags": []
   },
   "source": [
    "#### All missing values settled for Country"
   ]
  },
  {
   "cell_type": "code",
   "execution_count": 19,
   "id": "5bdd268d",
   "metadata": {
    "execution": {
     "iopub.execute_input": "2023-01-31T12:11:44.203106Z",
     "iopub.status.busy": "2023-01-31T12:11:44.202658Z",
     "iopub.status.idle": "2023-01-31T12:11:44.210388Z",
     "shell.execute_reply": "2023-01-31T12:11:44.209218Z"
    },
    "papermill": {
     "duration": 0.030709,
     "end_time": "2023-01-31T12:11:44.212907",
     "exception": false,
     "start_time": "2023-01-31T12:11:44.182198",
     "status": "completed"
    },
    "tags": []
   },
   "outputs": [],
   "source": [
    "### dropping columns show id and cast is they are not usefull for us \n",
    "df.drop(columns=[\"show_id\",\"cast\"],inplace=True)"
   ]
  },
  {
   "cell_type": "code",
   "execution_count": 20,
   "id": "2200887c",
   "metadata": {
    "execution": {
     "iopub.execute_input": "2023-01-31T12:11:44.252457Z",
     "iopub.status.busy": "2023-01-31T12:11:44.252036Z",
     "iopub.status.idle": "2023-01-31T12:11:44.257880Z",
     "shell.execute_reply": "2023-01-31T12:11:44.256655Z"
    },
    "papermill": {
     "duration": 0.028928,
     "end_time": "2023-01-31T12:11:44.260348",
     "exception": false,
     "start_time": "2023-01-31T12:11:44.231420",
     "status": "completed"
    },
    "tags": []
   },
   "outputs": [],
   "source": [
    "### Filling director missing values with unidentified\n",
    "df[\"director\"].fillna(\"Unidentified\",inplace=True)"
   ]
  },
  {
   "cell_type": "code",
   "execution_count": 21,
   "id": "12cf312d",
   "metadata": {
    "execution": {
     "iopub.execute_input": "2023-01-31T12:11:44.299756Z",
     "iopub.status.busy": "2023-01-31T12:11:44.299365Z",
     "iopub.status.idle": "2023-01-31T12:11:44.316409Z",
     "shell.execute_reply": "2023-01-31T12:11:44.315627Z"
    },
    "papermill": {
     "duration": 0.038921,
     "end_time": "2023-01-31T12:11:44.318806",
     "exception": false,
     "start_time": "2023-01-31T12:11:44.279885",
     "status": "completed"
    },
    "tags": []
   },
   "outputs": [
    {
     "data": {
      "text/html": [
       "<div>\n",
       "<style scoped>\n",
       "    .dataframe tbody tr th:only-of-type {\n",
       "        vertical-align: middle;\n",
       "    }\n",
       "\n",
       "    .dataframe tbody tr th {\n",
       "        vertical-align: top;\n",
       "    }\n",
       "\n",
       "    .dataframe thead th {\n",
       "        text-align: right;\n",
       "    }\n",
       "</style>\n",
       "<table border=\"1\" class=\"dataframe\">\n",
       "  <thead>\n",
       "    <tr style=\"text-align: right;\">\n",
       "      <th></th>\n",
       "      <th>type</th>\n",
       "      <th>title</th>\n",
       "      <th>director</th>\n",
       "      <th>country</th>\n",
       "      <th>date_added</th>\n",
       "      <th>release_year</th>\n",
       "      <th>rating</th>\n",
       "      <th>duration</th>\n",
       "      <th>genres</th>\n",
       "      <th>description</th>\n",
       "    </tr>\n",
       "  </thead>\n",
       "  <tbody>\n",
       "    <tr>\n",
       "      <th>1406</th>\n",
       "      <td>TV Show</td>\n",
       "      <td>Frasier</td>\n",
       "      <td>Unidentified</td>\n",
       "      <td>United States</td>\n",
       "      <td>NaT</td>\n",
       "      <td>2003</td>\n",
       "      <td>TV-PG</td>\n",
       "      <td>11</td>\n",
       "      <td>Classic &amp; Cult TV, TV Comedies</td>\n",
       "      <td>Frasier Crane is a snooty but lovable Seattle ...</td>\n",
       "    </tr>\n",
       "    <tr>\n",
       "      <th>1433</th>\n",
       "      <td>TV Show</td>\n",
       "      <td>Friends</td>\n",
       "      <td>Unidentified</td>\n",
       "      <td>United States</td>\n",
       "      <td>NaT</td>\n",
       "      <td>2003</td>\n",
       "      <td>TV-14</td>\n",
       "      <td>10</td>\n",
       "      <td>Classic &amp; Cult TV, TV Comedies</td>\n",
       "      <td>This hit sitcom follows the merry misadventure...</td>\n",
       "    </tr>\n",
       "    <tr>\n",
       "      <th>1730</th>\n",
       "      <td>TV Show</td>\n",
       "      <td>Gunslinger Girl</td>\n",
       "      <td>Unidentified</td>\n",
       "      <td>Japan</td>\n",
       "      <td>NaT</td>\n",
       "      <td>2008</td>\n",
       "      <td>TV-14</td>\n",
       "      <td>2</td>\n",
       "      <td>Anime Series, Crime TV Shows</td>\n",
       "      <td>On the surface, the Social Welfare Agency appe...</td>\n",
       "    </tr>\n",
       "    <tr>\n",
       "      <th>1767</th>\n",
       "      <td>TV Show</td>\n",
       "      <td>A Young Doctor's Notebook and Other Stories</td>\n",
       "      <td>Unidentified</td>\n",
       "      <td>United Kingdom</td>\n",
       "      <td>NaT</td>\n",
       "      <td>2013</td>\n",
       "      <td>TV-MA</td>\n",
       "      <td>2</td>\n",
       "      <td>British TV Shows, TV Comedies, TV Dramas</td>\n",
       "      <td>Set during the Russian Revolution, this comic ...</td>\n",
       "    </tr>\n",
       "    <tr>\n",
       "      <th>2640</th>\n",
       "      <td>TV Show</td>\n",
       "      <td>Kikoriki</td>\n",
       "      <td>Unidentified</td>\n",
       "      <td>Missing</td>\n",
       "      <td>NaT</td>\n",
       "      <td>2010</td>\n",
       "      <td>TV-Y</td>\n",
       "      <td>2</td>\n",
       "      <td>Kids' TV</td>\n",
       "      <td>A wacky rabbit and his gang of animal pals hav...</td>\n",
       "    </tr>\n",
       "    <tr>\n",
       "      <th>2771</th>\n",
       "      <td>TV Show</td>\n",
       "      <td>La Familia P. Luche</td>\n",
       "      <td>Unidentified</td>\n",
       "      <td>United States</td>\n",
       "      <td>NaT</td>\n",
       "      <td>2012</td>\n",
       "      <td>TV-14</td>\n",
       "      <td>3</td>\n",
       "      <td>International TV Shows, Spanish-Language TV Sh...</td>\n",
       "      <td>This irreverent sitcom featues Ludovico, Feder...</td>\n",
       "    </tr>\n",
       "    <tr>\n",
       "      <th>3275</th>\n",
       "      <td>TV Show</td>\n",
       "      <td>Maron</td>\n",
       "      <td>Unidentified</td>\n",
       "      <td>United States</td>\n",
       "      <td>NaT</td>\n",
       "      <td>2016</td>\n",
       "      <td>TV-MA</td>\n",
       "      <td>4</td>\n",
       "      <td>TV Comedies</td>\n",
       "      <td>Marc Maron stars as Marc Maron, who interviews...</td>\n",
       "    </tr>\n",
       "    <tr>\n",
       "      <th>4599</th>\n",
       "      <td>TV Show</td>\n",
       "      <td>Red vs. Blue</td>\n",
       "      <td>Unidentified</td>\n",
       "      <td>United States</td>\n",
       "      <td>NaT</td>\n",
       "      <td>2015</td>\n",
       "      <td>NR</td>\n",
       "      <td>13</td>\n",
       "      <td>TV Action &amp; Adventure, TV Comedies, TV Sci-Fi ...</td>\n",
       "      <td>This parody of first-person shooter games, mil...</td>\n",
       "    </tr>\n",
       "    <tr>\n",
       "      <th>5001</th>\n",
       "      <td>TV Show</td>\n",
       "      <td>Anthony Bourdain: Parts Unknown</td>\n",
       "      <td>Unidentified</td>\n",
       "      <td>United States</td>\n",
       "      <td>NaT</td>\n",
       "      <td>2018</td>\n",
       "      <td>TV-PG</td>\n",
       "      <td>5</td>\n",
       "      <td>Docuseries</td>\n",
       "      <td>This CNN original series has chef Anthony Bour...</td>\n",
       "    </tr>\n",
       "    <tr>\n",
       "      <th>5630</th>\n",
       "      <td>TV Show</td>\n",
       "      <td>The Adventures of Figaro Pho</td>\n",
       "      <td>Unidentified</td>\n",
       "      <td>Australia</td>\n",
       "      <td>NaT</td>\n",
       "      <td>2015</td>\n",
       "      <td>TV-Y7</td>\n",
       "      <td>2</td>\n",
       "      <td>Kids' TV, TV Comedies</td>\n",
       "      <td>Imagine your worst fears, then multiply them: ...</td>\n",
       "    </tr>\n",
       "  </tbody>\n",
       "</table>\n",
       "</div>"
      ],
      "text/plain": [
       "         type                                        title      director  \\\n",
       "1406  TV Show                                      Frasier  Unidentified   \n",
       "1433  TV Show                                      Friends  Unidentified   \n",
       "1730  TV Show                              Gunslinger Girl  Unidentified   \n",
       "1767  TV Show  A Young Doctor's Notebook and Other Stories  Unidentified   \n",
       "2640  TV Show                                     Kikoriki  Unidentified   \n",
       "2771  TV Show                          La Familia P. Luche  Unidentified   \n",
       "3275  TV Show                                        Maron  Unidentified   \n",
       "4599  TV Show                                 Red vs. Blue  Unidentified   \n",
       "5001  TV Show              Anthony Bourdain: Parts Unknown  Unidentified   \n",
       "5630  TV Show                 The Adventures of Figaro Pho  Unidentified   \n",
       "\n",
       "             country date_added  release_year rating  duration  \\\n",
       "1406   United States        NaT          2003  TV-PG        11   \n",
       "1433   United States        NaT          2003  TV-14        10   \n",
       "1730           Japan        NaT          2008  TV-14         2   \n",
       "1767  United Kingdom        NaT          2013  TV-MA         2   \n",
       "2640         Missing        NaT          2010   TV-Y         2   \n",
       "2771   United States        NaT          2012  TV-14         3   \n",
       "3275   United States        NaT          2016  TV-MA         4   \n",
       "4599   United States        NaT          2015     NR        13   \n",
       "5001   United States        NaT          2018  TV-PG         5   \n",
       "5630       Australia        NaT          2015  TV-Y7         2   \n",
       "\n",
       "                                                 genres  \\\n",
       "1406                     Classic & Cult TV, TV Comedies   \n",
       "1433                     Classic & Cult TV, TV Comedies   \n",
       "1730                       Anime Series, Crime TV Shows   \n",
       "1767           British TV Shows, TV Comedies, TV Dramas   \n",
       "2640                                           Kids' TV   \n",
       "2771  International TV Shows, Spanish-Language TV Sh...   \n",
       "3275                                        TV Comedies   \n",
       "4599  TV Action & Adventure, TV Comedies, TV Sci-Fi ...   \n",
       "5001                                         Docuseries   \n",
       "5630                              Kids' TV, TV Comedies   \n",
       "\n",
       "                                            description  \n",
       "1406  Frasier Crane is a snooty but lovable Seattle ...  \n",
       "1433  This hit sitcom follows the merry misadventure...  \n",
       "1730  On the surface, the Social Welfare Agency appe...  \n",
       "1767  Set during the Russian Revolution, this comic ...  \n",
       "2640  A wacky rabbit and his gang of animal pals hav...  \n",
       "2771  This irreverent sitcom featues Ludovico, Feder...  \n",
       "3275  Marc Maron stars as Marc Maron, who interviews...  \n",
       "4599  This parody of first-person shooter games, mil...  \n",
       "5001  This CNN original series has chef Anthony Bour...  \n",
       "5630  Imagine your worst fears, then multiply them: ...  "
      ]
     },
     "execution_count": 21,
     "metadata": {},
     "output_type": "execute_result"
    }
   ],
   "source": [
    "df[df[\"date_added\"].isnull()]"
   ]
  },
  {
   "cell_type": "code",
   "execution_count": 22,
   "id": "7a5de876",
   "metadata": {
    "execution": {
     "iopub.execute_input": "2023-01-31T12:11:44.358861Z",
     "iopub.status.busy": "2023-01-31T12:11:44.357762Z",
     "iopub.status.idle": "2023-01-31T12:11:44.367108Z",
     "shell.execute_reply": "2023-01-31T12:11:44.365821Z"
    },
    "papermill": {
     "duration": 0.032393,
     "end_time": "2023-01-31T12:11:44.369813",
     "exception": false,
     "start_time": "2023-01-31T12:11:44.337420",
     "status": "completed"
    },
    "tags": []
   },
   "outputs": [],
   "source": [
    "df[\"date_added\"].fillna(df[\"date_added\"].median(),inplace=True)"
   ]
  },
  {
   "cell_type": "code",
   "execution_count": 23,
   "id": "47ae10f5",
   "metadata": {
    "execution": {
     "iopub.execute_input": "2023-01-31T12:11:44.409017Z",
     "iopub.status.busy": "2023-01-31T12:11:44.408543Z",
     "iopub.status.idle": "2023-01-31T12:11:44.421421Z",
     "shell.execute_reply": "2023-01-31T12:11:44.420117Z"
    },
    "papermill": {
     "duration": 0.035449,
     "end_time": "2023-01-31T12:11:44.424050",
     "exception": false,
     "start_time": "2023-01-31T12:11:44.388601",
     "status": "completed"
    },
    "tags": []
   },
   "outputs": [
    {
     "data": {
      "text/plain": [
       "type            0\n",
       "title           0\n",
       "director        0\n",
       "country         0\n",
       "date_added      0\n",
       "release_year    0\n",
       "rating          0\n",
       "duration        0\n",
       "genres          0\n",
       "description     0\n",
       "dtype: int64"
      ]
     },
     "execution_count": 23,
     "metadata": {},
     "output_type": "execute_result"
    }
   ],
   "source": [
    "### Checking missing values\n",
    "df.isnull().sum()"
   ]
  },
  {
   "cell_type": "markdown",
   "id": "d2bf57ea",
   "metadata": {
    "papermill": {
     "duration": 0.019017,
     "end_time": "2023-01-31T12:11:44.462442",
     "exception": false,
     "start_time": "2023-01-31T12:11:44.443425",
     "status": "completed"
    },
    "tags": []
   },
   "source": [
    "#### Hence all missing values settled"
   ]
  },
  {
   "cell_type": "code",
   "execution_count": 24,
   "id": "c67b4879",
   "metadata": {
    "execution": {
     "iopub.execute_input": "2023-01-31T12:11:44.501972Z",
     "iopub.status.busy": "2023-01-31T12:11:44.501573Z",
     "iopub.status.idle": "2023-01-31T12:11:44.527892Z",
     "shell.execute_reply": "2023-01-31T12:11:44.526937Z"
    },
    "papermill": {
     "duration": 0.049203,
     "end_time": "2023-01-31T12:11:44.530566",
     "exception": false,
     "start_time": "2023-01-31T12:11:44.481363",
     "status": "completed"
    },
    "tags": []
   },
   "outputs": [
    {
     "data": {
      "text/html": [
       "<div>\n",
       "<style scoped>\n",
       "    .dataframe tbody tr th:only-of-type {\n",
       "        vertical-align: middle;\n",
       "    }\n",
       "\n",
       "    .dataframe tbody tr th {\n",
       "        vertical-align: top;\n",
       "    }\n",
       "\n",
       "    .dataframe thead th {\n",
       "        text-align: right;\n",
       "    }\n",
       "</style>\n",
       "<table border=\"1\" class=\"dataframe\">\n",
       "  <thead>\n",
       "    <tr style=\"text-align: right;\">\n",
       "      <th></th>\n",
       "      <th>type</th>\n",
       "      <th>title</th>\n",
       "      <th>director</th>\n",
       "      <th>country</th>\n",
       "      <th>date_added</th>\n",
       "      <th>release_year</th>\n",
       "      <th>rating</th>\n",
       "      <th>duration</th>\n",
       "      <th>genres</th>\n",
       "      <th>description</th>\n",
       "      <th>month_name</th>\n",
       "      <th>Day</th>\n",
       "      <th>weekday</th>\n",
       "    </tr>\n",
       "  </thead>\n",
       "  <tbody>\n",
       "    <tr>\n",
       "      <th>0</th>\n",
       "      <td>TV Show</td>\n",
       "      <td>3%</td>\n",
       "      <td>Unidentified</td>\n",
       "      <td>Brazil</td>\n",
       "      <td>2020-08-14</td>\n",
       "      <td>2020</td>\n",
       "      <td>TV-MA</td>\n",
       "      <td>4</td>\n",
       "      <td>International TV Shows, TV Dramas, TV Sci-Fi &amp;...</td>\n",
       "      <td>In a future where the elite inhabit an island ...</td>\n",
       "      <td>August</td>\n",
       "      <td>Friday</td>\n",
       "      <td>4</td>\n",
       "    </tr>\n",
       "    <tr>\n",
       "      <th>1</th>\n",
       "      <td>Movie</td>\n",
       "      <td>1920</td>\n",
       "      <td>Vikram Bhatt</td>\n",
       "      <td>India</td>\n",
       "      <td>2017-12-15</td>\n",
       "      <td>2008</td>\n",
       "      <td>TV-MA</td>\n",
       "      <td>143</td>\n",
       "      <td>Horror Movies, International Movies, Thrillers</td>\n",
       "      <td>An architect and his wife move into a castle t...</td>\n",
       "      <td>December</td>\n",
       "      <td>Friday</td>\n",
       "      <td>4</td>\n",
       "    </tr>\n",
       "  </tbody>\n",
       "</table>\n",
       "</div>"
      ],
      "text/plain": [
       "      type title      director country date_added  release_year rating  \\\n",
       "0  TV Show    3%  Unidentified  Brazil 2020-08-14          2020  TV-MA   \n",
       "1    Movie  1920  Vikram Bhatt   India 2017-12-15          2008  TV-MA   \n",
       "\n",
       "   duration                                             genres  \\\n",
       "0         4  International TV Shows, TV Dramas, TV Sci-Fi &...   \n",
       "1       143     Horror Movies, International Movies, Thrillers   \n",
       "\n",
       "                                         description month_name     Day  \\\n",
       "0  In a future where the elite inhabit an island ...     August  Friday   \n",
       "1  An architect and his wife move into a castle t...   December  Friday   \n",
       "\n",
       "   weekday  \n",
       "0        4  \n",
       "1        4  "
      ]
     },
     "execution_count": 24,
     "metadata": {},
     "output_type": "execute_result"
    }
   ],
   "source": [
    "## Adding month name day name and date \n",
    "from datetime import datetime as dt\n",
    "df[\"month_name\"]=df[\"date_added\"].dt.month_name()\n",
    "df[\"Day\"]=df[\"date_added\"].dt.day_name()\n",
    "df[\"weekday\"]=df.date_added.dt.weekday\n",
    "df.head(2)"
   ]
  },
  {
   "cell_type": "code",
   "execution_count": 25,
   "id": "c6155217",
   "metadata": {
    "execution": {
     "iopub.execute_input": "2023-01-31T12:11:44.571620Z",
     "iopub.status.busy": "2023-01-31T12:11:44.570973Z",
     "iopub.status.idle": "2023-01-31T12:11:44.583787Z",
     "shell.execute_reply": "2023-01-31T12:11:44.582498Z"
    },
    "papermill": {
     "duration": 0.036039,
     "end_time": "2023-01-31T12:11:44.586056",
     "exception": false,
     "start_time": "2023-01-31T12:11:44.550017",
     "status": "completed"
    },
    "tags": []
   },
   "outputs": [
    {
     "data": {
      "text/plain": [
       "type            0\n",
       "title           0\n",
       "director        0\n",
       "country         0\n",
       "date_added      0\n",
       "release_year    0\n",
       "rating          0\n",
       "duration        0\n",
       "genres          0\n",
       "description     0\n",
       "month_name      0\n",
       "Day             0\n",
       "weekday         0\n",
       "dtype: int64"
      ]
     },
     "execution_count": 25,
     "metadata": {},
     "output_type": "execute_result"
    }
   ],
   "source": [
    "df.isnull().sum()"
   ]
  },
  {
   "cell_type": "code",
   "execution_count": 26,
   "id": "381f603c",
   "metadata": {
    "execution": {
     "iopub.execute_input": "2023-01-31T12:11:44.626268Z",
     "iopub.status.busy": "2023-01-31T12:11:44.625614Z",
     "iopub.status.idle": "2023-01-31T12:11:44.652394Z",
     "shell.execute_reply": "2023-01-31T12:11:44.651249Z"
    },
    "papermill": {
     "duration": 0.049602,
     "end_time": "2023-01-31T12:11:44.654696",
     "exception": false,
     "start_time": "2023-01-31T12:11:44.605094",
     "status": "completed"
    },
    "tags": []
   },
   "outputs": [
    {
     "data": {
      "text/html": [
       "<div>\n",
       "<style scoped>\n",
       "    .dataframe tbody tr th:only-of-type {\n",
       "        vertical-align: middle;\n",
       "    }\n",
       "\n",
       "    .dataframe tbody tr th {\n",
       "        vertical-align: top;\n",
       "    }\n",
       "\n",
       "    .dataframe thead th {\n",
       "        text-align: right;\n",
       "    }\n",
       "</style>\n",
       "<table border=\"1\" class=\"dataframe\">\n",
       "  <thead>\n",
       "    <tr style=\"text-align: right;\">\n",
       "      <th></th>\n",
       "      <th>count</th>\n",
       "      <th>mean</th>\n",
       "      <th>std</th>\n",
       "      <th>min</th>\n",
       "      <th>25%</th>\n",
       "      <th>50%</th>\n",
       "      <th>75%</th>\n",
       "      <th>max</th>\n",
       "    </tr>\n",
       "  </thead>\n",
       "  <tbody>\n",
       "    <tr>\n",
       "      <th>release_year</th>\n",
       "      <td>7787.0</td>\n",
       "      <td>2013.932580</td>\n",
       "      <td>8.757395</td>\n",
       "      <td>1925.0</td>\n",
       "      <td>2013.0</td>\n",
       "      <td>2017.0</td>\n",
       "      <td>2018.0</td>\n",
       "      <td>2021.0</td>\n",
       "    </tr>\n",
       "    <tr>\n",
       "      <th>duration</th>\n",
       "      <td>7787.0</td>\n",
       "      <td>69.122769</td>\n",
       "      <td>50.950743</td>\n",
       "      <td>1.0</td>\n",
       "      <td>2.0</td>\n",
       "      <td>88.0</td>\n",
       "      <td>106.0</td>\n",
       "      <td>312.0</td>\n",
       "    </tr>\n",
       "    <tr>\n",
       "      <th>weekday</th>\n",
       "      <td>7787.0</td>\n",
       "      <td>3.036086</td>\n",
       "      <td>1.763315</td>\n",
       "      <td>0.0</td>\n",
       "      <td>2.0</td>\n",
       "      <td>3.0</td>\n",
       "      <td>4.0</td>\n",
       "      <td>6.0</td>\n",
       "    </tr>\n",
       "  </tbody>\n",
       "</table>\n",
       "</div>"
      ],
      "text/plain": [
       "               count         mean        std     min     25%     50%     75%  \\\n",
       "release_year  7787.0  2013.932580   8.757395  1925.0  2013.0  2017.0  2018.0   \n",
       "duration      7787.0    69.122769  50.950743     1.0     2.0    88.0   106.0   \n",
       "weekday       7787.0     3.036086   1.763315     0.0     2.0     3.0     4.0   \n",
       "\n",
       "                 max  \n",
       "release_year  2021.0  \n",
       "duration       312.0  \n",
       "weekday          6.0  "
      ]
     },
     "execution_count": 26,
     "metadata": {},
     "output_type": "execute_result"
    }
   ],
   "source": [
    "### Basic Statistical summary \n",
    "df.describe().T"
   ]
  },
  {
   "cell_type": "code",
   "execution_count": 27,
   "id": "43cf3198",
   "metadata": {
    "execution": {
     "iopub.execute_input": "2023-01-31T12:11:44.695276Z",
     "iopub.status.busy": "2023-01-31T12:11:44.694857Z",
     "iopub.status.idle": "2023-01-31T12:11:44.737974Z",
     "shell.execute_reply": "2023-01-31T12:11:44.736794Z"
    },
    "papermill": {
     "duration": 0.06626,
     "end_time": "2023-01-31T12:11:44.740300",
     "exception": false,
     "start_time": "2023-01-31T12:11:44.674040",
     "status": "completed"
    },
    "tags": []
   },
   "outputs": [
    {
     "data": {
      "text/html": [
       "<div>\n",
       "<style scoped>\n",
       "    .dataframe tbody tr th:only-of-type {\n",
       "        vertical-align: middle;\n",
       "    }\n",
       "\n",
       "    .dataframe tbody tr th {\n",
       "        vertical-align: top;\n",
       "    }\n",
       "\n",
       "    .dataframe thead th {\n",
       "        text-align: right;\n",
       "    }\n",
       "</style>\n",
       "<table border=\"1\" class=\"dataframe\">\n",
       "  <thead>\n",
       "    <tr style=\"text-align: right;\">\n",
       "      <th></th>\n",
       "      <th>count</th>\n",
       "      <th>unique</th>\n",
       "      <th>top</th>\n",
       "      <th>freq</th>\n",
       "    </tr>\n",
       "  </thead>\n",
       "  <tbody>\n",
       "    <tr>\n",
       "      <th>type</th>\n",
       "      <td>7787</td>\n",
       "      <td>2</td>\n",
       "      <td>Movie</td>\n",
       "      <td>5377</td>\n",
       "    </tr>\n",
       "    <tr>\n",
       "      <th>title</th>\n",
       "      <td>7787</td>\n",
       "      <td>7787</td>\n",
       "      <td>3%</td>\n",
       "      <td>1</td>\n",
       "    </tr>\n",
       "    <tr>\n",
       "      <th>director</th>\n",
       "      <td>7787</td>\n",
       "      <td>4050</td>\n",
       "      <td>Unidentified</td>\n",
       "      <td>2389</td>\n",
       "    </tr>\n",
       "    <tr>\n",
       "      <th>country</th>\n",
       "      <td>7787</td>\n",
       "      <td>682</td>\n",
       "      <td>United States</td>\n",
       "      <td>2555</td>\n",
       "    </tr>\n",
       "    <tr>\n",
       "      <th>rating</th>\n",
       "      <td>7787</td>\n",
       "      <td>14</td>\n",
       "      <td>TV-MA</td>\n",
       "      <td>2868</td>\n",
       "    </tr>\n",
       "    <tr>\n",
       "      <th>genres</th>\n",
       "      <td>7787</td>\n",
       "      <td>492</td>\n",
       "      <td>Documentaries</td>\n",
       "      <td>334</td>\n",
       "    </tr>\n",
       "    <tr>\n",
       "      <th>description</th>\n",
       "      <td>7787</td>\n",
       "      <td>7769</td>\n",
       "      <td>Multiple women report their husbands as missin...</td>\n",
       "      <td>3</td>\n",
       "    </tr>\n",
       "    <tr>\n",
       "      <th>month_name</th>\n",
       "      <td>7787</td>\n",
       "      <td>12</td>\n",
       "      <td>December</td>\n",
       "      <td>833</td>\n",
       "    </tr>\n",
       "    <tr>\n",
       "      <th>Day</th>\n",
       "      <td>7787</td>\n",
       "      <td>7</td>\n",
       "      <td>Friday</td>\n",
       "      <td>2297</td>\n",
       "    </tr>\n",
       "  </tbody>\n",
       "</table>\n",
       "</div>"
      ],
      "text/plain": [
       "            count unique                                                top  \\\n",
       "type         7787      2                                              Movie   \n",
       "title        7787   7787                                                 3%   \n",
       "director     7787   4050                                       Unidentified   \n",
       "country      7787    682                                      United States   \n",
       "rating       7787     14                                              TV-MA   \n",
       "genres       7787    492                                      Documentaries   \n",
       "description  7787   7769  Multiple women report their husbands as missin...   \n",
       "month_name   7787     12                                           December   \n",
       "Day          7787      7                                             Friday   \n",
       "\n",
       "             freq  \n",
       "type         5377  \n",
       "title           1  \n",
       "director     2389  \n",
       "country      2555  \n",
       "rating       2868  \n",
       "genres        334  \n",
       "description     3  \n",
       "month_name    833  \n",
       "Day          2297  "
      ]
     },
     "execution_count": 27,
     "metadata": {},
     "output_type": "execute_result"
    }
   ],
   "source": [
    "df.describe(include=\"object\").T"
   ]
  },
  {
   "cell_type": "code",
   "execution_count": 28,
   "id": "ea35c857",
   "metadata": {
    "execution": {
     "iopub.execute_input": "2023-01-31T12:11:44.781295Z",
     "iopub.status.busy": "2023-01-31T12:11:44.780641Z",
     "iopub.status.idle": "2023-01-31T12:11:44.807997Z",
     "shell.execute_reply": "2023-01-31T12:11:44.806843Z"
    },
    "papermill": {
     "duration": 0.055475,
     "end_time": "2023-01-31T12:11:44.815236",
     "exception": false,
     "start_time": "2023-01-31T12:11:44.759761",
     "status": "completed"
    },
    "tags": []
   },
   "outputs": [
    {
     "name": "stdout",
     "output_type": "stream",
     "text": [
      "type ------ ['TV Show' 'Movie']\n",
      "title ------ ['3%' '1920' '3 Heroines' ... 'Blue Is the Warmest Color' 'Blue Jasmine'\n",
      " 'Blue Jay']\n",
      "director ------ ['Unidentified' 'Vikram Bhatt' 'Iman Brotoseno' ...\n",
      " 'Miguel Cohan, Miguel Cohan' 'Abdellatif Kechiche' 'Woody Allen']\n",
      "country ------ ['Brazil' 'India' 'Indonesia' 'United States' 'United Kingdom'\n",
      " 'United States, France' 'Germany, United States' 'Canada' 'Japan'\n",
      " 'Thailand' 'Missing' 'Denmark, Sweden, Israel, United States'\n",
      " 'Ireland, United Kingdom' 'Spain' 'United States, Iceland' 'Colombia'\n",
      " 'Germany' 'United Arab Emirates, United Kingdom, India' 'New Zealand'\n",
      " 'Netherlands' 'Egypt' 'Australia' 'Sweden' 'Russia'\n",
      " 'Norway, Germany, Sweden' 'Finland, France' 'Denmark' 'Philippines'\n",
      " 'Denmark, Spain' 'United Kingdom, Russia' 'Denmark, France, Poland'\n",
      " 'Lebanon' 'United States, United Kingdom, Australia'\n",
      " 'Canada, United States' 'Singapore' 'Poland' 'Bulgaria, United States'\n",
      " 'South Korea' 'India, United Kingdom' 'United States, Canada, Ireland'\n",
      " 'Canada, United Kingdom' 'United States, Israel, Italy, South Africa'\n",
      " 'France, Belgium' 'Hong Kong' 'Kenya' 'Taiwan' 'France' 'Turkey' 'China'\n",
      " 'India, United States' 'Italy' 'United Kingdom, China'\n",
      " 'Indonesia, Singapore' 'Netherlands, Denmark, France, Germany'\n",
      " 'South Korea, Japan' 'Philippines, Canada, United Kingdom, United States'\n",
      " 'France, Malta, United States' 'Kuwait' 'Belgium, France' 'Norway'\n",
      " 'Argentina' 'Nigeria' 'United Kingdom, Pakistan' 'Mexico, United States'\n",
      " 'Ireland' 'Poland, United States' 'United States, United Kingdom'\n",
      " 'United States, Japan' 'France, New Zealand' 'Mexico'\n",
      " 'United Kingdom, United States, Australia' 'United States, Mexico'\n",
      " 'Iceland' 'United States, Canada'\n",
      " 'United Kingdom, Czech Republic, United States, Germany, Bahamas'\n",
      " 'United States, Australia, China' 'South Africa'\n",
      " 'China, Germany, India, United States' 'United States, Australia'\n",
      " 'Romania' 'Pakistan' 'New Zealand, United Kingdom' 'Germany, Sri Lanka'\n",
      " 'United States, Sweden' 'South Africa, United States'\n",
      " 'United Kingdom, United States' 'United States, Germany'\n",
      " 'Canada, United States, Cayman Islands' 'Hong Kong, China'\n",
      " 'India, France' 'United Kingdom, Canada'\n",
      " 'United States, India, Bangladesh' 'United States, Canada, France'\n",
      " 'Malaysia' 'Taiwan, China, France, United States'\n",
      " 'Australia, United States' 'Brazil, France, Germany' 'United States,'\n",
      " 'Turkey, France, Germany, Poland' 'Australia, New Zealand, United States'\n",
      " 'Germany, United States, Hong Kong, Singapore'\n",
      " 'France, Germany, Switzerland' 'Mexico, Argentina'\n",
      " 'Italy, United States, Argentina'\n",
      " 'Germany, France, Luxembourg, United Kingdom, United States'\n",
      " 'Canada, United States, United Kingdom' 'United Kingdom, Canada, Italy'\n",
      " 'Czech Republic, France' 'Vietnam' 'United States, China' 'Zimbabwe'\n",
      " 'China, Hong Kong' 'United Kingdom, France, Germany, Spain'\n",
      " 'Taiwan, Hong Kong, United States, China' 'China, United States'\n",
      " 'Canada, Brazil' 'United Kingdom, Australia' 'Hungary'\n",
      " 'Japan, United States' 'United States, India' 'Germany, Australia'\n",
      " 'United Kingdom, Poland, United States'\n",
      " 'United States, United Kingdom, France' 'France, South Korea, Japan'\n",
      " 'Bulgaria' 'Philippines, United States' 'Finland, Germany'\n",
      " 'United States, Thailand' 'United States, Bulgaria'\n",
      " 'Spain, Belgium, Switzerland, United States, China, United Kingdom'\n",
      " 'Denmark, Zimbabwe' 'Netherlands, Denmark, South Africa'\n",
      " 'Argentina, Spain' 'France, Egypt' 'United Kingdom, South Africa'\n",
      " 'Finland, Sweden, Norway, Latvia, Germany' 'United Kingdom, India'\n",
      " 'South Africa, United States, New Zealand, Canada' 'France, Qatar'\n",
      " 'France, Algeria' 'United States, Italy, United Kingdom, Liechtenstein'\n",
      " 'Norway, Iceland, United States'\n",
      " 'Denmark, France, Belgium, Italy, Netherlands, United States, United Kingdom'\n",
      " 'India, Germany' 'United States, Australia, Mexico'\n",
      " 'United Kingdom, Czech Republic, Germany, United States'\n",
      " 'United States, Germany, Canada' 'Russia, Poland, Serbia'\n",
      " 'France, China, Japan, United States' 'United States, South Korea, China'\n",
      " 'Germany, Belgium' 'Chile, Argentina'\n",
      " 'China, United States, United Kingdom' 'United States, Chile'\n",
      " 'Pakistan, Norway, United States' 'United Kingdom, Japan, United States'\n",
      " 'France, Netherlands, Singapore' 'Philippines, Singapore'\n",
      " 'United States, Canada, Belgium, United Kingdom' 'Venezuela'\n",
      " 'Argentina, Uruguay, Serbia' 'Chile' 'United States, Mexico, Colombia'\n",
      " 'Colombia, Peru, United Kingdom' 'Brazil, United States'\n",
      " 'Czech Republic, United States'\n",
      " 'Canada, France, Italy, Morocco, United States' 'Canada, Spain, France'\n",
      " 'Hong Kong, United States' 'France, Canada, China, Cambodia'\n",
      " 'United States, Indonesia' 'Denmark, United States' 'Spain, France'\n",
      " 'Spain, Mexico, France' 'Spain, France, Italy'\n",
      " 'United Kingdom, Spain, United States'\n",
      " 'United Arab Emirates, United States' 'Spain, France, United States'\n",
      " 'United States, France, Canada' 'United Arab Emirates' 'Israel'\n",
      " 'United Kingdom, Hong Kong' 'Italy, France'\n",
      " 'United Kingdom, Canada, United States' 'Cambodia, United States'\n",
      " 'China, Japan' 'United Arab Emirates, United States, United Kingdom'\n",
      " 'Argentina, Italy' 'United Kingdom, Israel, Russia'\n",
      " 'Italy, Switzerland, Albania, Poland' 'Iran, France' 'Spain, Cuba'\n",
      " 'United States, Italy' 'United States, Brazil'\n",
      " 'United States, France, Mexico' 'United States, Nicaragua'\n",
      " 'United Kingdom, France, Belgium, United States, China'\n",
      " 'Austria, Germany' 'United Arab Emirates, Jordan, Lebanon'\n",
      " 'France, United Kingdom, United States'\n",
      " 'United Kingdom, United States, Spain, Germany, Greece, Canada'\n",
      " 'Argentina, Brazil, France, Poland, Germany, Denmark'\n",
      " 'France, Belgium, Luxembourg, Cambodia,' 'Italy, Turkey' 'Brazil, France'\n",
      " 'India, Turkey' 'Kenya, United States' 'United States, South Korea'\n",
      " 'South Korea, United States' 'Israel, United States'\n",
      " 'Italy, Canada, France' 'Thailand, United States'\n",
      " 'United Kingdom, Denmark, Canada, Croatia' 'Netherlands, Belgium'\n",
      " 'United Kingdom, Canada, United States, Cayman Islands'\n",
      " 'Uruguay, Argentina, Spain' 'Italy, Germany'\n",
      " 'United States, France, United Kingdom, Japan'\n",
      " 'United States, United Kingdom, Denmark, Sweden' 'Spain, Italy'\n",
      " 'United States, United Kingdom, Italy'\n",
      " 'United States, France, Canada, Spain' 'Uruguay, Guatemala'\n",
      " 'Germany, Australia, France, China'\n",
      " 'United States, United Kingdom, Japan'\n",
      " 'United States, United Kingdom, Canada' 'Singapore, France'\n",
      " 'Italy, Switzerland, France, Germany' 'Russia, United States, China'\n",
      " 'United States, Canada, Germany' 'United States, Czech Republic'\n",
      " 'Ireland, United States' 'United States, United Arab Emirates'\n",
      " 'France, Australia, Germany' 'Hong Kong, China, United States'\n",
      " 'Lebanon, United Arab Emirates, France, Switzerland, Germany'\n",
      " 'United States, South Korea, Japan' 'Romania, United States'\n",
      " 'West Germany' 'United States, Ireland' 'Chile, Italy'\n",
      " 'United States, South Africa'\n",
      " 'Ireland, United Kingdom, Italy, United States' 'Belgium' 'Poland,'\n",
      " 'Slovenia, Croatia, Germany, Czech Republic, Qatar'\n",
      " 'Canada, United Kingdom, Netherlands' 'Peru'\n",
      " 'United Kingdom, United States, France' 'Indonesia, United Kingdom'\n",
      " 'United Kingdom, United States, France, Germany'\n",
      " 'United States, Spain, Germany' 'India, Japan'\n",
      " 'Switzerland, France, Belgium, United States'\n",
      " 'China, South Korea, United States' 'Sweden, United States'\n",
      " 'United Kingdom, France, Belgium' 'Canada, Ireland, United States'\n",
      " 'United Kingdom, United States, Dominican Republic'\n",
      " 'Serbia, United States' 'United States, Senegal' 'Turkey, United States'\n",
      " 'Germany, United Kingdom, United States'\n",
      " 'United States, Canada, United Kingdom' 'Canada, United States, France'\n",
      " 'United Kingdom, Germany, Canada' 'Argentina, France'\n",
      " 'South Africa, Germany, Netherlands, France'\n",
      " 'Canada, United States, United Kingdom, France, Luxembourg'\n",
      " 'Finland, Germany, Belgium' 'United States, United Kingdom, Germany'\n",
      " 'Taiwan, China' 'Cambodia' 'Spain, Portugal' 'Australia, France'\n",
      " 'Hong Kong, Iceland, United States' 'Ireland, United States, France'\n",
      " 'Jordan' 'Austria' 'Germany, United States, Canada'\n",
      " 'United Kingdom, Germany, Canada, United States'\n",
      " 'United States, France, Canada, Lebanon, Qatar' 'Indonesia, Netherlands'\n",
      " 'Netherlands, Belgium, United Kingdom, United States'\n",
      " 'Germany, France, Russia' 'China, United States, Australia'\n",
      " 'Mauritius, South Africa' 'France, Belgium, China, United States'\n",
      " 'Spain, United Kingdom' 'United States, Chile, Israel' 'Bangladesh'\n",
      " 'United Kingdom, Norway, Denmark, Germany, Sweden'\n",
      " 'United States, Japan, Canada' 'Norway, Denmark, Sweden'\n",
      " 'China, India, Nepal' 'United States, Argentina'\n",
      " 'Mexico, United States, Spain, Colombia'\n",
      " 'Colombia, Mexico, United States' 'United Kingdom, Belgium, Sweden'\n",
      " 'Nigeria, United Kingdom' 'United Kingdom, South Korea'\n",
      " 'United States, Taiwan' 'Netherlands, Belgium, Germany, Jordan'\n",
      " 'France, Canada' 'United Kingdom, France, United States'\n",
      " 'Denmark, Singapore, Canada, United States' 'Denmark, China'\n",
      " 'Malaysia, Singapore, Hong Kong' 'Norway, United States'\n",
      " 'United States, Philippines' 'United States, Greece, Brazil'\n",
      " 'France, United States' 'South Korea, France'\n",
      " 'United States, Australia, Samoa, United Kingdom' 'Canada, South Africa'\n",
      " 'Uruguay, Argentina' 'United Kingdom, Italy' 'Germany, United Kingdom'\n",
      " 'Egypt, Algeria' 'China, United Kingdom' 'Argentina, Chile, Peru'\n",
      " 'United States, Russia' 'Uruguay' 'Uruguay, Germany' 'Turkey, Azerbaijan'\n",
      " 'United States, China, Hong Kong' 'United Kingdom, France'\n",
      " 'Soviet Union, India' 'Canada, Germany, France, United States'\n",
      " 'Argentina, United States, Mexico' 'Saudi Arabia'\n",
      " 'France, United Kingdom, India' 'China, Taiwan'\n",
      " 'Italy, United Kingdom, France' 'Poland, West Germany'\n",
      " 'Germany, United States, Sweden' 'Canada, Spain'\n",
      " 'United Kingdom, France, Belgium, United States' 'France, Japan'\n",
      " 'Netherlands, Germany, Italy, Canada' 'United States, Cambodia'\n",
      " 'United States, Greece' 'Ireland, United Kingdom, United States'\n",
      " 'United States, China, Colombia' 'United States, Spain, Italy'\n",
      " 'Norway, United Kingdom, France, Ireland'\n",
      " 'United States, Bermuda, Ecuador' 'United Kingdom, Poland'\n",
      " 'China, Canada, United States' 'United States, Spain' 'India, Mexico'\n",
      " 'United Kingdom, West Germany' 'Pakistan, United States'\n",
      " 'Israel, Sweden, Germany, Netherlands' 'Chile, United States, France'\n",
      " 'France, Morocco' 'United Kingdom, Germany'\n",
      " 'United Kingdom, France, Germany' 'Georgia, Germany, France'\n",
      " 'Switzerland, France' 'Turkey, South Korea' 'Italy, India'\n",
      " 'United States, Botswana' 'United States, Colombia, Mexico'\n",
      " 'Chile, Argentina, France, Spain, United States'\n",
      " 'Puerto Rico, United States, Colombia' 'United States, Nigeria'\n",
      " 'Germany, United States, France' 'Spain, Germany, Denmark, United States'\n",
      " 'United Kingdom, United States, Japan' 'Netherlands, United States'\n",
      " 'United States, India, South Korea, China'\n",
      " 'Denmark, Germany, Belgium, United Kingdom, France'\n",
      " 'Denmark, Germany, Belgium, United Kingdom, France, Sweden'\n",
      " 'France, Switzerland, Spain, United States, United Arab Emirates'\n",
      " 'Norway, Sweden' 'United States, Ireland, United Kingdom, India'\n",
      " 'United Kingdom, Singapore' 'Spain, Germany' 'Germany, Czech Republic'\n",
      " 'Denmark, Brazil, France, Portugal, Sweden'\n",
      " 'Brazil, India, China, United States' 'India, Germany, Austria'\n",
      " 'Italy, United States' 'Canada, Luxembourg'\n",
      " 'Denmark, France, United States, Sweden' 'Australia, Iraq'\n",
      " 'China, Morocco, Hong Kong' 'Spain, Colombia'\n",
      " 'Australia, United Arab Emirates' 'Canada, United States, Germany'\n",
      " 'France, Belgium, Italy' 'United Kingdom, Thailand' 'Venezuela, Colombia'\n",
      " 'France, Luxembourg, Canada' 'India, Nepal' 'Mexico, Spain'\n",
      " 'Colombia, United States' 'Colombia, Mexico'\n",
      " 'France, Germany, Czech Republic, Belgium'\n",
      " 'Germany, China, United Kingdom' 'Canada, Hungary, United States'\n",
      " 'Pakistan, United Arab Emirates' 'France, United Kingdom'\n",
      " 'Spain, United Kingdom, United States' 'United Kingdom, Kenya'\n",
      " 'South Africa, Nigeria' 'United States, Norway, Canada'\n",
      " 'Canada, United States, Ireland'\n",
      " 'Switzerland, Vatican City, Italy, Germany, France'\n",
      " 'Portugal, France, Poland, United States' 'Ghana'\n",
      " 'United States, France, Japan' 'France, Japan, United States'\n",
      " 'United States, New Zealand' 'United States, New Zealand, Japan'\n",
      " 'United States, Netherlands, Japan, France' 'India, Switzerland'\n",
      " 'Canada, India' 'Canada, Japan, United States' 'United States, Morocco'\n",
      " 'United States, Mexico, Spain, Malta' 'Canada, Nigeria'\n",
      " 'Iceland, Sweden, Belgium' 'Norway, Denmark'\n",
      " 'South Korea, Canada, United States, China' 'Singapore, Japan, France'\n",
      " 'Canada, Mexico, Germany, South Africa'\n",
      " 'United Kingdom, United States, Canada'\n",
      " 'Germany, France, United States, Canada, United Kingdom'\n",
      " 'Peru, Germany, Norway' 'Singapore, Malaysia' 'Ireland, Canada'\n",
      " 'United Kingdom, Ireland' 'Finland' 'United States, Uruguay'\n",
      " 'India, Canada' 'Ireland, Canada, United Kingdom, United States'\n",
      " 'China, Spain, South Korea, United States'\n",
      " 'United States, Germany, Australia' 'Spain, Belgium' 'Senegal'\n",
      " 'Israel, Germany, France' 'Australia, France, Ireland'\n",
      " 'South Africa, Angola' 'Austria, Czech Republic' 'Australia, India'\n",
      " 'United Kingdom, Canada, United States, Germany'\n",
      " 'Brazil, Netherlands, United States, Colombia, Austria, Germany'\n",
      " 'United States, United Kingdom, Canada, Japan'\n",
      " 'Sweden, United Kingdom, Finland' 'Hong Kong, Taiwan'\n",
      " 'United States, United Kingdom, Spain, South Korea'\n",
      " 'South Korea, China, United States' 'Guatemala' 'Portugal, Spain'\n",
      " 'Ukraine' 'United States, United Kingdom, Canada, China'\n",
      " 'Italy, South Africa, West Germany, Australia, United States'\n",
      " 'United Kingdom, Finland, Germany' 'South Africa, United States, Germany'\n",
      " 'United States, Germany, United Kingdom, Australia' 'India, Soviet Union'\n",
      " 'Italy, France, Switzerland' 'Canada, France, United States'\n",
      " 'United States, Colombia' 'India, Malaysia' 'Singapore, United States'\n",
      " 'Switzerland, United States' 'Thailand, Canada, United States'\n",
      " 'France, Canada, Belgium' 'China, Hong Kong, United States'\n",
      " 'United Kingdom, New Zealand'\n",
      " 'United Kingdom, France, Germany, United States'\n",
      " 'South Korea, Czech Republic' 'Czech Republic, United Kingdom, France'\n",
      " 'Australia, United Kingdom, Canada'\n",
      " 'India, United Kingdom, China, Canada, Japan, South Korea, United States'\n",
      " 'Canada, United Kingdom, United States' 'United States, Hungary'\n",
      " 'Jamaica, United States' 'Switzerland'\n",
      " 'Australia, United Kingdom, United States, New Zealand, Italy, France'\n",
      " 'France, United States, Canada' 'Australia, United Kingdom'\n",
      " 'United States, Denmark'\n",
      " 'United Kingdom, France, Canada, Belgium, United States'\n",
      " 'Denmark, United Kingdom, Sweden' 'Belarus'\n",
      " 'Indonesia, South Korea, Singapore' 'Cyprus'\n",
      " 'Lebanon, United States, United Arab Emirates' 'United States, Hong Kong'\n",
      " 'United States, Kazakhstan'\n",
      " 'Argentina, France, United States, Germany, Qatar'\n",
      " 'United States, Germany, United Kingdom'\n",
      " 'United States, Germany, United Kingdom, Italy'\n",
      " 'United States, New Zealand, United Kingdom' 'Finland, United States'\n",
      " 'Spain, France, Uruguay' 'France, Belgium, United States'\n",
      " 'France, Canada, United States' 'Spain, Argentina'\n",
      " 'France, Senegal, Belgium' 'United Kingdom, India, United States'\n",
      " 'Chile, France' 'United States, United Kingdom, France, Germany, Japan'\n",
      " 'Canada, Norway' 'United States, Hungary, Ireland, Canada'\n",
      " 'Canada, France' 'United States, Canada, China' 'United Kingdom, Malawi'\n",
      " 'Ireland, Canada, Luxembourg, United States, United Kingdom, Philippines, India'\n",
      " 'United States, Czech Republic, United Kingdom' 'Ghana, United States'\n",
      " 'Israel, Germany' 'Spain, Mexico' 'Mexico, France'\n",
      " 'Brazil, United Kingdom' 'Romania, France, Switzerland, Germany'\n",
      " 'France, Belgium, Luxembourg, Romania, Canada, United States'\n",
      " 'Israel, Germany, Poland, Luxembourg, Belgium, France, United States'\n",
      " 'France, Germany' 'United States, Malta, France, United Kingdom'\n",
      " 'United Kingdom, United States, Germany, Denmark, Belgium, Japan'\n",
      " 'Austria, United States' 'Canada, Australia' 'Greece, United States'\n",
      " 'United Kingdom, France, Belgium, Canada, United States'\n",
      " 'Argentina, Chile' 'Czech Republic, Slovakia'\n",
      " 'Bulgaria, United States, Spain, Canada'\n",
      " 'United Kingdom, Germany, United States, France'\n",
      " 'United Kingdom, Lithuania' 'Egypt, France' 'Spain, France, Canada'\n",
      " 'United States, Greece, United Kingdom'\n",
      " 'United Kingdom, China, United States, India' 'Sweden, Netherlands'\n",
      " 'Taiwan, Malaysia' 'United States, Sweden, Norway'\n",
      " 'United Kingdom, United States, Morocco'\n",
      " 'United States, United Kingdom, Morocco' 'United States, China, Canada'\n",
      " 'Spain, Canada, United States' 'Canada, Belgium'\n",
      " 'United States, India, United Arab Emirates'\n",
      " 'United Kingdom, Canada, France, United States'\n",
      " 'Spain, Thailand, United States' 'Canada, Germany, South Africa'\n",
      " 'India, Germany, France' 'United States, Israel, United Kingdom, Canada'\n",
      " 'United Kingdom, Hungary, Australia' 'Lebanon, France'\n",
      " 'Belgium, Ireland, Netherlands, Germany, Afghanistan' 'Chile, Peru'\n",
      " 'Paraguay, Argentina'\n",
      " 'United Kingdom, Italy, Israel, Peru, United States' 'Norway, Germany'\n",
      " 'France, Canada, Italy, United States, China'\n",
      " 'Netherlands, Germany, Denmark, United Kingdom' 'France, Lebanon'\n",
      " 'Ireland, United Kingdom, Greece, France, Netherlands'\n",
      " 'Denmark, Indonesia, Finland, Norway, United Kingdom, Israel, France, United States, Germany, Netherlands'\n",
      " 'New Zealand, United States' 'Argentina, Uruguay, Spain, France'\n",
      " 'United Kingdom, Germany, United States'\n",
      " 'United States, Australia, South Africa, United Kingdom' 'Italy, Belgium'\n",
      " 'United States, Germany, Mexico' 'Chile, Spain, Argentina, Germany'\n",
      " 'Germany, Italy' 'France, United States, Mexico'\n",
      " 'United Kingdom, Nigeria' 'Belgium, United Kingdom, United States'\n",
      " 'Australia, New Zealand' 'Spain, Switzerland' 'Indonesia, United States'\n",
      " 'Canada, South Korea, United States' 'France, Iran, United States'\n",
      " 'Croatia' 'Somalia, Kenya, Sudan, South Africa, United States'\n",
      " 'Ireland, France, Iceland, United States, Mexico, Belgium, United Kingdom, Hong Kong'\n",
      " 'Spain, United States' 'United States, Canada, Japan, Panama'\n",
      " 'United Kingdom, Spain, Belgium' 'Serbia, South Korea, Slovenia'\n",
      " 'Denmark, United Kingdom, South Africa, Sweden, Belgium'\n",
      " 'Australia, United Kingdom, United Arab Emirates, Canada'\n",
      " 'Germany, Canada, United States' 'Ireland, South Africa'\n",
      " 'Canada, Germany' 'Spain, France, Canada, United States'\n",
      " 'India, United Kingdom, Canada, United States'\n",
      " 'United States, Belgium, Canada' 'United States, France, Canada, Belgium'\n",
      " 'United Kingdom, Egypt, United States' 'Hong Kong, China, Singapore'\n",
      " 'United Kingdom, Germany, United Arab Emirates, New Zealand'\n",
      " 'United Kingdom, France, United States, Belgium, Luxembourg, China, Germany'\n",
      " 'United Kingdom, Spain, United States, Germany'\n",
      " 'United States, France, Italy, United Kingdom' 'Georgia'\n",
      " 'United States, United Kingdom, India'\n",
      " 'Ireland, Canada, United States, United Kingdom'\n",
      " 'New Zealand, United Kingdom, Australia' 'United States, Poland'\n",
      " 'United Arab Emirates, Romania' 'Japan, Canada, United States'\n",
      " 'United Kingdom, Australia, Canada, United States' 'Mexico, Netherlands'\n",
      " 'Spain, Italy, Argentina' 'Germany, United States, Italy'\n",
      " 'United States, Venezuela' 'United Kingdom, Canada, Japan'\n",
      " 'Canada, Japan, Netherlands'\n",
      " 'United Kingdom, United States, Czech Republic'\n",
      " 'United Kingdom, China, United States' 'United Kingdom, Brazil, Germany'\n",
      " 'Thailand, China, United States'\n",
      " 'United Kingdom, Namibia, South Africa, Zimbabwe, United States'\n",
      " 'United Kingdom, South Africa, Australia, United States'\n",
      " 'Canada, United States, India, United Kingdom'\n",
      " 'United States, Brazil, South Korea, Mexico, Japan, Germany'\n",
      " 'Australia, Armenia, Japan, Jordan, Mexico, Mongolia, New Zealand, Philippines, South Africa, Sweden, United States, Uruguay'\n",
      " 'France, Lebanon, United Kingdom' 'United Kingdom, Jordan, Qatar, Iran'\n",
      " 'Switzerland, United Kingdom, United States' 'Belgium, Netherlands'\n",
      " 'United Kingdom, Germany, France, United States'\n",
      " 'Romania, United Kingdom' 'Lebanon, Qatar'\n",
      " 'United Kingdom, India, Sweden' 'United Kingdom, Belgium'\n",
      " 'India, Pakistan' 'United Kingdom,'\n",
      " 'Saudi Arabia, Netherlands, Germany, Jordan, United Arab Emirates, United States'\n",
      " 'France, Brazil, Spain, Belgium'\n",
      " 'United States, Brazil, India, Uganda, China'\n",
      " 'United Kingdom, Ireland, United States' 'Lebanon, Canada, France'\n",
      " 'India, Australia' 'Austria, Iraq, United States'\n",
      " 'France, Norway, Lebanon, Belgium'\n",
      " 'United Kingdom, France, United States, Belgium'\n",
      " 'Saudi Arabia, United Arab Emirates'\n",
      " 'Peru, United States, United Kingdom'\n",
      " 'Germany, United States, United Kingdom, Canada'\n",
      " 'Uruguay, Argentina, Germany, Spain' 'France, Luxembourg, United States'\n",
      " 'United Kingdom, Spain'\n",
      " 'Canada, India, Thailand, United States, United Arab Emirates'\n",
      " 'Romania, Bulgaria, Hungary' 'United States, East Germany, West Germany'\n",
      " 'France, Netherlands, South Africa, Finland'\n",
      " 'United Kingdom, Ukraine, United States'\n",
      " 'Norway, Denmark, Netherlands, Sweden' 'Egypt, Austria, United States'\n",
      " 'Russia, Spain' 'Namibia' 'Croatia, Slovenia, Serbia, Montenegro'\n",
      " 'Mexico, Finland' 'Japan, Canada'\n",
      " 'United States, France, South Korea, Indonesia'\n",
      " 'United Arab Emirates, Jordan'\n",
      " 'Sweden, Czech Republic, United Kingdom, Denmark, Netherlands'\n",
      " 'Australia, Canada' 'Uruguay, Spain, Mexico' 'South Korea, China'\n",
      " 'United States, Canada, Indonesia, United Kingdom, China, Singapore'\n",
      " 'India, Iran' 'South Africa, China, United States' 'Turkey, India'\n",
      " 'Philippines, Qatar' 'Ireland, Luxembourg, Belgium'\n",
      " 'Saudi Arabia, Syria, Egypt, Lebanon, Kuwait' 'Russia, United States'\n",
      " 'United Kingdom, Russia, United States' 'United States, France, Serbia'\n",
      " 'Germany, Jordan, Netherlands' 'Argentina, United States'\n",
      " 'France, Belgium, Spain']\n",
      "date_added ------ ['2020-08-14T00:00:00.000000000' '2017-12-15T00:00:00.000000000'\n",
      " '2019-01-05T00:00:00.000000000' ... '2017-07-02T00:00:00.000000000'\n",
      " '2017-08-09T00:00:00.000000000' '2017-08-28T00:00:00.000000000']\n",
      "release_year ------ [2020 2008 2016 2017 2013 1999 2010 2005 2018 2009 2007 1991 2015 1973\n",
      " 2014 2011 2019 2001 2006 1967 2003 2012 1989 1960 1981 1958 1998 1992\n",
      " 2004 2021 1976 2002 2000 1996 1997 1988 1994 1968 1975 1993 1977 1956\n",
      " 1971 1990 1985 1982 1965 1984 1983 1987 1979 1986 1978 1980 1995 1974\n",
      " 1945 1972 1946 1962 1966 1925 1942 1969 1955 1963 1964 1954 1970 1944\n",
      " 1947 1959 1943]\n",
      "rating ------ ['TV-MA' 'TV-PG' 'R' 'TV-G' 'PG-13' 'TV-14' 'TV-Y' 'PG' 'TV-Y7' 'NR' 'G'\n",
      " 'TV-Y7-FV' 'UR' 'NC-17']\n",
      "duration ------ [  4 143 124  90   1  94 112 129  85 108  60 164  97  47  99  83 168 116\n",
      "  53 106 130 161 111   6  26  92  93 102  89 123  86  88 126 117  91   3\n",
      "  79   2  96  70  87  74 139  84 100  80 105 114  63  51   5  81  77  61\n",
      " 110 103 118  95 133 120 155  14  73  98 119  76 104 148  78 128 122 177\n",
      " 135 127 151 125 101  11  22   9  46 142 131 113  67  82 145 141  75 107\n",
      " 156 132 166 121 115  71  62  25 146  66  55  65 137  59  56  34 158 109\n",
      "  69 172   7   8  57  28  13  52  45  12 176  40  58 153  10  64 149  43\n",
      "  68 140  50  29 136 157  23 165 185 174 154 134 200 144  21 169  27  42\n",
      " 162 170  48 196  49 163  20  54 150  33  72 181 204  44  32  35 167  30\n",
      "  16 138 179 193  24 147 214  17  38 173 192 209 171 187  41 160 182 224\n",
      "  37 233 189 152  19  15 208 237  31 159 178 230 194 228 195  18 186 205\n",
      " 190  36 201 253 180 203 191 312]\n",
      "genres ------ ['International TV Shows, TV Dramas, TV Sci-Fi & Fantasy'\n",
      " 'Horror Movies, International Movies, Thrillers'\n",
      " 'Dramas, International Movies, Sports Movies' 'Comedies'\n",
      " 'British TV Shows, Docuseries, Science & Nature TV'\n",
      " 'Independent Movies, Thrillers' 'Action & Adventure, Comedies'\n",
      " 'Dramas, Independent Movies, Romantic Movies'\n",
      " 'Comedies, International Movies, Romantic Movies' 'Documentaries'\n",
      " 'Anime Series, International TV Shows'\n",
      " 'Documentaries, International Movies, Music & Musicals'\n",
      " 'Music & Musicals, Stand-Up Comedy'\n",
      " 'Comedies, Dramas, International Movies' 'Stand-Up Comedy' \"Kids' TV\"\n",
      " 'TV Shows' 'Children & Family Movies'\n",
      " 'Children & Family Movies, Comedies'\n",
      " 'Classic Movies, Dramas, International Movies' 'Docuseries'\n",
      " 'Documentaries, Faith & Spirituality'\n",
      " 'Documentaries, International Movies, Sports Movies'\n",
      " 'Docuseries, International TV Shows, Spanish-Language TV Shows'\n",
      " 'Action & Adventure, Comedies, International Movies'\n",
      " 'Dramas, International Movies'\n",
      " 'Dramas, Independent Movies, International Movies' 'TV Comedies' 'Movies'\n",
      " 'Dramas, Independent Movies, Sci-Fi & Fantasy'\n",
      " 'International TV Shows, Romantic TV Shows, Spanish-Language TV Shows'\n",
      " 'Comedies, International Movies'\n",
      " 'Comedies, Independent Movies, International Movies' 'Dramas'\n",
      " 'Reality TV' 'TV Comedies, TV Dramas'\n",
      " 'Action & Adventure, Classic Movies, Dramas'\n",
      " 'International TV Shows, TV Dramas' \"Kids' TV, TV Comedies\"\n",
      " 'Action & Adventure, Dramas, International Movies'\n",
      " 'Crime TV Shows, International TV Shows, Reality TV'\n",
      " 'British TV Shows, TV Comedies'\n",
      " 'Crime TV Shows, International TV Shows, TV Dramas'\n",
      " 'International TV Shows, TV Comedies'\n",
      " 'Documentaries, International Movies' 'Documentaries, Sports Movies'\n",
      " 'Action & Adventure, Comedies, Dramas'\n",
      " 'Dramas, International Movies, Music & Musicals'\n",
      " 'British TV Shows, Docuseries, International TV Shows'\n",
      " \"British TV Shows, Kids' TV\" 'Dramas, Independent Movies, Thrillers'\n",
      " 'Comedies, Romantic Movies' 'International Movies, Thrillers'\n",
      " 'Dramas, International Movies, Romantic Movies' 'Action & Adventure'\n",
      " 'International TV Shows, Korean TV Shows, Romantic TV Shows'\n",
      " 'Docuseries, Science & Nature TV'\n",
      " 'Dramas, Romantic Movies, Sports Movies' 'Crime TV Shows, Docuseries'\n",
      " 'Comedies, Independent Movies' 'Docuseries, Spanish-Language TV Shows'\n",
      " 'Comedies, International Movies, Music & Musicals'\n",
      " \"Kids' TV, TV Action & Adventure, TV Sci-Fi & Fantasy\"\n",
      " 'Crime TV Shows, TV Dramas, TV Thrillers'\n",
      " 'Documentaries, International Movies, LGBTQ Movies'\n",
      " 'Dramas, Sports Movies' 'Dramas, Thrillers'\n",
      " 'Romantic TV Shows, TV Dramas' 'Action & Adventure, Sci-Fi & Fantasy'\n",
      " 'International TV Shows, Reality TV'\n",
      " 'British TV Shows, Crime TV Shows, International TV Shows'\n",
      " 'International TV Shows, Romantic TV Shows, TV Comedies'\n",
      " 'Dramas, Independent Movies' 'Action & Adventure, International Movies'\n",
      " 'Comedies, Dramas, Independent Movies'\n",
      " 'Horror Movies, International Movies'\n",
      " 'Stand-Up Comedy & Talk Shows, TV Comedies' 'Dramas, Romantic Movies'\n",
      " 'Action & Adventure, Independent Movies'\n",
      " 'Crime TV Shows, International TV Shows, Korean TV Shows'\n",
      " 'Classic Movies, Dramas, Romantic Movies'\n",
      " 'Dramas, International Movies, LGBTQ Movies' 'Comedies, LGBTQ Movies'\n",
      " 'Horror Movies, Thrillers'\n",
      " 'British TV Shows, International TV Shows, Reality TV'\n",
      " 'Dramas, International Movies, Thrillers'\n",
      " 'International TV Shows, Spanish-Language TV Shows, TV Dramas'\n",
      " 'International TV Shows, TV Comedies, TV Dramas'\n",
      " 'British TV Shows, International TV Shows, TV Dramas'\n",
      " 'Horror Movies, Independent Movies, Thrillers'\n",
      " 'Crime TV Shows, Romantic TV Shows, Spanish-Language TV Shows'\n",
      " 'Comedies, Dramas' 'Children & Family Movies, Comedies, Dramas'\n",
      " 'Children & Family Movies, Dramas, Romantic Movies'\n",
      " 'International TV Shows, TV Dramas, Teen TV Shows'\n",
      " 'Cult Movies, Horror Movies' 'Children & Family Movies, Dramas'\n",
      " 'Comedies, Dramas, Romantic Movies' 'Documentaries, LGBTQ Movies'\n",
      " 'Crime TV Shows, Docuseries, International TV Shows'\n",
      " \"Kids' TV, TV Thrillers\" 'Dramas, LGBTQ Movies, Romantic Movies'\n",
      " 'Anime Series, International TV Shows, Teen TV Shows'\n",
      " 'Classic Movies, Cult Movies, Horror Movies'\n",
      " 'Horror Movies, Sci-Fi & Fantasy, Thrillers'\n",
      " 'Anime Series, Crime TV Shows, TV Thrillers'\n",
      " 'Anime Series, TV Horror, TV Thrillers' 'Classic Movies, Dramas'\n",
      " 'British TV Shows, Crime TV Shows, Docuseries'\n",
      " 'Action & Adventure, International Movies, Thrillers'\n",
      " 'Anime Series, Teen TV Shows'\n",
      " 'Children & Family Movies, Dramas, International Movies'\n",
      " 'Dramas, Faith & Spirituality, International Movies'\n",
      " 'Comedies, International Movies, Sci-Fi & Fantasy'\n",
      " 'TV Horror, TV Mysteries, Teen TV Shows' 'Action & Adventure, Dramas'\n",
      " 'Children & Family Movies, Classic Movies'\n",
      " 'TV Dramas, TV Sci-Fi & Fantasy' 'Comedies, Cult Movies, Dramas'\n",
      " 'Reality TV, Teen TV Shows' 'Docuseries, Reality TV, Science & Nature TV'\n",
      " 'Documentaries, Music & Musicals' 'Docuseries, Reality TV, Teen TV Shows'\n",
      " 'Classic & Cult TV, TV Comedies'\n",
      " 'International TV Shows, Korean TV Shows, Reality TV'\n",
      " 'Docuseries, Reality TV'\n",
      " 'International TV Shows, Stand-Up Comedy & Talk Shows, TV Comedies'\n",
      " 'British TV Shows, International TV Shows, Romantic TV Shows'\n",
      " 'Comedies, Independent Movies, Thrillers'\n",
      " 'International TV Shows, Korean TV Shows, TV Dramas'\n",
      " 'International TV Shows, TV Dramas, TV Thrillers' 'Anime Features'\n",
      " 'TV Horror, TV Mysteries, TV Sci-Fi & Fantasy'\n",
      " 'Children & Family Movies, Classic Movies, Comedies'\n",
      " 'Crime TV Shows, International TV Shows, TV Action & Adventure'\n",
      " 'Comedies, Faith & Spirituality, Romantic Movies'\n",
      " 'Comedies, International Movies, Thrillers'\n",
      " 'International Movies, Romantic Movies'\n",
      " 'Docuseries, International TV Shows, Science & Nature TV'\n",
      " 'Classic Movies, Comedies, International Movies'\n",
      " 'International TV Shows, Romantic TV Shows, TV Dramas'\n",
      " 'Action & Adventure, Horror Movies, Sci-Fi & Fantasy'\n",
      " 'British TV Shows, Docuseries' 'Docuseries, International TV Shows'\n",
      " 'Action & Adventure, Classic Movies'\n",
      " 'TV Dramas, TV Sci-Fi & Fantasy, TV Thrillers'\n",
      " 'Comedies, Sci-Fi & Fantasy' 'Action & Adventure, Cult Movies, Dramas'\n",
      " 'Children & Family Movies, Comedies, Sci-Fi & Fantasy'\n",
      " 'International TV Shows, Spanish-Language TV Shows, TV Comedies'\n",
      " 'TV Action & Adventure, TV Dramas'\n",
      " 'Crime TV Shows, International TV Shows, Spanish-Language TV Shows'\n",
      " \"Kids' TV, Korean TV Shows\"\n",
      " 'Action & Adventure, Independent Movies, International Movies'\n",
      " 'Children & Family Movies, Dramas, Sports Movies'\n",
      " 'TV Action & Adventure, TV Dramas, TV Sci-Fi & Fantasy'\n",
      " 'Dramas, Faith & Spirituality, Independent Movies'\n",
      " 'Docuseries, TV Comedies' 'Dramas, Independent Movies, LGBTQ Movies'\n",
      " 'TV Dramas, TV Thrillers'\n",
      " 'Action & Adventure, Dramas, Independent Movies'\n",
      " 'Independent Movies, Sci-Fi & Fantasy, Thrillers' 'Thrillers'\n",
      " 'Dramas, International Movies, Sci-Fi & Fantasy'\n",
      " 'Documentaries, Faith & Spirituality, Music & Musicals'\n",
      " 'Dramas, Sci-Fi & Fantasy' 'Romantic TV Shows, TV Comedies'\n",
      " 'British TV Shows, International TV Shows, TV Comedies'\n",
      " \"Kids' TV, Spanish-Language TV Shows\"\n",
      " \"British TV Shows, Kids' TV, TV Thrillers\"\n",
      " 'Crime TV Shows, TV Dramas, TV Mysteries'\n",
      " 'Action & Adventure, International Movies, Romantic Movies'\n",
      " 'Action & Adventure, Romantic Movies' 'Horror Movies'\n",
      " 'International TV Shows, TV Dramas, TV Horror'\n",
      " 'British TV Shows, Classic & Cult TV, TV Comedies'\n",
      " 'Action & Adventure, Horror Movies, International Movies'\n",
      " 'Crime TV Shows, TV Dramas' 'Children & Family Movies, Documentaries'\n",
      " \"British TV Shows, Kids' TV, TV Comedies\"\n",
      " 'Horror Movies, Independent Movies, International Movies'\n",
      " 'Horror Movies, Independent Movies, Sci-Fi & Fantasy'\n",
      " 'TV Sci-Fi & Fantasy, TV Thrillers' 'Horror Movies, Sci-Fi & Fantasy'\n",
      " 'International TV Shows, TV Horror, TV Thrillers'\n",
      " 'Romantic TV Shows, TV Comedies, TV Dramas'\n",
      " 'Reality TV, Romantic TV Shows'\n",
      " 'International TV Shows, Reality TV, Romantic TV Shows'\n",
      " 'Classic Movies, Dramas, Independent Movies'\n",
      " 'Romantic TV Shows, TV Dramas, Teen TV Shows'\n",
      " 'Horror Movies, Independent Movies'\n",
      " 'TV Action & Adventure, TV Comedies, TV Horror'\n",
      " 'TV Action & Adventure, TV Sci-Fi & Fantasy'\n",
      " 'Children & Family Movies, Comedies, Music & Musicals'\n",
      " 'British TV Shows, TV Horror, TV Thrillers'\n",
      " 'Independent Movies, International Movies, Thrillers'\n",
      " 'Classic Movies, Cult Movies, Dramas'\n",
      " 'International Movies, Sports Movies' 'International Movies'\n",
      " 'Anime Series, International TV Shows, TV Horror'\n",
      " 'Action & Adventure, International Movies, Sci-Fi & Fantasy'\n",
      " 'International TV Shows' 'Dramas, Music & Musicals, Sports Movies'\n",
      " 'International TV Shows, Spanish-Language TV Shows, TV Action & Adventure'\n",
      " 'International Movies, Music & Musicals, Romantic Movies'\n",
      " 'Stand-Up Comedy & Talk Shows' \"Anime Series, Kids' TV\"\n",
      " 'International TV Shows, TV Dramas, TV Mysteries'\n",
      " 'Cult Movies, Dramas, International Movies'\n",
      " 'TV Action & Adventure, TV Comedies, TV Sci-Fi & Fantasy'\n",
      " 'British TV Shows, Reality TV' 'TV Dramas'\n",
      " 'Children & Family Movies, Music & Musicals'\n",
      " 'Action & Adventure, International Movies, Music & Musicals'\n",
      " 'Action & Adventure, Documentaries, International Movies'\n",
      " 'Reality TV, Science & Nature TV' 'Dramas, Faith & Spirituality'\n",
      " 'Comedies, Horror Movies'\n",
      " 'Action & Adventure, Anime Features, Children & Family Movies'\n",
      " \"Kids' TV, TV Action & Adventure\"\n",
      " 'Children & Family Movies, Comedies, Romantic Movies'\n",
      " \"Kids' TV, TV Action & Adventure, TV Comedies\"\n",
      " 'Anime Series, Crime TV Shows, International TV Shows'\n",
      " 'Children & Family Movies, Sci-Fi & Fantasy' \"Crime TV Shows, Kids' TV\"\n",
      " 'International Movies, Music & Musicals, Thrillers'\n",
      " 'Crime TV Shows, Spanish-Language TV Shows, TV Action & Adventure'\n",
      " \"Classic & Cult TV, Kids' TV, Spanish-Language TV Shows\"\n",
      " 'Romantic TV Shows, Spanish-Language TV Shows, TV Dramas'\n",
      " 'Children & Family Movies, Documentaries, International Movies'\n",
      " 'Action & Adventure, Cult Movies, International Movies'\n",
      " 'International Movies, Sci-Fi & Fantasy'\n",
      " 'International TV Shows, Romantic TV Shows, Teen TV Shows'\n",
      " 'Sports Movies' 'Crime TV Shows, Spanish-Language TV Shows, TV Dramas'\n",
      " 'Action & Adventure, Children & Family Movies, Dramas'\n",
      " 'Dramas, Romantic Movies, Sci-Fi & Fantasy'\n",
      " 'Action & Adventure, Dramas, Sci-Fi & Fantasy'\n",
      " 'International TV Shows, TV Mysteries, TV Thrillers'\n",
      " 'Anime Series, International TV Shows, TV Thrillers'\n",
      " 'Comedies, Music & Musicals'\n",
      " 'Horror Movies, International Movies, Sci-Fi & Fantasy'\n",
      " 'Comedies, Cult Movies, International Movies'\n",
      " 'Comedies, Music & Musicals, Romantic Movies'\n",
      " 'Children & Family Movies, Comedies, Faith & Spirituality'\n",
      " 'Action & Adventure, Anime Features, International Movies'\n",
      " 'Comedies, International Movies, Sports Movies'\n",
      " 'TV Comedies, TV Dramas, Teen TV Shows'\n",
      " 'Crime TV Shows, Docuseries, TV Mysteries'\n",
      " 'Crime TV Shows, Docuseries, Science & Nature TV'\n",
      " 'Action & Adventure, Anime Features, Sci-Fi & Fantasy'\n",
      " 'Crime TV Shows, International TV Shows, TV Comedies'\n",
      " 'International Movies, Music & Musicals' 'Comedies, Cult Movies'\n",
      " 'Comedies, International Movies, LGBTQ Movies'\n",
      " 'British TV Shows, Crime TV Shows, TV Dramas'\n",
      " 'Classic Movies, Comedies, Cult Movies'\n",
      " 'International Movies, Romantic Movies, Thrillers'\n",
      " 'Classic Movies, Dramas, Music & Musicals'\n",
      " 'Cult Movies, Horror Movies, Thrillers' 'Anime Features, Romantic Movies'\n",
      " 'Dramas, Independent Movies, Sports Movies'\n",
      " 'Comedies, Dramas, Music & Musicals'\n",
      " 'Anime Features, International Movies, Romantic Movies'\n",
      " 'Dramas, Independent Movies, Music & Musicals'\n",
      " 'Documentaries, Faith & Spirituality, International Movies'\n",
      " 'Action & Adventure, Classic Movies, Sci-Fi & Fantasy'\n",
      " 'International TV Shows, Stand-Up Comedy & Talk Shows'\n",
      " 'Action & Adventure, Comedies, Independent Movies'\n",
      " \"British TV Shows, Kids' TV, TV Dramas\"\n",
      " 'Anime Features, International Movies'\n",
      " 'Classic & Cult TV, TV Action & Adventure, TV Horror'\n",
      " 'International TV Shows, TV Action & Adventure, TV Dramas'\n",
      " 'Children & Family Movies, Dramas, Faith & Spirituality'\n",
      " 'Dramas, LGBTQ Movies' 'TV Action & Adventure, TV Comedies'\n",
      " 'Action & Adventure, Anime Features, Horror Movies'\n",
      " 'Crime TV Shows, International TV Shows, Romantic TV Shows'\n",
      " 'Crime TV Shows, TV Comedies, TV Dramas'\n",
      " 'Classic Movies, Comedies, Music & Musicals'\n",
      " 'Comedies, Horror Movies, International Movies'\n",
      " \"Kids' TV, Spanish-Language TV Shows, Teen TV Shows\"\n",
      " 'International TV Shows, TV Horror, TV Mysteries'\n",
      " 'Music & Musicals, Romantic Movies' 'Independent Movies'\n",
      " 'Crime TV Shows, International TV Shows, TV Mysteries'\n",
      " 'Action & Adventure, Thrillers' 'Comedies, Sports Movies'\n",
      " 'TV Dramas, Teen TV Shows'\n",
      " 'Crime TV Shows, TV Action & Adventure, TV Dramas'\n",
      " \"Kids' TV, TV Dramas, Teen TV Shows\"\n",
      " 'Anime Features, Children & Family Movies, International Movies'\n",
      " 'Anime Series, Crime TV Shows' \"Kids' TV, TV Dramas\"\n",
      " 'British TV Shows, TV Comedies, TV Dramas'\n",
      " 'TV Horror, TV Mysteries, TV Thrillers'\n",
      " 'Crime TV Shows, TV Action & Adventure, TV Comedies'\n",
      " 'Action & Adventure, Children & Family Movies, Independent Movies'\n",
      " 'TV Comedies, Teen TV Shows' 'Reality TV, TV Horror, TV Thrillers'\n",
      " 'Documentaries, Horror Movies'\n",
      " 'Classic & Cult TV, TV Horror, TV Mysteries'\n",
      " 'Crime TV Shows, TV Action & Adventure'\n",
      " 'Action & Adventure, Cult Movies, Sci-Fi & Fantasy'\n",
      " 'Anime Series, International TV Shows, Romantic TV Shows'\n",
      " 'Dramas, Music & Musicals, Romantic Movies'\n",
      " 'Action & Adventure, Comedies, Romantic Movies'\n",
      " 'Comedies, Dramas, Faith & Spirituality'\n",
      " 'Children & Family Movies, Comedies, International Movies'\n",
      " 'Comedies, Faith & Spirituality, International Movies' 'Romantic Movies'\n",
      " 'Dramas, Horror Movies, Sci-Fi & Fantasy'\n",
      " 'International TV Shows, Korean TV Shows, TV Comedies'\n",
      " 'International TV Shows, Korean TV Shows, Stand-Up Comedy & Talk Shows'\n",
      " 'Comedies, Independent Movies, LGBTQ Movies'\n",
      " 'International Movies, Sci-Fi & Fantasy, Thrillers'\n",
      " 'Docuseries, Science & Nature TV, TV Comedies'\n",
      " 'TV Comedies, TV Dramas, TV Sci-Fi & Fantasy' 'Dramas, Music & Musicals'\n",
      " 'Dramas, Faith & Spirituality, Romantic Movies'\n",
      " 'International TV Shows, TV Action & Adventure, TV Sci-Fi & Fantasy'\n",
      " 'Reality TV, TV Comedies' \"Docuseries, Kids' TV, Science & Nature TV\"\n",
      " 'Dramas, Sci-Fi & Fantasy, Thrillers'\n",
      " 'Action & Adventure, Sci-Fi & Fantasy, Thrillers'\n",
      " 'Action & Adventure, Children & Family Movies, Sci-Fi & Fantasy'\n",
      " 'Action & Adventure, Children & Family Movies, Classic Movies'\n",
      " 'Horror Movies, International Movies, Romantic Movies'\n",
      " \"Crime TV Shows, Kids' TV, TV Comedies\" 'TV Action & Adventure'\n",
      " 'International TV Shows, Korean TV Shows, TV Action & Adventure'\n",
      " 'TV Comedies, TV Dramas, TV Horror'\n",
      " 'British TV Shows, International TV Shows, Stand-Up Comedy & Talk Shows'\n",
      " 'Dramas, Music & Musicals, Sci-Fi & Fantasy'\n",
      " 'Spanish-Language TV Shows, TV Dramas' 'Documentaries, Stand-Up Comedy'\n",
      " 'Action & Adventure, Dramas, Romantic Movies'\n",
      " 'Classic & Cult TV, TV Action & Adventure, TV Dramas'\n",
      " 'British TV Shows, TV Dramas, TV Sci-Fi & Fantasy' 'Music & Musicals'\n",
      " 'Anime Features, Music & Musicals'\n",
      " 'International TV Shows, TV Comedies, TV Sci-Fi & Fantasy'\n",
      " 'Action & Adventure, Horror Movies'\n",
      " 'British TV Shows, Reality TV, Romantic TV Shows'\n",
      " 'Classic Movies, Comedies, Dramas'\n",
      " 'Comedies, Independent Movies, Romantic Movies'\n",
      " 'Action & Adventure, Independent Movies, Sci-Fi & Fantasy'\n",
      " 'Comedies, Cult Movies, Horror Movies'\n",
      " 'Comedies, Cult Movies, Sports Movies' 'Classic Movies, Documentaries'\n",
      " 'Sci-Fi & Fantasy, Thrillers'\n",
      " 'International TV Shows, TV Action & Adventure, TV Comedies'\n",
      " 'Action & Adventure, Comedies, Cult Movies'\n",
      " 'International TV Shows, Romantic TV Shows'\n",
      " 'Classic & Cult TV, Crime TV Shows, International TV Shows'\n",
      " \"Kids' TV, Korean TV Shows, TV Comedies\"\n",
      " 'British TV Shows, Romantic TV Shows, TV Dramas'\n",
      " 'Action & Adventure, Faith & Spirituality, Sci-Fi & Fantasy'\n",
      " 'TV Dramas, TV Sci-Fi & Fantasy, Teen TV Shows'\n",
      " 'Action & Adventure, Children & Family Movies'\n",
      " 'Comedies, Dramas, LGBTQ Movies'\n",
      " 'Comedies, Horror Movies, Independent Movies'\n",
      " \"Kids' TV, TV Comedies, TV Dramas\"\n",
      " 'TV Action & Adventure, TV Dramas, TV Mysteries'\n",
      " 'Action & Adventure, Classic Movies, Cult Movies'\n",
      " 'TV Dramas, TV Horror, TV Mysteries'\n",
      " 'International Movies, Romantic Movies, Sci-Fi & Fantasy'\n",
      " 'Docuseries, International TV Shows, Reality TV'\n",
      " 'Anime Series, Romantic TV Shows, Teen TV Shows'\n",
      " 'TV Action & Adventure, TV Horror, TV Sci-Fi & Fantasy'\n",
      " 'Anime Features, Music & Musicals, Sci-Fi & Fantasy'\n",
      " 'Action & Adventure, Anime Features, Classic Movies'\n",
      " 'International TV Shows, Reality TV, Spanish-Language TV Shows'\n",
      " 'Anime Series, Romantic TV Shows'\n",
      " 'International TV Shows, Reality TV, TV Action & Adventure'\n",
      " 'TV Comedies, TV Dramas, TV Mysteries'\n",
      " 'International TV Shows, TV Action & Adventure, TV Mysteries'\n",
      " 'Docuseries, Science & Nature TV, TV Dramas'\n",
      " 'Crime TV Shows, TV Action & Adventure, TV Thrillers'\n",
      " 'Anime Features, Children & Family Movies' 'Docuseries, TV Dramas'\n",
      " 'Action & Adventure, Comedies, Sci-Fi & Fantasy'\n",
      " 'British TV Shows, International TV Shows, TV Action & Adventure'\n",
      " 'Children & Family Movies, Sports Movies'\n",
      " 'Comedies, Cult Movies, Independent Movies'\n",
      " 'Children & Family Movies, Independent Movies'\n",
      " 'Action & Adventure, Horror Movies, Independent Movies'\n",
      " 'Action & Adventure, Classic Movies, Comedies'\n",
      " 'British TV Shows, Docuseries, TV Comedies' 'Comedies, Documentaries'\n",
      " 'British TV Shows, Classic & Cult TV, International TV Shows'\n",
      " 'TV Comedies, TV Sci-Fi & Fantasy'\n",
      " 'TV Comedies, TV Sci-Fi & Fantasy, Teen TV Shows'\n",
      " 'Documentaries, Dramas, International Movies'\n",
      " 'TV Action & Adventure, TV Dramas, TV Horror'\n",
      " 'Action & Adventure, Classic Movies, International Movies' 'Anime Series'\n",
      " 'Cult Movies, Independent Movies, Thrillers'\n",
      " 'Comedies, Independent Movies, Music & Musicals'\n",
      " 'TV Action & Adventure, TV Dramas, Teen TV Shows'\n",
      " 'Romantic TV Shows, TV Action & Adventure, TV Dramas'\n",
      " 'Crime TV Shows, TV Comedies'\n",
      " 'Crime TV Shows, TV Comedies, Teen TV Shows'\n",
      " 'Classic Movies, Cult Movies, Documentaries'\n",
      " 'Children & Family Movies, Comedies, Cult Movies'\n",
      " \"Classic & Cult TV, Kids' TV, TV Comedies\"\n",
      " 'Classic Movies, Dramas, LGBTQ Movies'\n",
      " 'Comedies, Romantic Movies, Sports Movies'\n",
      " \"Anime Series, Kids' TV, TV Action & Adventure\"\n",
      " 'Action & Adventure, Children & Family Movies, Comedies'\n",
      " 'Reality TV, TV Comedies, TV Horror'\n",
      " 'Classic Movies, Dramas, Sports Movies'\n",
      " \"Kids' TV, TV Action & Adventure, TV Dramas\"\n",
      " 'Action & Adventure, Sci-Fi & Fantasy, Sports Movies'\n",
      " 'Dramas, Romantic Movies, Thrillers' 'Action & Adventure, Cult Movies'\n",
      " 'Children & Family Movies, Dramas, Independent Movies'\n",
      " 'Children & Family Movies, Comedies, LGBTQ Movies'\n",
      " 'Action & Adventure, Comedies, Music & Musicals'\n",
      " 'Classic Movies, Horror Movies, Thrillers'\n",
      " 'Classic & Cult TV, TV Dramas, TV Sci-Fi & Fantasy'\n",
      " 'Children & Family Movies, Comedies, Sports Movies'\n",
      " 'Docuseries, Stand-Up Comedy & Talk Shows'\n",
      " 'Action & Adventure, Dramas, Faith & Spirituality'\n",
      " 'TV Comedies, TV Horror, TV Thrillers'\n",
      " 'Classic Movies, Comedies, Independent Movies'\n",
      " 'Crime TV Shows, TV Horror, TV Mysteries'\n",
      " 'Children & Family Movies, Classic Movies, Dramas'\n",
      " 'Romantic TV Shows, Spanish-Language TV Shows, TV Comedies'\n",
      " 'Dramas, Faith & Spirituality, Sports Movies'\n",
      " 'Classic & Cult TV, TV Action & Adventure, TV Sci-Fi & Fantasy'\n",
      " 'Romantic TV Shows, TV Dramas, TV Sci-Fi & Fantasy'\n",
      " 'International TV Shows, Korean TV Shows, TV Horror'\n",
      " 'Classic Movies, Comedies, Romantic Movies'\n",
      " 'Dramas, Horror Movies, Music & Musicals'\n",
      " 'Cult Movies, Horror Movies, Independent Movies'\n",
      " 'Classic Movies, Dramas, Thrillers'\n",
      " 'TV Dramas, TV Mysteries, TV Sci-Fi & Fantasy'\n",
      " 'Classic Movies, Independent Movies, Thrillers'\n",
      " 'TV Comedies, TV Mysteries'\n",
      " 'International TV Shows, Romantic TV Shows, TV Mysteries'\n",
      " \"Classic & Cult TV, Kids' TV, TV Action & Adventure\"\n",
      " \"Kids' TV, TV Comedies, Teen TV Shows\"\n",
      " 'Crime TV Shows, TV Action & Adventure, TV Sci-Fi & Fantasy'\n",
      " \"Kids' TV, TV Comedies, TV Sci-Fi & Fantasy\"\n",
      " 'Anime Series, International TV Shows, Spanish-Language TV Shows'\n",
      " 'Cult Movies, Dramas, Thrillers'\n",
      " 'International TV Shows, Spanish-Language TV Shows, TV Horror'\n",
      " 'Children & Family Movies, Faith & Spirituality'\n",
      " 'Comedies, Music & Musicals, Sports Movies'\n",
      " 'Classic Movies, Comedies, Sports Movies'\n",
      " 'Comedies, Dramas, Sports Movies'\n",
      " 'Action & Adventure, Dramas, Sports Movies'\n",
      " \"Kids' TV, Reality TV, TV Dramas\"\n",
      " 'Horror Movies, LGBTQ Movies, Music & Musicals'\n",
      " 'Comedies, LGBTQ Movies, Music & Musicals'\n",
      " 'International TV Shows, Romantic TV Shows, TV Action & Adventure'\n",
      " 'Cult Movies, Documentaries, LGBTQ Movies'\n",
      " 'Children & Family Movies, Documentaries, Sports Movies'\n",
      " 'Action & Adventure, Romantic Movies, Sci-Fi & Fantasy'\n",
      " 'Classic & Cult TV, TV Sci-Fi & Fantasy'\n",
      " 'TV Action & Adventure, TV Mysteries, TV Sci-Fi & Fantasy'\n",
      " 'Children & Family Movies, Dramas, Music & Musicals'\n",
      " 'Docuseries, TV Sci-Fi & Fantasy'\n",
      " \"British TV Shows, Classic & Cult TV, Kids' TV\"\n",
      " 'Action & Adventure, International Movies, Sports Movies'\n",
      " 'Docuseries, Science & Nature TV, TV Action & Adventure'\n",
      " 'TV Dramas, TV Mysteries, TV Thrillers'\n",
      " 'Comedies, Cult Movies, LGBTQ Movies'\n",
      " 'Crime TV Shows, International TV Shows, TV Sci-Fi & Fantasy'\n",
      " 'Comedies, Horror Movies, Sci-Fi & Fantasy'\n",
      " 'Action & Adventure, Comedies, Horror Movies'\n",
      " 'Classic & Cult TV, Crime TV Shows, TV Dramas' 'TV Horror, Teen TV Shows'\n",
      " 'Reality TV, Spanish-Language TV Shows'\n",
      " 'Action & Adventure, Documentaries, Sports Movies'\n",
      " 'International TV Shows, Reality TV, TV Comedies'\n",
      " 'Anime Features, International Movies, Sci-Fi & Fantasy'\n",
      " 'LGBTQ Movies, Thrillers' 'Classic Movies, Thrillers'\n",
      " 'Documentaries, LGBTQ Movies, Music & Musicals'\n",
      " 'Crime TV Shows, TV Dramas, TV Horror'\n",
      " 'Action & Adventure, Sports Movies'\n",
      " 'British TV Shows, Docuseries, Reality TV'\n",
      " 'Reality TV, Science & Nature TV, TV Action & Adventure'\n",
      " 'International Movies, LGBTQ Movies, Romantic Movies'\n",
      " 'Crime TV Shows, Romantic TV Shows, TV Dramas'\n",
      " \"Kids' TV, Reality TV, Science & Nature TV\"\n",
      " 'International TV Shows, Spanish-Language TV Shows, Stand-Up Comedy & Talk Shows'\n",
      " 'Sci-Fi & Fantasy'\n",
      " 'International TV Shows, TV Action & Adventure, TV Horror'\n",
      " 'Stand-Up Comedy & Talk Shows, TV Mysteries, TV Sci-Fi & Fantasy']\n",
      "description ------ ['In a future where the elite inhabit an island paradise far from the crowded slums, you get one chance to join the 3% saved from squalor.'\n",
      " 'An architect and his wife move into a castle that is slated to become a luxury hotel. But something inside is determined to stop the renovation.'\n",
      " 'Three Indonesian women break records by becoming the first of their nation to medal in archery at the Seoul Olympics in the summer of 1988.'\n",
      " ...\n",
      " \"Determined to fall in love, 15-year-old Adele is focused on boys. But it's a blue-haired girl she meets on the street who really piques her interest.\"\n",
      " 'The high life leads to high anxiety for a fashionable New York City homemaker in crisis who finds herself forced to live a more modest lifestyle.'\n",
      " 'Two former high school sweethearts unexpectedly reunite in their old hometown, where they rediscover their magical bond and face a shared regret.']\n",
      "month_name ------ ['August' 'December' 'January' 'March' 'February' 'July' 'June' 'April'\n",
      " 'September' 'November' 'October' 'May']\n",
      "Day ------ ['Friday' 'Saturday' 'Tuesday' 'Monday' 'Thursday' 'Sunday' 'Wednesday']\n",
      "weekday ------ [4 5 1 0 3 6 2]\n"
     ]
    }
   ],
   "source": [
    "### checing unique values\n",
    "for i in df.columns:\n",
    "    print(i,\"------\",df[i].unique())"
   ]
  },
  {
   "cell_type": "code",
   "execution_count": 29,
   "id": "31d0c0d9",
   "metadata": {
    "execution": {
     "iopub.execute_input": "2023-01-31T12:11:44.859475Z",
     "iopub.status.busy": "2023-01-31T12:11:44.859086Z",
     "iopub.status.idle": "2023-01-31T12:11:45.131340Z",
     "shell.execute_reply": "2023-01-31T12:11:45.130132Z"
    },
    "papermill": {
     "duration": 0.296929,
     "end_time": "2023-01-31T12:11:45.133954",
     "exception": false,
     "start_time": "2023-01-31T12:11:44.837025",
     "status": "completed"
    },
    "tags": []
   },
   "outputs": [
    {
     "name": "stdout",
     "output_type": "stream",
     "text": [
      "              release_year  duration   weekday\n",
      "release_year      1.000000 -0.240836  0.028561\n",
      "duration         -0.240836  1.000000 -0.033887\n",
      "weekday           0.028561 -0.033887  1.000000\n"
     ]
    },
    {
     "data": {
      "text/plain": [
       "<AxesSubplot:>"
      ]
     },
     "execution_count": 29,
     "metadata": {},
     "output_type": "execute_result"
    },
    {
     "data": {
      "image/png": "[encoded data removed]",
      "text/plain": [
       "<Figure size 432x288 with 2 Axes>"
      ]
     },
     "metadata": {
      "needs_background": "light"
     },
     "output_type": "display_data"
    }
   ],
   "source": [
    "### checking correlation \n",
    "print(df.corr())\n",
    "sns.heatmap(df.corr(),data=df)"
   ]
  },
  {
   "cell_type": "markdown",
   "id": "70e8efea",
   "metadata": {
    "papermill": {
     "duration": 0.021092,
     "end_time": "2023-01-31T12:11:45.176400",
     "exception": false,
     "start_time": "2023-01-31T12:11:45.155308",
     "status": "completed"
    },
    "tags": []
   },
   "source": [
    "#### There is no strong correlation "
   ]
  },
  {
   "cell_type": "code",
   "execution_count": 30,
   "id": "d4448f36",
   "metadata": {
    "execution": {
     "iopub.execute_input": "2023-01-31T12:11:45.222056Z",
     "iopub.status.busy": "2023-01-31T12:11:45.221599Z",
     "iopub.status.idle": "2023-01-31T12:11:45.244904Z",
     "shell.execute_reply": "2023-01-31T12:11:45.243237Z"
    },
    "papermill": {
     "duration": 0.049237,
     "end_time": "2023-01-31T12:11:45.247340",
     "exception": false,
     "start_time": "2023-01-31T12:11:45.198103",
     "status": "completed"
    },
    "tags": []
   },
   "outputs": [
    {
     "data": {
      "text/plain": [
       "0"
      ]
     },
     "execution_count": 30,
     "metadata": {},
     "output_type": "execute_result"
    }
   ],
   "source": [
    "df.duplicated().sum()"
   ]
  },
  {
   "cell_type": "markdown",
   "id": "1f74af54",
   "metadata": {
    "papermill": {
     "duration": 0.021299,
     "end_time": "2023-01-31T12:11:45.290580",
     "exception": false,
     "start_time": "2023-01-31T12:11:45.269281",
     "status": "completed"
    },
    "tags": []
   },
   "source": [
    "#### There is no duplicate values "
   ]
  },
  {
   "cell_type": "code",
   "execution_count": 31,
   "id": "bd075270",
   "metadata": {
    "execution": {
     "iopub.execute_input": "2023-01-31T12:11:45.335368Z",
     "iopub.status.busy": "2023-01-31T12:11:45.334931Z",
     "iopub.status.idle": "2023-01-31T12:11:45.362079Z",
     "shell.execute_reply": "2023-01-31T12:11:45.360911Z"
    },
    "papermill": {
     "duration": 0.052398,
     "end_time": "2023-01-31T12:11:45.364356",
     "exception": false,
     "start_time": "2023-01-31T12:11:45.311958",
     "status": "completed"
    },
    "tags": []
   },
   "outputs": [
    {
     "data": {
      "text/html": [
       "<div>\n",
       "<style scoped>\n",
       "    .dataframe tbody tr th:only-of-type {\n",
       "        vertical-align: middle;\n",
       "    }\n",
       "\n",
       "    .dataframe tbody tr th {\n",
       "        vertical-align: top;\n",
       "    }\n",
       "\n",
       "    .dataframe thead th {\n",
       "        text-align: right;\n",
       "    }\n",
       "</style>\n",
       "<table border=\"1\" class=\"dataframe\">\n",
       "  <thead>\n",
       "    <tr style=\"text-align: right;\">\n",
       "      <th></th>\n",
       "      <th>0</th>\n",
       "      <th>1</th>\n",
       "      <th>2</th>\n",
       "    </tr>\n",
       "  </thead>\n",
       "  <tbody>\n",
       "    <tr>\n",
       "      <th>0</th>\n",
       "      <td>International TV Shows</td>\n",
       "      <td>TV Dramas</td>\n",
       "      <td>TV Sci-Fi &amp; Fantasy</td>\n",
       "    </tr>\n",
       "    <tr>\n",
       "      <th>1</th>\n",
       "      <td>Horror Movies</td>\n",
       "      <td>International Movies</td>\n",
       "      <td>Thrillers</td>\n",
       "    </tr>\n",
       "    <tr>\n",
       "      <th>2</th>\n",
       "      <td>Dramas</td>\n",
       "      <td>International Movies</td>\n",
       "      <td>Sports Movies</td>\n",
       "    </tr>\n",
       "    <tr>\n",
       "      <th>3</th>\n",
       "      <td>Comedies</td>\n",
       "      <td>None</td>\n",
       "      <td>None</td>\n",
       "    </tr>\n",
       "    <tr>\n",
       "      <th>4</th>\n",
       "      <td>British TV Shows</td>\n",
       "      <td>Docuseries</td>\n",
       "      <td>Science &amp; Nature TV</td>\n",
       "    </tr>\n",
       "    <tr>\n",
       "      <th>...</th>\n",
       "      <td>...</td>\n",
       "      <td>...</td>\n",
       "      <td>...</td>\n",
       "    </tr>\n",
       "    <tr>\n",
       "      <th>7782</th>\n",
       "      <td>International TV Shows</td>\n",
       "      <td>Reality TV</td>\n",
       "      <td>None</td>\n",
       "    </tr>\n",
       "    <tr>\n",
       "      <th>7783</th>\n",
       "      <td>Anime Series</td>\n",
       "      <td>International TV Shows</td>\n",
       "      <td>None</td>\n",
       "    </tr>\n",
       "    <tr>\n",
       "      <th>7784</th>\n",
       "      <td>Dramas</td>\n",
       "      <td>Independent Movies</td>\n",
       "      <td>International Movies</td>\n",
       "    </tr>\n",
       "    <tr>\n",
       "      <th>7785</th>\n",
       "      <td>Comedies</td>\n",
       "      <td>Dramas</td>\n",
       "      <td>Independent Movies</td>\n",
       "    </tr>\n",
       "    <tr>\n",
       "      <th>7786</th>\n",
       "      <td>Dramas</td>\n",
       "      <td>Independent Movies</td>\n",
       "      <td>Romantic Movies</td>\n",
       "    </tr>\n",
       "  </tbody>\n",
       "</table>\n",
       "<p>7787 rows × 3 columns</p>\n",
       "</div>"
      ],
      "text/plain": [
       "                           0                        1                      2\n",
       "0     International TV Shows                TV Dramas    TV Sci-Fi & Fantasy\n",
       "1              Horror Movies     International Movies              Thrillers\n",
       "2                     Dramas     International Movies          Sports Movies\n",
       "3                   Comedies                     None                   None\n",
       "4           British TV Shows               Docuseries    Science & Nature TV\n",
       "...                      ...                      ...                    ...\n",
       "7782  International TV Shows               Reality TV                   None\n",
       "7783            Anime Series   International TV Shows                   None\n",
       "7784                  Dramas       Independent Movies   International Movies\n",
       "7785                Comedies                   Dramas     Independent Movies\n",
       "7786                  Dramas       Independent Movies        Romantic Movies\n",
       "\n",
       "[7787 rows x 3 columns]"
      ]
     },
     "execution_count": 31,
     "metadata": {},
     "output_type": "execute_result"
    }
   ],
   "source": [
    "### splitting genres into 3 different segment through feature engineering \n",
    "df[\"genres\"].str.split(\",\",expand=True)"
   ]
  },
  {
   "cell_type": "code",
   "execution_count": 32,
   "id": "a9ffb772",
   "metadata": {
    "execution": {
     "iopub.execute_input": "2023-01-31T12:11:45.410794Z",
     "iopub.status.busy": "2023-01-31T12:11:45.410151Z",
     "iopub.status.idle": "2023-01-31T12:11:45.458266Z",
     "shell.execute_reply": "2023-01-31T12:11:45.456958Z"
    },
    "papermill": {
     "duration": 0.074524,
     "end_time": "2023-01-31T12:11:45.460963",
     "exception": false,
     "start_time": "2023-01-31T12:11:45.386439",
     "status": "completed"
    },
    "tags": []
   },
   "outputs": [],
   "source": [
    "df[\"genres1\"]=df[\"genres\"].str.split(\",\",expand=True)[0]\n",
    "df[\"genres2\"]=df[\"genres\"].str.split(\",\",expand=True)[1]\n",
    "df[\"genres3\"]=df[\"genres\"].str.split(\",\",expand=True)[2]"
   ]
  },
  {
   "cell_type": "code",
   "execution_count": 33,
   "id": "e235bb36",
   "metadata": {
    "execution": {
     "iopub.execute_input": "2023-01-31T12:11:45.509162Z",
     "iopub.status.busy": "2023-01-31T12:11:45.508725Z",
     "iopub.status.idle": "2023-01-31T12:11:45.538355Z",
     "shell.execute_reply": "2023-01-31T12:11:45.537160Z"
    },
    "papermill": {
     "duration": 0.056642,
     "end_time": "2023-01-31T12:11:45.540836",
     "exception": false,
     "start_time": "2023-01-31T12:11:45.484194",
     "status": "completed"
    },
    "tags": []
   },
   "outputs": [
    {
     "data": {
      "text/html": [
       "<div>\n",
       "<style scoped>\n",
       "    .dataframe tbody tr th:only-of-type {\n",
       "        vertical-align: middle;\n",
       "    }\n",
       "\n",
       "    .dataframe tbody tr th {\n",
       "        vertical-align: top;\n",
       "    }\n",
       "\n",
       "    .dataframe thead th {\n",
       "        text-align: right;\n",
       "    }\n",
       "</style>\n",
       "<table border=\"1\" class=\"dataframe\">\n",
       "  <thead>\n",
       "    <tr style=\"text-align: right;\">\n",
       "      <th></th>\n",
       "      <th>type</th>\n",
       "      <th>title</th>\n",
       "      <th>director</th>\n",
       "      <th>country</th>\n",
       "      <th>date_added</th>\n",
       "      <th>release_year</th>\n",
       "      <th>rating</th>\n",
       "      <th>duration</th>\n",
       "      <th>genres</th>\n",
       "      <th>description</th>\n",
       "      <th>month_name</th>\n",
       "      <th>Day</th>\n",
       "      <th>weekday</th>\n",
       "      <th>genres1</th>\n",
       "      <th>genres2</th>\n",
       "      <th>genres3</th>\n",
       "    </tr>\n",
       "  </thead>\n",
       "  <tbody>\n",
       "    <tr>\n",
       "      <th>0</th>\n",
       "      <td>TV Show</td>\n",
       "      <td>3%</td>\n",
       "      <td>Unidentified</td>\n",
       "      <td>Brazil</td>\n",
       "      <td>2020-08-14</td>\n",
       "      <td>2020</td>\n",
       "      <td>TV-MA</td>\n",
       "      <td>4</td>\n",
       "      <td>International TV Shows, TV Dramas, TV Sci-Fi &amp;...</td>\n",
       "      <td>In a future where the elite inhabit an island ...</td>\n",
       "      <td>August</td>\n",
       "      <td>Friday</td>\n",
       "      <td>4</td>\n",
       "      <td>International TV Shows</td>\n",
       "      <td>TV Dramas</td>\n",
       "      <td>TV Sci-Fi &amp; Fantasy</td>\n",
       "    </tr>\n",
       "    <tr>\n",
       "      <th>1</th>\n",
       "      <td>Movie</td>\n",
       "      <td>1920</td>\n",
       "      <td>Vikram Bhatt</td>\n",
       "      <td>India</td>\n",
       "      <td>2017-12-15</td>\n",
       "      <td>2008</td>\n",
       "      <td>TV-MA</td>\n",
       "      <td>143</td>\n",
       "      <td>Horror Movies, International Movies, Thrillers</td>\n",
       "      <td>An architect and his wife move into a castle t...</td>\n",
       "      <td>December</td>\n",
       "      <td>Friday</td>\n",
       "      <td>4</td>\n",
       "      <td>Horror Movies</td>\n",
       "      <td>International Movies</td>\n",
       "      <td>Thrillers</td>\n",
       "    </tr>\n",
       "    <tr>\n",
       "      <th>2</th>\n",
       "      <td>Movie</td>\n",
       "      <td>3 Heroines</td>\n",
       "      <td>Iman Brotoseno</td>\n",
       "      <td>Indonesia</td>\n",
       "      <td>2019-01-05</td>\n",
       "      <td>2016</td>\n",
       "      <td>TV-PG</td>\n",
       "      <td>124</td>\n",
       "      <td>Dramas, International Movies, Sports Movies</td>\n",
       "      <td>Three Indonesian women break records by becomi...</td>\n",
       "      <td>January</td>\n",
       "      <td>Saturday</td>\n",
       "      <td>5</td>\n",
       "      <td>Dramas</td>\n",
       "      <td>International Movies</td>\n",
       "      <td>Sports Movies</td>\n",
       "    </tr>\n",
       "    <tr>\n",
       "      <th>3</th>\n",
       "      <td>Movie</td>\n",
       "      <td>Blue Mountain State: The Rise of Thadland</td>\n",
       "      <td>Lev L. Spiro</td>\n",
       "      <td>United States</td>\n",
       "      <td>2016-03-01</td>\n",
       "      <td>2016</td>\n",
       "      <td>R</td>\n",
       "      <td>90</td>\n",
       "      <td>Comedies</td>\n",
       "      <td>New NFL star Thad buys his old teammates' belo...</td>\n",
       "      <td>March</td>\n",
       "      <td>Tuesday</td>\n",
       "      <td>1</td>\n",
       "      <td>Comedies</td>\n",
       "      <td>None</td>\n",
       "      <td>None</td>\n",
       "    </tr>\n",
       "    <tr>\n",
       "      <th>4</th>\n",
       "      <td>TV Show</td>\n",
       "      <td>Blue Planet II</td>\n",
       "      <td>Unidentified</td>\n",
       "      <td>United Kingdom</td>\n",
       "      <td>2018-12-03</td>\n",
       "      <td>2017</td>\n",
       "      <td>TV-G</td>\n",
       "      <td>1</td>\n",
       "      <td>British TV Shows, Docuseries, Science &amp; Nature TV</td>\n",
       "      <td>This sequel to the award-winning nature series...</td>\n",
       "      <td>December</td>\n",
       "      <td>Monday</td>\n",
       "      <td>0</td>\n",
       "      <td>British TV Shows</td>\n",
       "      <td>Docuseries</td>\n",
       "      <td>Science &amp; Nature TV</td>\n",
       "    </tr>\n",
       "    <tr>\n",
       "      <th>...</th>\n",
       "      <td>...</td>\n",
       "      <td>...</td>\n",
       "      <td>...</td>\n",
       "      <td>...</td>\n",
       "      <td>...</td>\n",
       "      <td>...</td>\n",
       "      <td>...</td>\n",
       "      <td>...</td>\n",
       "      <td>...</td>\n",
       "      <td>...</td>\n",
       "      <td>...</td>\n",
       "      <td>...</td>\n",
       "      <td>...</td>\n",
       "      <td>...</td>\n",
       "      <td>...</td>\n",
       "      <td>...</td>\n",
       "    </tr>\n",
       "    <tr>\n",
       "      <th>7782</th>\n",
       "      <td>TV Show</td>\n",
       "      <td>Blown Away</td>\n",
       "      <td>Unidentified</td>\n",
       "      <td>Canada</td>\n",
       "      <td>2019-07-12</td>\n",
       "      <td>2019</td>\n",
       "      <td>TV-14</td>\n",
       "      <td>1</td>\n",
       "      <td>International TV Shows, Reality TV</td>\n",
       "      <td>Ten master artists turn up the heat in glassbl...</td>\n",
       "      <td>July</td>\n",
       "      <td>Friday</td>\n",
       "      <td>4</td>\n",
       "      <td>International TV Shows</td>\n",
       "      <td>Reality TV</td>\n",
       "      <td>None</td>\n",
       "    </tr>\n",
       "    <tr>\n",
       "      <th>7783</th>\n",
       "      <td>TV Show</td>\n",
       "      <td>Blue Exorcist</td>\n",
       "      <td>Unidentified</td>\n",
       "      <td>Japan</td>\n",
       "      <td>2020-09-01</td>\n",
       "      <td>2017</td>\n",
       "      <td>TV-MA</td>\n",
       "      <td>2</td>\n",
       "      <td>Anime Series, International TV Shows</td>\n",
       "      <td>Determined to throw off the curse of being Sat...</td>\n",
       "      <td>September</td>\n",
       "      <td>Tuesday</td>\n",
       "      <td>1</td>\n",
       "      <td>Anime Series</td>\n",
       "      <td>International TV Shows</td>\n",
       "      <td>None</td>\n",
       "    </tr>\n",
       "    <tr>\n",
       "      <th>7784</th>\n",
       "      <td>Movie</td>\n",
       "      <td>Blue Is the Warmest Color</td>\n",
       "      <td>Abdellatif Kechiche</td>\n",
       "      <td>France, Belgium, Spain</td>\n",
       "      <td>2016-08-26</td>\n",
       "      <td>2013</td>\n",
       "      <td>NC-17</td>\n",
       "      <td>180</td>\n",
       "      <td>Dramas, Independent Movies, International Movies</td>\n",
       "      <td>Determined to fall in love, 15-year-old Adele ...</td>\n",
       "      <td>August</td>\n",
       "      <td>Friday</td>\n",
       "      <td>4</td>\n",
       "      <td>Dramas</td>\n",
       "      <td>Independent Movies</td>\n",
       "      <td>International Movies</td>\n",
       "    </tr>\n",
       "    <tr>\n",
       "      <th>7785</th>\n",
       "      <td>Movie</td>\n",
       "      <td>Blue Jasmine</td>\n",
       "      <td>Woody Allen</td>\n",
       "      <td>United States</td>\n",
       "      <td>2019-03-08</td>\n",
       "      <td>2013</td>\n",
       "      <td>PG-13</td>\n",
       "      <td>98</td>\n",
       "      <td>Comedies, Dramas, Independent Movies</td>\n",
       "      <td>The high life leads to high anxiety for a fash...</td>\n",
       "      <td>March</td>\n",
       "      <td>Friday</td>\n",
       "      <td>4</td>\n",
       "      <td>Comedies</td>\n",
       "      <td>Dramas</td>\n",
       "      <td>Independent Movies</td>\n",
       "    </tr>\n",
       "    <tr>\n",
       "      <th>7786</th>\n",
       "      <td>Movie</td>\n",
       "      <td>Blue Jay</td>\n",
       "      <td>Alex Lehmann</td>\n",
       "      <td>United States</td>\n",
       "      <td>2016-12-06</td>\n",
       "      <td>2016</td>\n",
       "      <td>TV-MA</td>\n",
       "      <td>81</td>\n",
       "      <td>Dramas, Independent Movies, Romantic Movies</td>\n",
       "      <td>Two former high school sweethearts unexpectedl...</td>\n",
       "      <td>December</td>\n",
       "      <td>Tuesday</td>\n",
       "      <td>1</td>\n",
       "      <td>Dramas</td>\n",
       "      <td>Independent Movies</td>\n",
       "      <td>Romantic Movies</td>\n",
       "    </tr>\n",
       "  </tbody>\n",
       "</table>\n",
       "<p>7787 rows × 16 columns</p>\n",
       "</div>"
      ],
      "text/plain": [
       "         type                                      title             director  \\\n",
       "0     TV Show                                         3%         Unidentified   \n",
       "1       Movie                                       1920         Vikram Bhatt   \n",
       "2       Movie                                 3 Heroines       Iman Brotoseno   \n",
       "3       Movie  Blue Mountain State: The Rise of Thadland         Lev L. Spiro   \n",
       "4     TV Show                             Blue Planet II         Unidentified   \n",
       "...       ...                                        ...                  ...   \n",
       "7782  TV Show                                 Blown Away         Unidentified   \n",
       "7783  TV Show                              Blue Exorcist         Unidentified   \n",
       "7784    Movie                  Blue Is the Warmest Color  Abdellatif Kechiche   \n",
       "7785    Movie                               Blue Jasmine          Woody Allen   \n",
       "7786    Movie                                   Blue Jay         Alex Lehmann   \n",
       "\n",
       "                     country date_added  release_year rating  duration  \\\n",
       "0                     Brazil 2020-08-14          2020  TV-MA         4   \n",
       "1                      India 2017-12-15          2008  TV-MA       143   \n",
       "2                  Indonesia 2019-01-05          2016  TV-PG       124   \n",
       "3              United States 2016-03-01          2016      R        90   \n",
       "4             United Kingdom 2018-12-03          2017   TV-G         1   \n",
       "...                      ...        ...           ...    ...       ...   \n",
       "7782                  Canada 2019-07-12          2019  TV-14         1   \n",
       "7783                   Japan 2020-09-01          2017  TV-MA         2   \n",
       "7784  France, Belgium, Spain 2016-08-26          2013  NC-17       180   \n",
       "7785           United States 2019-03-08          2013  PG-13        98   \n",
       "7786           United States 2016-12-06          2016  TV-MA        81   \n",
       "\n",
       "                                                 genres  \\\n",
       "0     International TV Shows, TV Dramas, TV Sci-Fi &...   \n",
       "1        Horror Movies, International Movies, Thrillers   \n",
       "2           Dramas, International Movies, Sports Movies   \n",
       "3                                              Comedies   \n",
       "4     British TV Shows, Docuseries, Science & Nature TV   \n",
       "...                                                 ...   \n",
       "7782                 International TV Shows, Reality TV   \n",
       "7783               Anime Series, International TV Shows   \n",
       "7784   Dramas, Independent Movies, International Movies   \n",
       "7785               Comedies, Dramas, Independent Movies   \n",
       "7786        Dramas, Independent Movies, Romantic Movies   \n",
       "\n",
       "                                            description month_name       Day  \\\n",
       "0     In a future where the elite inhabit an island ...     August    Friday   \n",
       "1     An architect and his wife move into a castle t...   December    Friday   \n",
       "2     Three Indonesian women break records by becomi...    January  Saturday   \n",
       "3     New NFL star Thad buys his old teammates' belo...      March   Tuesday   \n",
       "4     This sequel to the award-winning nature series...   December    Monday   \n",
       "...                                                 ...        ...       ...   \n",
       "7782  Ten master artists turn up the heat in glassbl...       July    Friday   \n",
       "7783  Determined to throw off the curse of being Sat...  September   Tuesday   \n",
       "7784  Determined to fall in love, 15-year-old Adele ...     August    Friday   \n",
       "7785  The high life leads to high anxiety for a fash...      March    Friday   \n",
       "7786  Two former high school sweethearts unexpectedl...   December   Tuesday   \n",
       "\n",
       "      weekday                 genres1                  genres2  \\\n",
       "0           4  International TV Shows                TV Dramas   \n",
       "1           4           Horror Movies     International Movies   \n",
       "2           5                  Dramas     International Movies   \n",
       "3           1                Comedies                     None   \n",
       "4           0        British TV Shows               Docuseries   \n",
       "...       ...                     ...                      ...   \n",
       "7782        4  International TV Shows               Reality TV   \n",
       "7783        1            Anime Series   International TV Shows   \n",
       "7784        4                  Dramas       Independent Movies   \n",
       "7785        4                Comedies                   Dramas   \n",
       "7786        1                  Dramas       Independent Movies   \n",
       "\n",
       "                    genres3  \n",
       "0       TV Sci-Fi & Fantasy  \n",
       "1                 Thrillers  \n",
       "2             Sports Movies  \n",
       "3                      None  \n",
       "4       Science & Nature TV  \n",
       "...                     ...  \n",
       "7782                   None  \n",
       "7783                   None  \n",
       "7784   International Movies  \n",
       "7785     Independent Movies  \n",
       "7786        Romantic Movies  \n",
       "\n",
       "[7787 rows x 16 columns]"
      ]
     },
     "execution_count": 33,
     "metadata": {},
     "output_type": "execute_result"
    }
   ],
   "source": [
    "df"
   ]
  },
  {
   "cell_type": "markdown",
   "id": "ddc9d47d",
   "metadata": {
    "papermill": {
     "duration": 0.02346,
     "end_time": "2023-01-31T12:11:45.587506",
     "exception": false,
     "start_time": "2023-01-31T12:11:45.564046",
     "status": "completed"
    },
    "tags": []
   },
   "source": [
    "# Exploratory Data Analysis\n"
   ]
  },
  {
   "cell_type": "code",
   "execution_count": 34,
   "id": "0a05f402",
   "metadata": {
    "execution": {
     "iopub.execute_input": "2023-01-31T12:11:45.634642Z",
     "iopub.status.busy": "2023-01-31T12:11:45.634236Z",
     "iopub.status.idle": "2023-01-31T12:11:45.640248Z",
     "shell.execute_reply": "2023-01-31T12:11:45.639007Z"
    },
    "papermill": {
     "duration": 0.032962,
     "end_time": "2023-01-31T12:11:45.642441",
     "exception": false,
     "start_time": "2023-01-31T12:11:45.609479",
     "status": "completed"
    },
    "tags": []
   },
   "outputs": [],
   "source": [
    "sns.set(style=\"darkgrid\")"
   ]
  },
  {
   "cell_type": "code",
   "execution_count": 35,
   "id": "e7543f79",
   "metadata": {
    "execution": {
     "iopub.execute_input": "2023-01-31T12:11:45.689211Z",
     "iopub.status.busy": "2023-01-31T12:11:45.688740Z",
     "iopub.status.idle": "2023-01-31T12:11:45.710690Z",
     "shell.execute_reply": "2023-01-31T12:11:45.709501Z"
    },
    "papermill": {
     "duration": 0.048718,
     "end_time": "2023-01-31T12:11:45.713195",
     "exception": false,
     "start_time": "2023-01-31T12:11:45.664477",
     "status": "completed"
    },
    "tags": []
   },
   "outputs": [
    {
     "data": {
      "text/html": [
       "<div>\n",
       "<style scoped>\n",
       "    .dataframe tbody tr th:only-of-type {\n",
       "        vertical-align: middle;\n",
       "    }\n",
       "\n",
       "    .dataframe tbody tr th {\n",
       "        vertical-align: top;\n",
       "    }\n",
       "\n",
       "    .dataframe thead th {\n",
       "        text-align: right;\n",
       "    }\n",
       "</style>\n",
       "<table border=\"1\" class=\"dataframe\">\n",
       "  <thead>\n",
       "    <tr style=\"text-align: right;\">\n",
       "      <th></th>\n",
       "      <th>type</th>\n",
       "      <th>title</th>\n",
       "      <th>director</th>\n",
       "      <th>country</th>\n",
       "      <th>date_added</th>\n",
       "      <th>release_year</th>\n",
       "      <th>rating</th>\n",
       "      <th>duration</th>\n",
       "      <th>genres</th>\n",
       "      <th>description</th>\n",
       "      <th>month_name</th>\n",
       "      <th>Day</th>\n",
       "      <th>weekday</th>\n",
       "      <th>genres1</th>\n",
       "      <th>genres2</th>\n",
       "      <th>genres3</th>\n",
       "    </tr>\n",
       "  </thead>\n",
       "  <tbody>\n",
       "    <tr>\n",
       "      <th>3118</th>\n",
       "      <td>Movie</td>\n",
       "      <td>Lucha: Playing the Impossible</td>\n",
       "      <td>Ana Quiroga</td>\n",
       "      <td>Argentina</td>\n",
       "      <td>2018-07-15</td>\n",
       "      <td>2016</td>\n",
       "      <td>TV-PG</td>\n",
       "      <td>98</td>\n",
       "      <td>Documentaries, International Movies, Sports Mo...</td>\n",
       "      <td>Known simply as \"Lucha,\" field hockey player L...</td>\n",
       "      <td>July</td>\n",
       "      <td>Sunday</td>\n",
       "      <td>6</td>\n",
       "      <td>Documentaries</td>\n",
       "      <td>International Movies</td>\n",
       "      <td>Sports Movies</td>\n",
       "    </tr>\n",
       "    <tr>\n",
       "      <th>7663</th>\n",
       "      <td>Movie</td>\n",
       "      <td>Bhasmasur</td>\n",
       "      <td>Nishil Sheth</td>\n",
       "      <td>India</td>\n",
       "      <td>2019-01-29</td>\n",
       "      <td>2017</td>\n",
       "      <td>TV-14</td>\n",
       "      <td>74</td>\n",
       "      <td>Dramas, Independent Movies, International Movies</td>\n",
       "      <td>In this heart-wrenching coming-of-age story, a...</td>\n",
       "      <td>January</td>\n",
       "      <td>Tuesday</td>\n",
       "      <td>1</td>\n",
       "      <td>Dramas</td>\n",
       "      <td>Independent Movies</td>\n",
       "      <td>International Movies</td>\n",
       "    </tr>\n",
       "  </tbody>\n",
       "</table>\n",
       "</div>"
      ],
      "text/plain": [
       "       type                          title      director    country  \\\n",
       "3118  Movie  Lucha: Playing the Impossible   Ana Quiroga  Argentina   \n",
       "7663  Movie                      Bhasmasur  Nishil Sheth      India   \n",
       "\n",
       "     date_added  release_year rating  duration  \\\n",
       "3118 2018-07-15          2016  TV-PG        98   \n",
       "7663 2019-01-29          2017  TV-14        74   \n",
       "\n",
       "                                                 genres  \\\n",
       "3118  Documentaries, International Movies, Sports Mo...   \n",
       "7663   Dramas, Independent Movies, International Movies   \n",
       "\n",
       "                                            description month_name      Day  \\\n",
       "3118  Known simply as \"Lucha,\" field hockey player L...       July   Sunday   \n",
       "7663  In this heart-wrenching coming-of-age story, a...    January  Tuesday   \n",
       "\n",
       "      weekday        genres1                genres2                genres3  \n",
       "3118        6  Documentaries   International Movies          Sports Movies  \n",
       "7663        1         Dramas     Independent Movies   International Movies  "
      ]
     },
     "execution_count": 35,
     "metadata": {},
     "output_type": "execute_result"
    }
   ],
   "source": [
    "df.sample(2)"
   ]
  },
  {
   "cell_type": "code",
   "execution_count": 36,
   "id": "9c8fbbd8",
   "metadata": {
    "execution": {
     "iopub.execute_input": "2023-01-31T12:11:45.760188Z",
     "iopub.status.busy": "2023-01-31T12:11:45.758940Z",
     "iopub.status.idle": "2023-01-31T12:11:45.768947Z",
     "shell.execute_reply": "2023-01-31T12:11:45.767945Z"
    },
    "papermill": {
     "duration": 0.035684,
     "end_time": "2023-01-31T12:11:45.771216",
     "exception": false,
     "start_time": "2023-01-31T12:11:45.735532",
     "status": "completed"
    },
    "tags": []
   },
   "outputs": [
    {
     "data": {
      "text/plain": [
       "Movie      5377\n",
       "TV Show    2410\n",
       "Name: type, dtype: int64"
      ]
     },
     "execution_count": 36,
     "metadata": {},
     "output_type": "execute_result"
    }
   ],
   "source": [
    "### Which type are mostly aired tv show or movie\n",
    "df[\"type\"].value_counts()"
   ]
  },
  {
   "cell_type": "markdown",
   "id": "4c051d73",
   "metadata": {
    "papermill": {
     "duration": 0.02226,
     "end_time": "2023-01-31T12:11:45.816665",
     "exception": false,
     "start_time": "2023-01-31T12:11:45.794405",
     "status": "completed"
    },
    "tags": []
   },
   "source": [
    "#### Movies are most aired than tv shows"
   ]
  },
  {
   "cell_type": "code",
   "execution_count": 37,
   "id": "d84692c8",
   "metadata": {
    "execution": {
     "iopub.execute_input": "2023-01-31T12:11:45.864893Z",
     "iopub.status.busy": "2023-01-31T12:11:45.864240Z",
     "iopub.status.idle": "2023-01-31T12:11:46.174754Z",
     "shell.execute_reply": "2023-01-31T12:11:46.173747Z"
    },
    "papermill": {
     "duration": 0.337556,
     "end_time": "2023-01-31T12:11:46.177230",
     "exception": false,
     "start_time": "2023-01-31T12:11:45.839674",
     "status": "completed"
    },
    "tags": []
   },
   "outputs": [
    {
     "name": "stdout",
     "output_type": "stream",
     "text": [
      "United States     2555\n",
      "India              923\n",
      "Missing            507\n",
      "United Kingdom     397\n",
      "Japan              226\n",
      "South Korea        183\n",
      "Canada             177\n",
      "Spain              134\n",
      "France             115\n",
      "Egypt              101\n",
      "Name: country, dtype: int64\n"
     ]
    },
    {
     "data": {
      "image/png": "[encoded data removed]",
      "text/plain": [
       "<Figure size 576x576 with 1 Axes>"
      ]
     },
     "metadata": {},
     "output_type": "display_data"
    }
   ],
   "source": [
    "## Top 10 counties who produced movies and tv shows\n",
    "a=df[\"country\"].value_counts().head(10)\n",
    "print(a)\n",
    "plt.figure(figsize=(8,8))\n",
    "plt.pie(a,labels=df[\"country\"].value_counts().head(10).index,autopct=\"%0.0f%%\",shadow=True,explode=[0,0,0.1,0.2,0.3,0.4,0.5,0.6,0.7,0.8]);\n",
    "plt.show()"
   ]
  },
  {
   "cell_type": "markdown",
   "id": "74a7dbb7",
   "metadata": {
    "papermill": {
     "duration": 0.023677,
     "end_time": "2023-01-31T12:11:46.225266",
     "exception": false,
     "start_time": "2023-01-31T12:11:46.201589",
     "status": "completed"
    },
    "tags": []
   },
   "source": [
    "#### Most of the movies and Tv shows on Netflix were produced by United States and India"
   ]
  },
  {
   "cell_type": "code",
   "execution_count": 38,
   "id": "e31b01a2",
   "metadata": {
    "execution": {
     "iopub.execute_input": "2023-01-31T12:11:46.275209Z",
     "iopub.status.busy": "2023-01-31T12:11:46.274435Z",
     "iopub.status.idle": "2023-01-31T12:11:46.283892Z",
     "shell.execute_reply": "2023-01-31T12:11:46.283105Z"
    },
    "papermill": {
     "duration": 0.036878,
     "end_time": "2023-01-31T12:11:46.285892",
     "exception": false,
     "start_time": "2023-01-31T12:11:46.249014",
     "status": "completed"
    },
    "tags": []
   },
   "outputs": [
    {
     "data": {
      "text/plain": [
       "Unidentified              2389\n",
       "Raúl Campos, Jan Suter      18\n",
       "Marcus Raboy                16\n",
       "Jay Karas                   14\n",
       "Cathy Garcia-Molina         13\n",
       "Martin Scorsese             12\n",
       "Youssef Chahine             12\n",
       "Jay Chapman                 12\n",
       "Steven Spielberg            10\n",
       "David Dhawan                 9\n",
       "Name: director, dtype: int64"
      ]
     },
     "execution_count": 38,
     "metadata": {},
     "output_type": "execute_result"
    }
   ],
   "source": [
    "#### Who are the top 10 directors who produced movies or tv shows\n",
    "df[\"director\"].value_counts().head(10)"
   ]
  },
  {
   "cell_type": "markdown",
   "id": "a02905dd",
   "metadata": {
    "papermill": {
     "duration": 0.023276,
     "end_time": "2023-01-31T12:11:46.333027",
     "exception": false,
     "start_time": "2023-01-31T12:11:46.309751",
     "status": "completed"
    },
    "tags": []
   },
   "source": [
    "#### Most of the directors are unindentified as there were missing values so i have change it to unidentified"
   ]
  },
  {
   "cell_type": "code",
   "execution_count": 39,
   "id": "cb2a22c5",
   "metadata": {
    "execution": {
     "iopub.execute_input": "2023-01-31T12:11:46.383652Z",
     "iopub.status.busy": "2023-01-31T12:11:46.382874Z",
     "iopub.status.idle": "2023-01-31T12:11:46.647440Z",
     "shell.execute_reply": "2023-01-31T12:11:46.646464Z"
    },
    "papermill": {
     "duration": 0.292775,
     "end_time": "2023-01-31T12:11:46.649773",
     "exception": false,
     "start_time": "2023-01-31T12:11:46.356998",
     "status": "completed"
    },
    "tags": []
   },
   "outputs": [
    {
     "name": "stdout",
     "output_type": "stream",
     "text": [
      "2018    1121\n",
      "2017    1012\n",
      "2019     996\n",
      "2016     882\n",
      "2020     868\n",
      "2015     541\n",
      "2014     334\n",
      "2013     267\n",
      "2012     219\n",
      "2010     173\n",
      "Name: release_year, dtype: int64\n"
     ]
    },
    {
     "data": {
      "image/png": "[encoded data removed]",
      "text/plain": [
       "<Figure size 576x576 with 1 Axes>"
      ]
     },
     "metadata": {},
     "output_type": "display_data"
    }
   ],
   "source": [
    "#### In which year most of the show and movies are released (top 10)\n",
    "year=df[\"release_year\"].value_counts().head(10)\n",
    "print(year)\n",
    "plt.figure(figsize=(8,8))\n",
    "plt.pie(year,labels=df[\"release_year\"].value_counts().head(10).index,autopct=\"%0.0f%%\",shadow=True,explode=[0,0,0,0,0,0.4,0.5,0.6,0.7,0.8]);\n",
    "plt.show()"
   ]
  },
  {
   "cell_type": "markdown",
   "id": "d018b098",
   "metadata": {
    "papermill": {
     "duration": 0.028647,
     "end_time": "2023-01-31T12:11:46.704362",
     "exception": false,
     "start_time": "2023-01-31T12:11:46.675715",
     "status": "completed"
    },
    "tags": []
   },
   "source": [
    "#### In 2018 most of the Tv shows and Movies were Aired on netflix"
   ]
  },
  {
   "cell_type": "code",
   "execution_count": 40,
   "id": "f392f578",
   "metadata": {
    "execution": {
     "iopub.execute_input": "2023-01-31T12:11:46.757378Z",
     "iopub.status.busy": "2023-01-31T12:11:46.756576Z",
     "iopub.status.idle": "2023-01-31T12:11:47.075812Z",
     "shell.execute_reply": "2023-01-31T12:11:47.074576Z"
    },
    "papermill": {
     "duration": 0.34887,
     "end_time": "2023-01-31T12:11:47.078825",
     "exception": false,
     "start_time": "2023-01-31T12:11:46.729955",
     "status": "completed"
    },
    "tags": []
   },
   "outputs": [
    {
     "name": "stdout",
     "output_type": "stream",
     "text": [
      "TV-MA       2868\n",
      "TV-14       1933\n",
      "TV-PG        806\n",
      "R            665\n",
      "PG-13        386\n",
      "TV-Y         280\n",
      "TV-Y7        271\n",
      "PG           247\n",
      "TV-G         194\n",
      "NR            84\n",
      "G             39\n",
      "TV-Y7-FV       6\n",
      "UR             5\n",
      "NC-17          3\n",
      "Name: rating, dtype: int64\n"
     ]
    },
    {
     "data": {
      "image/png": "[encoded data removed]",
      "text/plain": [
       "<Figure size 720x720 with 1 Axes>"
      ]
     },
     "metadata": {},
     "output_type": "display_data"
    }
   ],
   "source": [
    "## Which ratings are mostly on tv shows and movies\n",
    "print(df[\"rating\"].value_counts())\n",
    "plt.figure(figsize=(10,10))\n",
    "sns.countplot(x=\"rating\",data=df,edgecolor=\"black\");"
   ]
  },
  {
   "cell_type": "code",
   "execution_count": 41,
   "id": "3e807f53",
   "metadata": {
    "execution": {
     "iopub.execute_input": "2023-01-31T12:11:47.131756Z",
     "iopub.status.busy": "2023-01-31T12:11:47.131026Z",
     "iopub.status.idle": "2023-01-31T12:11:47.448683Z",
     "shell.execute_reply": "2023-01-31T12:11:47.447501Z"
    },
    "papermill": {
     "duration": 0.346583,
     "end_time": "2023-01-31T12:11:47.451047",
     "exception": false,
     "start_time": "2023-01-31T12:11:47.104464",
     "status": "completed"
    },
    "tags": []
   },
   "outputs": [
    {
     "name": "stdout",
     "output_type": "stream",
     "text": [
      "December     833\n",
      "October      785\n",
      "January      757\n",
      "November     738\n",
      "March        679\n",
      "September    619\n",
      "August       618\n",
      "April        601\n",
      "July         600\n",
      "May          543\n",
      "June         542\n",
      "February     472\n",
      "Name: month_name, dtype: int64\n"
     ]
    },
    {
     "data": {
      "image/png": "[encoded data removed]",
      "text/plain": [
       "<Figure size 720x720 with 1 Axes>"
      ]
     },
     "metadata": {},
     "output_type": "display_data"
    }
   ],
   "source": [
    "### In which month mostly movies or Tv shows are Aired \n",
    "print(df[\"month_name\"].value_counts())\n",
    "plt.figure(figsize=(10,10))\n",
    "sns.countplot(x=\"month_name\",data=df,edgecolor=\"black\")\n",
    "plt.xticks(rotation=45);"
   ]
  },
  {
   "cell_type": "markdown",
   "id": "4118d373",
   "metadata": {
    "papermill": {
     "duration": 0.025818,
     "end_time": "2023-01-31T12:11:47.503127",
     "exception": false,
     "start_time": "2023-01-31T12:11:47.477309",
     "status": "completed"
    },
    "tags": []
   },
   "source": [
    "#### In December month mostly movies and Tv shows are Aired "
   ]
  },
  {
   "cell_type": "code",
   "execution_count": 42,
   "id": "e33689e3",
   "metadata": {
    "execution": {
     "iopub.execute_input": "2023-01-31T12:11:47.557261Z",
     "iopub.status.busy": "2023-01-31T12:11:47.556832Z",
     "iopub.status.idle": "2023-01-31T12:11:47.812553Z",
     "shell.execute_reply": "2023-01-31T12:11:47.811313Z"
    },
    "papermill": {
     "duration": 0.285595,
     "end_time": "2023-01-31T12:11:47.814955",
     "exception": false,
     "start_time": "2023-01-31T12:11:47.529360",
     "status": "completed"
    },
    "tags": []
   },
   "outputs": [
    {
     "name": "stdout",
     "output_type": "stream",
     "text": [
      "Friday       2297\n",
      "Thursday     1147\n",
      "Tuesday      1070\n",
      "Wednesday    1020\n",
      "Monday        814\n",
      "Saturday      731\n",
      "Sunday        708\n",
      "Name: Day, dtype: int64\n"
     ]
    },
    {
     "data": {
      "image/png": "[encoded data removed]",
      "text/plain": [
       "<Figure size 720x720 with 1 Axes>"
      ]
     },
     "metadata": {},
     "output_type": "display_data"
    }
   ],
   "source": [
    "#### On which day mostly movies and Tv shows are released\n",
    "print(df[\"Day\"].value_counts())\n",
    "plt.figure(figsize=(10,10))\n",
    "sns.countplot(x=\"Day\",data=df,edgecolor=\"black\")\n",
    "plt.xticks(rotation=45);\n"
   ]
  },
  {
   "cell_type": "markdown",
   "id": "abb90b60",
   "metadata": {
    "papermill": {
     "duration": 0.026371,
     "end_time": "2023-01-31T12:11:47.868033",
     "exception": false,
     "start_time": "2023-01-31T12:11:47.841662",
     "status": "completed"
    },
    "tags": []
   },
   "source": [
    "#### Most Tv shows and Movies are released on Fridays"
   ]
  },
  {
   "cell_type": "code",
   "execution_count": 43,
   "id": "52332a51",
   "metadata": {
    "execution": {
     "iopub.execute_input": "2023-01-31T12:11:47.923413Z",
     "iopub.status.busy": "2023-01-31T12:11:47.922631Z",
     "iopub.status.idle": "2023-01-31T12:11:47.930325Z",
     "shell.execute_reply": "2023-01-31T12:11:47.929292Z"
    },
    "papermill": {
     "duration": 0.03774,
     "end_time": "2023-01-31T12:11:47.932423",
     "exception": false,
     "start_time": "2023-01-31T12:11:47.894683",
     "status": "completed"
    },
    "tags": []
   },
   "outputs": [
    {
     "data": {
      "text/plain": [
       "69.12276871709258"
      ]
     },
     "execution_count": 43,
     "metadata": {},
     "output_type": "execute_result"
    }
   ],
   "source": [
    "### what were the average duration of all the movies and Tv shows\n",
    "df[\"duration\"].mean()"
   ]
  },
  {
   "cell_type": "code",
   "execution_count": 44,
   "id": "6011f23a",
   "metadata": {
    "execution": {
     "iopub.execute_input": "2023-01-31T12:11:47.987356Z",
     "iopub.status.busy": "2023-01-31T12:11:47.986593Z",
     "iopub.status.idle": "2023-01-31T12:11:48.006600Z",
     "shell.execute_reply": "2023-01-31T12:11:48.005813Z"
    },
    "papermill": {
     "duration": 0.049692,
     "end_time": "2023-01-31T12:11:48.008557",
     "exception": false,
     "start_time": "2023-01-31T12:11:47.958865",
     "status": "completed"
    },
    "tags": []
   },
   "outputs": [
    {
     "data": {
      "text/html": [
       "<div>\n",
       "<style scoped>\n",
       "    .dataframe tbody tr th:only-of-type {\n",
       "        vertical-align: middle;\n",
       "    }\n",
       "\n",
       "    .dataframe tbody tr th {\n",
       "        vertical-align: top;\n",
       "    }\n",
       "\n",
       "    .dataframe thead th {\n",
       "        text-align: right;\n",
       "    }\n",
       "</style>\n",
       "<table border=\"1\" class=\"dataframe\">\n",
       "  <thead>\n",
       "    <tr style=\"text-align: right;\">\n",
       "      <th></th>\n",
       "      <th>type</th>\n",
       "      <th>title</th>\n",
       "      <th>director</th>\n",
       "      <th>country</th>\n",
       "      <th>date_added</th>\n",
       "      <th>release_year</th>\n",
       "      <th>rating</th>\n",
       "      <th>duration</th>\n",
       "      <th>genres</th>\n",
       "      <th>description</th>\n",
       "      <th>month_name</th>\n",
       "      <th>Day</th>\n",
       "      <th>weekday</th>\n",
       "      <th>genres1</th>\n",
       "      <th>genres2</th>\n",
       "      <th>genres3</th>\n",
       "    </tr>\n",
       "  </thead>\n",
       "  <tbody>\n",
       "    <tr>\n",
       "      <th>7741</th>\n",
       "      <td>Movie</td>\n",
       "      <td>Black Mirror: Bandersnatch</td>\n",
       "      <td>Unidentified</td>\n",
       "      <td>United States</td>\n",
       "      <td>2018-12-28</td>\n",
       "      <td>2018</td>\n",
       "      <td>TV-MA</td>\n",
       "      <td>312</td>\n",
       "      <td>Dramas, International Movies, Sci-Fi &amp; Fantasy</td>\n",
       "      <td>In 1984, a young programmer begins to question...</td>\n",
       "      <td>December</td>\n",
       "      <td>Friday</td>\n",
       "      <td>4</td>\n",
       "      <td>Dramas</td>\n",
       "      <td>International Movies</td>\n",
       "      <td>Sci-Fi &amp; Fantasy</td>\n",
       "    </tr>\n",
       "  </tbody>\n",
       "</table>\n",
       "</div>"
      ],
      "text/plain": [
       "       type                       title      director        country  \\\n",
       "7741  Movie  Black Mirror: Bandersnatch  Unidentified  United States   \n",
       "\n",
       "     date_added  release_year rating  duration  \\\n",
       "7741 2018-12-28          2018  TV-MA       312   \n",
       "\n",
       "                                              genres  \\\n",
       "7741  Dramas, International Movies, Sci-Fi & Fantasy   \n",
       "\n",
       "                                            description month_name     Day  \\\n",
       "7741  In 1984, a young programmer begins to question...   December  Friday   \n",
       "\n",
       "      weekday genres1                genres2            genres3  \n",
       "7741        4  Dramas   International Movies   Sci-Fi & Fantasy  "
      ]
     },
     "execution_count": 44,
     "metadata": {},
     "output_type": "execute_result"
    }
   ],
   "source": [
    "### Which is the maximum and minimum duration movie\n",
    "df[df[\"duration\"]==df[\"duration\"].max()]"
   ]
  },
  {
   "cell_type": "code",
   "execution_count": 45,
   "id": "95a984f1",
   "metadata": {
    "execution": {
     "iopub.execute_input": "2023-01-31T12:11:48.064688Z",
     "iopub.status.busy": "2023-01-31T12:11:48.063966Z",
     "iopub.status.idle": "2023-01-31T12:11:48.092258Z",
     "shell.execute_reply": "2023-01-31T12:11:48.091131Z"
    },
    "papermill": {
     "duration": 0.059209,
     "end_time": "2023-01-31T12:11:48.094902",
     "exception": false,
     "start_time": "2023-01-31T12:11:48.035693",
     "status": "completed"
    },
    "tags": []
   },
   "outputs": [
    {
     "data": {
      "text/html": [
       "<div>\n",
       "<style scoped>\n",
       "    .dataframe tbody tr th:only-of-type {\n",
       "        vertical-align: middle;\n",
       "    }\n",
       "\n",
       "    .dataframe tbody tr th {\n",
       "        vertical-align: top;\n",
       "    }\n",
       "\n",
       "    .dataframe thead th {\n",
       "        text-align: right;\n",
       "    }\n",
       "</style>\n",
       "<table border=\"1\" class=\"dataframe\">\n",
       "  <thead>\n",
       "    <tr style=\"text-align: right;\">\n",
       "      <th></th>\n",
       "      <th>type</th>\n",
       "      <th>title</th>\n",
       "      <th>director</th>\n",
       "      <th>country</th>\n",
       "      <th>date_added</th>\n",
       "      <th>release_year</th>\n",
       "      <th>rating</th>\n",
       "      <th>duration</th>\n",
       "      <th>genres</th>\n",
       "      <th>description</th>\n",
       "      <th>month_name</th>\n",
       "      <th>Day</th>\n",
       "      <th>weekday</th>\n",
       "      <th>genres1</th>\n",
       "      <th>genres2</th>\n",
       "      <th>genres3</th>\n",
       "    </tr>\n",
       "  </thead>\n",
       "  <tbody>\n",
       "    <tr>\n",
       "      <th>4</th>\n",
       "      <td>TV Show</td>\n",
       "      <td>Blue Planet II</td>\n",
       "      <td>Unidentified</td>\n",
       "      <td>United Kingdom</td>\n",
       "      <td>2018-12-03</td>\n",
       "      <td>2017</td>\n",
       "      <td>TV-G</td>\n",
       "      <td>1</td>\n",
       "      <td>British TV Shows, Docuseries, Science &amp; Nature TV</td>\n",
       "      <td>This sequel to the award-winning nature series...</td>\n",
       "      <td>December</td>\n",
       "      <td>Monday</td>\n",
       "      <td>0</td>\n",
       "      <td>British TV Shows</td>\n",
       "      <td>Docuseries</td>\n",
       "      <td>Science &amp; Nature TV</td>\n",
       "    </tr>\n",
       "    <tr>\n",
       "      <th>10</th>\n",
       "      <td>TV Show</td>\n",
       "      <td>BNA</td>\n",
       "      <td>Unidentified</td>\n",
       "      <td>Japan</td>\n",
       "      <td>2020-06-30</td>\n",
       "      <td>2020</td>\n",
       "      <td>TV-14</td>\n",
       "      <td>1</td>\n",
       "      <td>Anime Series, International TV Shows</td>\n",
       "      <td>Morphed into a raccoon beastman, Michiru seeks...</td>\n",
       "      <td>June</td>\n",
       "      <td>Tuesday</td>\n",
       "      <td>1</td>\n",
       "      <td>Anime Series</td>\n",
       "      <td>International TV Shows</td>\n",
       "      <td>None</td>\n",
       "    </tr>\n",
       "    <tr>\n",
       "      <th>15</th>\n",
       "      <td>TV Show</td>\n",
       "      <td>Bo on the Go!</td>\n",
       "      <td>Unidentified</td>\n",
       "      <td>Canada</td>\n",
       "      <td>2019-03-21</td>\n",
       "      <td>2007</td>\n",
       "      <td>TV-Y</td>\n",
       "      <td>1</td>\n",
       "      <td>Kids' TV</td>\n",
       "      <td>Staying at home doesn't mean sitting still for...</td>\n",
       "      <td>March</td>\n",
       "      <td>Thursday</td>\n",
       "      <td>3</td>\n",
       "      <td>Kids' TV</td>\n",
       "      <td>None</td>\n",
       "      <td>None</td>\n",
       "    </tr>\n",
       "    <tr>\n",
       "      <th>17</th>\n",
       "      <td>TV Show</td>\n",
       "      <td>Bob Ross: Beauty Is Everywhere</td>\n",
       "      <td>Unidentified</td>\n",
       "      <td>Missing</td>\n",
       "      <td>2016-06-01</td>\n",
       "      <td>1991</td>\n",
       "      <td>TV-G</td>\n",
       "      <td>1</td>\n",
       "      <td>TV Shows</td>\n",
       "      <td>\"The Joy of Painting\" host Bob Ross brings his...</td>\n",
       "      <td>June</td>\n",
       "      <td>Wednesday</td>\n",
       "      <td>2</td>\n",
       "      <td>TV Shows</td>\n",
       "      <td>None</td>\n",
       "      <td>None</td>\n",
       "    </tr>\n",
       "    <tr>\n",
       "      <th>23</th>\n",
       "      <td>TV Show</td>\n",
       "      <td>Bobby Kennedy for President</td>\n",
       "      <td>Dawn Porter</td>\n",
       "      <td>Missing</td>\n",
       "      <td>2018-04-27</td>\n",
       "      <td>2018</td>\n",
       "      <td>TV-MA</td>\n",
       "      <td>1</td>\n",
       "      <td>Docuseries</td>\n",
       "      <td>Historic footage and leading voices of the era...</td>\n",
       "      <td>April</td>\n",
       "      <td>Friday</td>\n",
       "      <td>4</td>\n",
       "      <td>Docuseries</td>\n",
       "      <td>None</td>\n",
       "      <td>None</td>\n",
       "    </tr>\n",
       "    <tr>\n",
       "      <th>...</th>\n",
       "      <td>...</td>\n",
       "      <td>...</td>\n",
       "      <td>...</td>\n",
       "      <td>...</td>\n",
       "      <td>...</td>\n",
       "      <td>...</td>\n",
       "      <td>...</td>\n",
       "      <td>...</td>\n",
       "      <td>...</td>\n",
       "      <td>...</td>\n",
       "      <td>...</td>\n",
       "      <td>...</td>\n",
       "      <td>...</td>\n",
       "      <td>...</td>\n",
       "      <td>...</td>\n",
       "      <td>...</td>\n",
       "    </tr>\n",
       "    <tr>\n",
       "      <th>7772</th>\n",
       "      <td>TV Show</td>\n",
       "      <td>Blood &amp; Water</td>\n",
       "      <td>Unidentified</td>\n",
       "      <td>South Africa</td>\n",
       "      <td>2020-05-20</td>\n",
       "      <td>2020</td>\n",
       "      <td>TV-MA</td>\n",
       "      <td>1</td>\n",
       "      <td>International TV Shows, TV Dramas, TV Mysteries</td>\n",
       "      <td>After crossing paths at a party, a Cape Town t...</td>\n",
       "      <td>May</td>\n",
       "      <td>Wednesday</td>\n",
       "      <td>2</td>\n",
       "      <td>International TV Shows</td>\n",
       "      <td>TV Dramas</td>\n",
       "      <td>TV Mysteries</td>\n",
       "    </tr>\n",
       "    <tr>\n",
       "      <th>7775</th>\n",
       "      <td>TV Show</td>\n",
       "      <td>Blood of Zeus</td>\n",
       "      <td>Unidentified</td>\n",
       "      <td>United States</td>\n",
       "      <td>2020-10-27</td>\n",
       "      <td>2020</td>\n",
       "      <td>TV-MA</td>\n",
       "      <td>1</td>\n",
       "      <td>Anime Series</td>\n",
       "      <td>A commoner living in ancient Greece, Heron dis...</td>\n",
       "      <td>October</td>\n",
       "      <td>Tuesday</td>\n",
       "      <td>1</td>\n",
       "      <td>Anime Series</td>\n",
       "      <td>None</td>\n",
       "      <td>None</td>\n",
       "    </tr>\n",
       "    <tr>\n",
       "      <th>7777</th>\n",
       "      <td>TV Show</td>\n",
       "      <td>Blood Pact</td>\n",
       "      <td>Unidentified</td>\n",
       "      <td>Brazil</td>\n",
       "      <td>2018-10-10</td>\n",
       "      <td>2018</td>\n",
       "      <td>TV-MA</td>\n",
       "      <td>1</td>\n",
       "      <td>Crime TV Shows, International TV Shows, TV Dramas</td>\n",
       "      <td>An ambitious TV reporter uses risky and ethica...</td>\n",
       "      <td>October</td>\n",
       "      <td>Wednesday</td>\n",
       "      <td>2</td>\n",
       "      <td>Crime TV Shows</td>\n",
       "      <td>International TV Shows</td>\n",
       "      <td>TV Dramas</td>\n",
       "    </tr>\n",
       "    <tr>\n",
       "      <th>7780</th>\n",
       "      <td>TV Show</td>\n",
       "      <td>Bloodride</td>\n",
       "      <td>Unidentified</td>\n",
       "      <td>Norway</td>\n",
       "      <td>2020-03-13</td>\n",
       "      <td>2020</td>\n",
       "      <td>TV-MA</td>\n",
       "      <td>1</td>\n",
       "      <td>International TV Shows, TV Horror, TV Mysteries</td>\n",
       "      <td>The doomed passengers aboard a spectral bus he...</td>\n",
       "      <td>March</td>\n",
       "      <td>Friday</td>\n",
       "      <td>4</td>\n",
       "      <td>International TV Shows</td>\n",
       "      <td>TV Horror</td>\n",
       "      <td>TV Mysteries</td>\n",
       "    </tr>\n",
       "    <tr>\n",
       "      <th>7782</th>\n",
       "      <td>TV Show</td>\n",
       "      <td>Blown Away</td>\n",
       "      <td>Unidentified</td>\n",
       "      <td>Canada</td>\n",
       "      <td>2019-07-12</td>\n",
       "      <td>2019</td>\n",
       "      <td>TV-14</td>\n",
       "      <td>1</td>\n",
       "      <td>International TV Shows, Reality TV</td>\n",
       "      <td>Ten master artists turn up the heat in glassbl...</td>\n",
       "      <td>July</td>\n",
       "      <td>Friday</td>\n",
       "      <td>4</td>\n",
       "      <td>International TV Shows</td>\n",
       "      <td>Reality TV</td>\n",
       "      <td>None</td>\n",
       "    </tr>\n",
       "  </tbody>\n",
       "</table>\n",
       "<p>1608 rows × 16 columns</p>\n",
       "</div>"
      ],
      "text/plain": [
       "         type                           title      director         country  \\\n",
       "4     TV Show                  Blue Planet II  Unidentified  United Kingdom   \n",
       "10    TV Show                             BNA  Unidentified           Japan   \n",
       "15    TV Show                   Bo on the Go!  Unidentified          Canada   \n",
       "17    TV Show  Bob Ross: Beauty Is Everywhere  Unidentified         Missing   \n",
       "23    TV Show     Bobby Kennedy for President   Dawn Porter         Missing   \n",
       "...       ...                             ...           ...             ...   \n",
       "7772  TV Show                   Blood & Water  Unidentified    South Africa   \n",
       "7775  TV Show                   Blood of Zeus  Unidentified   United States   \n",
       "7777  TV Show                      Blood Pact  Unidentified          Brazil   \n",
       "7780  TV Show                       Bloodride  Unidentified          Norway   \n",
       "7782  TV Show                      Blown Away  Unidentified          Canada   \n",
       "\n",
       "     date_added  release_year rating  duration  \\\n",
       "4    2018-12-03          2017   TV-G         1   \n",
       "10   2020-06-30          2020  TV-14         1   \n",
       "15   2019-03-21          2007   TV-Y         1   \n",
       "17   2016-06-01          1991   TV-G         1   \n",
       "23   2018-04-27          2018  TV-MA         1   \n",
       "...         ...           ...    ...       ...   \n",
       "7772 2020-05-20          2020  TV-MA         1   \n",
       "7775 2020-10-27          2020  TV-MA         1   \n",
       "7777 2018-10-10          2018  TV-MA         1   \n",
       "7780 2020-03-13          2020  TV-MA         1   \n",
       "7782 2019-07-12          2019  TV-14         1   \n",
       "\n",
       "                                                 genres  \\\n",
       "4     British TV Shows, Docuseries, Science & Nature TV   \n",
       "10                 Anime Series, International TV Shows   \n",
       "15                                             Kids' TV   \n",
       "17                                             TV Shows   \n",
       "23                                           Docuseries   \n",
       "...                                                 ...   \n",
       "7772    International TV Shows, TV Dramas, TV Mysteries   \n",
       "7775                                       Anime Series   \n",
       "7777  Crime TV Shows, International TV Shows, TV Dramas   \n",
       "7780    International TV Shows, TV Horror, TV Mysteries   \n",
       "7782                 International TV Shows, Reality TV   \n",
       "\n",
       "                                            description month_name        Day  \\\n",
       "4     This sequel to the award-winning nature series...   December     Monday   \n",
       "10    Morphed into a raccoon beastman, Michiru seeks...       June    Tuesday   \n",
       "15    Staying at home doesn't mean sitting still for...      March   Thursday   \n",
       "17    \"The Joy of Painting\" host Bob Ross brings his...       June  Wednesday   \n",
       "23    Historic footage and leading voices of the era...      April     Friday   \n",
       "...                                                 ...        ...        ...   \n",
       "7772  After crossing paths at a party, a Cape Town t...        May  Wednesday   \n",
       "7775  A commoner living in ancient Greece, Heron dis...    October    Tuesday   \n",
       "7777  An ambitious TV reporter uses risky and ethica...    October  Wednesday   \n",
       "7780  The doomed passengers aboard a spectral bus he...      March     Friday   \n",
       "7782  Ten master artists turn up the heat in glassbl...       July     Friday   \n",
       "\n",
       "      weekday                 genres1                  genres2  \\\n",
       "4           0        British TV Shows               Docuseries   \n",
       "10          1            Anime Series   International TV Shows   \n",
       "15          3                Kids' TV                     None   \n",
       "17          2                TV Shows                     None   \n",
       "23          4              Docuseries                     None   \n",
       "...       ...                     ...                      ...   \n",
       "7772        2  International TV Shows                TV Dramas   \n",
       "7775        1            Anime Series                     None   \n",
       "7777        2          Crime TV Shows   International TV Shows   \n",
       "7780        4  International TV Shows                TV Horror   \n",
       "7782        4  International TV Shows               Reality TV   \n",
       "\n",
       "                   genres3  \n",
       "4      Science & Nature TV  \n",
       "10                    None  \n",
       "15                    None  \n",
       "17                    None  \n",
       "23                    None  \n",
       "...                    ...  \n",
       "7772          TV Mysteries  \n",
       "7775                  None  \n",
       "7777             TV Dramas  \n",
       "7780          TV Mysteries  \n",
       "7782                  None  \n",
       "\n",
       "[1608 rows x 16 columns]"
      ]
     },
     "execution_count": 45,
     "metadata": {},
     "output_type": "execute_result"
    }
   ],
   "source": [
    "df[df[\"duration\"]==df[\"duration\"].min()]"
   ]
  },
  {
   "cell_type": "code",
   "execution_count": 46,
   "id": "72e1473b",
   "metadata": {
    "execution": {
     "iopub.execute_input": "2023-01-31T12:11:48.151658Z",
     "iopub.status.busy": "2023-01-31T12:11:48.151253Z",
     "iopub.status.idle": "2023-01-31T12:11:48.159328Z",
     "shell.execute_reply": "2023-01-31T12:11:48.158229Z"
    },
    "papermill": {
     "duration": 0.039406,
     "end_time": "2023-01-31T12:11:48.161689",
     "exception": false,
     "start_time": "2023-01-31T12:11:48.122283",
     "status": "completed"
    },
    "tags": []
   },
   "outputs": [
    {
     "data": {
      "text/plain": [
       "array([4, 5, 1, 0, 3, 6, 2])"
      ]
     },
     "execution_count": 46,
     "metadata": {},
     "output_type": "execute_result"
    }
   ],
   "source": [
    "#### find the weekday and weekend movies and tv shows of each month\n",
    "df[\"weekday\"].unique()"
   ]
  },
  {
   "cell_type": "code",
   "execution_count": 47,
   "id": "585dfe99",
   "metadata": {
    "execution": {
     "iopub.execute_input": "2023-01-31T12:11:48.219059Z",
     "iopub.status.busy": "2023-01-31T12:11:48.218676Z",
     "iopub.status.idle": "2023-01-31T12:11:48.745041Z",
     "shell.execute_reply": "2023-01-31T12:11:48.743875Z"
    },
    "papermill": {
     "duration": 0.558,
     "end_time": "2023-01-31T12:11:48.747456",
     "exception": false,
     "start_time": "2023-01-31T12:11:48.189456",
     "status": "completed"
    },
    "tags": []
   },
   "outputs": [
    {
     "name": "stdout",
     "output_type": "stream",
     "text": [
      "Total weekdays release are month_name  weekday\n",
      "April       4          153\n",
      "            2          110\n",
      "            0           74\n",
      "            1           65\n",
      "            3           55\n",
      "August      4          148\n",
      "            3          146\n",
      "            1           89\n",
      "            2           80\n",
      "            0           71\n",
      "December    4          204\n",
      "            1          179\n",
      "            3          100\n",
      "            0           79\n",
      "            2           66\n",
      "February    4          169\n",
      "            2           86\n",
      "            3           70\n",
      "            1           43\n",
      "            0           29\n",
      "January     4          224\n",
      "            2          176\n",
      "            1          108\n",
      "            0          105\n",
      "            3           62\n",
      "July        4          153\n",
      "            0           88\n",
      "            2           75\n",
      "            3           61\n",
      "            1           48\n",
      "June        4          163\n",
      "            3          112\n",
      "            0           60\n",
      "            1           54\n",
      "            2           47\n",
      "March       4          265\n",
      "            3          158\n",
      "            2           75\n",
      "            1           70\n",
      "            0           25\n",
      "May         4          162\n",
      "            1          100\n",
      "            3           76\n",
      "            0           75\n",
      "            2           66\n",
      "November    4          267\n",
      "            3          135\n",
      "            2          114\n",
      "            1           85\n",
      "            0           39\n",
      "October     4          191\n",
      "            1          140\n",
      "            0          122\n",
      "            3           98\n",
      "            2           60\n",
      "September   4          198\n",
      "            1           89\n",
      "            3           74\n",
      "            2           65\n",
      "            0           47\n",
      "Name: weekday, dtype: int64\n"
     ]
    },
    {
     "data": {
      "image/png": "[encoded data removed]",
      "text/plain": [
       "<Figure size 1000x1000 with 1 Axes>"
      ]
     },
     "metadata": {},
     "output_type": "display_data"
    }
   ],
   "source": [
    "week_t=df[df[\"weekday\"]<5]\n",
    "weekend_t=df[df[\"weekday\"]>=5]\n",
    "print(\"Total weekdays release are\",week_t.groupby(\"month_name\")[\"weekday\"].value_counts())\n",
    "plt.figure(figsize=(10,10),dpi=100)\n",
    "sns.countplot(x=\"month_name\",hue=\"weekday\",data=week_t,edgecolor=\"black\")\n",
    "plt.xticks(rotation=45);"
   ]
  },
  {
   "cell_type": "code",
   "execution_count": 48,
   "id": "d08a5785",
   "metadata": {
    "execution": {
     "iopub.execute_input": "2023-01-31T12:11:48.807045Z",
     "iopub.status.busy": "2023-01-31T12:11:48.806263Z",
     "iopub.status.idle": "2023-01-31T12:11:48.820711Z",
     "shell.execute_reply": "2023-01-31T12:11:48.819566Z"
    },
    "papermill": {
     "duration": 0.047017,
     "end_time": "2023-01-31T12:11:48.823178",
     "exception": false,
     "start_time": "2023-01-31T12:11:48.776161",
     "status": "completed"
    },
    "tags": []
   },
   "outputs": [
    {
     "data": {
      "text/html": [
       "<div>\n",
       "<style scoped>\n",
       "    .dataframe tbody tr th:only-of-type {\n",
       "        vertical-align: middle;\n",
       "    }\n",
       "\n",
       "    .dataframe tbody tr th {\n",
       "        vertical-align: top;\n",
       "    }\n",
       "\n",
       "    .dataframe thead th {\n",
       "        text-align: right;\n",
       "    }\n",
       "</style>\n",
       "<table border=\"1\" class=\"dataframe\">\n",
       "  <thead>\n",
       "    <tr style=\"text-align: right;\">\n",
       "      <th></th>\n",
       "      <th>month_name</th>\n",
       "      <th>weekday</th>\n",
       "    </tr>\n",
       "  </thead>\n",
       "  <tbody>\n",
       "    <tr>\n",
       "      <th>0</th>\n",
       "      <td>November</td>\n",
       "      <td>1786</td>\n",
       "    </tr>\n",
       "    <tr>\n",
       "      <th>1</th>\n",
       "      <td>March</td>\n",
       "      <td>1754</td>\n",
       "    </tr>\n",
       "    <tr>\n",
       "      <th>2</th>\n",
       "      <td>January</td>\n",
       "      <td>1542</td>\n",
       "    </tr>\n",
       "    <tr>\n",
       "      <th>3</th>\n",
       "      <td>December</td>\n",
       "      <td>1427</td>\n",
       "    </tr>\n",
       "    <tr>\n",
       "      <th>4</th>\n",
       "      <td>October</td>\n",
       "      <td>1318</td>\n",
       "    </tr>\n",
       "    <tr>\n",
       "      <th>5</th>\n",
       "      <td>August</td>\n",
       "      <td>1279</td>\n",
       "    </tr>\n",
       "    <tr>\n",
       "      <th>6</th>\n",
       "      <td>September</td>\n",
       "      <td>1233</td>\n",
       "    </tr>\n",
       "    <tr>\n",
       "      <th>7</th>\n",
       "      <td>June</td>\n",
       "      <td>1136</td>\n",
       "    </tr>\n",
       "    <tr>\n",
       "      <th>8</th>\n",
       "      <td>May</td>\n",
       "      <td>1108</td>\n",
       "    </tr>\n",
       "    <tr>\n",
       "      <th>9</th>\n",
       "      <td>February</td>\n",
       "      <td>1101</td>\n",
       "    </tr>\n",
       "    <tr>\n",
       "      <th>10</th>\n",
       "      <td>April</td>\n",
       "      <td>1062</td>\n",
       "    </tr>\n",
       "    <tr>\n",
       "      <th>11</th>\n",
       "      <td>July</td>\n",
       "      <td>993</td>\n",
       "    </tr>\n",
       "  </tbody>\n",
       "</table>\n",
       "</div>"
      ],
      "text/plain": [
       "   month_name  weekday\n",
       "0    November     1786\n",
       "1       March     1754\n",
       "2     January     1542\n",
       "3    December     1427\n",
       "4     October     1318\n",
       "5      August     1279\n",
       "6   September     1233\n",
       "7        June     1136\n",
       "8         May     1108\n",
       "9    February     1101\n",
       "10      April     1062\n",
       "11       July      993"
      ]
     },
     "execution_count": 48,
     "metadata": {},
     "output_type": "execute_result"
    }
   ],
   "source": [
    "week_t.groupby(\"month_name\")[\"weekday\"].sum().sort_values(ascending=False).reset_index()"
   ]
  },
  {
   "cell_type": "code",
   "execution_count": 49,
   "id": "a6f64f85",
   "metadata": {
    "execution": {
     "iopub.execute_input": "2023-01-31T12:11:48.883383Z",
     "iopub.status.busy": "2023-01-31T12:11:48.882586Z",
     "iopub.status.idle": "2023-01-31T12:11:49.273356Z",
     "shell.execute_reply": "2023-01-31T12:11:49.272160Z"
    },
    "papermill": {
     "duration": 0.424022,
     "end_time": "2023-01-31T12:11:49.276428",
     "exception": false,
     "start_time": "2023-01-31T12:11:48.852406",
     "status": "completed"
    },
    "tags": []
   },
   "outputs": [
    {
     "name": "stdout",
     "output_type": "stream",
     "text": [
      "Total weekend release are month_name  weekday\n",
      "December    6          113\n",
      "July        6          105\n",
      "October     6           96\n",
      "December    5           92\n",
      "June        5           83\n",
      "October     5           78\n",
      "April       5           78\n",
      "September   6           75\n",
      "            5           71\n",
      "July        5           70\n",
      "April       6           66\n",
      "August      5           62\n",
      "November    6           57\n",
      "January     6           49\n",
      "March       6           46\n",
      "February    5           44\n",
      "November    5           41\n",
      "March       5           40\n",
      "May         5           39\n",
      "January     5           33\n",
      "February    6           31\n",
      "May         6           25\n",
      "June        6           23\n",
      "August      6           22\n",
      "Name: weekday, dtype: int64\n"
     ]
    },
    {
     "data": {
      "image/png": "[encoded data removed]",
      "text/plain": [
       "<Figure size 1000x1000 with 1 Axes>"
      ]
     },
     "metadata": {},
     "output_type": "display_data"
    }
   ],
   "source": [
    "print(\"Total weekend release are\",weekend_t.groupby(\"month_name\")[\"weekday\"].value_counts().sort_values(ascending=False))\n",
    "plt.figure(figsize=(10,10),dpi=100)\n",
    "sns.countplot(x=\"month_name\",hue=\"weekday\",data=weekend_t,edgecolor=\"black\")\n",
    "plt.xticks(rotation=45);"
   ]
  },
  {
   "cell_type": "code",
   "execution_count": 50,
   "id": "871b518e",
   "metadata": {
    "execution": {
     "iopub.execute_input": "2023-01-31T12:11:49.338325Z",
     "iopub.status.busy": "2023-01-31T12:11:49.337900Z",
     "iopub.status.idle": "2023-01-31T12:11:49.352102Z",
     "shell.execute_reply": "2023-01-31T12:11:49.350902Z"
    },
    "papermill": {
     "duration": 0.048184,
     "end_time": "2023-01-31T12:11:49.354552",
     "exception": false,
     "start_time": "2023-01-31T12:11:49.306368",
     "status": "completed"
    },
    "tags": []
   },
   "outputs": [
    {
     "data": {
      "text/html": [
       "<div>\n",
       "<style scoped>\n",
       "    .dataframe tbody tr th:only-of-type {\n",
       "        vertical-align: middle;\n",
       "    }\n",
       "\n",
       "    .dataframe tbody tr th {\n",
       "        vertical-align: top;\n",
       "    }\n",
       "\n",
       "    .dataframe thead th {\n",
       "        text-align: right;\n",
       "    }\n",
       "</style>\n",
       "<table border=\"1\" class=\"dataframe\">\n",
       "  <thead>\n",
       "    <tr style=\"text-align: right;\">\n",
       "      <th></th>\n",
       "      <th>month_name</th>\n",
       "      <th>weekday</th>\n",
       "    </tr>\n",
       "  </thead>\n",
       "  <tbody>\n",
       "    <tr>\n",
       "      <th>0</th>\n",
       "      <td>December</td>\n",
       "      <td>1138</td>\n",
       "    </tr>\n",
       "    <tr>\n",
       "      <th>1</th>\n",
       "      <td>July</td>\n",
       "      <td>980</td>\n",
       "    </tr>\n",
       "    <tr>\n",
       "      <th>2</th>\n",
       "      <td>October</td>\n",
       "      <td>966</td>\n",
       "    </tr>\n",
       "    <tr>\n",
       "      <th>3</th>\n",
       "      <td>September</td>\n",
       "      <td>805</td>\n",
       "    </tr>\n",
       "    <tr>\n",
       "      <th>4</th>\n",
       "      <td>April</td>\n",
       "      <td>786</td>\n",
       "    </tr>\n",
       "    <tr>\n",
       "      <th>5</th>\n",
       "      <td>June</td>\n",
       "      <td>553</td>\n",
       "    </tr>\n",
       "    <tr>\n",
       "      <th>6</th>\n",
       "      <td>November</td>\n",
       "      <td>547</td>\n",
       "    </tr>\n",
       "    <tr>\n",
       "      <th>7</th>\n",
       "      <td>March</td>\n",
       "      <td>476</td>\n",
       "    </tr>\n",
       "    <tr>\n",
       "      <th>8</th>\n",
       "      <td>January</td>\n",
       "      <td>459</td>\n",
       "    </tr>\n",
       "    <tr>\n",
       "      <th>9</th>\n",
       "      <td>August</td>\n",
       "      <td>442</td>\n",
       "    </tr>\n",
       "    <tr>\n",
       "      <th>10</th>\n",
       "      <td>February</td>\n",
       "      <td>406</td>\n",
       "    </tr>\n",
       "    <tr>\n",
       "      <th>11</th>\n",
       "      <td>May</td>\n",
       "      <td>345</td>\n",
       "    </tr>\n",
       "  </tbody>\n",
       "</table>\n",
       "</div>"
      ],
      "text/plain": [
       "   month_name  weekday\n",
       "0    December     1138\n",
       "1        July      980\n",
       "2     October      966\n",
       "3   September      805\n",
       "4       April      786\n",
       "5        June      553\n",
       "6    November      547\n",
       "7       March      476\n",
       "8     January      459\n",
       "9      August      442\n",
       "10   February      406\n",
       "11        May      345"
      ]
     },
     "execution_count": 50,
     "metadata": {},
     "output_type": "execute_result"
    }
   ],
   "source": [
    "weekend_t.groupby(\"month_name\")[\"weekday\"].sum().sort_values(ascending=False).reset_index()"
   ]
  },
  {
   "cell_type": "code",
   "execution_count": 51,
   "id": "c64f0727",
   "metadata": {
    "execution": {
     "iopub.execute_input": "2023-01-31T12:11:49.418273Z",
     "iopub.status.busy": "2023-01-31T12:11:49.417439Z",
     "iopub.status.idle": "2023-01-31T12:11:49.432024Z",
     "shell.execute_reply": "2023-01-31T12:11:49.430713Z"
    },
    "papermill": {
     "duration": 0.04915,
     "end_time": "2023-01-31T12:11:49.435026",
     "exception": false,
     "start_time": "2023-01-31T12:11:49.385876",
     "status": "completed"
    },
    "tags": []
   },
   "outputs": [
    {
     "name": "stdout",
     "output_type": "stream",
     "text": [
      "type     country       \n",
      "TV Show  United States     705\n",
      "         Missing           277\n",
      "         United Kingdom    204\n",
      "         Japan             157\n",
      "         South Korea       147\n",
      "         India              71\n",
      "         Taiwan             68\n",
      "         Canada             59\n",
      "         Australia          46\n",
      "         France             46\n",
      "Name: country, dtype: int64\n"
     ]
    }
   ],
   "source": [
    "### Tv shows are mostly produced by which country\n",
    "tv=df[df[\"type\"]==\"TV Show\"]\n",
    "print(tv.groupby(\"type\")[\"country\"].value_counts().head(10))\n"
   ]
  },
  {
   "cell_type": "code",
   "execution_count": 52,
   "id": "9354eb90",
   "metadata": {
    "execution": {
     "iopub.execute_input": "2023-01-31T12:11:49.498142Z",
     "iopub.status.busy": "2023-01-31T12:11:49.497707Z",
     "iopub.status.idle": "2023-01-31T12:11:49.512955Z",
     "shell.execute_reply": "2023-01-31T12:11:49.511143Z"
    },
    "papermill": {
     "duration": 0.049762,
     "end_time": "2023-01-31T12:11:49.515922",
     "exception": false,
     "start_time": "2023-01-31T12:11:49.466160",
     "status": "completed"
    },
    "tags": []
   },
   "outputs": [
    {
     "name": "stdout",
     "output_type": "stream",
     "text": [
      "type   country       \n",
      "Movie  United States     1850\n",
      "       India              852\n",
      "       Missing            230\n",
      "       United Kingdom     193\n",
      "       Canada             118\n",
      "       Egypt               89\n",
      "       Spain               89\n",
      "       Turkey              73\n",
      "       Philippines         70\n",
      "       France              69\n",
      "Name: country, dtype: int64\n"
     ]
    }
   ],
   "source": [
    "movie=df[df[\"type\"]==\"Movie\"]\n",
    "print(movie.groupby(\"type\")[\"country\"].value_counts().head(10))"
   ]
  },
  {
   "cell_type": "markdown",
   "id": "a62c09d0",
   "metadata": {
    "papermill": {
     "duration": 0.030259,
     "end_time": "2023-01-31T12:11:49.576942",
     "exception": false,
     "start_time": "2023-01-31T12:11:49.546683",
     "status": "completed"
    },
    "tags": []
   },
   "source": [
    "#### United states produced most of the Tv shows and Movies where as India has also contributed a good amount of movies "
   ]
  },
  {
   "cell_type": "code",
   "execution_count": 53,
   "id": "c211b323",
   "metadata": {
    "execution": {
     "iopub.execute_input": "2023-01-31T12:11:49.639629Z",
     "iopub.status.busy": "2023-01-31T12:11:49.639245Z",
     "iopub.status.idle": "2023-01-31T12:11:50.166675Z",
     "shell.execute_reply": "2023-01-31T12:11:50.165384Z"
    },
    "papermill": {
     "duration": 0.562062,
     "end_time": "2023-01-31T12:11:50.169640",
     "exception": false,
     "start_time": "2023-01-31T12:11:49.607578",
     "status": "completed"
    },
    "tags": []
   },
   "outputs": [
    {
     "name": "stdout",
     "output_type": "stream",
     "text": [
      "Dramas                          1384\n",
      "Comedies                        1074\n",
      "Documentaries                    751\n",
      "Action & Adventure               721\n",
      "International TV Shows           690\n",
      "Children & Family Movies         502\n",
      "Crime TV Shows                   369\n",
      "Kids' TV                         359\n",
      "Stand-Up Comedy                  321\n",
      "Horror Movies                    244\n",
      "British TV Shows                 232\n",
      "Docuseries                       194\n",
      "Anime Series                     148\n",
      "International Movies             114\n",
      "TV Comedies                      110\n",
      "Reality TV                       102\n",
      "Classic Movies                    77\n",
      "TV Dramas                         62\n",
      "Movies                            56\n",
      "Thrillers                         49\n",
      "TV Action & Adventure             37\n",
      "Stand-Up Comedy & Talk Shows      33\n",
      "Romantic TV Shows                 28\n",
      "Classic & Cult TV                 21\n",
      "Independent Movies                20\n",
      "Anime Features                    19\n",
      "Music & Musicals                  17\n",
      "Cult Movies                       12\n",
      "TV Shows                          12\n",
      "Sci-Fi & Fantasy                  11\n",
      "TV Horror                         10\n",
      "Romantic Movies                    3\n",
      "Spanish-Language TV Shows          2\n",
      "TV Sci-Fi & Fantasy                1\n",
      "Sports Movies                      1\n",
      "LGBTQ Movies                       1\n",
      "Name: genres1, dtype: int64\n"
     ]
    },
    {
     "data": {
      "image/png": "[encoded data removed]",
      "text/plain": [
       "<Figure size 1000x1000 with 1 Axes>"
      ]
     },
     "metadata": {},
     "output_type": "display_data"
    }
   ],
   "source": [
    "## Which genres are mostly Aired\n",
    "print(df[\"genres1\"].value_counts())\n",
    "plt.figure(figsize=(10,10),dpi=100)\n",
    "sns.countplot(x=\"genres1\",data=df,edgecolor=\"black\")\n",
    "plt.xticks(rotation=90);"
   ]
  },
  {
   "cell_type": "markdown",
   "id": "4d249040",
   "metadata": {
    "papermill": {
     "duration": 0.032214,
     "end_time": "2023-01-31T12:11:50.235551",
     "exception": false,
     "start_time": "2023-01-31T12:11:50.203337",
     "status": "completed"
    },
    "tags": []
   },
   "source": [
    "#### Dramas were mostly aired that means that were mostly liked by the audiences"
   ]
  },
  {
   "cell_type": "code",
   "execution_count": 54,
   "id": "cbec8c8d",
   "metadata": {
    "execution": {
     "iopub.execute_input": "2023-01-31T12:11:50.304017Z",
     "iopub.status.busy": "2023-01-31T12:11:50.303614Z",
     "iopub.status.idle": "2023-01-31T12:11:50.312865Z",
     "shell.execute_reply": "2023-01-31T12:11:50.311696Z"
    },
    "papermill": {
     "duration": 0.047365,
     "end_time": "2023-01-31T12:11:50.315382",
     "exception": false,
     "start_time": "2023-01-31T12:11:50.268017",
     "status": "completed"
    },
    "tags": []
   },
   "outputs": [
    {
     "data": {
      "text/plain": [
       "TV-MA       1850\n",
       "TV-14       1272\n",
       "R            663\n",
       "TV-PG        505\n",
       "PG-13        386\n",
       "PG           247\n",
       "TV-Y         117\n",
       "TV-G         111\n",
       "TV-Y7         95\n",
       "NR            79\n",
       "G             39\n",
       "TV-Y7-FV       5\n",
       "UR             5\n",
       "NC-17          3\n",
       "Name: rating, dtype: int64"
      ]
     },
     "execution_count": 54,
     "metadata": {},
     "output_type": "execute_result"
    }
   ],
   "source": [
    "### Mostly movies has mostly what type of rating\n",
    "movie[\"rating\"].value_counts()"
   ]
  },
  {
   "cell_type": "code",
   "execution_count": 55,
   "id": "0db08062",
   "metadata": {
    "execution": {
     "iopub.execute_input": "2023-01-31T12:11:50.382724Z",
     "iopub.status.busy": "2023-01-31T12:11:50.382340Z",
     "iopub.status.idle": "2023-01-31T12:11:50.390629Z",
     "shell.execute_reply": "2023-01-31T12:11:50.389824Z"
    },
    "papermill": {
     "duration": 0.044054,
     "end_time": "2023-01-31T12:11:50.392604",
     "exception": false,
     "start_time": "2023-01-31T12:11:50.348550",
     "status": "completed"
    },
    "tags": []
   },
   "outputs": [
    {
     "data": {
      "text/plain": [
       "TV-MA       1018\n",
       "TV-14        661\n",
       "TV-PG        301\n",
       "TV-Y7        176\n",
       "TV-Y         163\n",
       "TV-G          83\n",
       "NR             5\n",
       "R              2\n",
       "TV-Y7-FV       1\n",
       "Name: rating, dtype: int64"
      ]
     },
     "execution_count": 55,
     "metadata": {},
     "output_type": "execute_result"
    }
   ],
   "source": [
    "### Mostly Tv Shows has mostly what type of rating\n",
    "tv[\"rating\"].value_counts()"
   ]
  },
  {
   "cell_type": "code",
   "execution_count": 56,
   "id": "c28b2079",
   "metadata": {
    "execution": {
     "iopub.execute_input": "2023-01-31T12:11:50.460605Z",
     "iopub.status.busy": "2023-01-31T12:11:50.460107Z",
     "iopub.status.idle": "2023-01-31T12:11:50.480667Z",
     "shell.execute_reply": "2023-01-31T12:11:50.479353Z"
    },
    "papermill": {
     "duration": 0.057601,
     "end_time": "2023-01-31T12:11:50.482953",
     "exception": false,
     "start_time": "2023-01-31T12:11:50.425352",
     "status": "completed"
    },
    "tags": []
   },
   "outputs": [
    {
     "data": {
      "text/html": [
       "<div>\n",
       "<style scoped>\n",
       "    .dataframe tbody tr th:only-of-type {\n",
       "        vertical-align: middle;\n",
       "    }\n",
       "\n",
       "    .dataframe tbody tr th {\n",
       "        vertical-align: top;\n",
       "    }\n",
       "\n",
       "    .dataframe thead th {\n",
       "        text-align: right;\n",
       "    }\n",
       "</style>\n",
       "<table border=\"1\" class=\"dataframe\">\n",
       "  <thead>\n",
       "    <tr style=\"text-align: right;\">\n",
       "      <th></th>\n",
       "      <th>type</th>\n",
       "      <th>title</th>\n",
       "      <th>director</th>\n",
       "      <th>country</th>\n",
       "      <th>date_added</th>\n",
       "      <th>release_year</th>\n",
       "      <th>rating</th>\n",
       "      <th>duration</th>\n",
       "      <th>genres</th>\n",
       "      <th>description</th>\n",
       "      <th>month_name</th>\n",
       "      <th>Day</th>\n",
       "      <th>weekday</th>\n",
       "      <th>genres1</th>\n",
       "      <th>genres2</th>\n",
       "      <th>genres3</th>\n",
       "    </tr>\n",
       "  </thead>\n",
       "  <tbody>\n",
       "    <tr>\n",
       "      <th>5332</th>\n",
       "      <td>Movie</td>\n",
       "      <td>Starsky &amp; Hutch</td>\n",
       "      <td>Todd Phillips</td>\n",
       "      <td>United States</td>\n",
       "      <td>2019-07-01</td>\n",
       "      <td>2004</td>\n",
       "      <td>PG-13</td>\n",
       "      <td>101</td>\n",
       "      <td>Action &amp; Adventure, Comedies</td>\n",
       "      <td>New undercover cop partners Starsky and Hutch ...</td>\n",
       "      <td>July</td>\n",
       "      <td>Monday</td>\n",
       "      <td>0</td>\n",
       "      <td>Action &amp; Adventure</td>\n",
       "      <td>Comedies</td>\n",
       "      <td>None</td>\n",
       "    </tr>\n",
       "  </tbody>\n",
       "</table>\n",
       "</div>"
      ],
      "text/plain": [
       "       type            title       director        country date_added  \\\n",
       "5332  Movie  Starsky & Hutch  Todd Phillips  United States 2019-07-01   \n",
       "\n",
       "      release_year rating  duration                        genres  \\\n",
       "5332          2004  PG-13       101  Action & Adventure, Comedies   \n",
       "\n",
       "                                            description month_name     Day  \\\n",
       "5332  New undercover cop partners Starsky and Hutch ...       July  Monday   \n",
       "\n",
       "      weekday             genres1    genres2 genres3  \n",
       "5332        0  Action & Adventure   Comedies    None  "
      ]
     },
     "execution_count": 56,
     "metadata": {},
     "output_type": "execute_result"
    }
   ],
   "source": [
    "df.sample()"
   ]
  },
  {
   "cell_type": "code",
   "execution_count": 57,
   "id": "c5549217",
   "metadata": {
    "execution": {
     "iopub.execute_input": "2023-01-31T12:11:50.550420Z",
     "iopub.status.busy": "2023-01-31T12:11:50.550005Z",
     "iopub.status.idle": "2023-01-31T12:11:50.849732Z",
     "shell.execute_reply": "2023-01-31T12:11:50.848500Z"
    },
    "papermill": {
     "duration": 0.337379,
     "end_time": "2023-01-31T12:11:50.852958",
     "exception": false,
     "start_time": "2023-01-31T12:11:50.515579",
     "status": "completed"
    },
    "tags": []
   },
   "outputs": [
    {
     "data": {
      "text/plain": [
       "<AxesSubplot:xlabel='duration', ylabel='weekday'>"
      ]
     },
     "execution_count": 57,
     "metadata": {},
     "output_type": "execute_result"
    },
    {
     "data": {
      "image/png": "[encoded data removed]",
      "text/plain": [
       "<Figure size 800x800 with 1 Axes>"
      ]
     },
     "metadata": {},
     "output_type": "display_data"
    }
   ],
   "source": [
    "### What is the duration trend of the Movies and tv shows released on on Weekday and weekends\n",
    "plt.figure(figsize=(8,8),dpi=100)\n",
    "sns.lineplot(x=\"duration\",y=\"weekday\",hue=\"type\",data=df,ci=None)"
   ]
  },
  {
   "cell_type": "markdown",
   "id": "d0fd22fb",
   "metadata": {
    "papermill": {
     "duration": 0.033811,
     "end_time": "2023-01-31T12:11:50.921121",
     "exception": false,
     "start_time": "2023-01-31T12:11:50.887310",
     "status": "completed"
    },
    "tags": []
   },
   "source": [
    "# Insights\n",
    "\n",
    "* Drop 2 columns Show id and Cast as they were not providing very usefull information.\n",
    "* Added Month name, day name, Weekdays and weekend Through feature engineering. \n",
    "* Split Genres into 3 parts to get more usefull information through feature engineering.\n",
    "* There are more movies are aired than Tv shows.\n",
    "* United states produced most of the Tv shows and Movies where as India has also contributed a good amount of movies.\n",
    "* Most of the directors are unindentified as there were missing values so i have change it to unidentified.\n",
    "* 2018 and 2017 is the year in which most of the movies and tv shows were released.\n",
    "* December is the month in which mostly movies and tv shows releases and Friday is the weekday in which mostly Tv shows and Movies got release.\n",
    "* Mostly Tv shows and movies are of TV-MA rating i.e most of the content is for Mature audience.\n",
    "* In month of November and March highest no of Tv shows and movies were released on weekdays were as in month of December weekends highest no of Tv shows and movies were released.\n",
    "* Dramas and Comedies genres are mostly released i.e this type of content is mostly liked by the audiences.\n"
   ]
  },
  {
   "cell_type": "code",
   "execution_count": null,
   "id": "d0efbc91",
   "metadata": {
    "papermill": {
     "duration": 0.0345,
     "end_time": "2023-01-31T12:11:50.989678",
     "exception": false,
     "start_time": "2023-01-31T12:11:50.955178",
     "status": "completed"
    },
    "tags": []
   },
   "outputs": [],
   "source": []
  }
 ],
 "metadata": {
  "kernelspec": {
   "display_name": "Python 3",
   "language": "python",
   "name": "python3"
  },
  "language_info": {
   "codemirror_mode": {
    "name": "ipython",
    "version": 3
   },
   "file_extension": ".py",
   "mimetype": "text/x-python",
   "name": "python",
   "nbconvert_exporter": "python",
   "pygments_lexer": "ipython3",
   "version": "3.7.12"
  },
  "papermill": {
   "default_parameters": {},
   "duration": 19.512544,
   "end_time": "2023-01-31T12:11:51.848307",
   "environment_variables": {},
   "exception": null,
   "input_path": "__notebook__.ipynb",
   "output_path": "__notebook__.ipynb",
   "parameters": {},
   "start_time": "2023-01-31T12:11:32.335763",
   "version": "2.3.4"
  }
 },
 "nbformat": 4,
 "nbformat_minor": 5
}
