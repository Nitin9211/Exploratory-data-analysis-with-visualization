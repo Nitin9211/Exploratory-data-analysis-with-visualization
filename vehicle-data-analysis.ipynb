{
 "cells": [
  {
   "cell_type": "code",
   "execution_count": 1,
   "id": "8b8ab8fd",
   "metadata": {
    "_cell_guid": "b1076dfc-b9ad-4769-8c92-a6c4dae69d19",
    "_uuid": "8f2839f25d086af736a60e9eeb907d3b93b6e0e5",
    "execution": {
     "iopub.execute_input": "2023-01-23T20:46:34.153683Z",
     "iopub.status.busy": "2023-01-23T20:46:34.152745Z",
     "iopub.status.idle": "2023-01-23T20:46:34.173155Z",
     "shell.execute_reply": "2023-01-23T20:46:34.172036Z"
    },
    "papermill": {
     "duration": 0.039166,
     "end_time": "2023-01-23T20:46:34.175659",
     "exception": false,
     "start_time": "2023-01-23T20:46:34.136493",
     "status": "completed"
    },
    "tags": []
   },
   "outputs": [
    {
     "name": "stdout",
     "output_type": "stream",
     "text": [
      "/kaggle/input/vehicle-dataset-from-cardekho/car data.csv\n",
      "/kaggle/input/vehicle-dataset-from-cardekho/car details v4.csv\n",
      "/kaggle/input/vehicle-dataset-from-cardekho/CAR DETAILS FROM CAR DEKHO.csv\n",
      "/kaggle/input/vehicle-dataset-from-cardekho/Car details v3.csv\n"
     ]
    }
   ],
   "source": [
    "# This Python 3 environment comes with many helpful analytics libraries installed\n",
    "# It is defined by the kaggle/python Docker image: https://github.com/kaggle/docker-python\n",
    "# For example, here's several helpful packages to load\n",
    "\n",
    "import numpy as np # linear algebra\n",
    "import pandas as pd # data processing, CSV file I/O (e.g. pd.read_csv)\n",
    "\n",
    "# Input data files are available in the read-only \"../input/\" directory\n",
    "# For example, running this (by clicking run or pressing Shift+Enter) will list all files under the input directory\n",
    "\n",
    "import os\n",
    "for dirname, _, filenames in os.walk('/kaggle/input'):\n",
    "    for filename in filenames:\n",
    "        print(os.path.join(dirname, filename))\n",
    "\n",
    "# You can write up to 20GB to the current directory (/kaggle/working/) that gets preserved as output when you create a version using \"Save & Run All\" \n",
    "# You can also write temporary files to /kaggle/temp/, but they won't be saved outside of the current session"
   ]
  },
  {
   "cell_type": "markdown",
   "id": "a91bbe52",
   "metadata": {
    "papermill": {
     "duration": 0.014265,
     "end_time": "2023-01-23T20:46:34.203178",
     "exception": false,
     "start_time": "2023-01-23T20:46:34.188913",
     "status": "completed"
    },
    "tags": []
   },
   "source": [
    "## About Dataset\n",
    "This dataset contains information about used cars.\n",
    "This data can be used for a lot of purposes such as price prediction to exemplify the use of linear regression in Machine Learning.\n",
    "The columns in the given dataset are as follows:\n",
    "\n",
    "* name\n",
    "* year\n",
    "* selling_price\n",
    "* km_driven\n",
    "* fuel\n",
    "* seller_type\n",
    "* transmission\n",
    "* Owner"
   ]
  },
  {
   "cell_type": "markdown",
   "id": "5d5cdc00",
   "metadata": {
    "papermill": {
     "duration": 0.012091,
     "end_time": "2023-01-23T20:46:34.227772",
     "exception": false,
     "start_time": "2023-01-23T20:46:34.215681",
     "status": "completed"
    },
    "tags": []
   },
   "source": [
    "## Importing necessary libraries"
   ]
  },
  {
   "cell_type": "code",
   "execution_count": 2,
   "id": "03f8d3aa",
   "metadata": {
    "execution": {
     "iopub.execute_input": "2023-01-23T20:46:34.254931Z",
     "iopub.status.busy": "2023-01-23T20:46:34.254174Z",
     "iopub.status.idle": "2023-01-23T20:46:35.225095Z",
     "shell.execute_reply": "2023-01-23T20:46:35.223920Z"
    },
    "papermill": {
     "duration": 0.987835,
     "end_time": "2023-01-23T20:46:35.227961",
     "exception": false,
     "start_time": "2023-01-23T20:46:34.240126",
     "status": "completed"
    },
    "tags": []
   },
   "outputs": [],
   "source": [
    "import pandas as pd\n",
    "import numpy as np\n",
    "import seaborn as sns\n",
    "import matplotlib.pyplot as plt"
   ]
  },
  {
   "cell_type": "code",
   "execution_count": 3,
   "id": "6db459d3",
   "metadata": {
    "execution": {
     "iopub.execute_input": "2023-01-23T20:46:35.256969Z",
     "iopub.status.busy": "2023-01-23T20:46:35.256597Z",
     "iopub.status.idle": "2023-01-23T20:46:35.306834Z",
     "shell.execute_reply": "2023-01-23T20:46:35.305754Z"
    },
    "papermill": {
     "duration": 0.068097,
     "end_time": "2023-01-23T20:46:35.309536",
     "exception": false,
     "start_time": "2023-01-23T20:46:35.241439",
     "status": "completed"
    },
    "tags": []
   },
   "outputs": [
    {
     "data": {
      "text/html": [
       "<div>\n",
       "<style scoped>\n",
       "    .dataframe tbody tr th:only-of-type {\n",
       "        vertical-align: middle;\n",
       "    }\n",
       "\n",
       "    .dataframe tbody tr th {\n",
       "        vertical-align: top;\n",
       "    }\n",
       "\n",
       "    .dataframe thead th {\n",
       "        text-align: right;\n",
       "    }\n",
       "</style>\n",
       "<table border=\"1\" class=\"dataframe\">\n",
       "  <thead>\n",
       "    <tr style=\"text-align: right;\">\n",
       "      <th></th>\n",
       "      <th>name</th>\n",
       "      <th>year</th>\n",
       "      <th>selling_price</th>\n",
       "      <th>km_driven</th>\n",
       "      <th>fuel</th>\n",
       "      <th>seller_type</th>\n",
       "      <th>transmission</th>\n",
       "      <th>owner</th>\n",
       "    </tr>\n",
       "  </thead>\n",
       "  <tbody>\n",
       "    <tr>\n",
       "      <th>0</th>\n",
       "      <td>Maruti 800 AC</td>\n",
       "      <td>2007</td>\n",
       "      <td>60000</td>\n",
       "      <td>70000</td>\n",
       "      <td>Petrol</td>\n",
       "      <td>Individual</td>\n",
       "      <td>Manual</td>\n",
       "      <td>First Owner</td>\n",
       "    </tr>\n",
       "    <tr>\n",
       "      <th>1</th>\n",
       "      <td>Maruti Wagon R LXI Minor</td>\n",
       "      <td>2007</td>\n",
       "      <td>135000</td>\n",
       "      <td>50000</td>\n",
       "      <td>Petrol</td>\n",
       "      <td>Individual</td>\n",
       "      <td>Manual</td>\n",
       "      <td>First Owner</td>\n",
       "    </tr>\n",
       "    <tr>\n",
       "      <th>2</th>\n",
       "      <td>Hyundai Verna 1.6 SX</td>\n",
       "      <td>2012</td>\n",
       "      <td>600000</td>\n",
       "      <td>100000</td>\n",
       "      <td>Diesel</td>\n",
       "      <td>Individual</td>\n",
       "      <td>Manual</td>\n",
       "      <td>First Owner</td>\n",
       "    </tr>\n",
       "    <tr>\n",
       "      <th>3</th>\n",
       "      <td>Datsun RediGO T Option</td>\n",
       "      <td>2017</td>\n",
       "      <td>250000</td>\n",
       "      <td>46000</td>\n",
       "      <td>Petrol</td>\n",
       "      <td>Individual</td>\n",
       "      <td>Manual</td>\n",
       "      <td>First Owner</td>\n",
       "    </tr>\n",
       "    <tr>\n",
       "      <th>4</th>\n",
       "      <td>Honda Amaze VX i-DTEC</td>\n",
       "      <td>2014</td>\n",
       "      <td>450000</td>\n",
       "      <td>141000</td>\n",
       "      <td>Diesel</td>\n",
       "      <td>Individual</td>\n",
       "      <td>Manual</td>\n",
       "      <td>Second Owner</td>\n",
       "    </tr>\n",
       "    <tr>\n",
       "      <th>...</th>\n",
       "      <td>...</td>\n",
       "      <td>...</td>\n",
       "      <td>...</td>\n",
       "      <td>...</td>\n",
       "      <td>...</td>\n",
       "      <td>...</td>\n",
       "      <td>...</td>\n",
       "      <td>...</td>\n",
       "    </tr>\n",
       "    <tr>\n",
       "      <th>4335</th>\n",
       "      <td>Hyundai i20 Magna 1.4 CRDi (Diesel)</td>\n",
       "      <td>2014</td>\n",
       "      <td>409999</td>\n",
       "      <td>80000</td>\n",
       "      <td>Diesel</td>\n",
       "      <td>Individual</td>\n",
       "      <td>Manual</td>\n",
       "      <td>Second Owner</td>\n",
       "    </tr>\n",
       "    <tr>\n",
       "      <th>4336</th>\n",
       "      <td>Hyundai i20 Magna 1.4 CRDi</td>\n",
       "      <td>2014</td>\n",
       "      <td>409999</td>\n",
       "      <td>80000</td>\n",
       "      <td>Diesel</td>\n",
       "      <td>Individual</td>\n",
       "      <td>Manual</td>\n",
       "      <td>Second Owner</td>\n",
       "    </tr>\n",
       "    <tr>\n",
       "      <th>4337</th>\n",
       "      <td>Maruti 800 AC BSIII</td>\n",
       "      <td>2009</td>\n",
       "      <td>110000</td>\n",
       "      <td>83000</td>\n",
       "      <td>Petrol</td>\n",
       "      <td>Individual</td>\n",
       "      <td>Manual</td>\n",
       "      <td>Second Owner</td>\n",
       "    </tr>\n",
       "    <tr>\n",
       "      <th>4338</th>\n",
       "      <td>Hyundai Creta 1.6 CRDi SX Option</td>\n",
       "      <td>2016</td>\n",
       "      <td>865000</td>\n",
       "      <td>90000</td>\n",
       "      <td>Diesel</td>\n",
       "      <td>Individual</td>\n",
       "      <td>Manual</td>\n",
       "      <td>First Owner</td>\n",
       "    </tr>\n",
       "    <tr>\n",
       "      <th>4339</th>\n",
       "      <td>Renault KWID RXT</td>\n",
       "      <td>2016</td>\n",
       "      <td>225000</td>\n",
       "      <td>40000</td>\n",
       "      <td>Petrol</td>\n",
       "      <td>Individual</td>\n",
       "      <td>Manual</td>\n",
       "      <td>First Owner</td>\n",
       "    </tr>\n",
       "  </tbody>\n",
       "</table>\n",
       "<p>4340 rows × 8 columns</p>\n",
       "</div>"
      ],
      "text/plain": [
       "                                     name  year  selling_price  km_driven  \\\n",
       "0                           Maruti 800 AC  2007          60000      70000   \n",
       "1                Maruti Wagon R LXI Minor  2007         135000      50000   \n",
       "2                    Hyundai Verna 1.6 SX  2012         600000     100000   \n",
       "3                  Datsun RediGO T Option  2017         250000      46000   \n",
       "4                   Honda Amaze VX i-DTEC  2014         450000     141000   \n",
       "...                                   ...   ...            ...        ...   \n",
       "4335  Hyundai i20 Magna 1.4 CRDi (Diesel)  2014         409999      80000   \n",
       "4336           Hyundai i20 Magna 1.4 CRDi  2014         409999      80000   \n",
       "4337                  Maruti 800 AC BSIII  2009         110000      83000   \n",
       "4338     Hyundai Creta 1.6 CRDi SX Option  2016         865000      90000   \n",
       "4339                     Renault KWID RXT  2016         225000      40000   \n",
       "\n",
       "        fuel seller_type transmission         owner  \n",
       "0     Petrol  Individual       Manual   First Owner  \n",
       "1     Petrol  Individual       Manual   First Owner  \n",
       "2     Diesel  Individual       Manual   First Owner  \n",
       "3     Petrol  Individual       Manual   First Owner  \n",
       "4     Diesel  Individual       Manual  Second Owner  \n",
       "...      ...         ...          ...           ...  \n",
       "4335  Diesel  Individual       Manual  Second Owner  \n",
       "4336  Diesel  Individual       Manual  Second Owner  \n",
       "4337  Petrol  Individual       Manual  Second Owner  \n",
       "4338  Diesel  Individual       Manual   First Owner  \n",
       "4339  Petrol  Individual       Manual   First Owner  \n",
       "\n",
       "[4340 rows x 8 columns]"
      ]
     },
     "execution_count": 3,
     "metadata": {},
     "output_type": "execute_result"
    }
   ],
   "source": [
    "df=pd.read_csv(\"/kaggle/input/vehicle-dataset-from-cardekho/CAR DETAILS FROM CAR DEKHO.csv\")\n",
    "df"
   ]
  },
  {
   "cell_type": "markdown",
   "id": "f583ff0f",
   "metadata": {
    "papermill": {
     "duration": 0.013065,
     "end_time": "2023-01-23T20:46:35.336158",
     "exception": false,
     "start_time": "2023-01-23T20:46:35.323093",
     "status": "completed"
    },
    "tags": []
   },
   "source": [
    "## Workkflow \n",
    "Step 1 - Understanding of data\n",
    "* Basic info\n",
    "* columns\n",
    "* shape\n",
    "* stats data\n",
    "\n",
    "Step 2 - Data cleaning\n",
    "\n",
    "Step 3 - Fetching Insights\n",
    " \n",
    "Step 4 - Insights"
   ]
  },
  {
   "cell_type": "markdown",
   "id": "a0b8af1a",
   "metadata": {
    "papermill": {
     "duration": 0.013083,
     "end_time": "2023-01-23T20:46:35.363161",
     "exception": false,
     "start_time": "2023-01-23T20:46:35.350078",
     "status": "completed"
    },
    "tags": []
   },
   "source": [
    "# Step 1 - Understanding of data"
   ]
  },
  {
   "cell_type": "code",
   "execution_count": 4,
   "id": "e4c5155b",
   "metadata": {
    "execution": {
     "iopub.execute_input": "2023-01-23T20:46:35.392042Z",
     "iopub.status.busy": "2023-01-23T20:46:35.391672Z",
     "iopub.status.idle": "2023-01-23T20:46:35.397521Z",
     "shell.execute_reply": "2023-01-23T20:46:35.396757Z"
    },
    "papermill": {
     "duration": 0.02279,
     "end_time": "2023-01-23T20:46:35.399405",
     "exception": false,
     "start_time": "2023-01-23T20:46:35.376615",
     "status": "completed"
    },
    "tags": []
   },
   "outputs": [
    {
     "data": {
      "text/plain": [
       "(4340, 8)"
      ]
     },
     "execution_count": 4,
     "metadata": {},
     "output_type": "execute_result"
    }
   ],
   "source": [
    "df.shape"
   ]
  },
  {
   "cell_type": "markdown",
   "id": "12efaebe",
   "metadata": {
    "papermill": {
     "duration": 0.013255,
     "end_time": "2023-01-23T20:46:35.426246",
     "exception": false,
     "start_time": "2023-01-23T20:46:35.412991",
     "status": "completed"
    },
    "tags": []
   },
   "source": [
    "### There are 4340 rows and 8 columns"
   ]
  },
  {
   "cell_type": "code",
   "execution_count": 5,
   "id": "096866e4",
   "metadata": {
    "execution": {
     "iopub.execute_input": "2023-01-23T20:46:35.455346Z",
     "iopub.status.busy": "2023-01-23T20:46:35.454967Z",
     "iopub.status.idle": "2023-01-23T20:46:35.461800Z",
     "shell.execute_reply": "2023-01-23T20:46:35.460783Z"
    },
    "papermill": {
     "duration": 0.024199,
     "end_time": "2023-01-23T20:46:35.463932",
     "exception": false,
     "start_time": "2023-01-23T20:46:35.439733",
     "status": "completed"
    },
    "tags": []
   },
   "outputs": [
    {
     "data": {
      "text/plain": [
       "Index(['name', 'year', 'selling_price', 'km_driven', 'fuel', 'seller_type',\n",
       "       'transmission', 'owner'],\n",
       "      dtype='object')"
      ]
     },
     "execution_count": 5,
     "metadata": {},
     "output_type": "execute_result"
    }
   ],
   "source": [
    "df.columns"
   ]
  },
  {
   "cell_type": "code",
   "execution_count": 6,
   "id": "d3be0802",
   "metadata": {
    "execution": {
     "iopub.execute_input": "2023-01-23T20:46:35.493012Z",
     "iopub.status.busy": "2023-01-23T20:46:35.492618Z",
     "iopub.status.idle": "2023-01-23T20:46:35.516862Z",
     "shell.execute_reply": "2023-01-23T20:46:35.515618Z"
    },
    "papermill": {
     "duration": 0.041687,
     "end_time": "2023-01-23T20:46:35.519371",
     "exception": false,
     "start_time": "2023-01-23T20:46:35.477684",
     "status": "completed"
    },
    "tags": []
   },
   "outputs": [
    {
     "name": "stdout",
     "output_type": "stream",
     "text": [
      "<class 'pandas.core.frame.DataFrame'>\n",
      "RangeIndex: 4340 entries, 0 to 4339\n",
      "Data columns (total 8 columns):\n",
      " #   Column         Non-Null Count  Dtype \n",
      "---  ------         --------------  ----- \n",
      " 0   name           4340 non-null   object\n",
      " 1   year           4340 non-null   int64 \n",
      " 2   selling_price  4340 non-null   int64 \n",
      " 3   km_driven      4340 non-null   int64 \n",
      " 4   fuel           4340 non-null   object\n",
      " 5   seller_type    4340 non-null   object\n",
      " 6   transmission   4340 non-null   object\n",
      " 7   owner          4340 non-null   object\n",
      "dtypes: int64(3), object(5)\n",
      "memory usage: 271.4+ KB\n"
     ]
    }
   ],
   "source": [
    "## Checking basic information\n",
    "df.info()"
   ]
  },
  {
   "cell_type": "code",
   "execution_count": 7,
   "id": "c7d323f9",
   "metadata": {
    "execution": {
     "iopub.execute_input": "2023-01-23T20:46:35.553639Z",
     "iopub.status.busy": "2023-01-23T20:46:35.552867Z",
     "iopub.status.idle": "2023-01-23T20:46:35.562080Z",
     "shell.execute_reply": "2023-01-23T20:46:35.561320Z"
    },
    "papermill": {
     "duration": 0.028201,
     "end_time": "2023-01-23T20:46:35.564155",
     "exception": false,
     "start_time": "2023-01-23T20:46:35.535954",
     "status": "completed"
    },
    "tags": []
   },
   "outputs": [
    {
     "data": {
      "text/plain": [
       "name             0\n",
       "year             0\n",
       "selling_price    0\n",
       "km_driven        0\n",
       "fuel             0\n",
       "seller_type      0\n",
       "transmission     0\n",
       "owner            0\n",
       "dtype: int64"
      ]
     },
     "execution_count": 7,
     "metadata": {},
     "output_type": "execute_result"
    }
   ],
   "source": [
    "df.isnull().sum()"
   ]
  },
  {
   "cell_type": "markdown",
   "id": "8b785825",
   "metadata": {
    "papermill": {
     "duration": 0.017704,
     "end_time": "2023-01-23T20:46:35.602761",
     "exception": false,
     "start_time": "2023-01-23T20:46:35.585057",
     "status": "completed"
    },
    "tags": []
   },
   "source": [
    "### There are no null values "
   ]
  },
  {
   "cell_type": "code",
   "execution_count": 8,
   "id": "36c845e6",
   "metadata": {
    "execution": {
     "iopub.execute_input": "2023-01-23T20:46:35.631998Z",
     "iopub.status.busy": "2023-01-23T20:46:35.631309Z",
     "iopub.status.idle": "2023-01-23T20:46:35.642493Z",
     "shell.execute_reply": "2023-01-23T20:46:35.641185Z"
    },
    "papermill": {
     "duration": 0.028056,
     "end_time": "2023-01-23T20:46:35.644640",
     "exception": false,
     "start_time": "2023-01-23T20:46:35.616584",
     "status": "completed"
    },
    "tags": []
   },
   "outputs": [
    {
     "data": {
      "text/plain": [
       "763"
      ]
     },
     "execution_count": 8,
     "metadata": {},
     "output_type": "execute_result"
    }
   ],
   "source": [
    "df.duplicated().sum()"
   ]
  },
  {
   "cell_type": "markdown",
   "id": "38dfccac",
   "metadata": {
    "papermill": {
     "duration": 0.013175,
     "end_time": "2023-01-23T20:46:35.671221",
     "exception": false,
     "start_time": "2023-01-23T20:46:35.658046",
     "status": "completed"
    },
    "tags": []
   },
   "source": [
    "### There are 763 duplicate values  "
   ]
  },
  {
   "cell_type": "markdown",
   "id": "1f304de1",
   "metadata": {
    "papermill": {
     "duration": 0.013049,
     "end_time": "2023-01-23T20:46:35.697647",
     "exception": false,
     "start_time": "2023-01-23T20:46:35.684598",
     "status": "completed"
    },
    "tags": []
   },
   "source": [
    "# Step 2 - Data cleaning"
   ]
  },
  {
   "cell_type": "code",
   "execution_count": 9,
   "id": "b25ae727",
   "metadata": {
    "execution": {
     "iopub.execute_input": "2023-01-23T20:46:35.725605Z",
     "iopub.status.busy": "2023-01-23T20:46:35.725190Z",
     "iopub.status.idle": "2023-01-23T20:46:35.752120Z",
     "shell.execute_reply": "2023-01-23T20:46:35.751060Z"
    },
    "papermill": {
     "duration": 0.043415,
     "end_time": "2023-01-23T20:46:35.754293",
     "exception": false,
     "start_time": "2023-01-23T20:46:35.710878",
     "status": "completed"
    },
    "tags": []
   },
   "outputs": [
    {
     "data": {
      "text/html": [
       "<div>\n",
       "<style scoped>\n",
       "    .dataframe tbody tr th:only-of-type {\n",
       "        vertical-align: middle;\n",
       "    }\n",
       "\n",
       "    .dataframe tbody tr th {\n",
       "        vertical-align: top;\n",
       "    }\n",
       "\n",
       "    .dataframe thead th {\n",
       "        text-align: right;\n",
       "    }\n",
       "</style>\n",
       "<table border=\"1\" class=\"dataframe\">\n",
       "  <thead>\n",
       "    <tr style=\"text-align: right;\">\n",
       "      <th></th>\n",
       "      <th>count</th>\n",
       "      <th>mean</th>\n",
       "      <th>std</th>\n",
       "      <th>min</th>\n",
       "      <th>25%</th>\n",
       "      <th>50%</th>\n",
       "      <th>75%</th>\n",
       "      <th>max</th>\n",
       "    </tr>\n",
       "  </thead>\n",
       "  <tbody>\n",
       "    <tr>\n",
       "      <th>year</th>\n",
       "      <td>4340.0</td>\n",
       "      <td>2013.090783</td>\n",
       "      <td>4.215344</td>\n",
       "      <td>1992.0</td>\n",
       "      <td>2011.00</td>\n",
       "      <td>2014.0</td>\n",
       "      <td>2016.0</td>\n",
       "      <td>2020.0</td>\n",
       "    </tr>\n",
       "    <tr>\n",
       "      <th>selling_price</th>\n",
       "      <td>4340.0</td>\n",
       "      <td>504127.311751</td>\n",
       "      <td>578548.736139</td>\n",
       "      <td>20000.0</td>\n",
       "      <td>208749.75</td>\n",
       "      <td>350000.0</td>\n",
       "      <td>600000.0</td>\n",
       "      <td>8900000.0</td>\n",
       "    </tr>\n",
       "    <tr>\n",
       "      <th>km_driven</th>\n",
       "      <td>4340.0</td>\n",
       "      <td>66215.777419</td>\n",
       "      <td>46644.102194</td>\n",
       "      <td>1.0</td>\n",
       "      <td>35000.00</td>\n",
       "      <td>60000.0</td>\n",
       "      <td>90000.0</td>\n",
       "      <td>806599.0</td>\n",
       "    </tr>\n",
       "  </tbody>\n",
       "</table>\n",
       "</div>"
      ],
      "text/plain": [
       "                count           mean            std      min        25%  \\\n",
       "year           4340.0    2013.090783       4.215344   1992.0    2011.00   \n",
       "selling_price  4340.0  504127.311751  578548.736139  20000.0  208749.75   \n",
       "km_driven      4340.0   66215.777419   46644.102194      1.0   35000.00   \n",
       "\n",
       "                    50%       75%        max  \n",
       "year             2014.0    2016.0     2020.0  \n",
       "selling_price  350000.0  600000.0  8900000.0  \n",
       "km_driven       60000.0   90000.0   806599.0  "
      ]
     },
     "execution_count": 9,
     "metadata": {},
     "output_type": "execute_result"
    }
   ],
   "source": [
    "## Checking outliers in data\n",
    "df.describe().T"
   ]
  },
  {
   "cell_type": "code",
   "execution_count": 10,
   "id": "9c507614",
   "metadata": {
    "execution": {
     "iopub.execute_input": "2023-01-23T20:46:35.784602Z",
     "iopub.status.busy": "2023-01-23T20:46:35.783978Z",
     "iopub.status.idle": "2023-01-23T20:46:36.162834Z",
     "shell.execute_reply": "2023-01-23T20:46:36.161730Z"
    },
    "papermill": {
     "duration": 0.396654,
     "end_time": "2023-01-23T20:46:36.165333",
     "exception": false,
     "start_time": "2023-01-23T20:46:35.768679",
     "status": "completed"
    },
    "tags": []
   },
   "outputs": [
    {
     "data": {
      "image/png": "[encoded data removed]",
      "text/plain": [
       "<Figure size 1440x1440 with 3 Axes>"
      ]
     },
     "metadata": {
      "needs_background": "light"
     },
     "output_type": "display_data"
    }
   ],
   "source": [
    "l=[\"year\",\"selling_price\",\"km_driven\"]\n",
    "p=1\n",
    "plt.figure(figsize=(20,20))\n",
    "for i in l:\n",
    "    plt.subplot(3,3,p)\n",
    "    plt.boxplot(df[i])\n",
    "    plt.xlabel(i)\n",
    "    plt.title(\"outliers\")\n",
    "    p=p+1"
   ]
  },
  {
   "cell_type": "markdown",
   "id": "1eb1300c",
   "metadata": {
    "papermill": {
     "duration": 0.013624,
     "end_time": "2023-01-23T20:46:36.193025",
     "exception": false,
     "start_time": "2023-01-23T20:46:36.179401",
     "status": "completed"
    },
    "tags": []
   },
   "source": [
    "### There were outliers in the data "
   ]
  },
  {
   "cell_type": "code",
   "execution_count": 11,
   "id": "a4f259a2",
   "metadata": {
    "execution": {
     "iopub.execute_input": "2023-01-23T20:46:36.222163Z",
     "iopub.status.busy": "2023-01-23T20:46:36.221529Z",
     "iopub.status.idle": "2023-01-23T20:46:36.233873Z",
     "shell.execute_reply": "2023-01-23T20:46:36.232801Z"
    },
    "papermill": {
     "duration": 0.029276,
     "end_time": "2023-01-23T20:46:36.235951",
     "exception": false,
     "start_time": "2023-01-23T20:46:36.206675",
     "status": "completed"
    },
    "tags": []
   },
   "outputs": [
    {
     "data": {
      "text/html": [
       "<div>\n",
       "<style scoped>\n",
       "    .dataframe tbody tr th:only-of-type {\n",
       "        vertical-align: middle;\n",
       "    }\n",
       "\n",
       "    .dataframe tbody tr th {\n",
       "        vertical-align: top;\n",
       "    }\n",
       "\n",
       "    .dataframe thead th {\n",
       "        text-align: right;\n",
       "    }\n",
       "</style>\n",
       "<table border=\"1\" class=\"dataframe\">\n",
       "  <thead>\n",
       "    <tr style=\"text-align: right;\">\n",
       "      <th></th>\n",
       "      <th>year</th>\n",
       "      <th>selling_price</th>\n",
       "      <th>km_driven</th>\n",
       "    </tr>\n",
       "  </thead>\n",
       "  <tbody>\n",
       "    <tr>\n",
       "      <th>year</th>\n",
       "      <td>1.000000</td>\n",
       "      <td>0.413922</td>\n",
       "      <td>-0.419688</td>\n",
       "    </tr>\n",
       "    <tr>\n",
       "      <th>selling_price</th>\n",
       "      <td>0.413922</td>\n",
       "      <td>1.000000</td>\n",
       "      <td>-0.192289</td>\n",
       "    </tr>\n",
       "    <tr>\n",
       "      <th>km_driven</th>\n",
       "      <td>-0.419688</td>\n",
       "      <td>-0.192289</td>\n",
       "      <td>1.000000</td>\n",
       "    </tr>\n",
       "  </tbody>\n",
       "</table>\n",
       "</div>"
      ],
      "text/plain": [
       "                   year  selling_price  km_driven\n",
       "year           1.000000       0.413922  -0.419688\n",
       "selling_price  0.413922       1.000000  -0.192289\n",
       "km_driven     -0.419688      -0.192289   1.000000"
      ]
     },
     "execution_count": 11,
     "metadata": {},
     "output_type": "execute_result"
    }
   ],
   "source": [
    "## Checking correlation\n",
    "df.corr()"
   ]
  },
  {
   "cell_type": "code",
   "execution_count": 12,
   "id": "5bca4411",
   "metadata": {
    "execution": {
     "iopub.execute_input": "2023-01-23T20:46:36.265400Z",
     "iopub.status.busy": "2023-01-23T20:46:36.264819Z",
     "iopub.status.idle": "2023-01-23T20:46:36.541171Z",
     "shell.execute_reply": "2023-01-23T20:46:36.540162Z"
    },
    "papermill": {
     "duration": 0.293848,
     "end_time": "2023-01-23T20:46:36.543565",
     "exception": false,
     "start_time": "2023-01-23T20:46:36.249717",
     "status": "completed"
    },
    "tags": []
   },
   "outputs": [
    {
     "data": {
      "text/plain": [
       "<AxesSubplot:>"
      ]
     },
     "execution_count": 12,
     "metadata": {},
     "output_type": "execute_result"
    },
    {
     "data": {
      "image/png": "[encoded data removed]",
      "text/plain": [
       "<Figure size 432x288 with 2 Axes>"
      ]
     },
     "metadata": {
      "needs_background": "light"
     },
     "output_type": "display_data"
    }
   ],
   "source": [
    "sns.heatmap(df.corr(),annot=True,data=df)"
   ]
  },
  {
   "cell_type": "markdown",
   "id": "af07bf10",
   "metadata": {
    "papermill": {
     "duration": 0.013851,
     "end_time": "2023-01-23T20:46:36.571784",
     "exception": false,
     "start_time": "2023-01-23T20:46:36.557933",
     "status": "completed"
    },
    "tags": []
   },
   "source": [
    "### There is no strong correlation between any of them "
   ]
  },
  {
   "cell_type": "code",
   "execution_count": 13,
   "id": "bdd8e935",
   "metadata": {
    "execution": {
     "iopub.execute_input": "2023-01-23T20:46:36.602847Z",
     "iopub.status.busy": "2023-01-23T20:46:36.602459Z",
     "iopub.status.idle": "2023-01-23T20:46:36.611735Z",
     "shell.execute_reply": "2023-01-23T20:46:36.611022Z"
    },
    "papermill": {
     "duration": 0.027071,
     "end_time": "2023-01-23T20:46:36.613812",
     "exception": false,
     "start_time": "2023-01-23T20:46:36.586741",
     "status": "completed"
    },
    "tags": []
   },
   "outputs": [
    {
     "data": {
      "text/plain": [
       "Maruti Swift Dzire VDI                     69\n",
       "Maruti Alto 800 LXI                        59\n",
       "Maruti Alto LXi                            47\n",
       "Maruti Alto LX                             35\n",
       "Hyundai EON Era Plus                       35\n",
       "                                           ..\n",
       "Hyundai Verna Transform CRDi VGT SX ABS     1\n",
       "Maruti S-Presso VXI Plus                    1\n",
       "Toyota Etios Liva 1.2 VX                    1\n",
       "Toyota Yaris G                              1\n",
       "Hyundai i20 Magna 1.4 CRDi                  1\n",
       "Name: name, Length: 1491, dtype: int64"
      ]
     },
     "execution_count": 13,
     "metadata": {},
     "output_type": "execute_result"
    }
   ],
   "source": [
    "df[\"name\"].value_counts()"
   ]
  },
  {
   "cell_type": "code",
   "execution_count": 14,
   "id": "7b8d4e07",
   "metadata": {
    "execution": {
     "iopub.execute_input": "2023-01-23T20:46:36.647133Z",
     "iopub.status.busy": "2023-01-23T20:46:36.645767Z",
     "iopub.status.idle": "2023-01-23T20:46:36.659589Z",
     "shell.execute_reply": "2023-01-23T20:46:36.658772Z"
    },
    "papermill": {
     "duration": 0.03326,
     "end_time": "2023-01-23T20:46:36.662747",
     "exception": false,
     "start_time": "2023-01-23T20:46:36.629487",
     "status": "completed"
    },
    "tags": []
   },
   "outputs": [
    {
     "name": "stdout",
     "output_type": "stream",
     "text": [
      "name ------ ['Maruti 800 AC' 'Maruti Wagon R LXI Minor' 'Hyundai Verna 1.6 SX' ...\n",
      " 'Mahindra Verito 1.5 D6 BSIII'\n",
      " 'Toyota Innova 2.5 VX (Diesel) 8 Seater BS IV'\n",
      " 'Hyundai i20 Magna 1.4 CRDi']\n",
      "year ------ [2007 2012 2017 2014 2016 2015 2018 2019 2013 2011 2010 2009 2006 1996\n",
      " 2005 2008 2004 1998 2003 2002 2020 2000 1999 2001 1995 1997 1992]\n",
      "selling_price ------ [  60000  135000  600000  250000  450000  140000  550000  240000  850000\n",
      "  365000  260000 1650000  585000 1195000  390000 1964999 1425000  975000\n",
      " 1190000  930000  525000 1735000 1375000  900000 1300000 1400000  229999\n",
      " 1550000 1250000  625000 1050000  560000  290000  275000  411000  150000\n",
      "  500000  100000  725000  401000  750000  310000  665000  465000  160000\n",
      "  675000  300000   70000  151000  280000  350000  570000  125000  130000\n",
      "  925000  200000  248000   80000  650000  495000  371000 1025000 8150000\n",
      "  325000 1470000 2800000  210000 1150000 4500000 2750000 1975000  175000\n",
      " 2500000  628000  399000  315000  780000  434000  690000  555000  120000\n",
      "  165000   95000  800000  840000  490000  400000 1000000  530000   40000\n",
      "   75000  540000  700000  430000   65000  195000  170000  225000   99000\n",
      "  620000 2550000  320000  810000  282000   72000  640000  380000 1500000\n",
      "  434999  190000 2900000  425000  265000  890000  685000  940000  590000\n",
      "  385000 2000000  235000   52000   89999  180000  285000 1075000   90000\n",
      "  220000  110000  880000  115999  360000  680000  860000  270000  395000\n",
      "  624000  345000  106000 1800000  575000  370000   50000   55000  755000\n",
      "  720000 1100000  159000  335000  185000  470000  145000  595000 1600000\n",
      "  105000  409999  215000  475000  330000 1044999 1350000  420000  760000\n",
      "   43000 1850000 1125000  133000  352000  520000  509999  556000  484999\n",
      "  565000  295000 2050000 1475000 4400000  670000  770000  775000 1725000\n",
      " 2150000 3800000 1580000 4950000  535000  239000 2600000  114999  200999\n",
      "  710000  969999  155000  138000  311000   58000  183000  825000  299000\n",
      "  639000  415000 1199000  699000  269000  249000 1549000  254999  211000\n",
      "  599000 4000000 1200000   98000  790000 1700000   68000  875000 1330000\n",
      "  919999  611000  711000  851000  610000  744000  480000  950000   85000\n",
      "  615000  227000  222000  735000  271000 1490000  455000  421000 2700000\n",
      " 4700000 1900000 1770000  660000  716000  147000 1140000 3050000  375000\n",
      " 1950000  340000 3100000  245000  715000 1750000 3500000  835000 2490000\n",
      " 1015000   91200 2400000  635000  302000  204999  341000  819999  351000\n",
      "  630000 1085000  580000   78000 3200000  695000  355000  619000   81000\n",
      "  486000  802000 2300000  287000  250999   45000 1485000 1825000 3256000\n",
      "  451000  149000  163000  419000  990000  346000  509000   69000 1380000\n",
      "  256000   97000  199000 2595000  730000  368000  545000  641000  784000\n",
      "  324000 2100000  305000  221000  828999 1119000  746000 1030000 1334000\n",
      "  811999 1331000  852000  830000  213000   35000  869999  178000  515000\n",
      "  312000  111000  774000  148000   57000  284000  349000  458000  381000\n",
      "  751000  782000  321000   92800  291000   73000  655000  263000  217000\n",
      "  539000  142000  910000  740000  164000  999000   56000 3899000  440000\n",
      "  238000 1295000  541000  894999  844999  288000 1225000 1010000   30000\n",
      "  396000  281000   93000  459999   88000   22000   79000  198000  182000\n",
      "  861999  836000  696000  596000  612000   20000   61000  511000 1230000\n",
      "  426000   62000 1450000   71000 2200000 1249000 1240000 1068000 1189000\n",
      "  363000  821000  815000  738000  765000  516000  134000  347000 2650000\n",
      " 2675000  359000  980000  707000  471000  377000  763000  701000  277000\n",
      "  936999   82000  799000 1451000 1575000   78692  479000   48000  121000\n",
      "  785000  173000 4800000  587000  123000 1290000  193000  721000 1040000\n",
      " 2349000 1165000   42000 1680000  231999  841000 1280000 1090000  449000\n",
      "  724000  126000  795000 2575000 1035000 1260000 8900000 1860000 4200000\n",
      " 5500000  430999 1151000  927999   51111  212000  428000  219000  749000\n",
      "  233000  614000   37500  865000]\n",
      "km_driven ------ [ 70000  50000 100000  46000 141000 125000  25000  60000  78000  35000\n",
      "  24000   5000  33000  28000  59000   4500 175900  14500  15000  33800\n",
      " 130400  80000  10000 119000  75800  40000  74000  64000 120000  79000\n",
      "  18500  10200  29000  90000  73300  92000  66764 350000 230000  31000\n",
      "  39000 166000 110000  54000  63000  76000  11958  20000   9000   6500\n",
      "  58000  62200  34000  53000  49000  63500   9800  13000  21000  29173\n",
      "  48000  30000  87000  16000  79350  81000   3600  14272  49213  57000\n",
      "   3240 114000  53772 140000 175000  36000 155500  23000  22155  78380\n",
      " 150000  80362  55000   1136  43000   2650 115962  65000  56000 213000\n",
      " 139000 160000 163000  32000  52000  11240  66000  26500  72000  44000\n",
      " 130000 195000 155000   4000  41000  10832  14681  51000 200000  19600\n",
      "  46730  21170 167223 141440 212814  88635 149674   8000  68000  38000\n",
      "  75000  98000  81925  82080  97000  52047  62009  33100 220000  45000\n",
      " 180000  22000  80577 127500  40903  22288  61690  64484  75976  85962\n",
      "  57035  72104 164000 124439  77000   1250  17152  24005 149000  19000\n",
      " 109000  61000  27633  12586  38083  55328  81632 155201  93283 217871\n",
      "  90165 101504  86017  85036  91086 160254 125531  82000  84000 560000\n",
      "  14365  61083  66363  11700   7104  45974  55340  61585  39415  29654\n",
      "  64672  54634  66521  23974   1000  86000  52600  19890  11918  10510\n",
      "  47162  49824  58500  56580  46507  11451 172000  66508  29900   3000\n",
      "  85000   7900  17500 206500  88600 186000  11000 138000  27974  18000\n",
      "   1400 124000  42000  28205  32670  30093  56228  59319  39503  35299\n",
      "  51687  76259  44049  45087  41125  42215  54206  52547  59110  54565\n",
      "  47564  45143  61624 132000  10980  20629  69782  63654  59385  70378\n",
      "  55425  78413  40890  34823  55545  56541  43700  27483  56207   1440\n",
      "  91195  63657  97248  89000  12000  12997  26430  24600  28481  41988\n",
      "  30375   7658  34400  28942  53600  53652 106000 205000  79500 197000\n",
      "   9161  19077 128000  21302  10500 107000  55300  74300  48781  87620\n",
      "  40219  11473   8352   9745   9748  20694  31080  37605  55850  58850\n",
      "  23839  45454  46957 190000   1500  47000 116000  26350  71042 167870\n",
      " 133564  23038  43608  11212  49217  28838 135000  19571  29600  13500\n",
      "  48600 127643 102354  62237  21394  32686   1001  53261  14000  39895\n",
      "  73000  17000  18591  26766 300000  27620 223000 161327   6000  71000\n",
      " 144000  37000  26000  27000  13250 101000   8500  90246  60400  70950\n",
      "   1100  31491 107143  46412 107500  43826  55838 112880  30300  80659\n",
      "  81324 127884  66755 123084 806599  95851 234000 170000  96000  19014\n",
      "  23262  35925  40771  30500  55800  66569  81358  82695  68293 190621\n",
      "  64700  88470 126000  74183      1 192000  83411  13270  88000   7000\n",
      "  13770 102000 143000 115000 136906 133000  28689  80322  61658 185000\n",
      "  30600 235000  67000  74500 118700 223660   2000  73756  16400  41395\n",
      "  71014 181000  89550 149500  83000  44800 156000 146000  99000  37516\n",
      "  25880 136000   2020  94000  88500  52536   1950 118400   6480  32077\n",
      "  19107  18469  28217  72787  31063  79641  58692  54784  64156   9500\n",
      "  81366 244000 312000 145000   7300  72539    101  52328  91505  20500\n",
      " 154000  41723  68745  27289  24662  28245  27005  39227  31367  35008\n",
      " 100005  45264  39093  45241   2769  43128  22255  59213   1010   1111\n",
      "  48965   5166  76290  45766  78771  79357  76736  92645 101849 155836\n",
      "  63230   1758   1452  35122  92621  92198 152000  78322  54309  34600\n",
      "  38217  77073  16584  81257   3917  69069  59059  39039  33033  55168\n",
      "  41041  67067  66066  82082  70070  63063   9528 135200  50300 151624\n",
      "  74820 129000  66778  63400 157000  38500 103921  14825  43377 102307\n",
      " 245244  68500   5007  49600  43100  10171  41123  20118  52517  99117\n",
      "   3700  43500 137250   5400  11200  93000  62000   5800 267000 250000\n",
      "  28635  32114  95149  68458 105546 104000 132343  26134  52895  42324\n",
      "  60236  10300 142000  28643   7600  47253   4432  68523  80251  34500\n",
      "  42743  93900  55766 113600 138925 121764 105429  23122  44500  13599\n",
      "   5200  12700  95000  45839  74510  87293 156040  93415 101159  68519\n",
      "  55130  65239  58182  91245 102989 108000 178000  75118   4637  42655\n",
      "  69000 117000 105000 182000  24585  13900  17563 173000 151000 117780\n",
      "  81595   9700 221000  28740  48500 148620 270000  41090 296823  89255\n",
      " 168000   5550   1700  45217  44440  91365  90010  31800  59100  31200\n",
      "  22700  50900   2417  65500 140300  10211 260000  32933  54551  57112\n",
      "  41025  53122  64111  78892  74113  84775  20778  64441  43192  44416\n",
      "  79991  62601  89600  60800  69111  20969  20194  34982  44588  57904\n",
      "  59258  60826   1300  31707 115992 109052  90658  25552  40700  11174\n",
      "  72500  76600  97700  37500  23800  44077 210000   9422 240000  17100\n",
      " 224642 222435 159000 101100   1200 134444 238000 165000  63700  74800\n",
      "  60516  76731  63840  76400  31489 295000 158000 400000  19495  62668\n",
      "  85710  63356 129627   4400  14987  25061  42494  44875  89741 347089\n",
      " 222252  55250  12500 162000  22038   2500  89126 134000  42500 131365\n",
      "  48980  98900  13800  99700  49654  45457  39221  48220  11114  60208\n",
      "  98600  85441  64541  16267  71500  12999  14700  92686  49359 108731\n",
      "  29976  30646  23600  71318  78098  18054  38406  54350  32260  58231\n",
      "  59858  73350  88473  96987  77350  61187  68350  81150 280000 105700\n",
      "  37091  38900   9400  14100  37555  56600  67580  48238  38365  23670\n",
      "  49834  57353  68308  63240  64916  37161 118000  50852  53500  51500\n",
      "  79800   6590  49957  43235  50699 140730 256000 218000  66782 112198]\n",
      "fuel ------ ['Petrol' 'Diesel' 'CNG' 'LPG' 'Electric']\n",
      "seller_type ------ ['Individual' 'Dealer' 'Trustmark Dealer']\n",
      "transmission ------ ['Manual' 'Automatic']\n",
      "owner ------ ['First Owner' 'Second Owner' 'Fourth & Above Owner' 'Third Owner'\n",
      " 'Test Drive Car']\n"
     ]
    }
   ],
   "source": [
    "## Checking uniques values\n",
    "for i in df.columns:\n",
    "    print(i,\"------\",df[i].unique())"
   ]
  },
  {
   "cell_type": "markdown",
   "id": "c4309746",
   "metadata": {
    "papermill": {
     "duration": 0.014947,
     "end_time": "2023-01-23T20:46:36.692963",
     "exception": false,
     "start_time": "2023-01-23T20:46:36.678016",
     "status": "completed"
    },
    "tags": []
   },
   "source": [
    "# Step -3 Fetching Insights "
   ]
  },
  {
   "cell_type": "code",
   "execution_count": 15,
   "id": "f04b7ed6",
   "metadata": {
    "execution": {
     "iopub.execute_input": "2023-01-23T20:46:36.725130Z",
     "iopub.status.busy": "2023-01-23T20:46:36.724002Z",
     "iopub.status.idle": "2023-01-23T20:46:36.730006Z",
     "shell.execute_reply": "2023-01-23T20:46:36.729238Z"
    },
    "papermill": {
     "duration": 0.024439,
     "end_time": "2023-01-23T20:46:36.732176",
     "exception": false,
     "start_time": "2023-01-23T20:46:36.707737",
     "status": "completed"
    },
    "tags": []
   },
   "outputs": [],
   "source": [
    "sns.set(style=\"darkgrid\")"
   ]
  },
  {
   "cell_type": "code",
   "execution_count": 16,
   "id": "2817dfcb",
   "metadata": {
    "execution": {
     "iopub.execute_input": "2023-01-23T20:46:36.764870Z",
     "iopub.status.busy": "2023-01-23T20:46:36.763763Z",
     "iopub.status.idle": "2023-01-23T20:46:36.777617Z",
     "shell.execute_reply": "2023-01-23T20:46:36.776494Z"
    },
    "papermill": {
     "duration": 0.032075,
     "end_time": "2023-01-23T20:46:36.779656",
     "exception": false,
     "start_time": "2023-01-23T20:46:36.747581",
     "status": "completed"
    },
    "tags": []
   },
   "outputs": [
    {
     "data": {
      "text/html": [
       "<div>\n",
       "<style scoped>\n",
       "    .dataframe tbody tr th:only-of-type {\n",
       "        vertical-align: middle;\n",
       "    }\n",
       "\n",
       "    .dataframe tbody tr th {\n",
       "        vertical-align: top;\n",
       "    }\n",
       "\n",
       "    .dataframe thead th {\n",
       "        text-align: right;\n",
       "    }\n",
       "</style>\n",
       "<table border=\"1\" class=\"dataframe\">\n",
       "  <thead>\n",
       "    <tr style=\"text-align: right;\">\n",
       "      <th></th>\n",
       "      <th>name</th>\n",
       "      <th>year</th>\n",
       "      <th>selling_price</th>\n",
       "      <th>km_driven</th>\n",
       "      <th>fuel</th>\n",
       "      <th>seller_type</th>\n",
       "      <th>transmission</th>\n",
       "      <th>owner</th>\n",
       "    </tr>\n",
       "  </thead>\n",
       "  <tbody>\n",
       "    <tr>\n",
       "      <th>4055</th>\n",
       "      <td>Tata Nexon 1.2 Revotron XZ Plus Dual Tone</td>\n",
       "      <td>2017</td>\n",
       "      <td>750000</td>\n",
       "      <td>15000</td>\n",
       "      <td>Petrol</td>\n",
       "      <td>Individual</td>\n",
       "      <td>Manual</td>\n",
       "      <td>First Owner</td>\n",
       "    </tr>\n",
       "    <tr>\n",
       "      <th>2693</th>\n",
       "      <td>Ford Ecosport 1.5 DV5 MT Titanium</td>\n",
       "      <td>2014</td>\n",
       "      <td>550000</td>\n",
       "      <td>110000</td>\n",
       "      <td>Diesel</td>\n",
       "      <td>Individual</td>\n",
       "      <td>Manual</td>\n",
       "      <td>First Owner</td>\n",
       "    </tr>\n",
       "    <tr>\n",
       "      <th>2912</th>\n",
       "      <td>Honda City i DTEC E</td>\n",
       "      <td>2014</td>\n",
       "      <td>350000</td>\n",
       "      <td>60000</td>\n",
       "      <td>Diesel</td>\n",
       "      <td>Individual</td>\n",
       "      <td>Manual</td>\n",
       "      <td>Second Owner</td>\n",
       "    </tr>\n",
       "    <tr>\n",
       "      <th>1362</th>\n",
       "      <td>Toyota Innova 2.5 VX (Diesel) 7 Seater</td>\n",
       "      <td>2015</td>\n",
       "      <td>1200000</td>\n",
       "      <td>70000</td>\n",
       "      <td>Diesel</td>\n",
       "      <td>Individual</td>\n",
       "      <td>Manual</td>\n",
       "      <td>Third Owner</td>\n",
       "    </tr>\n",
       "    <tr>\n",
       "      <th>4024</th>\n",
       "      <td>Toyota Innova 2.5 VX 8 STR</td>\n",
       "      <td>2012</td>\n",
       "      <td>800000</td>\n",
       "      <td>108731</td>\n",
       "      <td>Diesel</td>\n",
       "      <td>Individual</td>\n",
       "      <td>Manual</td>\n",
       "      <td>First Owner</td>\n",
       "    </tr>\n",
       "  </tbody>\n",
       "</table>\n",
       "</div>"
      ],
      "text/plain": [
       "                                           name  year  selling_price  \\\n",
       "4055  Tata Nexon 1.2 Revotron XZ Plus Dual Tone  2017         750000   \n",
       "2693          Ford Ecosport 1.5 DV5 MT Titanium  2014         550000   \n",
       "2912                        Honda City i DTEC E  2014         350000   \n",
       "1362     Toyota Innova 2.5 VX (Diesel) 7 Seater  2015        1200000   \n",
       "4024                 Toyota Innova 2.5 VX 8 STR  2012         800000   \n",
       "\n",
       "      km_driven    fuel seller_type transmission         owner  \n",
       "4055      15000  Petrol  Individual       Manual   First Owner  \n",
       "2693     110000  Diesel  Individual       Manual   First Owner  \n",
       "2912      60000  Diesel  Individual       Manual  Second Owner  \n",
       "1362      70000  Diesel  Individual       Manual   Third Owner  \n",
       "4024     108731  Diesel  Individual       Manual   First Owner  "
      ]
     },
     "execution_count": 16,
     "metadata": {},
     "output_type": "execute_result"
    }
   ],
   "source": [
    "## Checking sample\n",
    "df.sample(5)"
   ]
  },
  {
   "cell_type": "code",
   "execution_count": 17,
   "id": "4f389016",
   "metadata": {
    "execution": {
     "iopub.execute_input": "2023-01-23T20:46:36.812325Z",
     "iopub.status.busy": "2023-01-23T20:46:36.811368Z",
     "iopub.status.idle": "2023-01-23T20:46:36.819977Z",
     "shell.execute_reply": "2023-01-23T20:46:36.818865Z"
    },
    "papermill": {
     "duration": 0.026994,
     "end_time": "2023-01-23T20:46:36.821970",
     "exception": false,
     "start_time": "2023-01-23T20:46:36.794976",
     "status": "completed"
    },
    "tags": []
   },
   "outputs": [
    {
     "data": {
      "text/plain": [
       "First Owner             2832\n",
       "Second Owner            1106\n",
       "Third Owner              304\n",
       "Fourth & Above Owner      81\n",
       "Test Drive Car            17\n",
       "Name: owner, dtype: int64"
      ]
     },
     "execution_count": 17,
     "metadata": {},
     "output_type": "execute_result"
    }
   ],
   "source": [
    "df[\"owner\"].value_counts()"
   ]
  },
  {
   "cell_type": "code",
   "execution_count": 18,
   "id": "bb454a60",
   "metadata": {
    "execution": {
     "iopub.execute_input": "2023-01-23T20:46:36.854296Z",
     "iopub.status.busy": "2023-01-23T20:46:36.853948Z",
     "iopub.status.idle": "2023-01-23T20:46:36.866294Z",
     "shell.execute_reply": "2023-01-23T20:46:36.865071Z"
    },
    "papermill": {
     "duration": 0.030922,
     "end_time": "2023-01-23T20:46:36.868285",
     "exception": false,
     "start_time": "2023-01-23T20:46:36.837363",
     "status": "completed"
    },
    "tags": []
   },
   "outputs": [
    {
     "data": {
      "text/html": [
       "<div>\n",
       "<style scoped>\n",
       "    .dataframe tbody tr th:only-of-type {\n",
       "        vertical-align: middle;\n",
       "    }\n",
       "\n",
       "    .dataframe tbody tr th {\n",
       "        vertical-align: top;\n",
       "    }\n",
       "\n",
       "    .dataframe thead th {\n",
       "        text-align: right;\n",
       "    }\n",
       "</style>\n",
       "<table border=\"1\" class=\"dataframe\">\n",
       "  <thead>\n",
       "    <tr style=\"text-align: right;\">\n",
       "      <th></th>\n",
       "      <th>index</th>\n",
       "      <th>fuel</th>\n",
       "    </tr>\n",
       "  </thead>\n",
       "  <tbody>\n",
       "    <tr>\n",
       "      <th>0</th>\n",
       "      <td>Diesel</td>\n",
       "      <td>2153</td>\n",
       "    </tr>\n",
       "    <tr>\n",
       "      <th>1</th>\n",
       "      <td>Petrol</td>\n",
       "      <td>2123</td>\n",
       "    </tr>\n",
       "    <tr>\n",
       "      <th>2</th>\n",
       "      <td>CNG</td>\n",
       "      <td>40</td>\n",
       "    </tr>\n",
       "    <tr>\n",
       "      <th>3</th>\n",
       "      <td>LPG</td>\n",
       "      <td>23</td>\n",
       "    </tr>\n",
       "    <tr>\n",
       "      <th>4</th>\n",
       "      <td>Electric</td>\n",
       "      <td>1</td>\n",
       "    </tr>\n",
       "  </tbody>\n",
       "</table>\n",
       "</div>"
      ],
      "text/plain": [
       "      index  fuel\n",
       "0    Diesel  2153\n",
       "1    Petrol  2123\n",
       "2       CNG    40\n",
       "3       LPG    23\n",
       "4  Electric     1"
      ]
     },
     "execution_count": 18,
     "metadata": {},
     "output_type": "execute_result"
    }
   ],
   "source": [
    "## How many cars are of diesel, petrol,cng, lpg, electric\n",
    "df[\"fuel\"].value_counts().reset_index()"
   ]
  },
  {
   "cell_type": "code",
   "execution_count": 19,
   "id": "5e4e0be4",
   "metadata": {
    "execution": {
     "iopub.execute_input": "2023-01-23T20:46:36.901266Z",
     "iopub.status.busy": "2023-01-23T20:46:36.900870Z",
     "iopub.status.idle": "2023-01-23T20:46:37.124634Z",
     "shell.execute_reply": "2023-01-23T20:46:37.123498Z"
    },
    "papermill": {
     "duration": 0.243531,
     "end_time": "2023-01-23T20:46:37.126884",
     "exception": false,
     "start_time": "2023-01-23T20:46:36.883353",
     "status": "completed"
    },
    "tags": []
   },
   "outputs": [
    {
     "data": {
      "text/plain": [
       "<AxesSubplot:xlabel='fuel', ylabel='count'>"
      ]
     },
     "execution_count": 19,
     "metadata": {},
     "output_type": "execute_result"
    },
    {
     "data": {
      "image/png": "[encoded data removed]",
      "text/plain": [
       "<Figure size 432x288 with 1 Axes>"
      ]
     },
     "metadata": {},
     "output_type": "display_data"
    }
   ],
   "source": [
    "sns.countplot(x=\"fuel\",data=df)"
   ]
  },
  {
   "cell_type": "code",
   "execution_count": 20,
   "id": "e293da99",
   "metadata": {
    "execution": {
     "iopub.execute_input": "2023-01-23T20:46:37.160822Z",
     "iopub.status.busy": "2023-01-23T20:46:37.160089Z",
     "iopub.status.idle": "2023-01-23T20:46:37.172572Z",
     "shell.execute_reply": "2023-01-23T20:46:37.171512Z"
    },
    "papermill": {
     "duration": 0.03188,
     "end_time": "2023-01-23T20:46:37.174687",
     "exception": false,
     "start_time": "2023-01-23T20:46:37.142807",
     "status": "completed"
    },
    "tags": []
   },
   "outputs": [
    {
     "data": {
      "text/html": [
       "<div>\n",
       "<style scoped>\n",
       "    .dataframe tbody tr th:only-of-type {\n",
       "        vertical-align: middle;\n",
       "    }\n",
       "\n",
       "    .dataframe tbody tr th {\n",
       "        vertical-align: top;\n",
       "    }\n",
       "\n",
       "    .dataframe thead th {\n",
       "        text-align: right;\n",
       "    }\n",
       "</style>\n",
       "<table border=\"1\" class=\"dataframe\">\n",
       "  <thead>\n",
       "    <tr style=\"text-align: right;\">\n",
       "      <th></th>\n",
       "      <th>index</th>\n",
       "      <th>seller_type</th>\n",
       "    </tr>\n",
       "  </thead>\n",
       "  <tbody>\n",
       "    <tr>\n",
       "      <th>0</th>\n",
       "      <td>Individual</td>\n",
       "      <td>3244</td>\n",
       "    </tr>\n",
       "    <tr>\n",
       "      <th>1</th>\n",
       "      <td>Dealer</td>\n",
       "      <td>994</td>\n",
       "    </tr>\n",
       "    <tr>\n",
       "      <th>2</th>\n",
       "      <td>Trustmark Dealer</td>\n",
       "      <td>102</td>\n",
       "    </tr>\n",
       "  </tbody>\n",
       "</table>\n",
       "</div>"
      ],
      "text/plain": [
       "              index  seller_type\n",
       "0        Individual         3244\n",
       "1            Dealer          994\n",
       "2  Trustmark Dealer          102"
      ]
     },
     "execution_count": 20,
     "metadata": {},
     "output_type": "execute_result"
    }
   ],
   "source": [
    "## how many are seller type\n",
    "df[\"seller_type\"].value_counts().reset_index()"
   ]
  },
  {
   "cell_type": "code",
   "execution_count": 21,
   "id": "4c26f7bf",
   "metadata": {
    "execution": {
     "iopub.execute_input": "2023-01-23T20:46:37.209367Z",
     "iopub.status.busy": "2023-01-23T20:46:37.208662Z",
     "iopub.status.idle": "2023-01-23T20:46:37.417627Z",
     "shell.execute_reply": "2023-01-23T20:46:37.416730Z"
    },
    "papermill": {
     "duration": 0.22919,
     "end_time": "2023-01-23T20:46:37.420308",
     "exception": false,
     "start_time": "2023-01-23T20:46:37.191118",
     "status": "completed"
    },
    "tags": []
   },
   "outputs": [
    {
     "data": {
      "text/plain": [
       "<AxesSubplot:xlabel='seller_type', ylabel='count'>"
      ]
     },
     "execution_count": 21,
     "metadata": {},
     "output_type": "execute_result"
    },
    {
     "data": {
      "image/png": "[encoded data removed]",
      "text/plain": [
       "<Figure size 432x288 with 1 Axes>"
      ]
     },
     "metadata": {},
     "output_type": "display_data"
    }
   ],
   "source": [
    "sns.countplot(x=\"seller_type\",data=df)"
   ]
  },
  {
   "cell_type": "code",
   "execution_count": 22,
   "id": "8619a51a",
   "metadata": {
    "execution": {
     "iopub.execute_input": "2023-01-23T20:46:37.465286Z",
     "iopub.status.busy": "2023-01-23T20:46:37.464470Z",
     "iopub.status.idle": "2023-01-23T20:46:37.478156Z",
     "shell.execute_reply": "2023-01-23T20:46:37.476813Z"
    },
    "papermill": {
     "duration": 0.03577,
     "end_time": "2023-01-23T20:46:37.480658",
     "exception": false,
     "start_time": "2023-01-23T20:46:37.444888",
     "status": "completed"
    },
    "tags": []
   },
   "outputs": [
    {
     "data": {
      "text/html": [
       "<div>\n",
       "<style scoped>\n",
       "    .dataframe tbody tr th:only-of-type {\n",
       "        vertical-align: middle;\n",
       "    }\n",
       "\n",
       "    .dataframe tbody tr th {\n",
       "        vertical-align: top;\n",
       "    }\n",
       "\n",
       "    .dataframe thead th {\n",
       "        text-align: right;\n",
       "    }\n",
       "</style>\n",
       "<table border=\"1\" class=\"dataframe\">\n",
       "  <thead>\n",
       "    <tr style=\"text-align: right;\">\n",
       "      <th></th>\n",
       "      <th>index</th>\n",
       "      <th>km_driven</th>\n",
       "    </tr>\n",
       "  </thead>\n",
       "  <tbody>\n",
       "    <tr>\n",
       "      <th>0</th>\n",
       "      <td>max</td>\n",
       "      <td>806599.000000</td>\n",
       "    </tr>\n",
       "    <tr>\n",
       "      <th>1</th>\n",
       "      <td>min</td>\n",
       "      <td>1.000000</td>\n",
       "    </tr>\n",
       "    <tr>\n",
       "      <th>2</th>\n",
       "      <td>mean</td>\n",
       "      <td>66215.777419</td>\n",
       "    </tr>\n",
       "  </tbody>\n",
       "</table>\n",
       "</div>"
      ],
      "text/plain": [
       "  index      km_driven\n",
       "0   max  806599.000000\n",
       "1   min       1.000000\n",
       "2  mean   66215.777419"
      ]
     },
     "execution_count": 22,
     "metadata": {},
     "output_type": "execute_result"
    }
   ],
   "source": [
    "### which is the maximum, minimum and average km driven \n",
    "df[\"km_driven\"].agg([\"max\",\"min\",\"mean\"]).reset_index()\n"
   ]
  },
  {
   "cell_type": "code",
   "execution_count": 23,
   "id": "46f0c9ab",
   "metadata": {
    "execution": {
     "iopub.execute_input": "2023-01-23T20:46:37.532021Z",
     "iopub.status.busy": "2023-01-23T20:46:37.531258Z",
     "iopub.status.idle": "2023-01-23T20:46:37.554164Z",
     "shell.execute_reply": "2023-01-23T20:46:37.547524Z"
    },
    "papermill": {
     "duration": 0.051735,
     "end_time": "2023-01-23T20:46:37.557918",
     "exception": false,
     "start_time": "2023-01-23T20:46:37.506183",
     "status": "completed"
    },
    "tags": []
   },
   "outputs": [
    {
     "data": {
      "text/html": [
       "<div>\n",
       "<style scoped>\n",
       "    .dataframe tbody tr th:only-of-type {\n",
       "        vertical-align: middle;\n",
       "    }\n",
       "\n",
       "    .dataframe tbody tr th {\n",
       "        vertical-align: top;\n",
       "    }\n",
       "\n",
       "    .dataframe thead th {\n",
       "        text-align: right;\n",
       "    }\n",
       "</style>\n",
       "<table border=\"1\" class=\"dataframe\">\n",
       "  <thead>\n",
       "    <tr style=\"text-align: right;\">\n",
       "      <th></th>\n",
       "      <th>name</th>\n",
       "      <th>year</th>\n",
       "      <th>selling_price</th>\n",
       "      <th>km_driven</th>\n",
       "      <th>fuel</th>\n",
       "      <th>seller_type</th>\n",
       "      <th>transmission</th>\n",
       "      <th>owner</th>\n",
       "    </tr>\n",
       "  </thead>\n",
       "  <tbody>\n",
       "    <tr>\n",
       "      <th>1243</th>\n",
       "      <td>Maruti Swift VXI BSIII</td>\n",
       "      <td>2009</td>\n",
       "      <td>250000</td>\n",
       "      <td>806599</td>\n",
       "      <td>Petrol</td>\n",
       "      <td>Dealer</td>\n",
       "      <td>Manual</td>\n",
       "      <td>First Owner</td>\n",
       "    </tr>\n",
       "  </tbody>\n",
       "</table>\n",
       "</div>"
      ],
      "text/plain": [
       "                        name  year  selling_price  km_driven    fuel  \\\n",
       "1243  Maruti Swift VXI BSIII  2009         250000     806599  Petrol   \n",
       "\n",
       "     seller_type transmission        owner  \n",
       "1243      Dealer       Manual  First Owner  "
      ]
     },
     "execution_count": 23,
     "metadata": {},
     "output_type": "execute_result"
    }
   ],
   "source": [
    "## which was the highest driven car\n",
    "df[df[\"km_driven\"]==df[\"km_driven\"].max()]\n"
   ]
  },
  {
   "cell_type": "code",
   "execution_count": 24,
   "id": "b9062cdc",
   "metadata": {
    "execution": {
     "iopub.execute_input": "2023-01-23T20:46:37.611744Z",
     "iopub.status.busy": "2023-01-23T20:46:37.610648Z",
     "iopub.status.idle": "2023-01-23T20:46:37.628051Z",
     "shell.execute_reply": "2023-01-23T20:46:37.627259Z"
    },
    "papermill": {
     "duration": 0.047531,
     "end_time": "2023-01-23T20:46:37.630289",
     "exception": false,
     "start_time": "2023-01-23T20:46:37.582758",
     "status": "completed"
    },
    "tags": []
   },
   "outputs": [
    {
     "data": {
      "text/html": [
       "<div>\n",
       "<style scoped>\n",
       "    .dataframe tbody tr th:only-of-type {\n",
       "        vertical-align: middle;\n",
       "    }\n",
       "\n",
       "    .dataframe tbody tr th {\n",
       "        vertical-align: top;\n",
       "    }\n",
       "\n",
       "    .dataframe thead th {\n",
       "        text-align: right;\n",
       "    }\n",
       "</style>\n",
       "<table border=\"1\" class=\"dataframe\">\n",
       "  <thead>\n",
       "    <tr style=\"text-align: right;\">\n",
       "      <th></th>\n",
       "      <th>name</th>\n",
       "      <th>year</th>\n",
       "      <th>selling_price</th>\n",
       "      <th>km_driven</th>\n",
       "      <th>fuel</th>\n",
       "      <th>seller_type</th>\n",
       "      <th>transmission</th>\n",
       "      <th>owner</th>\n",
       "    </tr>\n",
       "  </thead>\n",
       "  <tbody>\n",
       "    <tr>\n",
       "      <th>1312</th>\n",
       "      <td>Mahindra Quanto C6</td>\n",
       "      <td>2014</td>\n",
       "      <td>250000</td>\n",
       "      <td>1</td>\n",
       "      <td>Diesel</td>\n",
       "      <td>Individual</td>\n",
       "      <td>Manual</td>\n",
       "      <td>Second Owner</td>\n",
       "    </tr>\n",
       "  </tbody>\n",
       "</table>\n",
       "</div>"
      ],
      "text/plain": [
       "                    name  year  selling_price  km_driven    fuel seller_type  \\\n",
       "1312  Mahindra Quanto C6  2014         250000          1  Diesel  Individual   \n",
       "\n",
       "     transmission         owner  \n",
       "1312       Manual  Second Owner  "
      ]
     },
     "execution_count": 24,
     "metadata": {},
     "output_type": "execute_result"
    }
   ],
   "source": [
    "## which was the lowest driven car\n",
    "df[df[\"km_driven\"]==df[\"km_driven\"].min()]"
   ]
  },
  {
   "cell_type": "code",
   "execution_count": 25,
   "id": "2b160936",
   "metadata": {
    "execution": {
     "iopub.execute_input": "2023-01-23T20:46:37.671685Z",
     "iopub.status.busy": "2023-01-23T20:46:37.670943Z",
     "iopub.status.idle": "2023-01-23T20:46:37.684621Z",
     "shell.execute_reply": "2023-01-23T20:46:37.683461Z"
    },
    "papermill": {
     "duration": 0.039351,
     "end_time": "2023-01-23T20:46:37.687056",
     "exception": false,
     "start_time": "2023-01-23T20:46:37.647705",
     "status": "completed"
    },
    "tags": []
   },
   "outputs": [
    {
     "data": {
      "text/html": [
       "<div>\n",
       "<style scoped>\n",
       "    .dataframe tbody tr th:only-of-type {\n",
       "        vertical-align: middle;\n",
       "    }\n",
       "\n",
       "    .dataframe tbody tr th {\n",
       "        vertical-align: top;\n",
       "    }\n",
       "\n",
       "    .dataframe thead th {\n",
       "        text-align: right;\n",
       "    }\n",
       "</style>\n",
       "<table border=\"1\" class=\"dataframe\">\n",
       "  <thead>\n",
       "    <tr style=\"text-align: right;\">\n",
       "      <th></th>\n",
       "      <th>name</th>\n",
       "      <th>year</th>\n",
       "      <th>selling_price</th>\n",
       "      <th>km_driven</th>\n",
       "      <th>fuel</th>\n",
       "      <th>seller_type</th>\n",
       "      <th>transmission</th>\n",
       "      <th>owner</th>\n",
       "    </tr>\n",
       "  </thead>\n",
       "  <tbody>\n",
       "    <tr>\n",
       "      <th>3872</th>\n",
       "      <td>Audi RS7 2015-2019 Sportback Performance</td>\n",
       "      <td>2016</td>\n",
       "      <td>8900000</td>\n",
       "      <td>13000</td>\n",
       "      <td>Petrol</td>\n",
       "      <td>Dealer</td>\n",
       "      <td>Automatic</td>\n",
       "      <td>First Owner</td>\n",
       "    </tr>\n",
       "  </tbody>\n",
       "</table>\n",
       "</div>"
      ],
      "text/plain": [
       "                                          name  year  selling_price  \\\n",
       "3872  Audi RS7 2015-2019 Sportback Performance  2016        8900000   \n",
       "\n",
       "      km_driven    fuel seller_type transmission        owner  \n",
       "3872      13000  Petrol      Dealer    Automatic  First Owner  "
      ]
     },
     "execution_count": 25,
     "metadata": {},
     "output_type": "execute_result"
    }
   ],
   "source": [
    "## Which is the highest selling car\n",
    "df[df[\"selling_price\"]==df[\"selling_price\"].max()]"
   ]
  },
  {
   "cell_type": "code",
   "execution_count": 26,
   "id": "ef01c76b",
   "metadata": {
    "execution": {
     "iopub.execute_input": "2023-01-23T20:46:37.728090Z",
     "iopub.status.busy": "2023-01-23T20:46:37.727703Z",
     "iopub.status.idle": "2023-01-23T20:46:37.742017Z",
     "shell.execute_reply": "2023-01-23T20:46:37.740985Z"
    },
    "papermill": {
     "duration": 0.039359,
     "end_time": "2023-01-23T20:46:37.744283",
     "exception": false,
     "start_time": "2023-01-23T20:46:37.704924",
     "status": "completed"
    },
    "tags": []
   },
   "outputs": [
    {
     "data": {
      "text/html": [
       "<div>\n",
       "<style scoped>\n",
       "    .dataframe tbody tr th:only-of-type {\n",
       "        vertical-align: middle;\n",
       "    }\n",
       "\n",
       "    .dataframe tbody tr th {\n",
       "        vertical-align: top;\n",
       "    }\n",
       "\n",
       "    .dataframe thead th {\n",
       "        text-align: right;\n",
       "    }\n",
       "</style>\n",
       "<table border=\"1\" class=\"dataframe\">\n",
       "  <thead>\n",
       "    <tr style=\"text-align: right;\">\n",
       "      <th></th>\n",
       "      <th>name</th>\n",
       "      <th>year</th>\n",
       "      <th>selling_price</th>\n",
       "      <th>km_driven</th>\n",
       "      <th>fuel</th>\n",
       "      <th>seller_type</th>\n",
       "      <th>transmission</th>\n",
       "      <th>owner</th>\n",
       "    </tr>\n",
       "  </thead>\n",
       "  <tbody>\n",
       "    <tr>\n",
       "      <th>2662</th>\n",
       "      <td>Ford Ikon 1.6 ZXI NXt</td>\n",
       "      <td>2005</td>\n",
       "      <td>20000</td>\n",
       "      <td>25000</td>\n",
       "      <td>Petrol</td>\n",
       "      <td>Individual</td>\n",
       "      <td>Manual</td>\n",
       "      <td>Second Owner</td>\n",
       "    </tr>\n",
       "  </tbody>\n",
       "</table>\n",
       "</div>"
      ],
      "text/plain": [
       "                       name  year  selling_price  km_driven    fuel  \\\n",
       "2662  Ford Ikon 1.6 ZXI NXt  2005          20000      25000  Petrol   \n",
       "\n",
       "     seller_type transmission         owner  \n",
       "2662  Individual       Manual  Second Owner  "
      ]
     },
     "execution_count": 26,
     "metadata": {},
     "output_type": "execute_result"
    }
   ],
   "source": [
    "## Which is the lowest selling car\n",
    "df[df[\"selling_price\"]==df[\"selling_price\"].min()]"
   ]
  },
  {
   "cell_type": "code",
   "execution_count": 27,
   "id": "3eb7ed15",
   "metadata": {
    "execution": {
     "iopub.execute_input": "2023-01-23T20:46:37.783510Z",
     "iopub.status.busy": "2023-01-23T20:46:37.782694Z",
     "iopub.status.idle": "2023-01-23T20:46:37.996694Z",
     "shell.execute_reply": "2023-01-23T20:46:37.995897Z"
    },
    "papermill": {
     "duration": 0.235611,
     "end_time": "2023-01-23T20:46:37.998924",
     "exception": false,
     "start_time": "2023-01-23T20:46:37.763313",
     "status": "completed"
    },
    "tags": []
   },
   "outputs": [
    {
     "name": "stdout",
     "output_type": "stream",
     "text": [
      "Manual       3892\n",
      "Automatic     448\n",
      "Name: transmission, dtype: int64\n"
     ]
    },
    {
     "data": {
      "image/png": "[encoded data removed]",
      "text/plain": [
       "<Figure size 432x288 with 1 Axes>"
      ]
     },
     "metadata": {},
     "output_type": "display_data"
    }
   ],
   "source": [
    "## How many are automatic and manual cars\n",
    "print(df[\"transmission\"].value_counts())\n",
    "sns.countplot(x=\"transmission\",data=df);\n"
   ]
  },
  {
   "cell_type": "markdown",
   "id": "e9d55e3d",
   "metadata": {
    "papermill": {
     "duration": 0.017298,
     "end_time": "2023-01-23T20:46:38.034258",
     "exception": false,
     "start_time": "2023-01-23T20:46:38.016960",
     "status": "completed"
    },
    "tags": []
   },
   "source": [
    "### Manual cars were more than automatic "
   ]
  },
  {
   "cell_type": "code",
   "execution_count": 28,
   "id": "4d5d6f83",
   "metadata": {
    "execution": {
     "iopub.execute_input": "2023-01-23T20:46:38.072247Z",
     "iopub.status.busy": "2023-01-23T20:46:38.071092Z",
     "iopub.status.idle": "2023-01-23T20:46:38.083663Z",
     "shell.execute_reply": "2023-01-23T20:46:38.082628Z"
    },
    "papermill": {
     "duration": 0.033767,
     "end_time": "2023-01-23T20:46:38.085934",
     "exception": false,
     "start_time": "2023-01-23T20:46:38.052167",
     "status": "completed"
    },
    "tags": []
   },
   "outputs": [
    {
     "data": {
      "text/html": [
       "<div>\n",
       "<style scoped>\n",
       "    .dataframe tbody tr th:only-of-type {\n",
       "        vertical-align: middle;\n",
       "    }\n",
       "\n",
       "    .dataframe tbody tr th {\n",
       "        vertical-align: top;\n",
       "    }\n",
       "\n",
       "    .dataframe thead th {\n",
       "        text-align: right;\n",
       "    }\n",
       "</style>\n",
       "<table border=\"1\" class=\"dataframe\">\n",
       "  <thead>\n",
       "    <tr style=\"text-align: right;\">\n",
       "      <th></th>\n",
       "      <th>index</th>\n",
       "      <th>year</th>\n",
       "    </tr>\n",
       "  </thead>\n",
       "  <tbody>\n",
       "    <tr>\n",
       "      <th>0</th>\n",
       "      <td>2017</td>\n",
       "      <td>466</td>\n",
       "    </tr>\n",
       "    <tr>\n",
       "      <th>1</th>\n",
       "      <td>2015</td>\n",
       "      <td>421</td>\n",
       "    </tr>\n",
       "    <tr>\n",
       "      <th>2</th>\n",
       "      <td>2012</td>\n",
       "      <td>415</td>\n",
       "    </tr>\n",
       "    <tr>\n",
       "      <th>3</th>\n",
       "      <td>2013</td>\n",
       "      <td>386</td>\n",
       "    </tr>\n",
       "    <tr>\n",
       "      <th>4</th>\n",
       "      <td>2014</td>\n",
       "      <td>367</td>\n",
       "    </tr>\n",
       "    <tr>\n",
       "      <th>5</th>\n",
       "      <td>2018</td>\n",
       "      <td>366</td>\n",
       "    </tr>\n",
       "    <tr>\n",
       "      <th>6</th>\n",
       "      <td>2016</td>\n",
       "      <td>357</td>\n",
       "    </tr>\n",
       "    <tr>\n",
       "      <th>7</th>\n",
       "      <td>2011</td>\n",
       "      <td>271</td>\n",
       "    </tr>\n",
       "    <tr>\n",
       "      <th>8</th>\n",
       "      <td>2010</td>\n",
       "      <td>234</td>\n",
       "    </tr>\n",
       "    <tr>\n",
       "      <th>9</th>\n",
       "      <td>2019</td>\n",
       "      <td>195</td>\n",
       "    </tr>\n",
       "    <tr>\n",
       "      <th>10</th>\n",
       "      <td>2009</td>\n",
       "      <td>193</td>\n",
       "    </tr>\n",
       "    <tr>\n",
       "      <th>11</th>\n",
       "      <td>2008</td>\n",
       "      <td>145</td>\n",
       "    </tr>\n",
       "    <tr>\n",
       "      <th>12</th>\n",
       "      <td>2007</td>\n",
       "      <td>134</td>\n",
       "    </tr>\n",
       "    <tr>\n",
       "      <th>13</th>\n",
       "      <td>2006</td>\n",
       "      <td>110</td>\n",
       "    </tr>\n",
       "    <tr>\n",
       "      <th>14</th>\n",
       "      <td>2005</td>\n",
       "      <td>85</td>\n",
       "    </tr>\n",
       "    <tr>\n",
       "      <th>15</th>\n",
       "      <td>2020</td>\n",
       "      <td>48</td>\n",
       "    </tr>\n",
       "    <tr>\n",
       "      <th>16</th>\n",
       "      <td>2004</td>\n",
       "      <td>42</td>\n",
       "    </tr>\n",
       "    <tr>\n",
       "      <th>17</th>\n",
       "      <td>2003</td>\n",
       "      <td>23</td>\n",
       "    </tr>\n",
       "    <tr>\n",
       "      <th>18</th>\n",
       "      <td>2002</td>\n",
       "      <td>21</td>\n",
       "    </tr>\n",
       "    <tr>\n",
       "      <th>19</th>\n",
       "      <td>2001</td>\n",
       "      <td>20</td>\n",
       "    </tr>\n",
       "    <tr>\n",
       "      <th>20</th>\n",
       "      <td>1998</td>\n",
       "      <td>12</td>\n",
       "    </tr>\n",
       "    <tr>\n",
       "      <th>21</th>\n",
       "      <td>2000</td>\n",
       "      <td>12</td>\n",
       "    </tr>\n",
       "    <tr>\n",
       "      <th>22</th>\n",
       "      <td>1999</td>\n",
       "      <td>10</td>\n",
       "    </tr>\n",
       "    <tr>\n",
       "      <th>23</th>\n",
       "      <td>1997</td>\n",
       "      <td>3</td>\n",
       "    </tr>\n",
       "    <tr>\n",
       "      <th>24</th>\n",
       "      <td>1996</td>\n",
       "      <td>2</td>\n",
       "    </tr>\n",
       "    <tr>\n",
       "      <th>25</th>\n",
       "      <td>1995</td>\n",
       "      <td>1</td>\n",
       "    </tr>\n",
       "    <tr>\n",
       "      <th>26</th>\n",
       "      <td>1992</td>\n",
       "      <td>1</td>\n",
       "    </tr>\n",
       "  </tbody>\n",
       "</table>\n",
       "</div>"
      ],
      "text/plain": [
       "    index  year\n",
       "0    2017   466\n",
       "1    2015   421\n",
       "2    2012   415\n",
       "3    2013   386\n",
       "4    2014   367\n",
       "5    2018   366\n",
       "6    2016   357\n",
       "7    2011   271\n",
       "8    2010   234\n",
       "9    2019   195\n",
       "10   2009   193\n",
       "11   2008   145\n",
       "12   2007   134\n",
       "13   2006   110\n",
       "14   2005    85\n",
       "15   2020    48\n",
       "16   2004    42\n",
       "17   2003    23\n",
       "18   2002    21\n",
       "19   2001    20\n",
       "20   1998    12\n",
       "21   2000    12\n",
       "22   1999    10\n",
       "23   1997     3\n",
       "24   1996     2\n",
       "25   1995     1\n",
       "26   1992     1"
      ]
     },
     "execution_count": 28,
     "metadata": {},
     "output_type": "execute_result"
    }
   ],
   "source": [
    "## which year cars are more\n",
    "df[\"year\"].value_counts().reset_index()"
   ]
  },
  {
   "cell_type": "markdown",
   "id": "d5914df2",
   "metadata": {
    "papermill": {
     "duration": 0.017667,
     "end_time": "2023-01-23T20:46:38.121542",
     "exception": false,
     "start_time": "2023-01-23T20:46:38.103875",
     "status": "completed"
    },
    "tags": []
   },
   "source": [
    "### 2017 cars are more "
   ]
  },
  {
   "cell_type": "code",
   "execution_count": 29,
   "id": "230458ce",
   "metadata": {
    "execution": {
     "iopub.execute_input": "2023-01-23T20:46:38.159159Z",
     "iopub.status.busy": "2023-01-23T20:46:38.158762Z",
     "iopub.status.idle": "2023-01-23T20:46:38.166156Z",
     "shell.execute_reply": "2023-01-23T20:46:38.165010Z"
    },
    "papermill": {
     "duration": 0.0284,
     "end_time": "2023-01-23T20:46:38.168308",
     "exception": false,
     "start_time": "2023-01-23T20:46:38.139908",
     "status": "completed"
    },
    "tags": []
   },
   "outputs": [
    {
     "data": {
      "text/plain": [
       "2020"
      ]
     },
     "execution_count": 29,
     "metadata": {},
     "output_type": "execute_result"
    }
   ],
   "source": [
    "## Lets find the age of the car\n",
    "df[\"year\"].max()"
   ]
  },
  {
   "cell_type": "code",
   "execution_count": 30,
   "id": "9a80c921",
   "metadata": {
    "execution": {
     "iopub.execute_input": "2023-01-23T20:46:38.206240Z",
     "iopub.status.busy": "2023-01-23T20:46:38.205884Z",
     "iopub.status.idle": "2023-01-23T20:46:38.211906Z",
     "shell.execute_reply": "2023-01-23T20:46:38.210762Z"
    },
    "papermill": {
     "duration": 0.027882,
     "end_time": "2023-01-23T20:46:38.214137",
     "exception": false,
     "start_time": "2023-01-23T20:46:38.186255",
     "status": "completed"
    },
    "tags": []
   },
   "outputs": [],
   "source": [
    "df[\"age\"]=df[\"year\"].max()-df[\"year\"]"
   ]
  },
  {
   "cell_type": "code",
   "execution_count": 31,
   "id": "429e55a4",
   "metadata": {
    "execution": {
     "iopub.execute_input": "2023-01-23T20:46:38.252243Z",
     "iopub.status.busy": "2023-01-23T20:46:38.251892Z",
     "iopub.status.idle": "2023-01-23T20:46:38.269558Z",
     "shell.execute_reply": "2023-01-23T20:46:38.268386Z"
    },
    "papermill": {
     "duration": 0.039257,
     "end_time": "2023-01-23T20:46:38.271582",
     "exception": false,
     "start_time": "2023-01-23T20:46:38.232325",
     "status": "completed"
    },
    "tags": []
   },
   "outputs": [
    {
     "data": {
      "text/html": [
       "<div>\n",
       "<style scoped>\n",
       "    .dataframe tbody tr th:only-of-type {\n",
       "        vertical-align: middle;\n",
       "    }\n",
       "\n",
       "    .dataframe tbody tr th {\n",
       "        vertical-align: top;\n",
       "    }\n",
       "\n",
       "    .dataframe thead th {\n",
       "        text-align: right;\n",
       "    }\n",
       "</style>\n",
       "<table border=\"1\" class=\"dataframe\">\n",
       "  <thead>\n",
       "    <tr style=\"text-align: right;\">\n",
       "      <th></th>\n",
       "      <th>name</th>\n",
       "      <th>year</th>\n",
       "      <th>selling_price</th>\n",
       "      <th>km_driven</th>\n",
       "      <th>fuel</th>\n",
       "      <th>seller_type</th>\n",
       "      <th>transmission</th>\n",
       "      <th>owner</th>\n",
       "      <th>age</th>\n",
       "    </tr>\n",
       "  </thead>\n",
       "  <tbody>\n",
       "    <tr>\n",
       "      <th>0</th>\n",
       "      <td>Maruti 800 AC</td>\n",
       "      <td>2007</td>\n",
       "      <td>60000</td>\n",
       "      <td>70000</td>\n",
       "      <td>Petrol</td>\n",
       "      <td>Individual</td>\n",
       "      <td>Manual</td>\n",
       "      <td>First Owner</td>\n",
       "      <td>13</td>\n",
       "    </tr>\n",
       "    <tr>\n",
       "      <th>1</th>\n",
       "      <td>Maruti Wagon R LXI Minor</td>\n",
       "      <td>2007</td>\n",
       "      <td>135000</td>\n",
       "      <td>50000</td>\n",
       "      <td>Petrol</td>\n",
       "      <td>Individual</td>\n",
       "      <td>Manual</td>\n",
       "      <td>First Owner</td>\n",
       "      <td>13</td>\n",
       "    </tr>\n",
       "    <tr>\n",
       "      <th>2</th>\n",
       "      <td>Hyundai Verna 1.6 SX</td>\n",
       "      <td>2012</td>\n",
       "      <td>600000</td>\n",
       "      <td>100000</td>\n",
       "      <td>Diesel</td>\n",
       "      <td>Individual</td>\n",
       "      <td>Manual</td>\n",
       "      <td>First Owner</td>\n",
       "      <td>8</td>\n",
       "    </tr>\n",
       "    <tr>\n",
       "      <th>3</th>\n",
       "      <td>Datsun RediGO T Option</td>\n",
       "      <td>2017</td>\n",
       "      <td>250000</td>\n",
       "      <td>46000</td>\n",
       "      <td>Petrol</td>\n",
       "      <td>Individual</td>\n",
       "      <td>Manual</td>\n",
       "      <td>First Owner</td>\n",
       "      <td>3</td>\n",
       "    </tr>\n",
       "    <tr>\n",
       "      <th>4</th>\n",
       "      <td>Honda Amaze VX i-DTEC</td>\n",
       "      <td>2014</td>\n",
       "      <td>450000</td>\n",
       "      <td>141000</td>\n",
       "      <td>Diesel</td>\n",
       "      <td>Individual</td>\n",
       "      <td>Manual</td>\n",
       "      <td>Second Owner</td>\n",
       "      <td>6</td>\n",
       "    </tr>\n",
       "    <tr>\n",
       "      <th>...</th>\n",
       "      <td>...</td>\n",
       "      <td>...</td>\n",
       "      <td>...</td>\n",
       "      <td>...</td>\n",
       "      <td>...</td>\n",
       "      <td>...</td>\n",
       "      <td>...</td>\n",
       "      <td>...</td>\n",
       "      <td>...</td>\n",
       "    </tr>\n",
       "    <tr>\n",
       "      <th>4335</th>\n",
       "      <td>Hyundai i20 Magna 1.4 CRDi (Diesel)</td>\n",
       "      <td>2014</td>\n",
       "      <td>409999</td>\n",
       "      <td>80000</td>\n",
       "      <td>Diesel</td>\n",
       "      <td>Individual</td>\n",
       "      <td>Manual</td>\n",
       "      <td>Second Owner</td>\n",
       "      <td>6</td>\n",
       "    </tr>\n",
       "    <tr>\n",
       "      <th>4336</th>\n",
       "      <td>Hyundai i20 Magna 1.4 CRDi</td>\n",
       "      <td>2014</td>\n",
       "      <td>409999</td>\n",
       "      <td>80000</td>\n",
       "      <td>Diesel</td>\n",
       "      <td>Individual</td>\n",
       "      <td>Manual</td>\n",
       "      <td>Second Owner</td>\n",
       "      <td>6</td>\n",
       "    </tr>\n",
       "    <tr>\n",
       "      <th>4337</th>\n",
       "      <td>Maruti 800 AC BSIII</td>\n",
       "      <td>2009</td>\n",
       "      <td>110000</td>\n",
       "      <td>83000</td>\n",
       "      <td>Petrol</td>\n",
       "      <td>Individual</td>\n",
       "      <td>Manual</td>\n",
       "      <td>Second Owner</td>\n",
       "      <td>11</td>\n",
       "    </tr>\n",
       "    <tr>\n",
       "      <th>4338</th>\n",
       "      <td>Hyundai Creta 1.6 CRDi SX Option</td>\n",
       "      <td>2016</td>\n",
       "      <td>865000</td>\n",
       "      <td>90000</td>\n",
       "      <td>Diesel</td>\n",
       "      <td>Individual</td>\n",
       "      <td>Manual</td>\n",
       "      <td>First Owner</td>\n",
       "      <td>4</td>\n",
       "    </tr>\n",
       "    <tr>\n",
       "      <th>4339</th>\n",
       "      <td>Renault KWID RXT</td>\n",
       "      <td>2016</td>\n",
       "      <td>225000</td>\n",
       "      <td>40000</td>\n",
       "      <td>Petrol</td>\n",
       "      <td>Individual</td>\n",
       "      <td>Manual</td>\n",
       "      <td>First Owner</td>\n",
       "      <td>4</td>\n",
       "    </tr>\n",
       "  </tbody>\n",
       "</table>\n",
       "<p>4340 rows × 9 columns</p>\n",
       "</div>"
      ],
      "text/plain": [
       "                                     name  year  selling_price  km_driven  \\\n",
       "0                           Maruti 800 AC  2007          60000      70000   \n",
       "1                Maruti Wagon R LXI Minor  2007         135000      50000   \n",
       "2                    Hyundai Verna 1.6 SX  2012         600000     100000   \n",
       "3                  Datsun RediGO T Option  2017         250000      46000   \n",
       "4                   Honda Amaze VX i-DTEC  2014         450000     141000   \n",
       "...                                   ...   ...            ...        ...   \n",
       "4335  Hyundai i20 Magna 1.4 CRDi (Diesel)  2014         409999      80000   \n",
       "4336           Hyundai i20 Magna 1.4 CRDi  2014         409999      80000   \n",
       "4337                  Maruti 800 AC BSIII  2009         110000      83000   \n",
       "4338     Hyundai Creta 1.6 CRDi SX Option  2016         865000      90000   \n",
       "4339                     Renault KWID RXT  2016         225000      40000   \n",
       "\n",
       "        fuel seller_type transmission         owner  age  \n",
       "0     Petrol  Individual       Manual   First Owner   13  \n",
       "1     Petrol  Individual       Manual   First Owner   13  \n",
       "2     Diesel  Individual       Manual   First Owner    8  \n",
       "3     Petrol  Individual       Manual   First Owner    3  \n",
       "4     Diesel  Individual       Manual  Second Owner    6  \n",
       "...      ...         ...          ...           ...  ...  \n",
       "4335  Diesel  Individual       Manual  Second Owner    6  \n",
       "4336  Diesel  Individual       Manual  Second Owner    6  \n",
       "4337  Petrol  Individual       Manual  Second Owner   11  \n",
       "4338  Diesel  Individual       Manual   First Owner    4  \n",
       "4339  Petrol  Individual       Manual   First Owner    4  \n",
       "\n",
       "[4340 rows x 9 columns]"
      ]
     },
     "execution_count": 31,
     "metadata": {},
     "output_type": "execute_result"
    }
   ],
   "source": [
    "df"
   ]
  },
  {
   "cell_type": "code",
   "execution_count": 32,
   "id": "51820581",
   "metadata": {
    "execution": {
     "iopub.execute_input": "2023-01-23T20:46:38.310416Z",
     "iopub.status.busy": "2023-01-23T20:46:38.309596Z",
     "iopub.status.idle": "2023-01-23T20:46:38.339565Z",
     "shell.execute_reply": "2023-01-23T20:46:38.338362Z"
    },
    "papermill": {
     "duration": 0.052315,
     "end_time": "2023-01-23T20:46:38.342036",
     "exception": false,
     "start_time": "2023-01-23T20:46:38.289721",
     "status": "completed"
    },
    "tags": []
   },
   "outputs": [
    {
     "data": {
      "text/html": [
       "<div>\n",
       "<style scoped>\n",
       "    .dataframe tbody tr th:only-of-type {\n",
       "        vertical-align: middle;\n",
       "    }\n",
       "\n",
       "    .dataframe tbody tr th {\n",
       "        vertical-align: top;\n",
       "    }\n",
       "\n",
       "    .dataframe thead th {\n",
       "        text-align: right;\n",
       "    }\n",
       "</style>\n",
       "<table border=\"1\" class=\"dataframe\">\n",
       "  <thead>\n",
       "    <tr style=\"text-align: right;\">\n",
       "      <th></th>\n",
       "      <th>name</th>\n",
       "      <th>year</th>\n",
       "      <th>selling_price</th>\n",
       "      <th>km_driven</th>\n",
       "      <th>fuel</th>\n",
       "      <th>seller_type</th>\n",
       "      <th>transmission</th>\n",
       "      <th>owner</th>\n",
       "      <th>age</th>\n",
       "    </tr>\n",
       "  </thead>\n",
       "  <tbody>\n",
       "    <tr>\n",
       "      <th>158</th>\n",
       "      <td>Maruti Wagon R LXI</td>\n",
       "      <td>2020</td>\n",
       "      <td>240000</td>\n",
       "      <td>120000</td>\n",
       "      <td>Petrol</td>\n",
       "      <td>Individual</td>\n",
       "      <td>Manual</td>\n",
       "      <td>First Owner</td>\n",
       "      <td>0</td>\n",
       "    </tr>\n",
       "    <tr>\n",
       "      <th>176</th>\n",
       "      <td>Maruti Alto K10 LXI CNG</td>\n",
       "      <td>2020</td>\n",
       "      <td>282000</td>\n",
       "      <td>40000</td>\n",
       "      <td>CNG</td>\n",
       "      <td>Individual</td>\n",
       "      <td>Manual</td>\n",
       "      <td>First Owner</td>\n",
       "      <td>0</td>\n",
       "    </tr>\n",
       "    <tr>\n",
       "      <th>289</th>\n",
       "      <td>Mahindra XUV500 W11 Option AWD</td>\n",
       "      <td>2020</td>\n",
       "      <td>1400000</td>\n",
       "      <td>25000</td>\n",
       "      <td>Diesel</td>\n",
       "      <td>Dealer</td>\n",
       "      <td>Manual</td>\n",
       "      <td>First Owner</td>\n",
       "      <td>0</td>\n",
       "    </tr>\n",
       "    <tr>\n",
       "      <th>694</th>\n",
       "      <td>Hyundai Grand i10 Nios Magna CRDi</td>\n",
       "      <td>2020</td>\n",
       "      <td>700000</td>\n",
       "      <td>1400</td>\n",
       "      <td>Diesel</td>\n",
       "      <td>Individual</td>\n",
       "      <td>Manual</td>\n",
       "      <td>First Owner</td>\n",
       "      <td>0</td>\n",
       "    </tr>\n",
       "    <tr>\n",
       "      <th>963</th>\n",
       "      <td>Audi A5 Sportback</td>\n",
       "      <td>2020</td>\n",
       "      <td>4700000</td>\n",
       "      <td>1500</td>\n",
       "      <td>Diesel</td>\n",
       "      <td>Individual</td>\n",
       "      <td>Automatic</td>\n",
       "      <td>First Owner</td>\n",
       "      <td>0</td>\n",
       "    </tr>\n",
       "    <tr>\n",
       "      <th>1002</th>\n",
       "      <td>Hyundai Creta 1.4 EX Diesel</td>\n",
       "      <td>2020</td>\n",
       "      <td>1050000</td>\n",
       "      <td>10000</td>\n",
       "      <td>Diesel</td>\n",
       "      <td>Individual</td>\n",
       "      <td>Manual</td>\n",
       "      <td>First Owner</td>\n",
       "      <td>0</td>\n",
       "    </tr>\n",
       "    <tr>\n",
       "      <th>1195</th>\n",
       "      <td>Maruti Baleno Zeta</td>\n",
       "      <td>2020</td>\n",
       "      <td>700000</td>\n",
       "      <td>1100</td>\n",
       "      <td>Petrol</td>\n",
       "      <td>Individual</td>\n",
       "      <td>Manual</td>\n",
       "      <td>First Owner</td>\n",
       "      <td>0</td>\n",
       "    </tr>\n",
       "    <tr>\n",
       "      <th>1291</th>\n",
       "      <td>Maruti Alto 800 VXI</td>\n",
       "      <td>2020</td>\n",
       "      <td>350000</td>\n",
       "      <td>1000</td>\n",
       "      <td>Petrol</td>\n",
       "      <td>Individual</td>\n",
       "      <td>Manual</td>\n",
       "      <td>First Owner</td>\n",
       "      <td>0</td>\n",
       "    </tr>\n",
       "    <tr>\n",
       "      <th>1324</th>\n",
       "      <td>Maruti Swift VXI</td>\n",
       "      <td>2020</td>\n",
       "      <td>619000</td>\n",
       "      <td>1500</td>\n",
       "      <td>Petrol</td>\n",
       "      <td>Individual</td>\n",
       "      <td>Manual</td>\n",
       "      <td>First Owner</td>\n",
       "      <td>0</td>\n",
       "    </tr>\n",
       "    <tr>\n",
       "      <th>1409</th>\n",
       "      <td>Volkswagen Polo 1.0 TSI Highline Plus</td>\n",
       "      <td>2020</td>\n",
       "      <td>802000</td>\n",
       "      <td>5000</td>\n",
       "      <td>Petrol</td>\n",
       "      <td>Individual</td>\n",
       "      <td>Manual</td>\n",
       "      <td>First Owner</td>\n",
       "      <td>0</td>\n",
       "    </tr>\n",
       "    <tr>\n",
       "      <th>1428</th>\n",
       "      <td>Hyundai Grand i10 Nios Sportz</td>\n",
       "      <td>2020</td>\n",
       "      <td>600000</td>\n",
       "      <td>5000</td>\n",
       "      <td>Petrol</td>\n",
       "      <td>Individual</td>\n",
       "      <td>Manual</td>\n",
       "      <td>First Owner</td>\n",
       "      <td>0</td>\n",
       "    </tr>\n",
       "    <tr>\n",
       "      <th>1432</th>\n",
       "      <td>Hyundai Grand i10 Nios AMT Magna</td>\n",
       "      <td>2020</td>\n",
       "      <td>640000</td>\n",
       "      <td>4000</td>\n",
       "      <td>Petrol</td>\n",
       "      <td>Individual</td>\n",
       "      <td>Automatic</td>\n",
       "      <td>First Owner</td>\n",
       "      <td>0</td>\n",
       "    </tr>\n",
       "    <tr>\n",
       "      <th>1516</th>\n",
       "      <td>Mahindra XUV500 W11 Option AWD</td>\n",
       "      <td>2020</td>\n",
       "      <td>1400000</td>\n",
       "      <td>25000</td>\n",
       "      <td>Diesel</td>\n",
       "      <td>Dealer</td>\n",
       "      <td>Manual</td>\n",
       "      <td>First Owner</td>\n",
       "      <td>0</td>\n",
       "    </tr>\n",
       "    <tr>\n",
       "      <th>1575</th>\n",
       "      <td>Renault KWID RXL</td>\n",
       "      <td>2020</td>\n",
       "      <td>300000</td>\n",
       "      <td>20000</td>\n",
       "      <td>Petrol</td>\n",
       "      <td>Individual</td>\n",
       "      <td>Manual</td>\n",
       "      <td>First Owner</td>\n",
       "      <td>0</td>\n",
       "    </tr>\n",
       "    <tr>\n",
       "      <th>1595</th>\n",
       "      <td>Maruti Alto K10 LX</td>\n",
       "      <td>2020</td>\n",
       "      <td>250000</td>\n",
       "      <td>1100</td>\n",
       "      <td>Petrol</td>\n",
       "      <td>Individual</td>\n",
       "      <td>Manual</td>\n",
       "      <td>Fourth &amp; Above Owner</td>\n",
       "      <td>0</td>\n",
       "    </tr>\n",
       "    <tr>\n",
       "      <th>1689</th>\n",
       "      <td>Hyundai Elite i20 Magna Plus BSIV</td>\n",
       "      <td>2020</td>\n",
       "      <td>545000</td>\n",
       "      <td>7300</td>\n",
       "      <td>Petrol</td>\n",
       "      <td>Individual</td>\n",
       "      <td>Manual</td>\n",
       "      <td>First Owner</td>\n",
       "      <td>0</td>\n",
       "    </tr>\n",
       "    <tr>\n",
       "      <th>1714</th>\n",
       "      <td>Ford Freestyle Titanium Diesel</td>\n",
       "      <td>2020</td>\n",
       "      <td>784000</td>\n",
       "      <td>101</td>\n",
       "      <td>Diesel</td>\n",
       "      <td>Dealer</td>\n",
       "      <td>Manual</td>\n",
       "      <td>Test Drive Car</td>\n",
       "      <td>0</td>\n",
       "    </tr>\n",
       "    <tr>\n",
       "      <th>1715</th>\n",
       "      <td>Ford Figo Titanium</td>\n",
       "      <td>2020</td>\n",
       "      <td>635000</td>\n",
       "      <td>101</td>\n",
       "      <td>Petrol</td>\n",
       "      <td>Dealer</td>\n",
       "      <td>Manual</td>\n",
       "      <td>Test Drive Car</td>\n",
       "      <td>0</td>\n",
       "    </tr>\n",
       "    <tr>\n",
       "      <th>1716</th>\n",
       "      <td>Ford Ecosport 1.5 Diesel Titanium</td>\n",
       "      <td>2020</td>\n",
       "      <td>1000000</td>\n",
       "      <td>101</td>\n",
       "      <td>Diesel</td>\n",
       "      <td>Dealer</td>\n",
       "      <td>Manual</td>\n",
       "      <td>Test Drive Car</td>\n",
       "      <td>0</td>\n",
       "    </tr>\n",
       "    <tr>\n",
       "      <th>1774</th>\n",
       "      <td>Ford Aspire Titanium BSIV</td>\n",
       "      <td>2020</td>\n",
       "      <td>828999</td>\n",
       "      <td>1010</td>\n",
       "      <td>Petrol</td>\n",
       "      <td>Dealer</td>\n",
       "      <td>Manual</td>\n",
       "      <td>Test Drive Car</td>\n",
       "      <td>0</td>\n",
       "    </tr>\n",
       "    <tr>\n",
       "      <th>1775</th>\n",
       "      <td>Ford EcoSport 1.5 Ti VCT MT Titanium BE BSIV</td>\n",
       "      <td>2020</td>\n",
       "      <td>1119000</td>\n",
       "      <td>1010</td>\n",
       "      <td>Petrol</td>\n",
       "      <td>Dealer</td>\n",
       "      <td>Manual</td>\n",
       "      <td>Test Drive Car</td>\n",
       "      <td>0</td>\n",
       "    </tr>\n",
       "    <tr>\n",
       "      <th>1776</th>\n",
       "      <td>Ford Figo Titanium</td>\n",
       "      <td>2020</td>\n",
       "      <td>746000</td>\n",
       "      <td>1111</td>\n",
       "      <td>Petrol</td>\n",
       "      <td>Dealer</td>\n",
       "      <td>Manual</td>\n",
       "      <td>Test Drive Car</td>\n",
       "      <td>0</td>\n",
       "    </tr>\n",
       "    <tr>\n",
       "      <th>1777</th>\n",
       "      <td>Ford Ecosport 1.5 Petrol Trend</td>\n",
       "      <td>2020</td>\n",
       "      <td>1030000</td>\n",
       "      <td>1010</td>\n",
       "      <td>Petrol</td>\n",
       "      <td>Dealer</td>\n",
       "      <td>Manual</td>\n",
       "      <td>Test Drive Car</td>\n",
       "      <td>0</td>\n",
       "    </tr>\n",
       "    <tr>\n",
       "      <th>1778</th>\n",
       "      <td>Ford EcoSport 1.5 TDCi Titanium Plus BSIV</td>\n",
       "      <td>2020</td>\n",
       "      <td>1334000</td>\n",
       "      <td>1010</td>\n",
       "      <td>Diesel</td>\n",
       "      <td>Dealer</td>\n",
       "      <td>Manual</td>\n",
       "      <td>Test Drive Car</td>\n",
       "      <td>0</td>\n",
       "    </tr>\n",
       "    <tr>\n",
       "      <th>1779</th>\n",
       "      <td>Ford Freestyle Titanium</td>\n",
       "      <td>2020</td>\n",
       "      <td>811999</td>\n",
       "      <td>1010</td>\n",
       "      <td>Petrol</td>\n",
       "      <td>Dealer</td>\n",
       "      <td>Manual</td>\n",
       "      <td>Test Drive Car</td>\n",
       "      <td>0</td>\n",
       "    </tr>\n",
       "    <tr>\n",
       "      <th>1780</th>\n",
       "      <td>Ford Ecosport Thunder Edition Diesel</td>\n",
       "      <td>2020</td>\n",
       "      <td>1331000</td>\n",
       "      <td>1010</td>\n",
       "      <td>Diesel</td>\n",
       "      <td>Dealer</td>\n",
       "      <td>Manual</td>\n",
       "      <td>Test Drive Car</td>\n",
       "      <td>0</td>\n",
       "    </tr>\n",
       "    <tr>\n",
       "      <th>1781</th>\n",
       "      <td>Ford Freestyle Titanium Plus</td>\n",
       "      <td>2020</td>\n",
       "      <td>852000</td>\n",
       "      <td>1010</td>\n",
       "      <td>Petrol</td>\n",
       "      <td>Dealer</td>\n",
       "      <td>Manual</td>\n",
       "      <td>Test Drive Car</td>\n",
       "      <td>0</td>\n",
       "    </tr>\n",
       "    <tr>\n",
       "      <th>1963</th>\n",
       "      <td>Hyundai Venue SX Opt Diesel</td>\n",
       "      <td>2020</td>\n",
       "      <td>1000000</td>\n",
       "      <td>5000</td>\n",
       "      <td>Diesel</td>\n",
       "      <td>Individual</td>\n",
       "      <td>Manual</td>\n",
       "      <td>First Owner</td>\n",
       "      <td>0</td>\n",
       "    </tr>\n",
       "    <tr>\n",
       "      <th>2016</th>\n",
       "      <td>Tata Altroz XZ</td>\n",
       "      <td>2020</td>\n",
       "      <td>830000</td>\n",
       "      <td>10000</td>\n",
       "      <td>Petrol</td>\n",
       "      <td>Individual</td>\n",
       "      <td>Manual</td>\n",
       "      <td>First Owner</td>\n",
       "      <td>0</td>\n",
       "    </tr>\n",
       "    <tr>\n",
       "      <th>2129</th>\n",
       "      <td>Honda BR-V i-VTEC VX MT</td>\n",
       "      <td>2020</td>\n",
       "      <td>1250000</td>\n",
       "      <td>1100</td>\n",
       "      <td>Petrol</td>\n",
       "      <td>Dealer</td>\n",
       "      <td>Manual</td>\n",
       "      <td>First Owner</td>\n",
       "      <td>0</td>\n",
       "    </tr>\n",
       "    <tr>\n",
       "      <th>2137</th>\n",
       "      <td>Maruti Ertiga 1.5 VDI</td>\n",
       "      <td>2020</td>\n",
       "      <td>550000</td>\n",
       "      <td>90000</td>\n",
       "      <td>Diesel</td>\n",
       "      <td>Individual</td>\n",
       "      <td>Manual</td>\n",
       "      <td>First Owner</td>\n",
       "      <td>0</td>\n",
       "    </tr>\n",
       "    <tr>\n",
       "      <th>2154</th>\n",
       "      <td>Ford Ecosport Sports Petrol</td>\n",
       "      <td>2020</td>\n",
       "      <td>1100000</td>\n",
       "      <td>1000</td>\n",
       "      <td>Petrol</td>\n",
       "      <td>Individual</td>\n",
       "      <td>Manual</td>\n",
       "      <td>First Owner</td>\n",
       "      <td>0</td>\n",
       "    </tr>\n",
       "    <tr>\n",
       "      <th>2211</th>\n",
       "      <td>Hyundai Creta 1.4 EX Diesel</td>\n",
       "      <td>2020</td>\n",
       "      <td>1050000</td>\n",
       "      <td>10000</td>\n",
       "      <td>Diesel</td>\n",
       "      <td>Individual</td>\n",
       "      <td>Manual</td>\n",
       "      <td>First Owner</td>\n",
       "      <td>0</td>\n",
       "    </tr>\n",
       "    <tr>\n",
       "      <th>2360</th>\n",
       "      <td>Renault KWID Climber 1.0 MT Opt BSIV</td>\n",
       "      <td>2020</td>\n",
       "      <td>541000</td>\n",
       "      <td>1000</td>\n",
       "      <td>Petrol</td>\n",
       "      <td>Dealer</td>\n",
       "      <td>Manual</td>\n",
       "      <td>Test Drive Car</td>\n",
       "      <td>0</td>\n",
       "    </tr>\n",
       "    <tr>\n",
       "      <th>2476</th>\n",
       "      <td>Tata Altroz XE</td>\n",
       "      <td>2020</td>\n",
       "      <td>500000</td>\n",
       "      <td>5000</td>\n",
       "      <td>Petrol</td>\n",
       "      <td>Individual</td>\n",
       "      <td>Manual</td>\n",
       "      <td>First Owner</td>\n",
       "      <td>0</td>\n",
       "    </tr>\n",
       "    <tr>\n",
       "      <th>2481</th>\n",
       "      <td>Hyundai Santro Sportz BSIV</td>\n",
       "      <td>2020</td>\n",
       "      <td>520000</td>\n",
       "      <td>5000</td>\n",
       "      <td>Petrol</td>\n",
       "      <td>Individual</td>\n",
       "      <td>Manual</td>\n",
       "      <td>First Owner</td>\n",
       "      <td>0</td>\n",
       "    </tr>\n",
       "    <tr>\n",
       "      <th>2558</th>\n",
       "      <td>Maruti Swift ZXI Plus</td>\n",
       "      <td>2020</td>\n",
       "      <td>550000</td>\n",
       "      <td>5000</td>\n",
       "      <td>Petrol</td>\n",
       "      <td>Individual</td>\n",
       "      <td>Manual</td>\n",
       "      <td>First Owner</td>\n",
       "      <td>0</td>\n",
       "    </tr>\n",
       "    <tr>\n",
       "      <th>2699</th>\n",
       "      <td>Mahindra Scorpio S5 BSIV</td>\n",
       "      <td>2020</td>\n",
       "      <td>1200000</td>\n",
       "      <td>11000</td>\n",
       "      <td>Diesel</td>\n",
       "      <td>Individual</td>\n",
       "      <td>Manual</td>\n",
       "      <td>First Owner</td>\n",
       "      <td>0</td>\n",
       "    </tr>\n",
       "    <tr>\n",
       "      <th>3024</th>\n",
       "      <td>Maruti Alto 800 LXI</td>\n",
       "      <td>2020</td>\n",
       "      <td>347000</td>\n",
       "      <td>5000</td>\n",
       "      <td>Petrol</td>\n",
       "      <td>Individual</td>\n",
       "      <td>Manual</td>\n",
       "      <td>First Owner</td>\n",
       "      <td>0</td>\n",
       "    </tr>\n",
       "    <tr>\n",
       "      <th>3050</th>\n",
       "      <td>Maruti Alto 800 LXI</td>\n",
       "      <td>2020</td>\n",
       "      <td>310000</td>\n",
       "      <td>1700</td>\n",
       "      <td>Petrol</td>\n",
       "      <td>Individual</td>\n",
       "      <td>Manual</td>\n",
       "      <td>First Owner</td>\n",
       "      <td>0</td>\n",
       "    </tr>\n",
       "    <tr>\n",
       "      <th>3112</th>\n",
       "      <td>Maruti Eeco CNG 5 Seater AC BSIV</td>\n",
       "      <td>2020</td>\n",
       "      <td>495000</td>\n",
       "      <td>7000</td>\n",
       "      <td>CNG</td>\n",
       "      <td>Individual</td>\n",
       "      <td>Manual</td>\n",
       "      <td>First Owner</td>\n",
       "      <td>0</td>\n",
       "    </tr>\n",
       "    <tr>\n",
       "      <th>3268</th>\n",
       "      <td>Maruti Swift VXI</td>\n",
       "      <td>2020</td>\n",
       "      <td>619000</td>\n",
       "      <td>1500</td>\n",
       "      <td>Petrol</td>\n",
       "      <td>Individual</td>\n",
       "      <td>Manual</td>\n",
       "      <td>First Owner</td>\n",
       "      <td>0</td>\n",
       "    </tr>\n",
       "    <tr>\n",
       "      <th>3422</th>\n",
       "      <td>Maruti Alto 800 VXI</td>\n",
       "      <td>2020</td>\n",
       "      <td>210000</td>\n",
       "      <td>40000</td>\n",
       "      <td>Petrol</td>\n",
       "      <td>Individual</td>\n",
       "      <td>Manual</td>\n",
       "      <td>First Owner</td>\n",
       "      <td>0</td>\n",
       "    </tr>\n",
       "    <tr>\n",
       "      <th>3431</th>\n",
       "      <td>Hyundai Venue SX Opt Turbo BSIV</td>\n",
       "      <td>2020</td>\n",
       "      <td>1050000</td>\n",
       "      <td>1100</td>\n",
       "      <td>Petrol</td>\n",
       "      <td>Individual</td>\n",
       "      <td>Manual</td>\n",
       "      <td>First Owner</td>\n",
       "      <td>0</td>\n",
       "    </tr>\n",
       "    <tr>\n",
       "      <th>3486</th>\n",
       "      <td>Hyundai Grand i10 1.2 Kappa Magna BSIV</td>\n",
       "      <td>2020</td>\n",
       "      <td>545000</td>\n",
       "      <td>5000</td>\n",
       "      <td>Petrol</td>\n",
       "      <td>Individual</td>\n",
       "      <td>Manual</td>\n",
       "      <td>First Owner</td>\n",
       "      <td>0</td>\n",
       "    </tr>\n",
       "    <tr>\n",
       "      <th>3933</th>\n",
       "      <td>Ford Figo Aspire 1.5 TDCi Titanium</td>\n",
       "      <td>2020</td>\n",
       "      <td>530000</td>\n",
       "      <td>45000</td>\n",
       "      <td>Diesel</td>\n",
       "      <td>Dealer</td>\n",
       "      <td>Manual</td>\n",
       "      <td>First Owner</td>\n",
       "      <td>0</td>\n",
       "    </tr>\n",
       "    <tr>\n",
       "      <th>4105</th>\n",
       "      <td>Tata Harrier XE</td>\n",
       "      <td>2020</td>\n",
       "      <td>426000</td>\n",
       "      <td>1000</td>\n",
       "      <td>Diesel</td>\n",
       "      <td>Individual</td>\n",
       "      <td>Manual</td>\n",
       "      <td>First Owner</td>\n",
       "      <td>0</td>\n",
       "    </tr>\n",
       "    <tr>\n",
       "      <th>4278</th>\n",
       "      <td>Honda Amaze S Petrol BSIV</td>\n",
       "      <td>2020</td>\n",
       "      <td>614000</td>\n",
       "      <td>1000</td>\n",
       "      <td>Petrol</td>\n",
       "      <td>Individual</td>\n",
       "      <td>Manual</td>\n",
       "      <td>First Owner</td>\n",
       "      <td>0</td>\n",
       "    </tr>\n",
       "  </tbody>\n",
       "</table>\n",
       "</div>"
      ],
      "text/plain": [
       "                                              name  year  selling_price  \\\n",
       "158                             Maruti Wagon R LXI  2020         240000   \n",
       "176                        Maruti Alto K10 LXI CNG  2020         282000   \n",
       "289                 Mahindra XUV500 W11 Option AWD  2020        1400000   \n",
       "694              Hyundai Grand i10 Nios Magna CRDi  2020         700000   \n",
       "963                              Audi A5 Sportback  2020        4700000   \n",
       "1002                   Hyundai Creta 1.4 EX Diesel  2020        1050000   \n",
       "1195                            Maruti Baleno Zeta  2020         700000   \n",
       "1291                           Maruti Alto 800 VXI  2020         350000   \n",
       "1324                              Maruti Swift VXI  2020         619000   \n",
       "1409         Volkswagen Polo 1.0 TSI Highline Plus  2020         802000   \n",
       "1428                 Hyundai Grand i10 Nios Sportz  2020         600000   \n",
       "1432              Hyundai Grand i10 Nios AMT Magna  2020         640000   \n",
       "1516                Mahindra XUV500 W11 Option AWD  2020        1400000   \n",
       "1575                              Renault KWID RXL  2020         300000   \n",
       "1595                            Maruti Alto K10 LX  2020         250000   \n",
       "1689             Hyundai Elite i20 Magna Plus BSIV  2020         545000   \n",
       "1714                Ford Freestyle Titanium Diesel  2020         784000   \n",
       "1715                            Ford Figo Titanium  2020         635000   \n",
       "1716             Ford Ecosport 1.5 Diesel Titanium  2020        1000000   \n",
       "1774                     Ford Aspire Titanium BSIV  2020         828999   \n",
       "1775  Ford EcoSport 1.5 Ti VCT MT Titanium BE BSIV  2020        1119000   \n",
       "1776                            Ford Figo Titanium  2020         746000   \n",
       "1777                Ford Ecosport 1.5 Petrol Trend  2020        1030000   \n",
       "1778     Ford EcoSport 1.5 TDCi Titanium Plus BSIV  2020        1334000   \n",
       "1779                       Ford Freestyle Titanium  2020         811999   \n",
       "1780          Ford Ecosport Thunder Edition Diesel  2020        1331000   \n",
       "1781                  Ford Freestyle Titanium Plus  2020         852000   \n",
       "1963                   Hyundai Venue SX Opt Diesel  2020        1000000   \n",
       "2016                                Tata Altroz XZ  2020         830000   \n",
       "2129                       Honda BR-V i-VTEC VX MT  2020        1250000   \n",
       "2137                         Maruti Ertiga 1.5 VDI  2020         550000   \n",
       "2154                   Ford Ecosport Sports Petrol  2020        1100000   \n",
       "2211                   Hyundai Creta 1.4 EX Diesel  2020        1050000   \n",
       "2360          Renault KWID Climber 1.0 MT Opt BSIV  2020         541000   \n",
       "2476                                Tata Altroz XE  2020         500000   \n",
       "2481                    Hyundai Santro Sportz BSIV  2020         520000   \n",
       "2558                         Maruti Swift ZXI Plus  2020         550000   \n",
       "2699                      Mahindra Scorpio S5 BSIV  2020        1200000   \n",
       "3024                           Maruti Alto 800 LXI  2020         347000   \n",
       "3050                           Maruti Alto 800 LXI  2020         310000   \n",
       "3112              Maruti Eeco CNG 5 Seater AC BSIV  2020         495000   \n",
       "3268                              Maruti Swift VXI  2020         619000   \n",
       "3422                           Maruti Alto 800 VXI  2020         210000   \n",
       "3431               Hyundai Venue SX Opt Turbo BSIV  2020        1050000   \n",
       "3486        Hyundai Grand i10 1.2 Kappa Magna BSIV  2020         545000   \n",
       "3933            Ford Figo Aspire 1.5 TDCi Titanium  2020         530000   \n",
       "4105                               Tata Harrier XE  2020         426000   \n",
       "4278                     Honda Amaze S Petrol BSIV  2020         614000   \n",
       "\n",
       "      km_driven    fuel seller_type transmission                 owner  age  \n",
       "158      120000  Petrol  Individual       Manual           First Owner    0  \n",
       "176       40000     CNG  Individual       Manual           First Owner    0  \n",
       "289       25000  Diesel      Dealer       Manual           First Owner    0  \n",
       "694        1400  Diesel  Individual       Manual           First Owner    0  \n",
       "963        1500  Diesel  Individual    Automatic           First Owner    0  \n",
       "1002      10000  Diesel  Individual       Manual           First Owner    0  \n",
       "1195       1100  Petrol  Individual       Manual           First Owner    0  \n",
       "1291       1000  Petrol  Individual       Manual           First Owner    0  \n",
       "1324       1500  Petrol  Individual       Manual           First Owner    0  \n",
       "1409       5000  Petrol  Individual       Manual           First Owner    0  \n",
       "1428       5000  Petrol  Individual       Manual           First Owner    0  \n",
       "1432       4000  Petrol  Individual    Automatic           First Owner    0  \n",
       "1516      25000  Diesel      Dealer       Manual           First Owner    0  \n",
       "1575      20000  Petrol  Individual       Manual           First Owner    0  \n",
       "1595       1100  Petrol  Individual       Manual  Fourth & Above Owner    0  \n",
       "1689       7300  Petrol  Individual       Manual           First Owner    0  \n",
       "1714        101  Diesel      Dealer       Manual        Test Drive Car    0  \n",
       "1715        101  Petrol      Dealer       Manual        Test Drive Car    0  \n",
       "1716        101  Diesel      Dealer       Manual        Test Drive Car    0  \n",
       "1774       1010  Petrol      Dealer       Manual        Test Drive Car    0  \n",
       "1775       1010  Petrol      Dealer       Manual        Test Drive Car    0  \n",
       "1776       1111  Petrol      Dealer       Manual        Test Drive Car    0  \n",
       "1777       1010  Petrol      Dealer       Manual        Test Drive Car    0  \n",
       "1778       1010  Diesel      Dealer       Manual        Test Drive Car    0  \n",
       "1779       1010  Petrol      Dealer       Manual        Test Drive Car    0  \n",
       "1780       1010  Diesel      Dealer       Manual        Test Drive Car    0  \n",
       "1781       1010  Petrol      Dealer       Manual        Test Drive Car    0  \n",
       "1963       5000  Diesel  Individual       Manual           First Owner    0  \n",
       "2016      10000  Petrol  Individual       Manual           First Owner    0  \n",
       "2129       1100  Petrol      Dealer       Manual           First Owner    0  \n",
       "2137      90000  Diesel  Individual       Manual           First Owner    0  \n",
       "2154       1000  Petrol  Individual       Manual           First Owner    0  \n",
       "2211      10000  Diesel  Individual       Manual           First Owner    0  \n",
       "2360       1000  Petrol      Dealer       Manual        Test Drive Car    0  \n",
       "2476       5000  Petrol  Individual       Manual           First Owner    0  \n",
       "2481       5000  Petrol  Individual       Manual           First Owner    0  \n",
       "2558       5000  Petrol  Individual       Manual           First Owner    0  \n",
       "2699      11000  Diesel  Individual       Manual           First Owner    0  \n",
       "3024       5000  Petrol  Individual       Manual           First Owner    0  \n",
       "3050       1700  Petrol  Individual       Manual           First Owner    0  \n",
       "3112       7000     CNG  Individual       Manual           First Owner    0  \n",
       "3268       1500  Petrol  Individual       Manual           First Owner    0  \n",
       "3422      40000  Petrol  Individual       Manual           First Owner    0  \n",
       "3431       1100  Petrol  Individual       Manual           First Owner    0  \n",
       "3486       5000  Petrol  Individual       Manual           First Owner    0  \n",
       "3933      45000  Diesel      Dealer       Manual           First Owner    0  \n",
       "4105       1000  Diesel  Individual       Manual           First Owner    0  \n",
       "4278       1000  Petrol  Individual       Manual           First Owner    0  "
      ]
     },
     "execution_count": 32,
     "metadata": {},
     "output_type": "execute_result"
    }
   ],
   "source": [
    "## Which car is the Newest in age \n",
    "df[df[\"age\"]==df[\"age\"].min()]"
   ]
  },
  {
   "cell_type": "code",
   "execution_count": 33,
   "id": "79a0860c",
   "metadata": {
    "execution": {
     "iopub.execute_input": "2023-01-23T20:46:38.385058Z",
     "iopub.status.busy": "2023-01-23T20:46:38.384687Z",
     "iopub.status.idle": "2023-01-23T20:46:38.398226Z",
     "shell.execute_reply": "2023-01-23T20:46:38.397255Z"
    },
    "papermill": {
     "duration": 0.0371,
     "end_time": "2023-01-23T20:46:38.400341",
     "exception": false,
     "start_time": "2023-01-23T20:46:38.363241",
     "status": "completed"
    },
    "tags": []
   },
   "outputs": [
    {
     "data": {
      "text/html": [
       "<div>\n",
       "<style scoped>\n",
       "    .dataframe tbody tr th:only-of-type {\n",
       "        vertical-align: middle;\n",
       "    }\n",
       "\n",
       "    .dataframe tbody tr th {\n",
       "        vertical-align: top;\n",
       "    }\n",
       "\n",
       "    .dataframe thead th {\n",
       "        text-align: right;\n",
       "    }\n",
       "</style>\n",
       "<table border=\"1\" class=\"dataframe\">\n",
       "  <thead>\n",
       "    <tr style=\"text-align: right;\">\n",
       "      <th></th>\n",
       "      <th>name</th>\n",
       "      <th>year</th>\n",
       "      <th>selling_price</th>\n",
       "      <th>km_driven</th>\n",
       "      <th>fuel</th>\n",
       "      <th>seller_type</th>\n",
       "      <th>transmission</th>\n",
       "      <th>owner</th>\n",
       "      <th>age</th>\n",
       "    </tr>\n",
       "  </thead>\n",
       "  <tbody>\n",
       "    <tr>\n",
       "      <th>3334</th>\n",
       "      <td>Maruti 800 AC BSII</td>\n",
       "      <td>1992</td>\n",
       "      <td>50000</td>\n",
       "      <td>100000</td>\n",
       "      <td>Petrol</td>\n",
       "      <td>Individual</td>\n",
       "      <td>Manual</td>\n",
       "      <td>Fourth &amp; Above Owner</td>\n",
       "      <td>28</td>\n",
       "    </tr>\n",
       "  </tbody>\n",
       "</table>\n",
       "</div>"
      ],
      "text/plain": [
       "                    name  year  selling_price  km_driven    fuel seller_type  \\\n",
       "3334  Maruti 800 AC BSII  1992          50000     100000  Petrol  Individual   \n",
       "\n",
       "     transmission                 owner  age  \n",
       "3334       Manual  Fourth & Above Owner   28  "
      ]
     },
     "execution_count": 33,
     "metadata": {},
     "output_type": "execute_result"
    }
   ],
   "source": [
    "## Which car is the Oldest in age \n",
    "df[df[\"age\"]==df[\"age\"].max()]"
   ]
  },
  {
   "cell_type": "code",
   "execution_count": 34,
   "id": "53ec754c",
   "metadata": {
    "execution": {
     "iopub.execute_input": "2023-01-23T20:46:38.441869Z",
     "iopub.status.busy": "2023-01-23T20:46:38.441462Z",
     "iopub.status.idle": "2023-01-23T20:46:38.448921Z",
     "shell.execute_reply": "2023-01-23T20:46:38.448048Z"
    },
    "papermill": {
     "duration": 0.03078,
     "end_time": "2023-01-23T20:46:38.450886",
     "exception": false,
     "start_time": "2023-01-23T20:46:38.420106",
     "status": "completed"
    },
    "tags": []
   },
   "outputs": [
    {
     "data": {
      "text/plain": [
       "720"
      ]
     },
     "execution_count": 34,
     "metadata": {},
     "output_type": "execute_result"
    }
   ],
   "source": [
    "## how many cars have drove above 100,000 km\n",
    "len(df[df[\"km_driven\"]>100000][\"km_driven\"])"
   ]
  },
  {
   "cell_type": "code",
   "execution_count": 35,
   "id": "d2705a70",
   "metadata": {
    "execution": {
     "iopub.execute_input": "2023-01-23T20:46:38.493757Z",
     "iopub.status.busy": "2023-01-23T20:46:38.493358Z",
     "iopub.status.idle": "2023-01-23T20:46:38.501358Z",
     "shell.execute_reply": "2023-01-23T20:46:38.500308Z"
    },
    "papermill": {
     "duration": 0.032446,
     "end_time": "2023-01-23T20:46:38.503572",
     "exception": false,
     "start_time": "2023-01-23T20:46:38.471126",
     "status": "completed"
    },
    "tags": []
   },
   "outputs": [
    {
     "data": {
      "text/plain": [
       "1491"
      ]
     },
     "execution_count": 35,
     "metadata": {},
     "output_type": "execute_result"
    }
   ],
   "source": [
    "df[\"name\"].nunique()"
   ]
  },
  {
   "cell_type": "code",
   "execution_count": 36,
   "id": "077f83ae",
   "metadata": {
    "execution": {
     "iopub.execute_input": "2023-01-23T20:46:38.546133Z",
     "iopub.status.busy": "2023-01-23T20:46:38.545037Z",
     "iopub.status.idle": "2023-01-23T20:46:38.561262Z",
     "shell.execute_reply": "2023-01-23T20:46:38.560538Z"
    },
    "papermill": {
     "duration": 0.039808,
     "end_time": "2023-01-23T20:46:38.563457",
     "exception": false,
     "start_time": "2023-01-23T20:46:38.523649",
     "status": "completed"
    },
    "tags": []
   },
   "outputs": [],
   "source": [
    "df[\"brand name\"]=df[\"name\"].str.split(\" \",expand=True)[0]"
   ]
  },
  {
   "cell_type": "code",
   "execution_count": 37,
   "id": "5522e93a",
   "metadata": {
    "execution": {
     "iopub.execute_input": "2023-01-23T20:46:38.604789Z",
     "iopub.status.busy": "2023-01-23T20:46:38.604377Z",
     "iopub.status.idle": "2023-01-23T20:46:38.614645Z",
     "shell.execute_reply": "2023-01-23T20:46:38.613604Z"
    },
    "papermill": {
     "duration": 0.033563,
     "end_time": "2023-01-23T20:46:38.616882",
     "exception": false,
     "start_time": "2023-01-23T20:46:38.583319",
     "status": "completed"
    },
    "tags": []
   },
   "outputs": [
    {
     "data": {
      "text/plain": [
       "Maruti           1280\n",
       "Hyundai           821\n",
       "Mahindra          365\n",
       "Tata              361\n",
       "Honda             252\n",
       "Ford              238\n",
       "Toyota            206\n",
       "Chevrolet         188\n",
       "Renault           146\n",
       "Volkswagen        107\n",
       "Skoda              68\n",
       "Nissan             64\n",
       "Audi               60\n",
       "BMW                39\n",
       "Fiat               37\n",
       "Datsun             37\n",
       "Mercedes-Benz      35\n",
       "Jaguar              6\n",
       "Mitsubishi          6\n",
       "Land                5\n",
       "Volvo               4\n",
       "Ambassador          4\n",
       "Jeep                3\n",
       "MG                  2\n",
       "OpelCorsa           2\n",
       "Daewoo              1\n",
       "Force               1\n",
       "Isuzu               1\n",
       "Kia                 1\n",
       "Name: brand name, dtype: int64"
      ]
     },
     "execution_count": 37,
     "metadata": {},
     "output_type": "execute_result"
    }
   ],
   "source": [
    "df[\"brand name\"].value_counts()"
   ]
  },
  {
   "cell_type": "code",
   "execution_count": 38,
   "id": "e3c4471e",
   "metadata": {
    "execution": {
     "iopub.execute_input": "2023-01-23T20:46:38.658949Z",
     "iopub.status.busy": "2023-01-23T20:46:38.658546Z",
     "iopub.status.idle": "2023-01-23T20:46:38.674785Z",
     "shell.execute_reply": "2023-01-23T20:46:38.674035Z"
    },
    "papermill": {
     "duration": 0.039704,
     "end_time": "2023-01-23T20:46:38.676711",
     "exception": false,
     "start_time": "2023-01-23T20:46:38.637007",
     "status": "completed"
    },
    "tags": []
   },
   "outputs": [
    {
     "data": {
      "text/html": [
       "<div>\n",
       "<style scoped>\n",
       "    .dataframe tbody tr th:only-of-type {\n",
       "        vertical-align: middle;\n",
       "    }\n",
       "\n",
       "    .dataframe tbody tr th {\n",
       "        vertical-align: top;\n",
       "    }\n",
       "\n",
       "    .dataframe thead th {\n",
       "        text-align: right;\n",
       "    }\n",
       "</style>\n",
       "<table border=\"1\" class=\"dataframe\">\n",
       "  <thead>\n",
       "    <tr style=\"text-align: right;\">\n",
       "      <th></th>\n",
       "      <th>name</th>\n",
       "      <th>year</th>\n",
       "      <th>selling_price</th>\n",
       "      <th>km_driven</th>\n",
       "      <th>fuel</th>\n",
       "      <th>seller_type</th>\n",
       "      <th>transmission</th>\n",
       "      <th>owner</th>\n",
       "      <th>age</th>\n",
       "      <th>brand name</th>\n",
       "    </tr>\n",
       "  </thead>\n",
       "  <tbody>\n",
       "    <tr>\n",
       "      <th>3295</th>\n",
       "      <td>Hyundai i10 Era 1.1 iTech SE</td>\n",
       "      <td>2011</td>\n",
       "      <td>300000</td>\n",
       "      <td>20000</td>\n",
       "      <td>Petrol</td>\n",
       "      <td>Individual</td>\n",
       "      <td>Manual</td>\n",
       "      <td>First Owner</td>\n",
       "      <td>9</td>\n",
       "      <td>Hyundai</td>\n",
       "    </tr>\n",
       "    <tr>\n",
       "      <th>1235</th>\n",
       "      <td>Volkswagen Vento Diesel Style Limited Edition</td>\n",
       "      <td>2013</td>\n",
       "      <td>340000</td>\n",
       "      <td>85000</td>\n",
       "      <td>Diesel</td>\n",
       "      <td>Individual</td>\n",
       "      <td>Manual</td>\n",
       "      <td>Second Owner</td>\n",
       "      <td>7</td>\n",
       "      <td>Volkswagen</td>\n",
       "    </tr>\n",
       "    <tr>\n",
       "      <th>2834</th>\n",
       "      <td>Maruti Alto 800 Std Optional</td>\n",
       "      <td>2019</td>\n",
       "      <td>240000</td>\n",
       "      <td>5000</td>\n",
       "      <td>Petrol</td>\n",
       "      <td>Individual</td>\n",
       "      <td>Manual</td>\n",
       "      <td>First Owner</td>\n",
       "      <td>1</td>\n",
       "      <td>Maruti</td>\n",
       "    </tr>\n",
       "    <tr>\n",
       "      <th>3247</th>\n",
       "      <td>Ford Figo Petrol EXI</td>\n",
       "      <td>2014</td>\n",
       "      <td>350000</td>\n",
       "      <td>90000</td>\n",
       "      <td>Petrol</td>\n",
       "      <td>Individual</td>\n",
       "      <td>Manual</td>\n",
       "      <td>Second Owner</td>\n",
       "      <td>6</td>\n",
       "      <td>Ford</td>\n",
       "    </tr>\n",
       "    <tr>\n",
       "      <th>182</th>\n",
       "      <td>Maruti Ciaz 1.4 Delta</td>\n",
       "      <td>2018</td>\n",
       "      <td>650000</td>\n",
       "      <td>70000</td>\n",
       "      <td>Petrol</td>\n",
       "      <td>Individual</td>\n",
       "      <td>Manual</td>\n",
       "      <td>First Owner</td>\n",
       "      <td>2</td>\n",
       "      <td>Maruti</td>\n",
       "    </tr>\n",
       "  </tbody>\n",
       "</table>\n",
       "</div>"
      ],
      "text/plain": [
       "                                               name  year  selling_price  \\\n",
       "3295                   Hyundai i10 Era 1.1 iTech SE  2011         300000   \n",
       "1235  Volkswagen Vento Diesel Style Limited Edition  2013         340000   \n",
       "2834                   Maruti Alto 800 Std Optional  2019         240000   \n",
       "3247                           Ford Figo Petrol EXI  2014         350000   \n",
       "182                           Maruti Ciaz 1.4 Delta  2018         650000   \n",
       "\n",
       "      km_driven    fuel seller_type transmission         owner  age  \\\n",
       "3295      20000  Petrol  Individual       Manual   First Owner    9   \n",
       "1235      85000  Diesel  Individual       Manual  Second Owner    7   \n",
       "2834       5000  Petrol  Individual       Manual   First Owner    1   \n",
       "3247      90000  Petrol  Individual       Manual  Second Owner    6   \n",
       "182       70000  Petrol  Individual       Manual   First Owner    2   \n",
       "\n",
       "      brand name  \n",
       "3295     Hyundai  \n",
       "1235  Volkswagen  \n",
       "2834      Maruti  \n",
       "3247        Ford  \n",
       "182       Maruti  "
      ]
     },
     "execution_count": 38,
     "metadata": {},
     "output_type": "execute_result"
    }
   ],
   "source": [
    "df.sample(5)"
   ]
  },
  {
   "cell_type": "code",
   "execution_count": 39,
   "id": "0bf53229",
   "metadata": {
    "execution": {
     "iopub.execute_input": "2023-01-23T20:46:38.719211Z",
     "iopub.status.busy": "2023-01-23T20:46:38.718581Z",
     "iopub.status.idle": "2023-01-23T20:46:38.739216Z",
     "shell.execute_reply": "2023-01-23T20:46:38.738114Z"
    },
    "papermill": {
     "duration": 0.044956,
     "end_time": "2023-01-23T20:46:38.741759",
     "exception": false,
     "start_time": "2023-01-23T20:46:38.696803",
     "status": "completed"
    },
    "tags": []
   },
   "outputs": [
    {
     "data": {
      "text/html": [
       "<div>\n",
       "<style scoped>\n",
       "    .dataframe tbody tr th:only-of-type {\n",
       "        vertical-align: middle;\n",
       "    }\n",
       "\n",
       "    .dataframe tbody tr th {\n",
       "        vertical-align: top;\n",
       "    }\n",
       "\n",
       "    .dataframe thead th {\n",
       "        text-align: right;\n",
       "    }\n",
       "</style>\n",
       "<table border=\"1\" class=\"dataframe\">\n",
       "  <thead>\n",
       "    <tr style=\"text-align: right;\">\n",
       "      <th></th>\n",
       "      <th>min</th>\n",
       "      <th>max</th>\n",
       "      <th>mean</th>\n",
       "    </tr>\n",
       "    <tr>\n",
       "      <th>brand name</th>\n",
       "      <th></th>\n",
       "      <th></th>\n",
       "      <th></th>\n",
       "    </tr>\n",
       "  </thead>\n",
       "  <tbody>\n",
       "    <tr>\n",
       "      <th>Audi</th>\n",
       "      <td>650000</td>\n",
       "      <td>8900000</td>\n",
       "      <td>1.931633e+06</td>\n",
       "    </tr>\n",
       "    <tr>\n",
       "      <th>Mercedes-Benz</th>\n",
       "      <td>350000</td>\n",
       "      <td>8150000</td>\n",
       "      <td>2.776657e+06</td>\n",
       "    </tr>\n",
       "    <tr>\n",
       "      <th>BMW</th>\n",
       "      <td>480000</td>\n",
       "      <td>4950000</td>\n",
       "      <td>2.945385e+06</td>\n",
       "    </tr>\n",
       "    <tr>\n",
       "      <th>Volvo</th>\n",
       "      <td>1750000</td>\n",
       "      <td>4500000</td>\n",
       "      <td>2.556250e+06</td>\n",
       "    </tr>\n",
       "    <tr>\n",
       "      <th>Land</th>\n",
       "      <td>2349000</td>\n",
       "      <td>4200000</td>\n",
       "      <td>3.609800e+06</td>\n",
       "    </tr>\n",
       "    <tr>\n",
       "      <th>Ford</th>\n",
       "      <td>20000</td>\n",
       "      <td>3200000</td>\n",
       "      <td>5.712731e+05</td>\n",
       "    </tr>\n",
       "    <tr>\n",
       "      <th>Toyota</th>\n",
       "      <td>95000</td>\n",
       "      <td>3200000</td>\n",
       "      <td>9.243592e+05</td>\n",
       "    </tr>\n",
       "    <tr>\n",
       "      <th>Mahindra</th>\n",
       "      <td>80000</td>\n",
       "      <td>2700000</td>\n",
       "      <td>5.877095e+05</td>\n",
       "    </tr>\n",
       "    <tr>\n",
       "      <th>Jaguar</th>\n",
       "      <td>1800000</td>\n",
       "      <td>2550000</td>\n",
       "      <td>2.069166e+06</td>\n",
       "    </tr>\n",
       "    <tr>\n",
       "      <th>MG</th>\n",
       "      <td>1825000</td>\n",
       "      <td>1860000</td>\n",
       "      <td>1.842500e+06</td>\n",
       "    </tr>\n",
       "    <tr>\n",
       "      <th>Honda</th>\n",
       "      <td>65000</td>\n",
       "      <td>1800000</td>\n",
       "      <td>5.381468e+05</td>\n",
       "    </tr>\n",
       "    <tr>\n",
       "      <th>Tata</th>\n",
       "      <td>35000</td>\n",
       "      <td>1700000</td>\n",
       "      <td>2.840834e+05</td>\n",
       "    </tr>\n",
       "    <tr>\n",
       "      <th>Jeep</th>\n",
       "      <td>1400000</td>\n",
       "      <td>1700000</td>\n",
       "      <td>1.530000e+06</td>\n",
       "    </tr>\n",
       "    <tr>\n",
       "      <th>Hyundai</th>\n",
       "      <td>48000</td>\n",
       "      <td>1650000</td>\n",
       "      <td>4.199403e+05</td>\n",
       "    </tr>\n",
       "    <tr>\n",
       "      <th>Isuzu</th>\n",
       "      <td>1500000</td>\n",
       "      <td>1500000</td>\n",
       "      <td>1.500000e+06</td>\n",
       "    </tr>\n",
       "    <tr>\n",
       "      <th>Nissan</th>\n",
       "      <td>138000</td>\n",
       "      <td>1350000</td>\n",
       "      <td>4.499375e+05</td>\n",
       "    </tr>\n",
       "    <tr>\n",
       "      <th>Volkswagen</th>\n",
       "      <td>130000</td>\n",
       "      <td>1350000</td>\n",
       "      <td>4.710373e+05</td>\n",
       "    </tr>\n",
       "    <tr>\n",
       "      <th>Kia</th>\n",
       "      <td>1300000</td>\n",
       "      <td>1300000</td>\n",
       "      <td>1.300000e+06</td>\n",
       "    </tr>\n",
       "    <tr>\n",
       "      <th>Skoda</th>\n",
       "      <td>90000</td>\n",
       "      <td>1200000</td>\n",
       "      <td>4.900147e+05</td>\n",
       "    </tr>\n",
       "    <tr>\n",
       "      <th>Maruti</th>\n",
       "      <td>30000</td>\n",
       "      <td>1100000</td>\n",
       "      <td>3.424163e+05</td>\n",
       "    </tr>\n",
       "    <tr>\n",
       "      <th>Mitsubishi</th>\n",
       "      <td>525000</td>\n",
       "      <td>1090000</td>\n",
       "      <td>8.400000e+05</td>\n",
       "    </tr>\n",
       "    <tr>\n",
       "      <th>Renault</th>\n",
       "      <td>200000</td>\n",
       "      <td>1000000</td>\n",
       "      <td>4.193767e+05</td>\n",
       "    </tr>\n",
       "    <tr>\n",
       "      <th>Chevrolet</th>\n",
       "      <td>50000</td>\n",
       "      <td>1000000</td>\n",
       "      <td>2.367271e+05</td>\n",
       "    </tr>\n",
       "    <tr>\n",
       "      <th>Fiat</th>\n",
       "      <td>55000</td>\n",
       "      <td>890000</td>\n",
       "      <td>2.834324e+05</td>\n",
       "    </tr>\n",
       "    <tr>\n",
       "      <th>Datsun</th>\n",
       "      <td>200000</td>\n",
       "      <td>450000</td>\n",
       "      <td>2.970269e+05</td>\n",
       "    </tr>\n",
       "    <tr>\n",
       "      <th>Ambassador</th>\n",
       "      <td>50000</td>\n",
       "      <td>430000</td>\n",
       "      <td>1.800000e+05</td>\n",
       "    </tr>\n",
       "    <tr>\n",
       "      <th>Force</th>\n",
       "      <td>346000</td>\n",
       "      <td>346000</td>\n",
       "      <td>3.460000e+05</td>\n",
       "    </tr>\n",
       "    <tr>\n",
       "      <th>OpelCorsa</th>\n",
       "      <td>35000</td>\n",
       "      <td>142000</td>\n",
       "      <td>8.850000e+04</td>\n",
       "    </tr>\n",
       "    <tr>\n",
       "      <th>Daewoo</th>\n",
       "      <td>60000</td>\n",
       "      <td>60000</td>\n",
       "      <td>6.000000e+04</td>\n",
       "    </tr>\n",
       "  </tbody>\n",
       "</table>\n",
       "</div>"
      ],
      "text/plain": [
       "                   min      max          mean\n",
       "brand name                                   \n",
       "Audi            650000  8900000  1.931633e+06\n",
       "Mercedes-Benz   350000  8150000  2.776657e+06\n",
       "BMW             480000  4950000  2.945385e+06\n",
       "Volvo          1750000  4500000  2.556250e+06\n",
       "Land           2349000  4200000  3.609800e+06\n",
       "Ford             20000  3200000  5.712731e+05\n",
       "Toyota           95000  3200000  9.243592e+05\n",
       "Mahindra         80000  2700000  5.877095e+05\n",
       "Jaguar         1800000  2550000  2.069166e+06\n",
       "MG             1825000  1860000  1.842500e+06\n",
       "Honda            65000  1800000  5.381468e+05\n",
       "Tata             35000  1700000  2.840834e+05\n",
       "Jeep           1400000  1700000  1.530000e+06\n",
       "Hyundai          48000  1650000  4.199403e+05\n",
       "Isuzu          1500000  1500000  1.500000e+06\n",
       "Nissan          138000  1350000  4.499375e+05\n",
       "Volkswagen      130000  1350000  4.710373e+05\n",
       "Kia            1300000  1300000  1.300000e+06\n",
       "Skoda            90000  1200000  4.900147e+05\n",
       "Maruti           30000  1100000  3.424163e+05\n",
       "Mitsubishi      525000  1090000  8.400000e+05\n",
       "Renault         200000  1000000  4.193767e+05\n",
       "Chevrolet        50000  1000000  2.367271e+05\n",
       "Fiat             55000   890000  2.834324e+05\n",
       "Datsun          200000   450000  2.970269e+05\n",
       "Ambassador       50000   430000  1.800000e+05\n",
       "Force           346000   346000  3.460000e+05\n",
       "OpelCorsa        35000   142000  8.850000e+04\n",
       "Daewoo           60000    60000  6.000000e+04"
      ]
     },
     "execution_count": 39,
     "metadata": {},
     "output_type": "execute_result"
    }
   ],
   "source": [
    "## What is the average, min and max selling price according with brand name\n",
    "df.groupby(\"brand name\")[\"selling_price\"].agg([\"min\",\"max\",\"mean\"]).sort_values(by=\"max\",ascending=False)"
   ]
  },
  {
   "cell_type": "code",
   "execution_count": 40,
   "id": "08c41b07",
   "metadata": {
    "execution": {
     "iopub.execute_input": "2023-01-23T20:46:38.784112Z",
     "iopub.status.busy": "2023-01-23T20:46:38.783724Z",
     "iopub.status.idle": "2023-01-23T20:46:39.915999Z",
     "shell.execute_reply": "2023-01-23T20:46:39.914858Z"
    },
    "papermill": {
     "duration": 1.156382,
     "end_time": "2023-01-23T20:46:39.918629",
     "exception": false,
     "start_time": "2023-01-23T20:46:38.762247",
     "status": "completed"
    },
    "tags": []
   },
   "outputs": [
    {
     "data": {
      "image/png": "[encoded data removed]",
      "text/plain": [
       "<Figure size 720x720 with 1 Axes>"
      ]
     },
     "metadata": {},
     "output_type": "display_data"
    }
   ],
   "source": [
    "plt.figure(figsize=(10,10))\n",
    "sns.barplot(x=\"brand name\",y=\"selling_price\",data=df)\n",
    "plt.xticks(rotation=90);\n"
   ]
  },
  {
   "cell_type": "code",
   "execution_count": 41,
   "id": "1d0aa2fa",
   "metadata": {
    "execution": {
     "iopub.execute_input": "2023-01-23T20:46:39.964940Z",
     "iopub.status.busy": "2023-01-23T20:46:39.964460Z",
     "iopub.status.idle": "2023-01-23T20:46:39.974209Z",
     "shell.execute_reply": "2023-01-23T20:46:39.973378Z"
    },
    "papermill": {
     "duration": 0.036484,
     "end_time": "2023-01-23T20:46:39.976120",
     "exception": false,
     "start_time": "2023-01-23T20:46:39.939636",
     "status": "completed"
    },
    "tags": []
   },
   "outputs": [
    {
     "data": {
      "text/plain": [
       "Hyundai          77\n",
       "Audi             60\n",
       "Maruti           52\n",
       "BMW              39\n",
       "Toyota           35\n",
       "Mercedes-Benz    33\n",
       "Honda            26\n",
       "Skoda            25\n",
       "Mahindra         22\n",
       "Volkswagen       21\n",
       "Ford             19\n",
       "Tata              7\n",
       "Jaguar            6\n",
       "Renault           6\n",
       "Land              5\n",
       "Chevrolet         5\n",
       "Volvo             4\n",
       "Datsun            2\n",
       "Mitsubishi        1\n",
       "Nissan            1\n",
       "Kia               1\n",
       "MG                1\n",
       "Name: brand name, dtype: int64"
      ]
     },
     "execution_count": 41,
     "metadata": {},
     "output_type": "execute_result"
    }
   ],
   "source": [
    "## Automatic cars are of which brands\n",
    "df[df[\"transmission\"]==\"Automatic\"][\"brand name\"].value_counts()"
   ]
  },
  {
   "cell_type": "code",
   "execution_count": 42,
   "id": "caed1380",
   "metadata": {
    "execution": {
     "iopub.execute_input": "2023-01-23T20:46:40.018909Z",
     "iopub.status.busy": "2023-01-23T20:46:40.018192Z",
     "iopub.status.idle": "2023-01-23T20:46:40.029554Z",
     "shell.execute_reply": "2023-01-23T20:46:40.028602Z"
    },
    "papermill": {
     "duration": 0.034858,
     "end_time": "2023-01-23T20:46:40.031565",
     "exception": false,
     "start_time": "2023-01-23T20:46:39.996707",
     "status": "completed"
    },
    "tags": []
   },
   "outputs": [
    {
     "data": {
      "text/plain": [
       "brand name     seller_type     \n",
       "Ambassador     Individual             4\n",
       "Audi           Dealer                47\n",
       "               Individual            13\n",
       "BMW            Dealer                20\n",
       "               Individual            19\n",
       "Chevrolet      Individual           152\n",
       "               Dealer                36\n",
       "Daewoo         Individual             1\n",
       "Datsun         Individual            28\n",
       "               Dealer                 9\n",
       "Fiat           Individual            33\n",
       "               Dealer                 4\n",
       "Force          Individual             1\n",
       "Ford           Individual           134\n",
       "               Dealer               103\n",
       "               Trustmark Dealer       1\n",
       "Honda          Individual           141\n",
       "               Dealer               104\n",
       "               Trustmark Dealer       7\n",
       "Hyundai        Individual           598\n",
       "               Dealer               206\n",
       "               Trustmark Dealer      17\n",
       "Isuzu          Individual             1\n",
       "Jaguar         Dealer                 3\n",
       "               Individual             3\n",
       "Jeep           Individual             3\n",
       "Kia            Individual             1\n",
       "Land           Individual             3\n",
       "               Dealer                 2\n",
       "MG             Dealer                 2\n",
       "Mahindra       Individual           314\n",
       "               Dealer                50\n",
       "               Trustmark Dealer       1\n",
       "Maruti         Individual          1026\n",
       "               Dealer               195\n",
       "               Trustmark Dealer      59\n",
       "Mercedes-Benz  Dealer                24\n",
       "               Individual            11\n",
       "Mitsubishi     Individual             5\n",
       "               Dealer                 1\n",
       "Nissan         Individual            50\n",
       "               Dealer                14\n",
       "OpelCorsa      Individual             2\n",
       "Renault        Individual           104\n",
       "               Dealer                40\n",
       "               Trustmark Dealer       2\n",
       "Skoda          Individual            44\n",
       "               Dealer                24\n",
       "Tata           Individual           331\n",
       "               Dealer                30\n",
       "Toyota         Individual           153\n",
       "               Dealer                38\n",
       "               Trustmark Dealer      15\n",
       "Volkswagen     Individual            67\n",
       "               Dealer                40\n",
       "Volvo          Dealer                 2\n",
       "               Individual             2\n",
       "Name: seller_type, dtype: int64"
      ]
     },
     "execution_count": 42,
     "metadata": {},
     "output_type": "execute_result"
    }
   ],
   "source": [
    "df.groupby(\"brand name\")[\"seller_type\"].value_counts()"
   ]
  },
  {
   "cell_type": "code",
   "execution_count": 43,
   "id": "019546d1",
   "metadata": {
    "execution": {
     "iopub.execute_input": "2023-01-23T20:46:40.074628Z",
     "iopub.status.busy": "2023-01-23T20:46:40.073954Z",
     "iopub.status.idle": "2023-01-23T20:46:40.776579Z",
     "shell.execute_reply": "2023-01-23T20:46:40.775407Z"
    },
    "papermill": {
     "duration": 0.726639,
     "end_time": "2023-01-23T20:46:40.778887",
     "exception": false,
     "start_time": "2023-01-23T20:46:40.052248",
     "status": "completed"
    },
    "tags": []
   },
   "outputs": [
    {
     "data": {
      "image/png": "[encoded data removed]",
      "text/plain": [
       "<Figure size 720x720 with 1 Axes>"
      ]
     },
     "metadata": {},
     "output_type": "display_data"
    }
   ],
   "source": [
    "plt.figure(figsize=(10,10))\n",
    "sns.countplot(x=\"brand name\",hue=\"seller_type\",data=df)\n",
    "plt.xticks(rotation=90);\n"
   ]
  },
  {
   "cell_type": "code",
   "execution_count": 44,
   "id": "4e9befa6",
   "metadata": {
    "execution": {
     "iopub.execute_input": "2023-01-23T20:46:40.822759Z",
     "iopub.status.busy": "2023-01-23T20:46:40.822359Z",
     "iopub.status.idle": "2023-01-23T20:46:40.831256Z",
     "shell.execute_reply": "2023-01-23T20:46:40.830516Z"
    },
    "papermill": {
     "duration": 0.032767,
     "end_time": "2023-01-23T20:46:40.833123",
     "exception": false,
     "start_time": "2023-01-23T20:46:40.800356",
     "status": "completed"
    },
    "tags": []
   },
   "outputs": [
    {
     "data": {
      "text/plain": [
       "brand name\n",
       "Ambassador       2012\n",
       "Audi             2020\n",
       "BMW              2019\n",
       "Chevrolet        2017\n",
       "Daewoo           2002\n",
       "Datsun           2019\n",
       "Fiat             2018\n",
       "Force            2014\n",
       "Ford             2020\n",
       "Honda            2020\n",
       "Hyundai          2020\n",
       "Isuzu            2018\n",
       "Jaguar           2014\n",
       "Jeep             2019\n",
       "Kia              2019\n",
       "Land             2018\n",
       "MG               2019\n",
       "Mahindra         2020\n",
       "Maruti           2020\n",
       "Mercedes-Benz    2018\n",
       "Mitsubishi       2012\n",
       "Nissan           2019\n",
       "OpelCorsa        2004\n",
       "Renault          2020\n",
       "Skoda            2019\n",
       "Tata             2020\n",
       "Toyota           2019\n",
       "Volkswagen       2020\n",
       "Volvo            2018\n",
       "Name: year, dtype: int64"
      ]
     },
     "execution_count": 44,
     "metadata": {},
     "output_type": "execute_result"
    }
   ],
   "source": [
    "df.groupby(\"brand name\")[\"year\"].max()"
   ]
  },
  {
   "cell_type": "code",
   "execution_count": 45,
   "id": "3b60c436",
   "metadata": {
    "execution": {
     "iopub.execute_input": "2023-01-23T20:46:40.876898Z",
     "iopub.status.busy": "2023-01-23T20:46:40.876521Z",
     "iopub.status.idle": "2023-01-23T20:46:40.887709Z",
     "shell.execute_reply": "2023-01-23T20:46:40.886524Z"
    },
    "papermill": {
     "duration": 0.035892,
     "end_time": "2023-01-23T20:46:40.890043",
     "exception": false,
     "start_time": "2023-01-23T20:46:40.854151",
     "status": "completed"
    },
    "tags": []
   },
   "outputs": [
    {
     "data": {
      "text/plain": [
       "brand name\n",
       "Mitsubishi       141311.666667\n",
       "Toyota           100396.014563\n",
       "Land              87600.000000\n",
       "Volvo             86748.000000\n",
       "OpelCorsa         86500.000000\n",
       "Mahindra          83098.309589\n",
       "Skoda             82591.397059\n",
       "Fiat              79822.648649\n",
       "Tata              75933.714681\n",
       "Volkswagen        74776.112150\n",
       "Chevrolet         72217.218085\n",
       "Nissan            68684.515625\n",
       "Ambassador        67500.000000\n",
       "Ford              65041.399160\n",
       "Audi              64459.716667\n",
       "Maruti            63264.387500\n",
       "Honda             57080.805556\n",
       "Hyundai           55767.695493\n",
       "Jaguar            52454.333333\n",
       "Daewoo            50000.000000\n",
       "Renault           47421.287671\n",
       "BMW               44883.179487\n",
       "Mercedes-Benz     42946.571429\n",
       "Isuzu             40000.000000\n",
       "Force             37516.000000\n",
       "Datsun            29564.351351\n",
       "Jeep              27346.000000\n",
       "MG                16000.000000\n",
       "Kia               10000.000000\n",
       "Name: km_driven, dtype: float64"
      ]
     },
     "execution_count": 45,
     "metadata": {},
     "output_type": "execute_result"
    }
   ],
   "source": [
    "## Brands with their average km driven\n",
    "df.groupby(\"brand name\")[\"km_driven\"].mean().sort_values(ascending=False)"
   ]
  },
  {
   "cell_type": "code",
   "execution_count": 46,
   "id": "bc7d2a58",
   "metadata": {
    "execution": {
     "iopub.execute_input": "2023-01-23T20:46:40.936818Z",
     "iopub.status.busy": "2023-01-23T20:46:40.935770Z",
     "iopub.status.idle": "2023-01-23T20:46:42.062497Z",
     "shell.execute_reply": "2023-01-23T20:46:42.061387Z"
    },
    "papermill": {
     "duration": 1.152248,
     "end_time": "2023-01-23T20:46:42.064749",
     "exception": false,
     "start_time": "2023-01-23T20:46:40.912501",
     "status": "completed"
    },
    "tags": []
   },
   "outputs": [
    {
     "data": {
      "image/png": "[encoded data removed]",
      "text/plain": [
       "<Figure size 720x720 with 1 Axes>"
      ]
     },
     "metadata": {},
     "output_type": "display_data"
    }
   ],
   "source": [
    "plt.figure(figsize=(10,10))\n",
    "sns.barplot(x=\"brand name\",y=\"km_driven\",data=df)\n",
    "plt.xticks(rotation=90);\n"
   ]
  },
  {
   "cell_type": "code",
   "execution_count": 47,
   "id": "f72d1091",
   "metadata": {
    "execution": {
     "iopub.execute_input": "2023-01-23T20:46:42.113427Z",
     "iopub.status.busy": "2023-01-23T20:46:42.112705Z",
     "iopub.status.idle": "2023-01-23T20:46:42.125298Z",
     "shell.execute_reply": "2023-01-23T20:46:42.124011Z"
    },
    "papermill": {
     "duration": 0.040135,
     "end_time": "2023-01-23T20:46:42.127521",
     "exception": false,
     "start_time": "2023-01-23T20:46:42.087386",
     "status": "completed"
    },
    "tags": []
   },
   "outputs": [
    {
     "data": {
      "text/plain": [
       "brand name     fuel    \n",
       "Maruti         Petrol      852\n",
       "Hyundai        Petrol      562\n",
       "Maruti         Diesel      384\n",
       "Mahindra       Diesel      350\n",
       "Hyundai        Diesel      243\n",
       "Tata           Diesel      233\n",
       "Toyota         Diesel      166\n",
       "Ford           Diesel      164\n",
       "Honda          Petrol      155\n",
       "Tata           Petrol      127\n",
       "Honda          Diesel       97\n",
       "Chevrolet      Diesel       97\n",
       "               Petrol       89\n",
       "Renault        Diesel       77\n",
       "Ford           Petrol       74\n",
       "Volkswagen     Diesel       74\n",
       "Renault        Petrol       69\n",
       "Skoda          Diesel       53\n",
       "Audi           Diesel       52\n",
       "Nissan         Diesel       44\n",
       "Toyota         Petrol       39\n",
       "BMW            Diesel       38\n",
       "Datsun         Petrol       37\n",
       "Volkswagen     Petrol       33\n",
       "Maruti         CNG          30\n",
       "Mercedes-Benz  Diesel       29\n",
       "Fiat           Diesel       27\n",
       "Nissan         Petrol       20\n",
       "Skoda          Petrol       15\n",
       "Mahindra       Petrol       15\n",
       "Maruti         LPG          14\n",
       "Fiat           Petrol       10\n",
       "Hyundai        LPG           8\n",
       "               CNG           8\n",
       "Audi           Petrol        8\n",
       "Mercedes-Benz  Petrol        6\n",
       "Mitsubishi     Diesel        5\n",
       "Land           Diesel        4\n",
       "Volvo          Diesel        4\n",
       "Jaguar         Diesel        3\n",
       "               Petrol        3\n",
       "Ambassador     Diesel        3\n",
       "OpelCorsa      Petrol        2\n",
       "Jeep           Diesel        2\n",
       "Mitsubishi     Petrol        1\n",
       "Tata           CNG           1\n",
       "BMW            Petrol        1\n",
       "Chevrolet      CNG           1\n",
       "Toyota         Electric      1\n",
       "Chevrolet      LPG           1\n",
       "Daewoo         Petrol        1\n",
       "Isuzu          Diesel        1\n",
       "Force          Diesel        1\n",
       "Ambassador     Petrol        1\n",
       "MG             Diesel        1\n",
       "Land           Petrol        1\n",
       "Jeep           Petrol        1\n",
       "Kia            Diesel        1\n",
       "MG             Petrol        1\n",
       "Name: fuel, dtype: int64"
      ]
     },
     "execution_count": 47,
     "metadata": {},
     "output_type": "execute_result"
    }
   ],
   "source": [
    "df.groupby(\"brand name\")[\"fuel\"].value_counts().sort_values(ascending=False)"
   ]
  },
  {
   "cell_type": "code",
   "execution_count": 48,
   "id": "c66c8ea5",
   "metadata": {
    "execution": {
     "iopub.execute_input": "2023-01-23T20:46:42.175252Z",
     "iopub.status.busy": "2023-01-23T20:46:42.174864Z",
     "iopub.status.idle": "2023-01-23T20:46:43.212518Z",
     "shell.execute_reply": "2023-01-23T20:46:43.211521Z"
    },
    "papermill": {
     "duration": 1.064028,
     "end_time": "2023-01-23T20:46:43.215007",
     "exception": false,
     "start_time": "2023-01-23T20:46:42.150979",
     "status": "completed"
    },
    "tags": []
   },
   "outputs": [
    {
     "data": {
      "image/png": "[encoded data removed]",
      "text/plain": [
       "<Figure size 720x720 with 1 Axes>"
      ]
     },
     "metadata": {},
     "output_type": "display_data"
    }
   ],
   "source": [
    "plt.figure(figsize=(10,10))\n",
    "sns.countplot(x=\"brand name\",hue=\"fuel\",data=df)\n",
    "plt.xticks(rotation=90);\n"
   ]
  },
  {
   "cell_type": "code",
   "execution_count": 49,
   "id": "ca10c1ac",
   "metadata": {
    "execution": {
     "iopub.execute_input": "2023-01-23T20:46:43.262704Z",
     "iopub.status.busy": "2023-01-23T20:46:43.261680Z",
     "iopub.status.idle": "2023-01-23T20:46:43.271345Z",
     "shell.execute_reply": "2023-01-23T20:46:43.270580Z"
    },
    "papermill": {
     "duration": 0.035425,
     "end_time": "2023-01-23T20:46:43.273274",
     "exception": false,
     "start_time": "2023-01-23T20:46:43.237849",
     "status": "completed"
    },
    "tags": []
   },
   "outputs": [
    {
     "data": {
      "text/plain": [
       "Maruti           1228\n",
       "Hyundai           744\n",
       "Tata              354\n",
       "Mahindra          343\n",
       "Honda             226\n",
       "Ford              219\n",
       "Chevrolet         183\n",
       "Toyota            171\n",
       "Renault           140\n",
       "Volkswagen         86\n",
       "Nissan             63\n",
       "Skoda              43\n",
       "Fiat               37\n",
       "Datsun             35\n",
       "Mitsubishi          5\n",
       "Ambassador          4\n",
       "Jeep                3\n",
       "Mercedes-Benz       2\n",
       "OpelCorsa           2\n",
       "Daewoo              1\n",
       "MG                  1\n",
       "Force               1\n",
       "Isuzu               1\n",
       "Name: brand name, dtype: int64"
      ]
     },
     "execution_count": 49,
     "metadata": {},
     "output_type": "execute_result"
    }
   ],
   "source": [
    "## Manual cars are of which brands\n",
    "df[df[\"transmission\"]==\"Manual\"][\"brand name\"].value_counts()"
   ]
  },
  {
   "cell_type": "markdown",
   "id": "418ea032",
   "metadata": {
    "papermill": {
     "duration": 0.022268,
     "end_time": "2023-01-23T20:46:43.317811",
     "exception": false,
     "start_time": "2023-01-23T20:46:43.295543",
     "status": "completed"
    },
    "tags": []
   },
   "source": [
    "# Insights\n",
    "\n",
    "* First car owners were more than second and third car owners.\n",
    "* Diesel cars are more than others but there is very less different between petrol  and diesel cars.\n",
    "* Individual seller types were far more than dealers and trustmark dealer.\n",
    "* Maruti Swift 2009 is the highest driven car were as Mahindra Quanto 2014 is the minimum driven car.\n",
    "* Audi Rs7 2020 is the car with highest selling car were as Ford Ikon 2005 is the car with least selling price.\n",
    "* Manual cars were far more than automatic cars.\n",
    "* I have made 2 columns i.e Brand name and age through Feature engineering to get more insights of the data.\n",
    "* Maruti 800 is the oldest car which is of 1992.\n",
    "* There are more than 700 cars who have more than 1 lakhs Km driven.\n",
    "* Hyundai automatic cars were more than other brands car.\n",
    "* Mitsubishi cars have more average km driven than other brands car\n",
    "* In manual cars Maruti is the leader who has more no of cars \n",
    "\n"
   ]
  },
  {
   "cell_type": "code",
   "execution_count": null,
   "id": "71ada134",
   "metadata": {
    "papermill": {
     "duration": 0.023937,
     "end_time": "2023-01-23T20:46:43.364333",
     "exception": false,
     "start_time": "2023-01-23T20:46:43.340396",
     "status": "completed"
    },
    "tags": []
   },
   "outputs": [],
   "source": []
  }
 ],
 "metadata": {
  "kernelspec": {
   "display_name": "Python 3",
   "language": "python",
   "name": "python3"
  },
  "language_info": {
   "codemirror_mode": {
    "name": "ipython",
    "version": 3
   },
   "file_extension": ".py",
   "mimetype": "text/x-python",
   "name": "python",
   "nbconvert_exporter": "python",
   "pygments_lexer": "ipython3",
   "version": "3.7.12"
  },
  "papermill": {
   "default_parameters": {},
   "duration": 18.114695,
   "end_time": "2023-01-23T20:46:44.109793",
   "environment_variables": {},
   "exception": null,
   "input_path": "__notebook__.ipynb",
   "output_path": "__notebook__.ipynb",
   "parameters": {},
   "start_time": "2023-01-23T20:46:25.995098",
   "version": "2.3.4"
  }
 },
 "nbformat": 4,
 "nbformat_minor": 5
}
